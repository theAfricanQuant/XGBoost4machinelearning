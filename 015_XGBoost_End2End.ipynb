{
 "cells": [
  {
   "cell_type": "markdown",
   "id": "0ae4e440-7e17-401f-bf6c-133a7f0c1518",
   "metadata": {},
   "source": [
    "<h1 style=\"text-align:center;\">XGBoost: End to End</h1>\n",
    "\n",
    "### Exoplanet Discovery with XGBoost\n",
    "\n",
    "In this chapter, we embark on a stellar journey using XGBoost, aiming to detect exoplanets. The motivation is twofold:\n",
    "\n",
    "1. **XGBoost Practice**: Emphasis is on gaining experience with a comprehensive study using XGBoost. This extends beyond the scope of exoplanet discovery, focusing on general strategies such as selecting appropriate scoring metrics and hyperparameter tuning, which are crucial for XGBoost's practical applications.\n",
    "\n",
    "2. **Handling Imbalanced Data**: Mastering the handling of imbalanced datasets is a key skill for machine learning practitioners. This chapter focuses on this aspect, using XGBClassifier to analyze light data for predicting the existence of exoplanets.\n",
    "\n",
    "#### Key Learning Outcomes\n",
    "\n",
    "- **Searching for Exoplanets**: We'll start by reviewing historical methods of detecting exoplanets and then apply machine learning to light data for predictions.\n",
    "- **Understanding Evaluation Metrics**: We'll delve into using the confusion matrix and classification report to comprehend precision and recall.\n",
    "- **Data Resampling**: Techniques for resampling imbalanced data will be discussed, an essential step in ensuring accurate model performance.\n",
    "- **Optimizing XGBClassifier**: Fine-tuning and scaling the XGBClassifier will be essential to handle the imbalanced dataset effectively.\n",
    "\n",
    "#### Historical Context\n",
    "\n",
    "- **Astronomy's Evolution**: From ancient stargazing to 17th-century telescopic advances, and 18th-century astronomical predictions, our understanding of the cosmos has evolved dramatically.\n",
    "- **Exoplanet Discovery**: In the 20th century, exoplanets were found not through direct observation but by detecting dips in starlight caused by their transit, a process requiring precise light fluctuation measurements over time.\n",
    "\n",
    "#### The Exoplanet Dataset\n",
    "\n",
    "- **Dataset Overview**: Sourced from NASA's Kepler Space Telescope, the dataset comprises over 1.5 million entries across 300+ columns and 5,000+ rows, with a minority of stars hosting exoplanets.\n",
    "- **Data Handling**: To manage this vast dataset efficiently, we'll begin with a subset, a standard approach for large datasets. This involves selecting the first few rows for initial analysis while ensuring the subset is representative.\n",
    "\n",
    "---\n",
    "\n",
    "Let's start exploring the dataset and apply XGBoost for our cosmic quest."
   ]
  },
  {
   "cell_type": "code",
   "execution_count": 1,
   "id": "2665c13f-77a8-4a5f-834d-64db03f6a655",
   "metadata": {},
   "outputs": [],
   "source": [
    "import os\n",
    "import warnings\n",
    "\n",
    "os.environ['PYTHONWARNINGS'] = 'ignore::FutureWarning' \n",
    "\n",
    "import numpy as np\n",
    "import pandas as pd\n",
    "from sklearn import datasets\n",
    "from sklearn.model_selection import (train_test_split, cross_val_score, \n",
    "                        StratifiedKFold, GridSearchCV, RandomizedSearchCV)\n",
    "\n",
    "from xgboost import XGBClassifier\n",
    "from sklearn.metrics import (accuracy_score, confusion_matrix, classification_report,\n",
    "                        recall_score, ConfusionMatrixDisplay)\n",
    "from zipfile import ZipFile\n",
    "from time import time\n",
    "from helper_file import *\n",
    "\n",
    "import matplotlib.pyplot as plt\n",
    "import seaborn as sns\n",
    "\n",
    "from imblearn.over_sampling import RandomOverSampler\n",
    "from imblearn.under_sampling import RandomUnderSampler\n",
    "\n",
    "sns.set()\n",
    "warnings.filterwarnings(\"ignore\", category=FutureWarning) \n",
    "# export PYTHONWARNINGS=\"ignore::FutureWarning\""
   ]
  },
  {
   "cell_type": "markdown",
   "id": "53e413bd-aa61-4dce-bfae-0e0460f5e90b",
   "metadata": {},
   "source": [
    "`pd.read_csv` contains an `nrows` parameter, used to limit the number of rows. Note that `nrows=n` selects the first n rows of the dataset."
   ]
  },
  {
   "cell_type": "code",
   "execution_count": 2,
   "id": "b4118cbe-5b99-4095-82ea-a0cbecf942bd",
   "metadata": {},
   "outputs": [
    {
     "name": "stdout",
     "output_type": "stream",
     "text": [
      "<class 'pandas.core.frame.DataFrame'>\n",
      "RangeIndex: 400 entries, 0 to 399\n",
      "Columns: 3198 entries, LABEL to FLUX.3197\n",
      "dtypes: float64(3197), int64(1)\n",
      "memory usage: 9.8 MB\n"
     ]
    }
   ],
   "source": [
    "url = 'data/exoplanets.zip'\n",
    "\n",
    "with ZipFile(url, 'r') as z:\n",
    "    with z.open(z.namelist()[0]) as f:\n",
    "        df = pd.read_csv(f, nrows=400)\n",
    "\n",
    "df.info()"
   ]
  },
  {
   "cell_type": "code",
   "execution_count": 3,
   "id": "4bf50a08-c185-4e2f-84b7-efca1581b6b4",
   "metadata": {},
   "outputs": [
    {
     "data": {
      "text/html": [
       "<div>\n",
       "<style scoped>\n",
       "    .dataframe tbody tr th:only-of-type {\n",
       "        vertical-align: middle;\n",
       "    }\n",
       "\n",
       "    .dataframe tbody tr th {\n",
       "        vertical-align: top;\n",
       "    }\n",
       "\n",
       "    .dataframe thead th {\n",
       "        text-align: right;\n",
       "    }\n",
       "</style>\n",
       "<table border=\"1\" class=\"dataframe\">\n",
       "  <thead>\n",
       "    <tr style=\"text-align: right;\">\n",
       "      <th></th>\n",
       "      <th>LABEL</th>\n",
       "      <th>FLUX.1</th>\n",
       "      <th>FLUX.2</th>\n",
       "      <th>FLUX.3</th>\n",
       "      <th>FLUX.4</th>\n",
       "      <th>FLUX.5</th>\n",
       "      <th>FLUX.6</th>\n",
       "      <th>FLUX.7</th>\n",
       "      <th>FLUX.8</th>\n",
       "      <th>FLUX.9</th>\n",
       "      <th>...</th>\n",
       "      <th>FLUX.3188</th>\n",
       "      <th>FLUX.3189</th>\n",
       "      <th>FLUX.3190</th>\n",
       "      <th>FLUX.3191</th>\n",
       "      <th>FLUX.3192</th>\n",
       "      <th>FLUX.3193</th>\n",
       "      <th>FLUX.3194</th>\n",
       "      <th>FLUX.3195</th>\n",
       "      <th>FLUX.3196</th>\n",
       "      <th>FLUX.3197</th>\n",
       "    </tr>\n",
       "  </thead>\n",
       "  <tbody>\n",
       "    <tr>\n",
       "      <th>55</th>\n",
       "      <td>1</td>\n",
       "      <td>247.83</td>\n",
       "      <td>173.35</td>\n",
       "      <td>191.67</td>\n",
       "      <td>169.51</td>\n",
       "      <td>97.43</td>\n",
       "      <td>158.84</td>\n",
       "      <td>138.74</td>\n",
       "      <td>165.53</td>\n",
       "      <td>100.79</td>\n",
       "      <td>...</td>\n",
       "      <td>-25.33</td>\n",
       "      <td>-123.41</td>\n",
       "      <td>-69.55</td>\n",
       "      <td>-24.53</td>\n",
       "      <td>-65.98</td>\n",
       "      <td>-15.65</td>\n",
       "      <td>64.76</td>\n",
       "      <td>26.53</td>\n",
       "      <td>25.25</td>\n",
       "      <td>39.77</td>\n",
       "    </tr>\n",
       "    <tr>\n",
       "      <th>271</th>\n",
       "      <td>1</td>\n",
       "      <td>-3.93</td>\n",
       "      <td>3.78</td>\n",
       "      <td>13.18</td>\n",
       "      <td>1.41</td>\n",
       "      <td>1.70</td>\n",
       "      <td>-8.71</td>\n",
       "      <td>7.50</td>\n",
       "      <td>-2.77</td>\n",
       "      <td>-6.80</td>\n",
       "      <td>...</td>\n",
       "      <td>-2.87</td>\n",
       "      <td>4.29</td>\n",
       "      <td>-5.92</td>\n",
       "      <td>-10.97</td>\n",
       "      <td>0.49</td>\n",
       "      <td>0.73</td>\n",
       "      <td>8.06</td>\n",
       "      <td>-7.26</td>\n",
       "      <td>-5.51</td>\n",
       "      <td>1.64</td>\n",
       "    </tr>\n",
       "    <tr>\n",
       "      <th>390</th>\n",
       "      <td>1</td>\n",
       "      <td>-186.39</td>\n",
       "      <td>-200.57</td>\n",
       "      <td>-203.37</td>\n",
       "      <td>-207.07</td>\n",
       "      <td>-191.11</td>\n",
       "      <td>-190.57</td>\n",
       "      <td>-240.22</td>\n",
       "      <td>-189.64</td>\n",
       "      <td>-232.90</td>\n",
       "      <td>...</td>\n",
       "      <td>-3.92</td>\n",
       "      <td>-49.79</td>\n",
       "      <td>-21.93</td>\n",
       "      <td>-22.43</td>\n",
       "      <td>-43.06</td>\n",
       "      <td>-3.81</td>\n",
       "      <td>-1.12</td>\n",
       "      <td>-15.82</td>\n",
       "      <td>-24.96</td>\n",
       "      <td>41.64</td>\n",
       "    </tr>\n",
       "    <tr>\n",
       "      <th>105</th>\n",
       "      <td>1</td>\n",
       "      <td>67.03</td>\n",
       "      <td>86.02</td>\n",
       "      <td>80.51</td>\n",
       "      <td>96.45</td>\n",
       "      <td>103.42</td>\n",
       "      <td>107.07</td>\n",
       "      <td>118.06</td>\n",
       "      <td>109.17</td>\n",
       "      <td>113.37</td>\n",
       "      <td>...</td>\n",
       "      <td>57.20</td>\n",
       "      <td>61.67</td>\n",
       "      <td>94.63</td>\n",
       "      <td>70.82</td>\n",
       "      <td>53.50</td>\n",
       "      <td>58.02</td>\n",
       "      <td>35.54</td>\n",
       "      <td>20.95</td>\n",
       "      <td>-3.87</td>\n",
       "      <td>38.82</td>\n",
       "    </tr>\n",
       "    <tr>\n",
       "      <th>223</th>\n",
       "      <td>1</td>\n",
       "      <td>384.58</td>\n",
       "      <td>385.52</td>\n",
       "      <td>372.67</td>\n",
       "      <td>388.69</td>\n",
       "      <td>365.60</td>\n",
       "      <td>365.18</td>\n",
       "      <td>371.61</td>\n",
       "      <td>347.58</td>\n",
       "      <td>343.12</td>\n",
       "      <td>...</td>\n",
       "      <td>29.64</td>\n",
       "      <td>30.60</td>\n",
       "      <td>24.52</td>\n",
       "      <td>14.60</td>\n",
       "      <td>24.69</td>\n",
       "      <td>41.44</td>\n",
       "      <td>14.11</td>\n",
       "      <td>19.38</td>\n",
       "      <td>30.07</td>\n",
       "      <td>43.20</td>\n",
       "    </tr>\n",
       "  </tbody>\n",
       "</table>\n",
       "<p>5 rows × 3198 columns</p>\n",
       "</div>"
      ],
      "text/plain": [
       "     LABEL  FLUX.1  FLUX.2  FLUX.3  FLUX.4  FLUX.5  FLUX.6  FLUX.7  FLUX.8  \\\n",
       "55       1  247.83  173.35  191.67  169.51   97.43  158.84  138.74  165.53   \n",
       "271      1   -3.93    3.78   13.18    1.41    1.70   -8.71    7.50   -2.77   \n",
       "390      1 -186.39 -200.57 -203.37 -207.07 -191.11 -190.57 -240.22 -189.64   \n",
       "105      1   67.03   86.02   80.51   96.45  103.42  107.07  118.06  109.17   \n",
       "223      1  384.58  385.52  372.67  388.69  365.60  365.18  371.61  347.58   \n",
       "\n",
       "     FLUX.9  ...  FLUX.3188  FLUX.3189  FLUX.3190  FLUX.3191  FLUX.3192  \\\n",
       "55   100.79  ...     -25.33    -123.41     -69.55     -24.53     -65.98   \n",
       "271   -6.80  ...      -2.87       4.29      -5.92     -10.97       0.49   \n",
       "390 -232.90  ...      -3.92     -49.79     -21.93     -22.43     -43.06   \n",
       "105  113.37  ...      57.20      61.67      94.63      70.82      53.50   \n",
       "223  343.12  ...      29.64      30.60      24.52      14.60      24.69   \n",
       "\n",
       "     FLUX.3193  FLUX.3194  FLUX.3195  FLUX.3196  FLUX.3197  \n",
       "55      -15.65      64.76      26.53      25.25      39.77  \n",
       "271       0.73       8.06      -7.26      -5.51       1.64  \n",
       "390      -3.81      -1.12     -15.82     -24.96      41.64  \n",
       "105      58.02      35.54      20.95      -3.87      38.82  \n",
       "223      41.44      14.11      19.38      30.07      43.20  \n",
       "\n",
       "[5 rows x 3198 columns]"
      ]
     },
     "execution_count": 3,
     "metadata": {},
     "output_type": "execute_result"
    }
   ],
   "source": [
    "df.sample(n=5, random_state=43)"
   ]
  },
  {
   "cell_type": "markdown",
   "id": "8b48f23d-11bf-4b15-a76f-852e610b4df0",
   "metadata": {},
   "source": [
    "### Exoplanet Detection and Periodicity\n",
    "\n",
    "When we're sifting through the cosmos for exoplanets, it's a bit like trying to catch a glimpse of a firefly as it flits by a lighthouse. Those 3,198 columns in our DataFrame? They're our timestamps, our individual snapshots of light, which are critical for capturing the rhythm of the heavens.\n",
    "\n",
    "Consider our own celestial backyard for a moment. Mercury zips around the sun in a swift 88 days, while Neptune takes a leisurely 165-year stroll. To spot an exoplanet, we need our observations to be just as diligent and frequent; otherwise, we might miss the dance of a planet as it crosses its star, a cosmic game of peekaboo.\n",
    "\n",
    "And here's where our challenge sharpens. Out of all the stars we're peering at, only 37 are known to keep the company of exoplanets. So, in our subset, we need to figure out just how many of these rare celestial gatherings we have captured. Let's roll up our sleeves and dive into the `LABEL` column to count our exoplanetary companions.\n",
    "\n",
    "To determine the number of exoplanet stars within the subset of data, you would indeed use the `.value_counts()` method on the `LABEL` column, assuming that this column indicates whether a star has exoplanets or not (usually with binary indicators such as 1 for the presence of an exoplanet and 0 for its absence). \n",
    "\n",
    "The expectation is that when an exoplanet blocks light from a star, the light flux goes down. If drops in flux occur periodically, an exoplanet is likely the reason since, by definition, a planet is a large object orbiting a star.\n",
    "\n",
    "This code snippet will give you a count of how many times each unique value appears in the `LABEL` column, effectively telling you how many stars in your subset have exoplanets and how many do not. If '1' indicates the presence of an exoplanet, the count for '1' will tell you how many exoplanet-hosting stars are in your subset."
   ]
  },
  {
   "cell_type": "code",
   "execution_count": 4,
   "id": "a811bb4d-bd99-492f-ac8f-901d33eb66d9",
   "metadata": {},
   "outputs": [
    {
     "data": {
      "text/plain": [
       "LABEL\n",
       "1    363\n",
       "2     37\n",
       "Name: count, dtype: int64"
      ]
     },
     "execution_count": 4,
     "metadata": {},
     "output_type": "execute_result"
    }
   ],
   "source": [
    "(df\n",
    " [\"LABEL\"]\n",
    " .value_counts()\n",
    ")"
   ]
  },
  {
   "cell_type": "code",
   "execution_count": 5,
   "id": "197fe0a3-e27b-4a5e-9bef-5882e381c931",
   "metadata": {},
   "outputs": [
    {
     "name": "stdout",
     "output_type": "stream",
     "text": [
      "shape of target vector: (400,)\n",
      "shape of feature matrix: (400, 3197)\n"
     ]
    }
   ],
   "source": [
    "X, y = splitX_y(df, 'LABEL')\n",
    "\n",
    "y_recode = y.replace({1: 0, 2: 1})\n",
    "\n",
    "X_train, X_test, y_train, y_test = train_test_split(\n",
    "        X, y_recode, random_state=43)\n",
    "\n",
    "print(f\"shape of target vector: {y.shape}\")\n",
    "print(f\"shape of feature matrix: {X.shape}\")"
   ]
  },
  {
   "cell_type": "markdown",
   "id": "b6167e47-c69a-42d5-8511-43d0d6c46891",
   "metadata": {},
   "source": [
    "The code block above is what we have been using. The difference is: `y_recode = y.replace({1: 0, 2: 1})`.  The XGBClassifier will be anticipating binary classes `[0, 1]`, but will instead find `[1, 2]` in our `y_train` data. So we stop that from happening.\n",
    "\n",
    "\n",
    "### Visualizing our Data\n",
    "\n",
    "Let's put on our programming hats and conjure up a little function named `light_plot`. This handy tool will take us on a visual stroll through the data—one row at a time. Imagine you've got a bead on a distant star and you want to watch its light dance and dip, just to see if a planet might be passing by, winking at us from across the void.\n",
    "\n",
    "Here's what `light_plot` will do: it'll grab the index of the data we're curious about, and it'll plot the light flux—our y-axis—as it flickers and fades over time, our x-axis being each of our observations.\n",
    "\n",
    "Remember to label your axes, folks! We're scientists, after all. The x-axis will be our 'Number of Observations', and the y-axis will be 'Light Flux'. It's like putting a name tag on the light, giving us a clue about what it's up to. Let's dive into the code and light up our understanding of these distant suns and their potential planetary pals.\n"
   ]
  },
  {
   "cell_type": "code",
   "execution_count": 6,
   "id": "322fc217-4b0f-4cae-94b6-a85b91d31395",
   "metadata": {},
   "outputs": [
    {
     "data": {
      "image/png": "[encoded data removed]",
      "text/plain": [
       "<Figure size 1500x800 with 1 Axes>"
      ]
     },
     "metadata": {},
     "output_type": "display_data"
    }
   ],
   "source": [
    "def light_plot(index):\n",
    "\n",
    "    y_vals = X.iloc[index]\n",
    "\n",
    "    x_vals = np.arange(len(y_vals))\n",
    "\n",
    "    plt.figure(figsize=(15,8))\n",
    "\n",
    "    plt.xlabel('Number of Observations')\n",
    "\n",
    "    plt.ylabel('Light Flux')\n",
    "\n",
    "    plt.title('Light Plot ' + str(index), size=15)\n",
    "\n",
    "    plt.plot(x_vals, y_vals)\n",
    "\n",
    "    plt.show()\n",
    "\n",
    "light_plot(0)"
   ]
  },
  {
   "cell_type": "markdown",
   "id": "1978c3f2-2670-4965-b757-2b6f049b72b7",
   "metadata": {},
   "source": [
    "Alright, let's gaze at the image above – our 'Light plot 0'. What we've got here is a cosmic dance of shadows. See those dips in the light, those soft, rhythmic pauses? They come and go like the steady beat of a drum, hinting that maybe, just maybe, there's a planet out there, taking its regular stroll in front of its star.\n",
    "\n",
    "But don't jump to conclusions just yet! Seeing these dips alone isn't enough to shout 'Eureka!'. It's a subtle tease, a whisper of a world.\n",
    "\n",
    "Now, switch your attention to the 37th index, where we're peeking at a star without any known exoplanets. Here the light's doing a different kind of tango – it dips and peaks with a bit more of an erratic rhythm, a jazz solo rather than our previous waltz. It's a messier pattern, not the neat, periodic signature we might hope for.\n",
    "\n",
    "These inconsistent dips? They're like the scattered footsteps of an absent-minded wanderer, not the regular march we're looking for. With just this chart to go on, we can't confidently say there's a planet out there. It's a cosmic puzzle, and we're still putting the pieces together.\""
   ]
  },
  {
   "cell_type": "code",
   "execution_count": 7,
   "id": "126d7456-07bf-42c0-b7f9-9e0d9c6df70a",
   "metadata": {},
   "outputs": [
    {
     "data": {
      "image/png": "[encoded data removed]",
      "text/plain": [
       "<Figure size 1500x800 with 1 Axes>"
      ]
     },
     "metadata": {},
     "output_type": "display_data"
    }
   ],
   "source": [
    "light_plot(37)"
   ]
  },
  {
   "cell_type": "code",
   "execution_count": 8,
   "id": "e4cfe981-cc0d-4de9-82f7-c661e88f428a",
   "metadata": {},
   "outputs": [
    {
     "data": {
      "image/png": "[encoded data removed]",
      "text/plain": [
       "<Figure size 1500x800 with 1 Axes>"
      ]
     },
     "metadata": {},
     "output_type": "display_data"
    }
   ],
   "source": [
    "light_plot(1)"
   ]
  },
  {
   "cell_type": "markdown",
   "id": "9ec4339b-0905-4b39-8796-e1c88bfaabb2",
   "metadata": {},
   "source": [
    "Peering at this plot is like watching a cosmic signal light flash its rhythmic beat across the universe. You see those grand swoops of dimming light? That's the universe's way of nodding 'yes' to the likely presence of an exoplanet. If every star's light curve was as clear as a bell, we'd have no need for the computational wizardry of machine learning.\n",
    "\n",
    "But the universe loves a good mystery, doesn't it? Not every star's story is so easy to read. Most plots are more like a novel than a short story; they're complex, full of twists and turns, and don't give away their secrets so easily.\n",
    "\n",
    "That's precisely why we're here—our job is to unravel these cosmic tales. While astronomers have their own bag of tricks for spotting these distant worlds, we've got a trick of our own: machine learning. It's our telescope, our mathematical magnifying glass, to bring into focus what the naked eye—or the standard scope—might miss.\n",
    "\n",
    "Imagine we've got all these flickers of light laid out in front of us, like a Morse code from the cosmos. Now, you might think we're trying to guess the next dot or dash in the sequence, but no, that's not the game we're playing. We're not fortune tellers trying to predict the next flicker. Our mission is more like that of a cosmic detective. We want to sift through all those flickers and figure out if they're just random twinkles or the secret signals of a planet passing by a distant star.\n",
    "\n",
    "So how do we crack this celestial code? We call in our machine learning sleuths, classifiers that are trained to spot patterns in the data—a bit like teaching your dog to fetch, but instead of sticks, they're fetching us answers about which stars might have planets orbiting them.\n",
    "\n",
    "In this chapter, we're going to train our very own XGBClassifier, a keen-eyed detective in the world of algorithms, to help us pin the tail on the exoplanets. But before our classifier can start sniffing out exoplanets, we've got to get our data in tip-top shape. It's like lining up our evidence before presenting it to the jury. Let's roll up our sleeves and get that data ready for the show!"
   ]
  },
  {
   "cell_type": "code",
   "execution_count": 9,
   "id": "139d1c1f-22fb-4e06-96f9-d570f81afe42",
   "metadata": {},
   "outputs": [
    {
     "name": "stdout",
     "output_type": "stream",
     "text": [
      "Score: 0.9\n"
     ]
    }
   ],
   "source": [
    "model = XGBClassifier(booster='gbtree', \n",
    "                      objective='binary:logistic', \n",
    "                      random_state=43)\n",
    "\n",
    "model.fit(X_train, y_train)\n",
    "\n",
    "y_pred = model.predict(X_test)\n",
    "\n",
    "score = accuracy_score(y_pred, y_test)\n",
    "\n",
    "print(f'Score: {str(score)}')"
   ]
  },
  {
   "cell_type": "markdown",
   "id": "653f69cb-e3ec-4841-9c9b-462951ac0250",
   "metadata": {},
   "source": [
    "Alright, imagine you've come up with a shiny new model that says it can spot stars with exoplanets 90% of the time. Not bad, right? You might be feeling pretty smug about it. But then you take it to your astronomy professor, who's seen a dataset or two in their time. They'd raise an eyebrow and say, 'Nice try, but did you consider that if exoplanets are only around 10% of the stars, a lazy model that simply guesses 'nope, no planets here' every time would be right about 90% of the time? So, what's so special about your scores?'\n",
    "\n",
    "And there's the rub. If you're playing a game of cosmic hide and seek, and the hiders are super rare, finding them isn't as simple as saying 'you're all good at hiding.' Because in a universe where most stars are flying solo, being right most of the time just by guessing 'loner' isn't really playing the game.\n",
    "\n",
    "That's why in the land of imbalanced datasets, accuracy can be a tricky beast. It might be telling you that you're winning, but in reality, you might not even be playing the right game.\n",
    "\n",
    "### Analyzing the confusion matrix\n",
    "A confusion matrix is a table that summarizes the correct and incorrect predictions of a classification model. The confusion matrix is ideal for analyzing imbalanced data because it provides more information on which predictions are correct, and which predictions are wrong."
   ]
  },
  {
   "cell_type": "code",
   "execution_count": 10,
   "id": "30cb3ea4-8caf-4891-8807-f6b4ad1272ef",
   "metadata": {},
   "outputs": [
    {
     "data": {
      "image/png": "[encoded data removed]",
      "text/plain": [
       "<Figure size 500x300 with 2 Axes>"
      ]
     },
     "metadata": {},
     "output_type": "display_data"
    }
   ],
   "source": [
    "cm = confusion_matrix(y_test, y_pred)\n",
    "\n",
    "# Plotting the confusion matrix using seaborn's heatmap function\n",
    "plt.figure(figsize=(5,3))\n",
    "sns.heatmap(cm, annot=True, fmt='g', cmap='viridis')\n",
    "plt.xlabel('Predicted labels')\n",
    "plt.ylabel('True labels')\n",
    "plt.title('Confusion Matrix')\n",
    "plt.show()"
   ]
  },
  {
   "cell_type": "markdown",
   "id": "1854d524-7d64-460f-b666-97b15ad8016b",
   "metadata": {},
   "source": [
    "Let's say we've got this confusion matrix, which is sort of a scorecard that tells us how well our model is spotting those elusive exoplanets. Now, the numbers diagonally across this matrix are the ones our model got right. We've got 87 times where it said 'no exoplanet here' and was spot on, and 3 times where it caught an exoplanet star—like finding a needle in a haystack.\n",
    "\n",
    "But here's where things get spicy: there's a 1 in the upper-right corner, which means our model got over-excited and cried 'exoplanet!' once when it was just empty space. And then there's a sneaky 9 in the bottom-left corner—these are the ones that got away, the actual exoplanets it missed, like mistaking a firefly for a star.\n",
    "\n",
    "If we look at it row by row, it's like our model is a bouncer at a cosmic club. It let in 87 out of 88 non-exoplanet stars—pretty good at keeping out the riff-raff. But when it came to the VIPs, the actual exoplanet stars, it only recognized 3 out of 12. It's letting the stars of the show slip by!\n",
    "\n",
    "This confusion matrix gives us the gossip behind the scenes, the lowdown on where our model's making friends and where it's missing out on the party. It's the nitty-gritty detail that our plain old accuracy score just glosses over.\n",
    "\n",
    "### `classification_report`\n",
    "\n",
    "The various percentages from the numbers revealed in the confusion matrix in the previous section are contained within a classification report. Let's view the classification report"
   ]
  },
  {
   "cell_type": "raw",
   "id": "637c0014-1583-4e2b-8da8-2e2f4af963f3",
   "metadata": {},
   "source": [
    "report = classification_report(y_test, y_pred, output_dict=True)\n",
    "\n",
    "# Convert the report dictionary to a DataFrame\n",
    "report_df = pd.DataFrame(report).transpose()\n",
    "\n",
    "# Optional: Convert the 'support' column to integer\n",
    "report_df['support'] = report_df['support'].astype(int)\n",
    "\n",
    "# Plot the heatmap\n",
    "plt.figure(figsize=(8, 6))\n",
    "sns.heatmap(report_df.iloc[:-1, :-1], annot=True, cmap='coolwarm', fmt='.2f')\n",
    "plt.title('Classification Report')\n",
    "plt.show()\n"
   ]
  },
  {
   "cell_type": "code",
   "execution_count": 11,
   "id": "70dee0ce-3827-4621-b63e-c8768e375d8b",
   "metadata": {},
   "outputs": [
    {
     "name": "stdout",
     "output_type": "stream",
     "text": [
      "              precision    recall  f1-score   support\n",
      "\n",
      "           0       0.91      0.99      0.95        88\n",
      "           1       0.75      0.25      0.38        12\n",
      "\n",
      "    accuracy                           0.90       100\n",
      "   macro avg       0.83      0.62      0.66       100\n",
      "weighted avg       0.89      0.90      0.88       100\n",
      "\n"
     ]
    }
   ],
   "source": [
    "print(classification_report(y_test, y_pred,))"
   ]
  },
  {
   "cell_type": "markdown",
   "id": "a1138042-ca05-416b-a7d1-1ae25b2e7fa1",
   "metadata": {},
   "source": [
    "#### **precision**\n",
    "\n",
    "Let's talk about precision—a little detective work to figure out when our model is really onto something. Imagine precision as the art of not crying wolf. When it hollers 'Eureka, an exoplanet!', how often is there actually one twinkling there?\n",
    "\n",
    "So we've got these things called true positives—think of them as the gold stars we give our model when it gets it right, like spotting an exoplanet and not just blinking satellite debris.\n",
    "\n",
    "True positives are the times our model points to a star and says, 'Yup, that's a 2, alright,' and wouldn't you know it, it actually is a 2.\n",
    "\n",
    "But then, there's the flip side: false positives. These are the oops moments. It's like our model sees a bit of space dust and gets all excited, thinking it's found another Earth. It's when our model is betting on 2s, but they're really just 1s in disguise. It's the over-eager friend who thinks every rock is a diamond.\n",
    "\n",
    "Precision is the measure of our model's true detective moments versus its over-eager blunders. It tells us how trustworthy our model is when it claims to have discovered another world out there.\n",
    "\n",
    "Precision is calculated using the formula:\n",
    "\n",
    "$$ \\text{Precision} = \\frac{\\text{True Positives (TP)}}{\\text{True Positives (TP)} + \\text{False Positives (FP)}} $$\n",
    "\n",
    "Where:\n",
    "- **True Positives (TP)** are the correctly identified positive cases.\n",
    "- **False Positives (FP)** are the cases that are incorrectly identified as positive.\n",
    "\n",
    "Precision gives the percentage of correct predictions for each target class. \n",
    "\n",
    "#### **recall**\n",
    "\n",
    "Think about recall like this: It's a measure of whether we've got a net big enough to catch all the fish we want. It tells us what slice of the exoplanet pie we've managed to snag with our predictions.\n",
    "\n",
    "So, if you're fishing for exoplanets, true positives are the ones you've rightly plucked from the starry sea – the actual exoplanets your model points to and says, 'Bingo, got one!'\n",
    "\n",
    "But the universe is a big place, and sometimes we miss a few. These misses are what we call false negatives – the exoplanets that were there all along, but our model overlooked them, mistaking them for just another patch of the night sky.\n",
    "\n",
    "In the grand equation of things, recall is like asking, 'Of all the exoplanet stars out there, how many did we correctly invite to our discovery party?' You get it by dividing our true positive count by the sum of the true positives and the false negatives – the total number of exoplanet shindigs happening out there.\n",
    "\n",
    "Let's put it in cosmic terms. Say we have a bunch of exoplanets, but our model – our starry-eyed seeker – only spots a quarter of them. That's a 25% recall. It means our model's net caught a few, sure, but a whole lot of exoplanets are still out there, winking at us from the dark, waiting to be discovered.\n",
    "\n",
    "Recall is calculated using the formula:\n",
    "\n",
    "$$ \\text{Recall} = \\frac{\\text{True Positives (TP)}}{\\text{True Positives (TP)} + \\text{False Negatives (FN)}} $$\n",
    "\n",
    "Where:\n",
    "- **True Positives (TP)** are the correctly identified positive cases.\n",
    "- **False Negatives (FN)** are the positive cases that the model incorrectly predicted as negative.\n",
    "\n",
    "Recall tells you how many of the positive cases were found. In the exoplanet case, only 25% of exoplanets have been found.\n",
    "\n",
    "#### **recall**\n",
    "\n",
    "Alright, let's jazz things up with the F1 score. Imagine precision and recall are two musicians: one plays the notes right on time and the other never misses a beat. Now, we want to find a tune that blends their styles together perfectly. Enter the F1 score, which is like the harmonic mean of our precision and recall duo. \n",
    "\n",
    "You see, precision and recall each march to the beat of their own drum, with different denominators in their fractions. The harmonic mean is the maestro that brings them together, ensuring neither one dominates; it's a bit like finding the sweet spot in a stereo mix.\n",
    "\n",
    "---\n",
    "So when you're weighing precision and recall equally, when it's just as bad to miss a beat as it is to hit a wrong note, that's when the F1 score takes the stage. It ranges from 0 to 1, where 1 is like a standing ovation, a perfect performance where every exoplanet is spotted without a single false step.\n",
    "\n",
    "Let's put on our thinking caps and consider the different ways we can measure how well our model is performing. Scikit-learn, that's our toolshed for machine learning, offers us a whole array of gadgets like precision, recall, and the F1 score to measure up our models. If you're curious, you can dive into the toolbox yourself at the scikit-learn website and see all the fancy instruments.\n",
    "\n",
    "Now, here's a handy tip: accuracy isn't always the sharpest tool in the shed, especially for classification tasks. There's another slick method called the roc_auc_score. Think of it as measuring the area under the curve when plotting the true positive rate against the false positive rate. The closer this score is to 1, the more our model is hitting the bullseye.\n",
    "\n",
    "But here's the catch: you've got to pick the right tool for the job. It's like choosing between a telescope and a microscope. With our Exoplanet dataset, we're obviously on a treasure hunt for exoplanets. But the real head-scratcher is figuring out which tool will dig up the most treasure.\n",
    "\n",
    "Picture two different scenes:\n",
    "\n",
    "In the first, our model's like a talent scout that predicts four superstars, and three actually make it big—that's a 75% precision rate.\n",
    "\n",
    "In the second, imagine there are 12 potential stars out there, and our model spots 8 of them. That's about a 66% recall rate.\n",
    "\n",
    "So what's better? It's like asking whether it's more important to discover new talent or to make sure you don't miss any stars already shining out there.\n",
    "\n",
    "If you're an astronomer, you're not going to call a press conference every time the model yells 'Eureka!'. You'll peer through your telescope first to double-check. \n",
    "\n",
    "If the aim of the game is to sweep the cosmos and not miss a single exoplanet, then recall might just be your trusty sidekick. It's the one telling you how many out of the known exoplanets you've caught in your net.\n",
    "\n",
    "But remember, just because your precision is looking sharp, doesn't mean you've found all the exoplanets out there. A 100% precision rate might mean you've only spotted one, while a bunch of others are still playing hide and seek.\n",
    "\n",
    "### **`recall_score`**\n",
    "We will proceed with recall as the scoring method for the Exoplanet dataset to find as many exoplanets as possible. "
   ]
  },
  {
   "cell_type": "code",
   "execution_count": 12,
   "id": "45174062-cb02-4149-8431-a9f83f8591c5",
   "metadata": {},
   "outputs": [
    {
     "data": {
      "text/plain": [
       "0.25"
      ]
     },
     "execution_count": 12,
     "metadata": {},
     "output_type": "execute_result"
    }
   ],
   "source": [
    "recall_score(y_test, y_pred, pos_label=1)"
   ]
  },
  {
   "cell_type": "markdown",
   "id": "68e7c24d-ae98-4506-8523-45c0b206c80f",
   "metadata": {},
   "source": [
    "### Tackling the Imbalance: The Exoplanet Edition\n",
    "\n",
    "#### The Challenge of Cosmic Imbalance\n",
    "\n",
    "Imagine we're throwing a galactic bash and our guest list is split into two: the ubiquitous common stars and the rare, exoplanet-hosting stars. Ideally, we'd like an even mix to keep the party hopping. But, alas, our exoplanet invitations seem to be getting lost in the cosmic mail, leading to a party that's brimming with common stars—this, my friends, is the dilemma of imbalanced data.\n",
    "\n",
    "#### Majority vs. Minority\n",
    "\n",
    "In our celestial celebration, the common stars are the life of the party, making up the majority class. The exoplanet stars are the exclusive VIPs—the minority class. With the majority class dominating the scene, our model becomes a bit of a yes-man, constantly predicting \"No exoplanets here,\" because it's often the safe bet.\n",
    "\n",
    "#### Balancing the Cosmic Scales\n",
    "\n",
    "To give the exoplanet stars their due, we need to balance the guest list. There are a couple of strategies we can employ:\n",
    "\n",
    "1. **Under-sampling**: This is like asking a bunch of the common stars to make a graceful exit. It's all in the name of giving our exoplanet stars a chance to shine.\n",
    "2. **Over-sampling**: Alternatively, we clone the exoplanet stars, giving them a bigger presence. It's like sending a fleet of limos to ensure all our VIPs make it to the event.\n",
    "\n",
    "But wait—there's another trick up our sleeve. Instead of merely balancing numbers, we can sharpen our model's acumen by focusing on metrics like precision (ensuring the exoplanet stars are truly the bell of the ball) or recall (making sure none of the VIPs are left out in the cosmic cold).\n",
    "\n",
    "#### The Resampling Method\n",
    "\n",
    "Resampling is our way of ensuring that our blue marbles (the exoplanet stars) aren't outnumbered by the red ones (common stars). It's about making sure every exoplanet has its day, whether by dialing down the reds (undersampling) or by duplicating the blues (oversampling).\n",
    "\n",
    "#### The Art of Undersampling\n",
    "\n",
    "We kick things off with a vast universe of over 5,087 stars, but to get things moving, we zoom in on just 400. This act of focusing is our first step in undersampling—paring down the masses to spotlight the stars that matter most.\n",
    "\n",
    "#### Crafting an Undersampling Function\n",
    "\n",
    "It's time to roll up our sleeves and create a function that can undersample our dataset to any desired extent. This clever little function will be our way of tweaking the guest list, and it's going to give us the lowdown on the recall score so we can measure the impact of our interventions.\n",
    "\n",
    "#### Scoring the Stars\n",
    "\n",
    "Armed with our trusty XGBClassifier and a chosen number of stars, we'll deploy a function that serves up a confusion matrix, a classification report, and that all-important recall score. This is where we put our model to the test: Can it detect those elusive exoplanet stars when we've evened out the odds? Let's find out, and may the best stars twinkle."
   ]
  },
  {
   "cell_type": "code",
   "execution_count": 13,
   "id": "a4417006-db01-4ad6-a841-b8ab6b831d8c",
   "metadata": {},
   "outputs": [],
   "source": [
    "def xgb_clf(url, target, nrows):\n",
    "\n",
    "    with ZipFile(url, 'r') as z:\n",
    "        with z.open(z.namelist()[0]) as f:\n",
    "            df = pd.read_csv(f, nrows=nrows)\n",
    "    \n",
    "    X, y = splitX_y(df, target)\n",
    "\n",
    "    y_recode = y.replace({1: 0, 2: 1})\n",
    "    \n",
    "    X_train, X_test, y_train, y_test = train_test_split(\n",
    "            X, y_recode, random_state=43)\n",
    "\n",
    "    model = XGBClassifier(booster='gbtree', \n",
    "                      objective='binary:logistic', \n",
    "                      random_state=43)\n",
    "\n",
    "    model.fit(X_train, y_train)\n",
    "    \n",
    "    y_pred = model.predict(X_test)\n",
    "    \n",
    "    score = recall_score(y_test, y_pred, pos_label=1)\n",
    "\n",
    "    print(confusion_matrix(y_test, y_pred))\n",
    "\n",
    "    print(classification_report(y_test, y_pred))\n",
    "\n",
    "    return score"
   ]
  },
  {
   "cell_type": "code",
   "execution_count": 14,
   "id": "35c32e5d-6a8c-47c1-b36b-39c28cb65114",
   "metadata": {},
   "outputs": [
    {
     "name": "stdout",
     "output_type": "stream",
     "text": [
      "[[191   2]\n",
      " [  7   0]]\n",
      "              precision    recall  f1-score   support\n",
      "\n",
      "           0       0.96      0.99      0.98       193\n",
      "           1       0.00      0.00      0.00         7\n",
      "\n",
      "    accuracy                           0.95       200\n",
      "   macro avg       0.48      0.49      0.49       200\n",
      "weighted avg       0.93      0.95      0.94       200\n",
      "\n"
     ]
    },
    {
     "data": {
      "text/plain": [
       "0.0"
      ]
     },
     "execution_count": 14,
     "metadata": {},
     "output_type": "execute_result"
    }
   ],
   "source": [
    "xgb_clf(url=url, target=\"LABEL\", nrows=800)"
   ]
  },
  {
   "cell_type": "markdown",
   "id": "0b371e69-eea4-479a-bd53-110556e84b73",
   "metadata": {},
   "source": [
    "\n",
    "Alright, let's decode this cosmic riddle that's our confusion matrix:\n",
    "\n",
    "\n",
    "|       | Predicted: No | Predicted: Yes |\n",
    "|-------|---------------|----------------|\n",
    "| **Actual: No**  | 191           | 2              |\n",
    "| **Actual: Yes** | 7             | 0              |\n",
    "\n",
    "\n",
    "Here's what we've got:\n",
    "\n",
    "- `191` stars were just ordinary stars, and our model said, \"Yep, no exoplanets here,\" and it was right.\n",
    "- Then, there were `2` times where our model got a bit ahead of itself and cried, \"Exoplanet!\" but, alas, it was just a false alarm – they were regular, lonely stars.\n",
    "- Sneakier still, there were `7` shy exoplanets that our model missed completely, labeling them as false negatives. They were there, but our model just waved them by.\n",
    "- And, finally, the big goose egg, `0`: that's the number of times our model hit the jackpot and actually found an exoplanet when it was there.\n",
    "\n",
    "So, what's the cosmic gossip here? Our model is pretty good at spotting the empty vastness of space, but when it comes to finding those hidden gems, those elusive exoplanets, it's coming up empty-handed. It’s like we've got a net for catching butterflies, but the butterflies are too few, and our net's just not catching them. We need to re-tune our instruments, recalibrate our detectors, and try again to capture those whispers of worlds hiding in the dark.\n",
    "\n",
    "Our recall is zero!\n",
    "\n",
    "We are next going to reduce the rows further to see what next we come up with.\n"
   ]
  },
  {
   "cell_type": "code",
   "execution_count": 15,
   "id": "875d963c-cfe1-4fd8-b4f1-cdb6e36a93b9",
   "metadata": {},
   "outputs": [
    {
     "name": "stdout",
     "output_type": "stream",
     "text": [
      "[[34  7]\n",
      " [ 7  2]]\n",
      "              precision    recall  f1-score   support\n",
      "\n",
      "           0       0.83      0.83      0.83        41\n",
      "           1       0.22      0.22      0.22         9\n",
      "\n",
      "    accuracy                           0.72        50\n",
      "   macro avg       0.53      0.53      0.53        50\n",
      "weighted avg       0.72      0.72      0.72        50\n",
      "\n"
     ]
    },
    {
     "data": {
      "text/plain": [
       "0.2222222222222222"
      ]
     },
     "execution_count": 15,
     "metadata": {},
     "output_type": "execute_result"
    }
   ],
   "source": [
    "xgb_clf(url=url, target=\"LABEL\", nrows=200)"
   ]
  },
  {
   "cell_type": "code",
   "execution_count": 16,
   "id": "be445bb6-43d9-4059-b481-80d0f73a67e8",
   "metadata": {},
   "outputs": [
    {
     "name": "stdout",
     "output_type": "stream",
     "text": [
      "[[8 3]\n",
      " [5 3]]\n",
      "              precision    recall  f1-score   support\n",
      "\n",
      "           0       0.62      0.73      0.67        11\n",
      "           1       0.50      0.38      0.43         8\n",
      "\n",
      "    accuracy                           0.58        19\n",
      "   macro avg       0.56      0.55      0.55        19\n",
      "weighted avg       0.57      0.58      0.57        19\n",
      "\n"
     ]
    },
    {
     "data": {
      "text/plain": [
       "0.375"
      ]
     },
     "execution_count": 16,
     "metadata": {},
     "output_type": "execute_result"
    }
   ],
   "source": [
    "xgb_clf(url=url, target=\"LABEL\", nrows=74)"
   ]
  },
  {
   "cell_type": "code",
   "execution_count": 17,
   "id": "036e5d0f-658f-4a25-b22d-41becae1ef3c",
   "metadata": {},
   "outputs": [
    {
     "name": "stdout",
     "output_type": "stream",
     "text": [
      "[[1 2]\n",
      " [2 8]]\n",
      "              precision    recall  f1-score   support\n",
      "\n",
      "           0       0.33      0.33      0.33         3\n",
      "           1       0.80      0.80      0.80        10\n",
      "\n",
      "    accuracy                           0.69        13\n",
      "   macro avg       0.57      0.57      0.57        13\n",
      "weighted avg       0.69      0.69      0.69        13\n",
      "\n"
     ]
    },
    {
     "data": {
      "text/plain": [
       "0.8"
      ]
     },
     "execution_count": 17,
     "metadata": {},
     "output_type": "execute_result"
    }
   ],
   "source": [
    "xgb_clf(url=url, target=\"LABEL\", nrows=50)"
   ]
  },
  {
   "cell_type": "markdown",
   "id": "b72ac1fe-ee47-4e30-a79c-ab390b8b9d00",
   "metadata": {},
   "source": [
    "It seems like the lower the number of rows, the better the recall gets.\n",
    "\n",
    "### Cosmic Multiplication: The Tale of Oversampling\n",
    "\n",
    "#### The Universe of Oversampling\n",
    "\n",
    "Imagine you're back in the day, using a telescope that only shows you a few exoplanets, no matter how many are out there. You squint, you adjust the lens, but the exoplanets are playing hard to get. This is where oversampling comes in—it's like magically cloning the few exoplanets you can see so that they're easier to spot next time.\n",
    "\n",
    "#### Starting Small to Think Big\n",
    "\n",
    "We've got this vast universe of over 5,000 stars, but let's be nimble and start with just 400 to speed things up. With our sample, it's like for every 10 regular stars, we've got just one with an exoplanet. We need more of those exoplanet-hosting stars to even out the party.\n",
    "\n",
    "#### The Plan of Attack\n",
    "\n",
    "Here's the game plan:\n",
    "\n",
    "1. We'll create a whole new universe of data where the exoplanets are not so lonely. We'll copy them until they've got enough company—nine more for each one.\n",
    "2. Then, we'll blend this new cluster of exoplanets with our original batch of stars. Voilà, we've got a star party with a nice 10-to-10 ratio of exoplanet to non-exoplanet stars.\n",
    "\n",
    "#### A Cautionary Tale\n",
    "\n",
    "But hold on, before we launch this strategy into orbit, a word of caution: we've got to avoid a cosmic echo chamber. If we multiply our exoplanets before we split our data into training and testing sets, we're going to trick ourselves. Our model will think it's a whiz at finding exoplanets because it's seen the same ones during practice as it does during the test—it's like giving the answers away before the exam!\n",
    "\n",
    "#### The Right Way to Navigate the Stars\n",
    "\n",
    "The savvy move is to split our starry data into training and test sets first. Only after that do we start the oversampling in the training set. This way, our model won't get inflated scores for simply recognizing the same faces in the crowd.\n",
    "\n",
    "Here's how we ensure our space odyssey remains a genuine quest for discovery:\n",
    "\n",
    "\n",
    "1. **Split the data**: Divide the universe into training and test sets—`X_train`, `X_test`, `y_train`, and `y_test`.\n",
    "2. **Oversample the training set**: Now, multiply those rare exoplanet instances until the numbers are balanced, but only in the training set.\n",
    "3. **Test with integrity**: Keep the test set as pristine as untouched stardust. This way, when our model encounters it, it's facing the unknown, as it should.\n",
    "\n",
    "\n",
    "And with that, we're set to explore the cosmos with our model, seeking out new worlds with the wisdom of the stars guiding us."
   ]
  },
  {
   "cell_type": "code",
   "execution_count": 18,
   "id": "b7e93af3-1900-4ae9-a28d-c37df87ce813",
   "metadata": {},
   "outputs": [
    {
     "name": "stdout",
     "output_type": "stream",
     "text": [
      "<class 'pandas.core.frame.DataFrame'>\n",
      "RangeIndex: 400 entries, 0 to 399\n",
      "Columns: 3198 entries, LABEL to FLUX.3197\n",
      "dtypes: float64(3197), int64(1)\n",
      "memory usage: 9.8 MB\n"
     ]
    }
   ],
   "source": [
    "df.info()"
   ]
  },
  {
   "cell_type": "code",
   "execution_count": 19,
   "id": "1afb1023-a094-4c3d-aa0d-358fcf440e3e",
   "metadata": {},
   "outputs": [],
   "source": [
    "df_train = pd.merge(y_train, X_train, left_index=True, right_index=True)"
   ]
  },
  {
   "cell_type": "code",
   "execution_count": 20,
   "id": "40008daf-f114-4650-af98-69a7bf7b29f9",
   "metadata": {},
   "outputs": [
    {
     "name": "stdout",
     "output_type": "stream",
     "text": [
      "<class 'pandas.core.frame.DataFrame'>\n",
      "Index: 300 entries, 45 to 324\n",
      "Columns: 3198 entries, LABEL to FLUX.3197\n",
      "dtypes: float64(3197), int64(1)\n",
      "memory usage: 7.3 MB\n"
     ]
    }
   ],
   "source": [
    "df_train.info()"
   ]
  },
  {
   "cell_type": "markdown",
   "id": "f04e8a55-059c-434b-b341-3e48e8dc10b6",
   "metadata": {},
   "source": [
    "Create a DataFrame, `new_df`, using `np.repeat` that includes the following:\n",
    "\n",
    "a) The values of the positive cases: `df_train[df_train['LABEL']==1.values`.\n",
    "\n",
    "b) The number of copies – in this case, 9\n",
    "\n",
    "c) The `axis=0` parameter to specify that we are working with columns."
   ]
  },
  {
   "cell_type": "code",
   "execution_count": 21,
   "id": "a3a877e8-a780-4647-8e1c-3c58d01247fa",
   "metadata": {},
   "outputs": [
    {
     "name": "stdout",
     "output_type": "stream",
     "text": [
      "<class 'pandas.core.frame.DataFrame'>\n",
      "RangeIndex: 225 entries, 0 to 224\n",
      "Columns: 3198 entries, 0 to 3197\n",
      "dtypes: float64(3198)\n",
      "memory usage: 5.5 MB\n"
     ]
    }
   ],
   "source": [
    "new_df = pd.DataFrame(np.repeat(df_train[df_train['LABEL']==1].values, 9, axis=0))\n",
    "new_df.info()"
   ]
  },
  {
   "cell_type": "code",
   "execution_count": 22,
   "id": "10bdd161-faef-4cd8-a7a0-3dfd4887a6a5",
   "metadata": {},
   "outputs": [],
   "source": [
    "# Copy the column names:\n",
    "\n",
    "new_df.columns = df_train.columns"
   ]
  },
  {
   "cell_type": "code",
   "execution_count": 23,
   "id": "414fcd5e-95e8-4a2b-97e8-a72503c75586",
   "metadata": {},
   "outputs": [],
   "source": [
    "# Concatenate the DataFrames:\n",
    "\n",
    "df_train_resample = pd.concat([df_train, new_df])"
   ]
  },
  {
   "cell_type": "code",
   "execution_count": 24,
   "id": "63d9a997-853a-4650-ac53-5cd58951e50d",
   "metadata": {},
   "outputs": [
    {
     "data": {
      "text/plain": [
       "LABEL\n",
       "0.0    275\n",
       "1.0    250\n",
       "Name: count, dtype: int64"
      ]
     },
     "execution_count": 24,
     "metadata": {},
     "output_type": "execute_result"
    }
   ],
   "source": [
    "# Verify that value_counts is as expected:\n",
    "\n",
    "df_train_resample['LABEL'].value_counts()"
   ]
  },
  {
   "cell_type": "code",
   "execution_count": 25,
   "id": "d856d3c7-d29b-47ad-91be-bfb1cdb932b7",
   "metadata": {},
   "outputs": [],
   "source": [
    "# Split X and y using the resampled DataFrame:\n",
    "\n",
    "X_train_resample, y_train_resample = splitX_y(df_train_resample, \"LABEL\")"
   ]
  },
  {
   "cell_type": "code",
   "execution_count": 26,
   "id": "25715e28-fc2f-4eef-9481-4946cb4a5735",
   "metadata": {},
   "outputs": [
    {
     "data": {
      "text/html": [
       "<style>#sk-container-id-1 {color: black;}#sk-container-id-1 pre{padding: 0;}#sk-container-id-1 div.sk-toggleable {background-color: white;}#sk-container-id-1 label.sk-toggleable__label {cursor: pointer;display: block;width: 100%;margin-bottom: 0;padding: 0.3em;box-sizing: border-box;text-align: center;}#sk-container-id-1 label.sk-toggleable__label-arrow:before {content: \"▸\";float: left;margin-right: 0.25em;color: #696969;}#sk-container-id-1 label.sk-toggleable__label-arrow:hover:before {color: black;}#sk-container-id-1 div.sk-estimator:hover label.sk-toggleable__label-arrow:before {color: black;}#sk-container-id-1 div.sk-toggleable__content {max-height: 0;max-width: 0;overflow: hidden;text-align: left;background-color: #f0f8ff;}#sk-container-id-1 div.sk-toggleable__content pre {margin: 0.2em;color: black;border-radius: 0.25em;background-color: #f0f8ff;}#sk-container-id-1 input.sk-toggleable__control:checked~div.sk-toggleable__content {max-height: 200px;max-width: 100%;overflow: auto;}#sk-container-id-1 input.sk-toggleable__control:checked~label.sk-toggleable__label-arrow:before {content: \"▾\";}#sk-container-id-1 div.sk-estimator input.sk-toggleable__control:checked~label.sk-toggleable__label {background-color: #d4ebff;}#sk-container-id-1 div.sk-label input.sk-toggleable__control:checked~label.sk-toggleable__label {background-color: #d4ebff;}#sk-container-id-1 input.sk-hidden--visually {border: 0;clip: rect(1px 1px 1px 1px);clip: rect(1px, 1px, 1px, 1px);height: 1px;margin: -1px;overflow: hidden;padding: 0;position: absolute;width: 1px;}#sk-container-id-1 div.sk-estimator {font-family: monospace;background-color: #f0f8ff;border: 1px dotted black;border-radius: 0.25em;box-sizing: border-box;margin-bottom: 0.5em;}#sk-container-id-1 div.sk-estimator:hover {background-color: #d4ebff;}#sk-container-id-1 div.sk-parallel-item::after {content: \"\";width: 100%;border-bottom: 1px solid gray;flex-grow: 1;}#sk-container-id-1 div.sk-label:hover label.sk-toggleable__label {background-color: #d4ebff;}#sk-container-id-1 div.sk-serial::before {content: \"\";position: absolute;border-left: 1px solid gray;box-sizing: border-box;top: 0;bottom: 0;left: 50%;z-index: 0;}#sk-container-id-1 div.sk-serial {display: flex;flex-direction: column;align-items: center;background-color: white;padding-right: 0.2em;padding-left: 0.2em;position: relative;}#sk-container-id-1 div.sk-item {position: relative;z-index: 1;}#sk-container-id-1 div.sk-parallel {display: flex;align-items: stretch;justify-content: center;background-color: white;position: relative;}#sk-container-id-1 div.sk-item::before, #sk-container-id-1 div.sk-parallel-item::before {content: \"\";position: absolute;border-left: 1px solid gray;box-sizing: border-box;top: 0;bottom: 0;left: 50%;z-index: -1;}#sk-container-id-1 div.sk-parallel-item {display: flex;flex-direction: column;z-index: 1;position: relative;background-color: white;}#sk-container-id-1 div.sk-parallel-item:first-child::after {align-self: flex-end;width: 50%;}#sk-container-id-1 div.sk-parallel-item:last-child::after {align-self: flex-start;width: 50%;}#sk-container-id-1 div.sk-parallel-item:only-child::after {width: 0;}#sk-container-id-1 div.sk-dashed-wrapped {border: 1px dashed gray;margin: 0 0.4em 0.5em 0.4em;box-sizing: border-box;padding-bottom: 0.4em;background-color: white;}#sk-container-id-1 div.sk-label label {font-family: monospace;font-weight: bold;display: inline-block;line-height: 1.2em;}#sk-container-id-1 div.sk-label-container {text-align: center;}#sk-container-id-1 div.sk-container {/* jupyter's `normalize.less` sets `[hidden] { display: none; }` but bootstrap.min.css set `[hidden] { display: none !important; }` so we also need the `!important` here to be able to override the default hidden behavior on the sphinx rendered scikit-learn.org. See: https://github.com/scikit-learn/scikit-learn/issues/21755 */display: inline-block !important;position: relative;}#sk-container-id-1 div.sk-text-repr-fallback {display: none;}</style><div id=\"sk-container-id-1\" class=\"sk-top-container\"><div class=\"sk-text-repr-fallback\"><pre>XGBClassifier(base_score=None, booster=None, callbacks=None,\n",
       "              colsample_bylevel=None, colsample_bynode=None,\n",
       "              colsample_bytree=None, early_stopping_rounds=None,\n",
       "              enable_categorical=False, eval_metric=None, feature_types=None,\n",
       "              gamma=None, gpu_id=None, grow_policy=None, importance_type=None,\n",
       "              interaction_constraints=None, learning_rate=None, max_bin=None,\n",
       "              max_cat_threshold=None, max_cat_to_onehot=None,\n",
       "              max_delta_step=None, max_depth=None, max_leaves=None,\n",
       "              min_child_weight=None, missing=nan, monotone_constraints=None,\n",
       "              n_estimators=100, n_jobs=None, num_parallel_tree=None,\n",
       "              predictor=None, random_state=43, ...)</pre><b>In a Jupyter environment, please rerun this cell to show the HTML representation or trust the notebook. <br />On GitHub, the HTML representation is unable to render, please try loading this page with nbviewer.org.</b></div><div class=\"sk-container\" hidden><div class=\"sk-item\"><div class=\"sk-estimator sk-toggleable\"><input class=\"sk-toggleable__control sk-hidden--visually\" id=\"sk-estimator-id-1\" type=\"checkbox\" checked><label for=\"sk-estimator-id-1\" class=\"sk-toggleable__label sk-toggleable__label-arrow\">XGBClassifier</label><div class=\"sk-toggleable__content\"><pre>XGBClassifier(base_score=None, booster=None, callbacks=None,\n",
       "              colsample_bylevel=None, colsample_bynode=None,\n",
       "              colsample_bytree=None, early_stopping_rounds=None,\n",
       "              enable_categorical=False, eval_metric=None, feature_types=None,\n",
       "              gamma=None, gpu_id=None, grow_policy=None, importance_type=None,\n",
       "              interaction_constraints=None, learning_rate=None, max_bin=None,\n",
       "              max_cat_threshold=None, max_cat_to_onehot=None,\n",
       "              max_delta_step=None, max_depth=None, max_leaves=None,\n",
       "              min_child_weight=None, missing=nan, monotone_constraints=None,\n",
       "              n_estimators=100, n_jobs=None, num_parallel_tree=None,\n",
       "              predictor=None, random_state=43, ...)</pre></div></div></div></div></div>"
      ],
      "text/plain": [
       "XGBClassifier(base_score=None, booster=None, callbacks=None,\n",
       "              colsample_bylevel=None, colsample_bynode=None,\n",
       "              colsample_bytree=None, early_stopping_rounds=None,\n",
       "              enable_categorical=False, eval_metric=None, feature_types=None,\n",
       "              gamma=None, gpu_id=None, grow_policy=None, importance_type=None,\n",
       "              interaction_constraints=None, learning_rate=None, max_bin=None,\n",
       "              max_cat_threshold=None, max_cat_to_onehot=None,\n",
       "              max_delta_step=None, max_depth=None, max_leaves=None,\n",
       "              min_child_weight=None, missing=nan, monotone_constraints=None,\n",
       "              n_estimators=100, n_jobs=None, num_parallel_tree=None,\n",
       "              predictor=None, random_state=43, ...)"
      ]
     },
     "execution_count": 26,
     "metadata": {},
     "output_type": "execute_result"
    }
   ],
   "source": [
    "# Fit the model on the resampled training set:\n",
    "\n",
    "model = XGBClassifier(random_state=43)\n",
    "\n",
    "model.fit(X_train_resample, y_train_resample)"
   ]
  },
  {
   "cell_type": "code",
   "execution_count": 27,
   "id": "9b99ca6b-227c-498a-9271-d32ea1f77ea7",
   "metadata": {},
   "outputs": [
    {
     "name": "stdout",
     "output_type": "stream",
     "text": [
      "[[87  1]\n",
      " [ 9  3]]\n",
      "              precision    recall  f1-score   support\n",
      "\n",
      "           0       0.91      0.99      0.95        88\n",
      "           1       0.75      0.25      0.38        12\n",
      "\n",
      "    accuracy                           0.90       100\n",
      "   macro avg       0.83      0.62      0.66       100\n",
      "weighted avg       0.89      0.90      0.88       100\n",
      "\n",
      "0.25\n"
     ]
    }
   ],
   "source": [
    "# Score the model with X_test and y_test. \n",
    "# Include the confusion matrix and classification report in your result:\n",
    "\n",
    "y_pred = model.predict(X_test)\n",
    "\n",
    "score = recall_score(y_test, y_pred, pos_label=1)\n",
    "\n",
    "print(confusion_matrix(y_test, y_pred))\n",
    "\n",
    "print(classification_report(y_test, y_pred))\n",
    "\n",
    "print(score)"
   ]
  },
  {
   "cell_type": "code",
   "execution_count": 28,
   "id": "ab3c5008-b521-4a7e-8b72-31d54da1a3c9",
   "metadata": {},
   "outputs": [],
   "source": [
    "X_train, X_test, y_train, y_test = train_test_split(\n",
    "            X, y_recode, random_state=43)"
   ]
  },
  {
   "cell_type": "code",
   "execution_count": 29,
   "id": "f1584ba4-1f44-4614-abb0-12bb4042a8b1",
   "metadata": {},
   "outputs": [
    {
     "name": "stdout",
     "output_type": "stream",
     "text": [
      "(50, 3197)\n"
     ]
    },
    {
     "data": {
      "text/html": [
       "<div>\n",
       "<style scoped>\n",
       "    .dataframe tbody tr th:only-of-type {\n",
       "        vertical-align: middle;\n",
       "    }\n",
       "\n",
       "    .dataframe tbody tr th {\n",
       "        vertical-align: top;\n",
       "    }\n",
       "\n",
       "    .dataframe thead th {\n",
       "        text-align: right;\n",
       "    }\n",
       "</style>\n",
       "<table border=\"1\" class=\"dataframe\">\n",
       "  <thead>\n",
       "    <tr style=\"text-align: right;\">\n",
       "      <th></th>\n",
       "      <th>FLUX.1</th>\n",
       "      <th>FLUX.2</th>\n",
       "      <th>FLUX.3</th>\n",
       "      <th>FLUX.4</th>\n",
       "      <th>FLUX.5</th>\n",
       "      <th>FLUX.6</th>\n",
       "      <th>FLUX.7</th>\n",
       "      <th>FLUX.8</th>\n",
       "      <th>FLUX.9</th>\n",
       "      <th>FLUX.10</th>\n",
       "      <th>...</th>\n",
       "      <th>FLUX.3188</th>\n",
       "      <th>FLUX.3189</th>\n",
       "      <th>FLUX.3190</th>\n",
       "      <th>FLUX.3191</th>\n",
       "      <th>FLUX.3192</th>\n",
       "      <th>FLUX.3193</th>\n",
       "      <th>FLUX.3194</th>\n",
       "      <th>FLUX.3195</th>\n",
       "      <th>FLUX.3196</th>\n",
       "      <th>FLUX.3197</th>\n",
       "    </tr>\n",
       "  </thead>\n",
       "  <tbody>\n",
       "    <tr>\n",
       "      <th>218</th>\n",
       "      <td>14.97</td>\n",
       "      <td>9.48</td>\n",
       "      <td>12.85</td>\n",
       "      <td>7.83</td>\n",
       "      <td>0.35</td>\n",
       "      <td>4.21</td>\n",
       "      <td>11.07</td>\n",
       "      <td>1.85</td>\n",
       "      <td>1.48</td>\n",
       "      <td>3.63</td>\n",
       "      <td>...</td>\n",
       "      <td>-0.98</td>\n",
       "      <td>2.71</td>\n",
       "      <td>2.56</td>\n",
       "      <td>7.12</td>\n",
       "      <td>5.29</td>\n",
       "      <td>1.75</td>\n",
       "      <td>-2.03</td>\n",
       "      <td>-7.27</td>\n",
       "      <td>2.31</td>\n",
       "      <td>-7.42</td>\n",
       "    </tr>\n",
       "    <tr>\n",
       "      <th>268</th>\n",
       "      <td>-9.70</td>\n",
       "      <td>5.82</td>\n",
       "      <td>15.18</td>\n",
       "      <td>20.28</td>\n",
       "      <td>39.05</td>\n",
       "      <td>35.88</td>\n",
       "      <td>59.96</td>\n",
       "      <td>16.15</td>\n",
       "      <td>35.93</td>\n",
       "      <td>40.95</td>\n",
       "      <td>...</td>\n",
       "      <td>-15.52</td>\n",
       "      <td>-13.26</td>\n",
       "      <td>-21.34</td>\n",
       "      <td>-34.95</td>\n",
       "      <td>-19.45</td>\n",
       "      <td>15.29</td>\n",
       "      <td>7.10</td>\n",
       "      <td>1.25</td>\n",
       "      <td>6.39</td>\n",
       "      <td>7.31</td>\n",
       "    </tr>\n",
       "    <tr>\n",
       "      <th>168</th>\n",
       "      <td>1075.62</td>\n",
       "      <td>652.09</td>\n",
       "      <td>850.37</td>\n",
       "      <td>617.06</td>\n",
       "      <td>404.75</td>\n",
       "      <td>1062.78</td>\n",
       "      <td>767.65</td>\n",
       "      <td>1647.19</td>\n",
       "      <td>1615.12</td>\n",
       "      <td>1213.78</td>\n",
       "      <td>...</td>\n",
       "      <td>426.19</td>\n",
       "      <td>220.37</td>\n",
       "      <td>488.50</td>\n",
       "      <td>1042.84</td>\n",
       "      <td>841.31</td>\n",
       "      <td>1077.31</td>\n",
       "      <td>-1758.50</td>\n",
       "      <td>-1900.10</td>\n",
       "      <td>-1733.81</td>\n",
       "      <td>-1820.50</td>\n",
       "    </tr>\n",
       "    <tr>\n",
       "      <th>237</th>\n",
       "      <td>-5.25</td>\n",
       "      <td>-15.67</td>\n",
       "      <td>-17.51</td>\n",
       "      <td>-12.20</td>\n",
       "      <td>-12.26</td>\n",
       "      <td>-17.28</td>\n",
       "      <td>-6.17</td>\n",
       "      <td>-9.09</td>\n",
       "      <td>-6.08</td>\n",
       "      <td>-3.64</td>\n",
       "      <td>...</td>\n",
       "      <td>-6.22</td>\n",
       "      <td>-4.67</td>\n",
       "      <td>-1.75</td>\n",
       "      <td>-7.67</td>\n",
       "      <td>1.70</td>\n",
       "      <td>-4.37</td>\n",
       "      <td>-1.46</td>\n",
       "      <td>-1.11</td>\n",
       "      <td>5.57</td>\n",
       "      <td>-2.07</td>\n",
       "    </tr>\n",
       "    <tr>\n",
       "      <th>393</th>\n",
       "      <td>260.45</td>\n",
       "      <td>257.86</td>\n",
       "      <td>225.32</td>\n",
       "      <td>250.75</td>\n",
       "      <td>251.98</td>\n",
       "      <td>244.28</td>\n",
       "      <td>257.99</td>\n",
       "      <td>226.76</td>\n",
       "      <td>227.61</td>\n",
       "      <td>242.00</td>\n",
       "      <td>...</td>\n",
       "      <td>24.45</td>\n",
       "      <td>-10.74</td>\n",
       "      <td>15.36</td>\n",
       "      <td>40.47</td>\n",
       "      <td>46.17</td>\n",
       "      <td>33.85</td>\n",
       "      <td>71.53</td>\n",
       "      <td>79.37</td>\n",
       "      <td>63.71</td>\n",
       "      <td>44.58</td>\n",
       "    </tr>\n",
       "  </tbody>\n",
       "</table>\n",
       "<p>5 rows × 3197 columns</p>\n",
       "</div>"
      ],
      "text/plain": [
       "      FLUX.1  FLUX.2  FLUX.3  FLUX.4  FLUX.5   FLUX.6  FLUX.7   FLUX.8  \\\n",
       "218    14.97    9.48   12.85    7.83    0.35     4.21   11.07     1.85   \n",
       "268    -9.70    5.82   15.18   20.28   39.05    35.88   59.96    16.15   \n",
       "168  1075.62  652.09  850.37  617.06  404.75  1062.78  767.65  1647.19   \n",
       "237    -5.25  -15.67  -17.51  -12.20  -12.26   -17.28   -6.17    -9.09   \n",
       "393   260.45  257.86  225.32  250.75  251.98   244.28  257.99   226.76   \n",
       "\n",
       "      FLUX.9  FLUX.10  ...  FLUX.3188  FLUX.3189  FLUX.3190  FLUX.3191  \\\n",
       "218     1.48     3.63  ...      -0.98       2.71       2.56       7.12   \n",
       "268    35.93    40.95  ...     -15.52     -13.26     -21.34     -34.95   \n",
       "168  1615.12  1213.78  ...     426.19     220.37     488.50    1042.84   \n",
       "237    -6.08    -3.64  ...      -6.22      -4.67      -1.75      -7.67   \n",
       "393   227.61   242.00  ...      24.45     -10.74      15.36      40.47   \n",
       "\n",
       "     FLUX.3192  FLUX.3193  FLUX.3194  FLUX.3195  FLUX.3196  FLUX.3197  \n",
       "218       5.29       1.75      -2.03      -7.27       2.31      -7.42  \n",
       "268     -19.45      15.29       7.10       1.25       6.39       7.31  \n",
       "168     841.31    1077.31   -1758.50   -1900.10   -1733.81   -1820.50  \n",
       "237       1.70      -4.37      -1.46      -1.11       5.57      -2.07  \n",
       "393      46.17      33.85      71.53      79.37      63.71      44.58  \n",
       "\n",
       "[5 rows x 3197 columns]"
      ]
     },
     "execution_count": 29,
     "metadata": {},
     "output_type": "execute_result"
    }
   ],
   "source": [
    "under_sampler = RandomUnderSampler(random_state=43)\n",
    "X_train_under, y_train_under = under_sampler.fit_resample(X_train, y_train)\n",
    "print(X_train_under.shape)\n",
    "X_train_under.head()"
   ]
  },
  {
   "cell_type": "code",
   "execution_count": 30,
   "id": "b30dea32-35eb-483c-beb5-69971b44df43",
   "metadata": {},
   "outputs": [
    {
     "data": {
      "text/plain": [
       "LABEL\n",
       "0    0.5\n",
       "1    0.5\n",
       "Name: proportion, dtype: float64"
      ]
     },
     "execution_count": 30,
     "metadata": {},
     "output_type": "execute_result"
    }
   ],
   "source": [
    "y_train_under.value_counts(normalize=True)"
   ]
  },
  {
   "cell_type": "code",
   "execution_count": 31,
   "id": "f4081b8e-bfa2-4756-8447-f9417150912f",
   "metadata": {},
   "outputs": [
    {
     "name": "stdout",
     "output_type": "stream",
     "text": [
      "(550, 3197)\n"
     ]
    },
    {
     "data": {
      "text/plain": [
       "LABEL\n",
       "0    0.5\n",
       "1    0.5\n",
       "Name: proportion, dtype: float64"
      ]
     },
     "execution_count": 31,
     "metadata": {},
     "output_type": "execute_result"
    }
   ],
   "source": [
    "over_sampler = RandomOverSampler(random_state=42)\n",
    "X_train_over, y_train_over = over_sampler.fit_resample(X_train, y_train)\n",
    "print(X_train_over.shape)\n",
    "y_train_over.value_counts(normalize=True)"
   ]
  },
  {
   "cell_type": "code",
   "execution_count": 32,
   "id": "ce96d06a-e92b-40ab-9351-5400386d49a7",
   "metadata": {},
   "outputs": [
    {
     "data": {
      "text/html": [
       "<style>#sk-container-id-2 {color: black;}#sk-container-id-2 pre{padding: 0;}#sk-container-id-2 div.sk-toggleable {background-color: white;}#sk-container-id-2 label.sk-toggleable__label {cursor: pointer;display: block;width: 100%;margin-bottom: 0;padding: 0.3em;box-sizing: border-box;text-align: center;}#sk-container-id-2 label.sk-toggleable__label-arrow:before {content: \"▸\";float: left;margin-right: 0.25em;color: #696969;}#sk-container-id-2 label.sk-toggleable__label-arrow:hover:before {color: black;}#sk-container-id-2 div.sk-estimator:hover label.sk-toggleable__label-arrow:before {color: black;}#sk-container-id-2 div.sk-toggleable__content {max-height: 0;max-width: 0;overflow: hidden;text-align: left;background-color: #f0f8ff;}#sk-container-id-2 div.sk-toggleable__content pre {margin: 0.2em;color: black;border-radius: 0.25em;background-color: #f0f8ff;}#sk-container-id-2 input.sk-toggleable__control:checked~div.sk-toggleable__content {max-height: 200px;max-width: 100%;overflow: auto;}#sk-container-id-2 input.sk-toggleable__control:checked~label.sk-toggleable__label-arrow:before {content: \"▾\";}#sk-container-id-2 div.sk-estimator input.sk-toggleable__control:checked~label.sk-toggleable__label {background-color: #d4ebff;}#sk-container-id-2 div.sk-label input.sk-toggleable__control:checked~label.sk-toggleable__label {background-color: #d4ebff;}#sk-container-id-2 input.sk-hidden--visually {border: 0;clip: rect(1px 1px 1px 1px);clip: rect(1px, 1px, 1px, 1px);height: 1px;margin: -1px;overflow: hidden;padding: 0;position: absolute;width: 1px;}#sk-container-id-2 div.sk-estimator {font-family: monospace;background-color: #f0f8ff;border: 1px dotted black;border-radius: 0.25em;box-sizing: border-box;margin-bottom: 0.5em;}#sk-container-id-2 div.sk-estimator:hover {background-color: #d4ebff;}#sk-container-id-2 div.sk-parallel-item::after {content: \"\";width: 100%;border-bottom: 1px solid gray;flex-grow: 1;}#sk-container-id-2 div.sk-label:hover label.sk-toggleable__label {background-color: #d4ebff;}#sk-container-id-2 div.sk-serial::before {content: \"\";position: absolute;border-left: 1px solid gray;box-sizing: border-box;top: 0;bottom: 0;left: 50%;z-index: 0;}#sk-container-id-2 div.sk-serial {display: flex;flex-direction: column;align-items: center;background-color: white;padding-right: 0.2em;padding-left: 0.2em;position: relative;}#sk-container-id-2 div.sk-item {position: relative;z-index: 1;}#sk-container-id-2 div.sk-parallel {display: flex;align-items: stretch;justify-content: center;background-color: white;position: relative;}#sk-container-id-2 div.sk-item::before, #sk-container-id-2 div.sk-parallel-item::before {content: \"\";position: absolute;border-left: 1px solid gray;box-sizing: border-box;top: 0;bottom: 0;left: 50%;z-index: -1;}#sk-container-id-2 div.sk-parallel-item {display: flex;flex-direction: column;z-index: 1;position: relative;background-color: white;}#sk-container-id-2 div.sk-parallel-item:first-child::after {align-self: flex-end;width: 50%;}#sk-container-id-2 div.sk-parallel-item:last-child::after {align-self: flex-start;width: 50%;}#sk-container-id-2 div.sk-parallel-item:only-child::after {width: 0;}#sk-container-id-2 div.sk-dashed-wrapped {border: 1px dashed gray;margin: 0 0.4em 0.5em 0.4em;box-sizing: border-box;padding-bottom: 0.4em;background-color: white;}#sk-container-id-2 div.sk-label label {font-family: monospace;font-weight: bold;display: inline-block;line-height: 1.2em;}#sk-container-id-2 div.sk-label-container {text-align: center;}#sk-container-id-2 div.sk-container {/* jupyter's `normalize.less` sets `[hidden] { display: none; }` but bootstrap.min.css set `[hidden] { display: none !important; }` so we also need the `!important` here to be able to override the default hidden behavior on the sphinx rendered scikit-learn.org. See: https://github.com/scikit-learn/scikit-learn/issues/21755 */display: inline-block !important;position: relative;}#sk-container-id-2 div.sk-text-repr-fallback {display: none;}</style><div id=\"sk-container-id-2\" class=\"sk-top-container\"><div class=\"sk-text-repr-fallback\"><pre>XGBClassifier(base_score=None, booster=None, callbacks=None,\n",
       "              colsample_bylevel=None, colsample_bynode=None,\n",
       "              colsample_bytree=None, early_stopping_rounds=None,\n",
       "              enable_categorical=False, eval_metric=None, feature_types=None,\n",
       "              gamma=None, gpu_id=None, grow_policy=None, importance_type=None,\n",
       "              interaction_constraints=None, learning_rate=None, max_bin=None,\n",
       "              max_cat_threshold=None, max_cat_to_onehot=None,\n",
       "              max_delta_step=None, max_depth=None, max_leaves=None,\n",
       "              min_child_weight=None, missing=nan, monotone_constraints=None,\n",
       "              n_estimators=100, n_jobs=None, num_parallel_tree=None,\n",
       "              predictor=None, random_state=43, ...)</pre><b>In a Jupyter environment, please rerun this cell to show the HTML representation or trust the notebook. <br />On GitHub, the HTML representation is unable to render, please try loading this page with nbviewer.org.</b></div><div class=\"sk-container\" hidden><div class=\"sk-item\"><div class=\"sk-estimator sk-toggleable\"><input class=\"sk-toggleable__control sk-hidden--visually\" id=\"sk-estimator-id-2\" type=\"checkbox\" checked><label for=\"sk-estimator-id-2\" class=\"sk-toggleable__label sk-toggleable__label-arrow\">XGBClassifier</label><div class=\"sk-toggleable__content\"><pre>XGBClassifier(base_score=None, booster=None, callbacks=None,\n",
       "              colsample_bylevel=None, colsample_bynode=None,\n",
       "              colsample_bytree=None, early_stopping_rounds=None,\n",
       "              enable_categorical=False, eval_metric=None, feature_types=None,\n",
       "              gamma=None, gpu_id=None, grow_policy=None, importance_type=None,\n",
       "              interaction_constraints=None, learning_rate=None, max_bin=None,\n",
       "              max_cat_threshold=None, max_cat_to_onehot=None,\n",
       "              max_delta_step=None, max_depth=None, max_leaves=None,\n",
       "              min_child_weight=None, missing=nan, monotone_constraints=None,\n",
       "              n_estimators=100, n_jobs=None, num_parallel_tree=None,\n",
       "              predictor=None, random_state=43, ...)</pre></div></div></div></div></div>"
      ],
      "text/plain": [
       "XGBClassifier(base_score=None, booster=None, callbacks=None,\n",
       "              colsample_bylevel=None, colsample_bynode=None,\n",
       "              colsample_bytree=None, early_stopping_rounds=None,\n",
       "              enable_categorical=False, eval_metric=None, feature_types=None,\n",
       "              gamma=None, gpu_id=None, grow_policy=None, importance_type=None,\n",
       "              interaction_constraints=None, learning_rate=None, max_bin=None,\n",
       "              max_cat_threshold=None, max_cat_to_onehot=None,\n",
       "              max_delta_step=None, max_depth=None, max_leaves=None,\n",
       "              min_child_weight=None, missing=nan, monotone_constraints=None,\n",
       "              n_estimators=100, n_jobs=None, num_parallel_tree=None,\n",
       "              predictor=None, random_state=43, ...)"
      ]
     },
     "execution_count": 32,
     "metadata": {},
     "output_type": "execute_result"
    }
   ],
   "source": [
    "# Fit on `X_train`, `y_train`\n",
    "xgbc_reg = XGBClassifier(random_state=43)\n",
    "\n",
    "xgbc_reg.fit(X_train, y_train)"
   ]
  },
  {
   "cell_type": "code",
   "execution_count": 33,
   "id": "17cd8060-2458-4ad1-98f7-72bac9f1e673",
   "metadata": {},
   "outputs": [
    {
     "data": {
      "text/html": [
       "<style>#sk-container-id-3 {color: black;}#sk-container-id-3 pre{padding: 0;}#sk-container-id-3 div.sk-toggleable {background-color: white;}#sk-container-id-3 label.sk-toggleable__label {cursor: pointer;display: block;width: 100%;margin-bottom: 0;padding: 0.3em;box-sizing: border-box;text-align: center;}#sk-container-id-3 label.sk-toggleable__label-arrow:before {content: \"▸\";float: left;margin-right: 0.25em;color: #696969;}#sk-container-id-3 label.sk-toggleable__label-arrow:hover:before {color: black;}#sk-container-id-3 div.sk-estimator:hover label.sk-toggleable__label-arrow:before {color: black;}#sk-container-id-3 div.sk-toggleable__content {max-height: 0;max-width: 0;overflow: hidden;text-align: left;background-color: #f0f8ff;}#sk-container-id-3 div.sk-toggleable__content pre {margin: 0.2em;color: black;border-radius: 0.25em;background-color: #f0f8ff;}#sk-container-id-3 input.sk-toggleable__control:checked~div.sk-toggleable__content {max-height: 200px;max-width: 100%;overflow: auto;}#sk-container-id-3 input.sk-toggleable__control:checked~label.sk-toggleable__label-arrow:before {content: \"▾\";}#sk-container-id-3 div.sk-estimator input.sk-toggleable__control:checked~label.sk-toggleable__label {background-color: #d4ebff;}#sk-container-id-3 div.sk-label input.sk-toggleable__control:checked~label.sk-toggleable__label {background-color: #d4ebff;}#sk-container-id-3 input.sk-hidden--visually {border: 0;clip: rect(1px 1px 1px 1px);clip: rect(1px, 1px, 1px, 1px);height: 1px;margin: -1px;overflow: hidden;padding: 0;position: absolute;width: 1px;}#sk-container-id-3 div.sk-estimator {font-family: monospace;background-color: #f0f8ff;border: 1px dotted black;border-radius: 0.25em;box-sizing: border-box;margin-bottom: 0.5em;}#sk-container-id-3 div.sk-estimator:hover {background-color: #d4ebff;}#sk-container-id-3 div.sk-parallel-item::after {content: \"\";width: 100%;border-bottom: 1px solid gray;flex-grow: 1;}#sk-container-id-3 div.sk-label:hover label.sk-toggleable__label {background-color: #d4ebff;}#sk-container-id-3 div.sk-serial::before {content: \"\";position: absolute;border-left: 1px solid gray;box-sizing: border-box;top: 0;bottom: 0;left: 50%;z-index: 0;}#sk-container-id-3 div.sk-serial {display: flex;flex-direction: column;align-items: center;background-color: white;padding-right: 0.2em;padding-left: 0.2em;position: relative;}#sk-container-id-3 div.sk-item {position: relative;z-index: 1;}#sk-container-id-3 div.sk-parallel {display: flex;align-items: stretch;justify-content: center;background-color: white;position: relative;}#sk-container-id-3 div.sk-item::before, #sk-container-id-3 div.sk-parallel-item::before {content: \"\";position: absolute;border-left: 1px solid gray;box-sizing: border-box;top: 0;bottom: 0;left: 50%;z-index: -1;}#sk-container-id-3 div.sk-parallel-item {display: flex;flex-direction: column;z-index: 1;position: relative;background-color: white;}#sk-container-id-3 div.sk-parallel-item:first-child::after {align-self: flex-end;width: 50%;}#sk-container-id-3 div.sk-parallel-item:last-child::after {align-self: flex-start;width: 50%;}#sk-container-id-3 div.sk-parallel-item:only-child::after {width: 0;}#sk-container-id-3 div.sk-dashed-wrapped {border: 1px dashed gray;margin: 0 0.4em 0.5em 0.4em;box-sizing: border-box;padding-bottom: 0.4em;background-color: white;}#sk-container-id-3 div.sk-label label {font-family: monospace;font-weight: bold;display: inline-block;line-height: 1.2em;}#sk-container-id-3 div.sk-label-container {text-align: center;}#sk-container-id-3 div.sk-container {/* jupyter's `normalize.less` sets `[hidden] { display: none; }` but bootstrap.min.css set `[hidden] { display: none !important; }` so we also need the `!important` here to be able to override the default hidden behavior on the sphinx rendered scikit-learn.org. See: https://github.com/scikit-learn/scikit-learn/issues/21755 */display: inline-block !important;position: relative;}#sk-container-id-3 div.sk-text-repr-fallback {display: none;}</style><div id=\"sk-container-id-3\" class=\"sk-top-container\"><div class=\"sk-text-repr-fallback\"><pre>XGBClassifier(base_score=None, booster=None, callbacks=None,\n",
       "              colsample_bylevel=None, colsample_bynode=None,\n",
       "              colsample_bytree=None, early_stopping_rounds=None,\n",
       "              enable_categorical=False, eval_metric=None, feature_types=None,\n",
       "              gamma=None, gpu_id=None, grow_policy=None, importance_type=None,\n",
       "              interaction_constraints=None, learning_rate=None, max_bin=None,\n",
       "              max_cat_threshold=None, max_cat_to_onehot=None,\n",
       "              max_delta_step=None, max_depth=None, max_leaves=None,\n",
       "              min_child_weight=None, missing=nan, monotone_constraints=None,\n",
       "              n_estimators=100, n_jobs=None, num_parallel_tree=None,\n",
       "              predictor=None, random_state=43, ...)</pre><b>In a Jupyter environment, please rerun this cell to show the HTML representation or trust the notebook. <br />On GitHub, the HTML representation is unable to render, please try loading this page with nbviewer.org.</b></div><div class=\"sk-container\" hidden><div class=\"sk-item\"><div class=\"sk-estimator sk-toggleable\"><input class=\"sk-toggleable__control sk-hidden--visually\" id=\"sk-estimator-id-3\" type=\"checkbox\" checked><label for=\"sk-estimator-id-3\" class=\"sk-toggleable__label sk-toggleable__label-arrow\">XGBClassifier</label><div class=\"sk-toggleable__content\"><pre>XGBClassifier(base_score=None, booster=None, callbacks=None,\n",
       "              colsample_bylevel=None, colsample_bynode=None,\n",
       "              colsample_bytree=None, early_stopping_rounds=None,\n",
       "              enable_categorical=False, eval_metric=None, feature_types=None,\n",
       "              gamma=None, gpu_id=None, grow_policy=None, importance_type=None,\n",
       "              interaction_constraints=None, learning_rate=None, max_bin=None,\n",
       "              max_cat_threshold=None, max_cat_to_onehot=None,\n",
       "              max_delta_step=None, max_depth=None, max_leaves=None,\n",
       "              min_child_weight=None, missing=nan, monotone_constraints=None,\n",
       "              n_estimators=100, n_jobs=None, num_parallel_tree=None,\n",
       "              predictor=None, random_state=43, ...)</pre></div></div></div></div></div>"
      ],
      "text/plain": [
       "XGBClassifier(base_score=None, booster=None, callbacks=None,\n",
       "              colsample_bylevel=None, colsample_bynode=None,\n",
       "              colsample_bytree=None, early_stopping_rounds=None,\n",
       "              enable_categorical=False, eval_metric=None, feature_types=None,\n",
       "              gamma=None, gpu_id=None, grow_policy=None, importance_type=None,\n",
       "              interaction_constraints=None, learning_rate=None, max_bin=None,\n",
       "              max_cat_threshold=None, max_cat_to_onehot=None,\n",
       "              max_delta_step=None, max_depth=None, max_leaves=None,\n",
       "              min_child_weight=None, missing=nan, monotone_constraints=None,\n",
       "              n_estimators=100, n_jobs=None, num_parallel_tree=None,\n",
       "              predictor=None, random_state=43, ...)"
      ]
     },
     "execution_count": 33,
     "metadata": {},
     "output_type": "execute_result"
    }
   ],
   "source": [
    "# Fit on `X_train_under`, `y_train_under`\n",
    "xgbc_under = XGBClassifier(random_state=43)\n",
    "\n",
    "xgbc_under.fit(X_train_under, y_train_under)"
   ]
  },
  {
   "cell_type": "code",
   "execution_count": 34,
   "id": "8a9357cf-798f-4da7-85ea-34ed5f2f6fb0",
   "metadata": {},
   "outputs": [
    {
     "data": {
      "text/html": [
       "<style>#sk-container-id-4 {color: black;}#sk-container-id-4 pre{padding: 0;}#sk-container-id-4 div.sk-toggleable {background-color: white;}#sk-container-id-4 label.sk-toggleable__label {cursor: pointer;display: block;width: 100%;margin-bottom: 0;padding: 0.3em;box-sizing: border-box;text-align: center;}#sk-container-id-4 label.sk-toggleable__label-arrow:before {content: \"▸\";float: left;margin-right: 0.25em;color: #696969;}#sk-container-id-4 label.sk-toggleable__label-arrow:hover:before {color: black;}#sk-container-id-4 div.sk-estimator:hover label.sk-toggleable__label-arrow:before {color: black;}#sk-container-id-4 div.sk-toggleable__content {max-height: 0;max-width: 0;overflow: hidden;text-align: left;background-color: #f0f8ff;}#sk-container-id-4 div.sk-toggleable__content pre {margin: 0.2em;color: black;border-radius: 0.25em;background-color: #f0f8ff;}#sk-container-id-4 input.sk-toggleable__control:checked~div.sk-toggleable__content {max-height: 200px;max-width: 100%;overflow: auto;}#sk-container-id-4 input.sk-toggleable__control:checked~label.sk-toggleable__label-arrow:before {content: \"▾\";}#sk-container-id-4 div.sk-estimator input.sk-toggleable__control:checked~label.sk-toggleable__label {background-color: #d4ebff;}#sk-container-id-4 div.sk-label input.sk-toggleable__control:checked~label.sk-toggleable__label {background-color: #d4ebff;}#sk-container-id-4 input.sk-hidden--visually {border: 0;clip: rect(1px 1px 1px 1px);clip: rect(1px, 1px, 1px, 1px);height: 1px;margin: -1px;overflow: hidden;padding: 0;position: absolute;width: 1px;}#sk-container-id-4 div.sk-estimator {font-family: monospace;background-color: #f0f8ff;border: 1px dotted black;border-radius: 0.25em;box-sizing: border-box;margin-bottom: 0.5em;}#sk-container-id-4 div.sk-estimator:hover {background-color: #d4ebff;}#sk-container-id-4 div.sk-parallel-item::after {content: \"\";width: 100%;border-bottom: 1px solid gray;flex-grow: 1;}#sk-container-id-4 div.sk-label:hover label.sk-toggleable__label {background-color: #d4ebff;}#sk-container-id-4 div.sk-serial::before {content: \"\";position: absolute;border-left: 1px solid gray;box-sizing: border-box;top: 0;bottom: 0;left: 50%;z-index: 0;}#sk-container-id-4 div.sk-serial {display: flex;flex-direction: column;align-items: center;background-color: white;padding-right: 0.2em;padding-left: 0.2em;position: relative;}#sk-container-id-4 div.sk-item {position: relative;z-index: 1;}#sk-container-id-4 div.sk-parallel {display: flex;align-items: stretch;justify-content: center;background-color: white;position: relative;}#sk-container-id-4 div.sk-item::before, #sk-container-id-4 div.sk-parallel-item::before {content: \"\";position: absolute;border-left: 1px solid gray;box-sizing: border-box;top: 0;bottom: 0;left: 50%;z-index: -1;}#sk-container-id-4 div.sk-parallel-item {display: flex;flex-direction: column;z-index: 1;position: relative;background-color: white;}#sk-container-id-4 div.sk-parallel-item:first-child::after {align-self: flex-end;width: 50%;}#sk-container-id-4 div.sk-parallel-item:last-child::after {align-self: flex-start;width: 50%;}#sk-container-id-4 div.sk-parallel-item:only-child::after {width: 0;}#sk-container-id-4 div.sk-dashed-wrapped {border: 1px dashed gray;margin: 0 0.4em 0.5em 0.4em;box-sizing: border-box;padding-bottom: 0.4em;background-color: white;}#sk-container-id-4 div.sk-label label {font-family: monospace;font-weight: bold;display: inline-block;line-height: 1.2em;}#sk-container-id-4 div.sk-label-container {text-align: center;}#sk-container-id-4 div.sk-container {/* jupyter's `normalize.less` sets `[hidden] { display: none; }` but bootstrap.min.css set `[hidden] { display: none !important; }` so we also need the `!important` here to be able to override the default hidden behavior on the sphinx rendered scikit-learn.org. See: https://github.com/scikit-learn/scikit-learn/issues/21755 */display: inline-block !important;position: relative;}#sk-container-id-4 div.sk-text-repr-fallback {display: none;}</style><div id=\"sk-container-id-4\" class=\"sk-top-container\"><div class=\"sk-text-repr-fallback\"><pre>XGBClassifier(base_score=None, booster=None, callbacks=None,\n",
       "              colsample_bylevel=None, colsample_bynode=None,\n",
       "              colsample_bytree=None, early_stopping_rounds=None,\n",
       "              enable_categorical=False, eval_metric=None, feature_types=None,\n",
       "              gamma=None, gpu_id=None, grow_policy=None, importance_type=None,\n",
       "              interaction_constraints=None, learning_rate=None, max_bin=None,\n",
       "              max_cat_threshold=None, max_cat_to_onehot=None,\n",
       "              max_delta_step=None, max_depth=None, max_leaves=None,\n",
       "              min_child_weight=None, missing=nan, monotone_constraints=None,\n",
       "              n_estimators=100, n_jobs=None, num_parallel_tree=None,\n",
       "              predictor=None, random_state=43, ...)</pre><b>In a Jupyter environment, please rerun this cell to show the HTML representation or trust the notebook. <br />On GitHub, the HTML representation is unable to render, please try loading this page with nbviewer.org.</b></div><div class=\"sk-container\" hidden><div class=\"sk-item\"><div class=\"sk-estimator sk-toggleable\"><input class=\"sk-toggleable__control sk-hidden--visually\" id=\"sk-estimator-id-4\" type=\"checkbox\" checked><label for=\"sk-estimator-id-4\" class=\"sk-toggleable__label sk-toggleable__label-arrow\">XGBClassifier</label><div class=\"sk-toggleable__content\"><pre>XGBClassifier(base_score=None, booster=None, callbacks=None,\n",
       "              colsample_bylevel=None, colsample_bynode=None,\n",
       "              colsample_bytree=None, early_stopping_rounds=None,\n",
       "              enable_categorical=False, eval_metric=None, feature_types=None,\n",
       "              gamma=None, gpu_id=None, grow_policy=None, importance_type=None,\n",
       "              interaction_constraints=None, learning_rate=None, max_bin=None,\n",
       "              max_cat_threshold=None, max_cat_to_onehot=None,\n",
       "              max_delta_step=None, max_depth=None, max_leaves=None,\n",
       "              min_child_weight=None, missing=nan, monotone_constraints=None,\n",
       "              n_estimators=100, n_jobs=None, num_parallel_tree=None,\n",
       "              predictor=None, random_state=43, ...)</pre></div></div></div></div></div>"
      ],
      "text/plain": [
       "XGBClassifier(base_score=None, booster=None, callbacks=None,\n",
       "              colsample_bylevel=None, colsample_bynode=None,\n",
       "              colsample_bytree=None, early_stopping_rounds=None,\n",
       "              enable_categorical=False, eval_metric=None, feature_types=None,\n",
       "              gamma=None, gpu_id=None, grow_policy=None, importance_type=None,\n",
       "              interaction_constraints=None, learning_rate=None, max_bin=None,\n",
       "              max_cat_threshold=None, max_cat_to_onehot=None,\n",
       "              max_delta_step=None, max_depth=None, max_leaves=None,\n",
       "              min_child_weight=None, missing=nan, monotone_constraints=None,\n",
       "              n_estimators=100, n_jobs=None, num_parallel_tree=None,\n",
       "              predictor=None, random_state=43, ...)"
      ]
     },
     "execution_count": 34,
     "metadata": {},
     "output_type": "execute_result"
    }
   ],
   "source": [
    "# Fit on `X_train_over`, `y_train_over`\n",
    "xgbc_over = XGBClassifier(random_state=43)\n",
    "xgbc_over.fit(X_train_over, y_train_over)"
   ]
  },
  {
   "cell_type": "code",
   "execution_count": 35,
   "id": "1fdf21e3-e069-4b0e-b65c-289ed36ff223",
   "metadata": {},
   "outputs": [
    {
     "name": "stdout",
     "output_type": "stream",
     "text": [
      "Training Recall: 1.0000\n",
      "Test Recall: 0.2500\n",
      "Training Recall: 1.0000\n",
      "Test Recall: 0.5000\n",
      "Training Recall: 1.0000\n",
      "Test Recall: 0.2500\n"
     ]
    }
   ],
   "source": [
    "for m in [xgbc_reg, xgbc_under, xgbc_over]:\n",
    "    y_train_pred = m.predict(X_train)\n",
    "    y_test_pred = m.predict(X_test)\n",
    "    \n",
    "    recall_train = recall_score(y_train, y_train_pred)\n",
    "    recall_test = recall_score(y_test, y_test_pred)\n",
    "    \n",
    "    #print(m)\n",
    "    print(f\"Training Recall: {recall_train:.4f}\")\n",
    "    print(f\"Test Recall: {recall_test:.4f}\")"
   ]
  },
  {
   "cell_type": "code",
   "execution_count": 36,
   "id": "0a1e3ab9-2419-45c6-8ed8-95f52e65e9d9",
   "metadata": {},
   "outputs": [
    {
     "data": {
      "image/png": "[encoded data removed]",
      "text/plain": [
       "<Figure size 640x480 with 2 Axes>"
      ]
     },
     "metadata": {},
     "output_type": "display_data"
    }
   ],
   "source": [
    "# Plot confusion matrix\n",
    "ConfusionMatrixDisplay.from_estimator(xgbc_reg, X_test, y_test);"
   ]
  },
  {
   "cell_type": "code",
   "execution_count": 37,
   "id": "ad42c0eb-6e8f-4500-ac9a-6b9a9ab54427",
   "metadata": {},
   "outputs": [
    {
     "data": {
      "image/png": "[encoded data removed]",
      "text/plain": [
       "<Figure size 640x480 with 2 Axes>"
      ]
     },
     "metadata": {},
     "output_type": "display_data"
    }
   ],
   "source": [
    "# Plot confusion matrix\n",
    "ConfusionMatrixDisplay.from_estimator(xgbc_under, X_test, y_test);"
   ]
  },
  {
   "cell_type": "code",
   "execution_count": 38,
   "id": "c9c71304-951c-4ba4-82c1-d81569fbbc40",
   "metadata": {},
   "outputs": [
    {
     "data": {
      "image/png": "[encoded data removed]",
      "text/plain": [
       "<Figure size 640x480 with 2 Axes>"
      ]
     },
     "metadata": {},
     "output_type": "display_data"
    }
   ],
   "source": [
    "# Plot confusion matrix\n",
    "ConfusionMatrixDisplay.from_estimator(xgbc_over, X_test, y_test);"
   ]
  },
  {
   "cell_type": "markdown",
   "id": "b4f09992-c227-41d9-b38d-3ff959927e5b",
   "metadata": {},
   "source": [
    "### Tuning and scaling XGBClassifier\n",
    "In this section, we will fine-tune and scale XGBClassifier to obtain the best possible recall_score value for the Exoplanets dataset. First, you will adjust weights using scale_pos_weight, then you will run grid searches to find the best combination of hyperparameters. In addition, you will score models for different subsets of the data before consolidating and analyzing the results."
   ]
  },
  {
   "cell_type": "code",
   "execution_count": 39,
   "id": "a687b590-9c1b-4b67-a6ac-f93833004d4e",
   "metadata": {},
   "outputs": [
    {
     "name": "stdout",
     "output_type": "stream",
     "text": [
      "[[87  1]\n",
      " [ 9  3]]\n",
      "              precision    recall  f1-score   support\n",
      "\n",
      "           0       0.91      0.99      0.95        88\n",
      "           1       0.75      0.25      0.38        12\n",
      "\n",
      "    accuracy                           0.90       100\n",
      "   macro avg       0.83      0.62      0.66       100\n",
      "weighted avg       0.89      0.90      0.88       100\n",
      "\n",
      "0.25\n"
     ]
    }
   ],
   "source": [
    "model = XGBClassifier(scale_pos_weight=10, random_state=43)\n",
    "\n",
    "model.fit(X_train, y_train)\n",
    "\n",
    "y_pred = model.predict(X_test)\n",
    "\n",
    "score = recall_score(y_test, y_pred)\n",
    "\n",
    "print(confusion_matrix(y_test, y_pred))\n",
    "\n",
    "print(classification_report(y_test, y_pred))\n",
    "\n",
    "print(score)"
   ]
  },
  {
   "cell_type": "markdown",
   "id": "15fff978-5732-454e-921a-55938451a66e",
   "metadata": {},
   "source": [
    "The results are the same as our resampling method from the previous section.\n",
    "\n",
    "The oversampling method that we implemented from scratch gives the same predictions as XGBClassifier with `scale_pos_weight`.\n",
    "\n",
    "---\n",
    "\n",
    "We will now embark on a computational experiment to discern if the meticulous adjustment of hyperparameters elevates the precision of our predictive model.\n",
    "\n",
    "## The Method: Systematic and Stochastic Searches\n",
    "\n",
    "In the spirit of systematic inquiry, we employ the structured strategy of `GridSearchCV` alongside the serendipitous explorations of `RandomizedSearchCV`. These methods are the dual pathways to fine-tuning, requiring the careful validation through cross-examination of data across multiple folds—a step we have not yet traversed. Our journey has been unhurried, as our initial computational models did not exude the robustness we desired, and the expansive computational landscape of large datasets makes such multiple-fold testing a venture of significant resource expenditure.\n",
    "\n",
    "## Charting a Balanced Course\n",
    "\n",
    "With a nod to pragmatism, we shall steer a course that marries efficiency with efficacy: a two-fold cross-validation scheme that conserves time without unduly sacrificing the integrity of our results. In doing so, we heed the counsel of Chapter 6, where the `StratifiedKFold` is the chosen compass, guiding us toward consistent and reliable shores. Thus, armed with this balanced strategy, we prepare to set sail with our baseline model, charting a course toward the yet-unmapped territories of model precision."
   ]
  },
  {
   "cell_type": "code",
   "execution_count": 40,
   "id": "b70f4e96-95eb-4508-8a0f-e01360f55cc4",
   "metadata": {},
   "outputs": [
    {
     "name": "stdout",
     "output_type": "stream",
     "text": [
      "Recall: [0.10526316 0.11111111]\n",
      "Recall mean: 0.10818713450292397\n"
     ]
    }
   ],
   "source": [
    "kfold = StratifiedKFold(n_splits=2, shuffle=True, random_state=43)\n",
    "model = XGBClassifier(scale_pos_weight=10, random_state=43)\n",
    "\n",
    "scores = cross_val_score(model, X, y_recode, cv=kfold, scoring='recall')\n",
    "\n",
    "print(f'Recall: {scores}')\n",
    "\n",
    "print(f'Recall mean: {scores.mean()}')"
   ]
  },
  {
   "cell_type": "markdown",
   "id": "1af4dc30-b061-4be7-a262-b1e978c70256",
   "metadata": {},
   "source": [
    "`grid_search`\n",
    "\n",
    "In our `helper_file` we already have a function that does the grid search thingy. It requires a complete dataframe and since XGBoost requires the target to have [0, 1], we will merge the `X` and `y_recode` into a new dataframe, then we pass that into the function."
   ]
  },
  {
   "cell_type": "code",
   "execution_count": 41,
   "id": "2314fe7e-46ac-42c7-b770-406996ee9553",
   "metadata": {},
   "outputs": [
    {
     "data": {
      "text/html": [
       "<div>\n",
       "<style scoped>\n",
       "    .dataframe tbody tr th:only-of-type {\n",
       "        vertical-align: middle;\n",
       "    }\n",
       "\n",
       "    .dataframe tbody tr th {\n",
       "        vertical-align: top;\n",
       "    }\n",
       "\n",
       "    .dataframe thead th {\n",
       "        text-align: right;\n",
       "    }\n",
       "</style>\n",
       "<table border=\"1\" class=\"dataframe\">\n",
       "  <thead>\n",
       "    <tr style=\"text-align: right;\">\n",
       "      <th></th>\n",
       "      <th>LABEL</th>\n",
       "      <th>FLUX.1</th>\n",
       "      <th>FLUX.2</th>\n",
       "      <th>FLUX.3</th>\n",
       "      <th>FLUX.4</th>\n",
       "      <th>FLUX.5</th>\n",
       "      <th>FLUX.6</th>\n",
       "      <th>FLUX.7</th>\n",
       "      <th>FLUX.8</th>\n",
       "      <th>FLUX.9</th>\n",
       "      <th>...</th>\n",
       "      <th>FLUX.3188</th>\n",
       "      <th>FLUX.3189</th>\n",
       "      <th>FLUX.3190</th>\n",
       "      <th>FLUX.3191</th>\n",
       "      <th>FLUX.3192</th>\n",
       "      <th>FLUX.3193</th>\n",
       "      <th>FLUX.3194</th>\n",
       "      <th>FLUX.3195</th>\n",
       "      <th>FLUX.3196</th>\n",
       "      <th>FLUX.3197</th>\n",
       "    </tr>\n",
       "  </thead>\n",
       "  <tbody>\n",
       "    <tr>\n",
       "      <th>55</th>\n",
       "      <td>0</td>\n",
       "      <td>247.83</td>\n",
       "      <td>173.35</td>\n",
       "      <td>191.67</td>\n",
       "      <td>169.51</td>\n",
       "      <td>97.43</td>\n",
       "      <td>158.84</td>\n",
       "      <td>138.74</td>\n",
       "      <td>165.53</td>\n",
       "      <td>100.79</td>\n",
       "      <td>...</td>\n",
       "      <td>-25.33</td>\n",
       "      <td>-123.41</td>\n",
       "      <td>-69.55</td>\n",
       "      <td>-24.53</td>\n",
       "      <td>-65.98</td>\n",
       "      <td>-15.65</td>\n",
       "      <td>64.76</td>\n",
       "      <td>26.53</td>\n",
       "      <td>25.25</td>\n",
       "      <td>39.77</td>\n",
       "    </tr>\n",
       "    <tr>\n",
       "      <th>271</th>\n",
       "      <td>0</td>\n",
       "      <td>-3.93</td>\n",
       "      <td>3.78</td>\n",
       "      <td>13.18</td>\n",
       "      <td>1.41</td>\n",
       "      <td>1.70</td>\n",
       "      <td>-8.71</td>\n",
       "      <td>7.50</td>\n",
       "      <td>-2.77</td>\n",
       "      <td>-6.80</td>\n",
       "      <td>...</td>\n",
       "      <td>-2.87</td>\n",
       "      <td>4.29</td>\n",
       "      <td>-5.92</td>\n",
       "      <td>-10.97</td>\n",
       "      <td>0.49</td>\n",
       "      <td>0.73</td>\n",
       "      <td>8.06</td>\n",
       "      <td>-7.26</td>\n",
       "      <td>-5.51</td>\n",
       "      <td>1.64</td>\n",
       "    </tr>\n",
       "    <tr>\n",
       "      <th>390</th>\n",
       "      <td>0</td>\n",
       "      <td>-186.39</td>\n",
       "      <td>-200.57</td>\n",
       "      <td>-203.37</td>\n",
       "      <td>-207.07</td>\n",
       "      <td>-191.11</td>\n",
       "      <td>-190.57</td>\n",
       "      <td>-240.22</td>\n",
       "      <td>-189.64</td>\n",
       "      <td>-232.90</td>\n",
       "      <td>...</td>\n",
       "      <td>-3.92</td>\n",
       "      <td>-49.79</td>\n",
       "      <td>-21.93</td>\n",
       "      <td>-22.43</td>\n",
       "      <td>-43.06</td>\n",
       "      <td>-3.81</td>\n",
       "      <td>-1.12</td>\n",
       "      <td>-15.82</td>\n",
       "      <td>-24.96</td>\n",
       "      <td>41.64</td>\n",
       "    </tr>\n",
       "    <tr>\n",
       "      <th>105</th>\n",
       "      <td>0</td>\n",
       "      <td>67.03</td>\n",
       "      <td>86.02</td>\n",
       "      <td>80.51</td>\n",
       "      <td>96.45</td>\n",
       "      <td>103.42</td>\n",
       "      <td>107.07</td>\n",
       "      <td>118.06</td>\n",
       "      <td>109.17</td>\n",
       "      <td>113.37</td>\n",
       "      <td>...</td>\n",
       "      <td>57.20</td>\n",
       "      <td>61.67</td>\n",
       "      <td>94.63</td>\n",
       "      <td>70.82</td>\n",
       "      <td>53.50</td>\n",
       "      <td>58.02</td>\n",
       "      <td>35.54</td>\n",
       "      <td>20.95</td>\n",
       "      <td>-3.87</td>\n",
       "      <td>38.82</td>\n",
       "    </tr>\n",
       "    <tr>\n",
       "      <th>223</th>\n",
       "      <td>0</td>\n",
       "      <td>384.58</td>\n",
       "      <td>385.52</td>\n",
       "      <td>372.67</td>\n",
       "      <td>388.69</td>\n",
       "      <td>365.60</td>\n",
       "      <td>365.18</td>\n",
       "      <td>371.61</td>\n",
       "      <td>347.58</td>\n",
       "      <td>343.12</td>\n",
       "      <td>...</td>\n",
       "      <td>29.64</td>\n",
       "      <td>30.60</td>\n",
       "      <td>24.52</td>\n",
       "      <td>14.60</td>\n",
       "      <td>24.69</td>\n",
       "      <td>41.44</td>\n",
       "      <td>14.11</td>\n",
       "      <td>19.38</td>\n",
       "      <td>30.07</td>\n",
       "      <td>43.20</td>\n",
       "    </tr>\n",
       "  </tbody>\n",
       "</table>\n",
       "<p>5 rows × 3198 columns</p>\n",
       "</div>"
      ],
      "text/plain": [
       "     LABEL  FLUX.1  FLUX.2  FLUX.3  FLUX.4  FLUX.5  FLUX.6  FLUX.7  FLUX.8  \\\n",
       "55       0  247.83  173.35  191.67  169.51   97.43  158.84  138.74  165.53   \n",
       "271      0   -3.93    3.78   13.18    1.41    1.70   -8.71    7.50   -2.77   \n",
       "390      0 -186.39 -200.57 -203.37 -207.07 -191.11 -190.57 -240.22 -189.64   \n",
       "105      0   67.03   86.02   80.51   96.45  103.42  107.07  118.06  109.17   \n",
       "223      0  384.58  385.52  372.67  388.69  365.60  365.18  371.61  347.58   \n",
       "\n",
       "     FLUX.9  ...  FLUX.3188  FLUX.3189  FLUX.3190  FLUX.3191  FLUX.3192  \\\n",
       "55   100.79  ...     -25.33    -123.41     -69.55     -24.53     -65.98   \n",
       "271   -6.80  ...      -2.87       4.29      -5.92     -10.97       0.49   \n",
       "390 -232.90  ...      -3.92     -49.79     -21.93     -22.43     -43.06   \n",
       "105  113.37  ...      57.20      61.67      94.63      70.82      53.50   \n",
       "223  343.12  ...      29.64      30.60      24.52      14.60      24.69   \n",
       "\n",
       "     FLUX.3193  FLUX.3194  FLUX.3195  FLUX.3196  FLUX.3197  \n",
       "55      -15.65      64.76      26.53      25.25      39.77  \n",
       "271       0.73       8.06      -7.26      -5.51       1.64  \n",
       "390      -3.81      -1.12     -15.82     -24.96      41.64  \n",
       "105      58.02      35.54      20.95      -3.87      38.82  \n",
       "223      41.44      14.11      19.38      30.07      43.20  \n",
       "\n",
       "[5 rows x 3198 columns]"
      ]
     },
     "execution_count": 41,
     "metadata": {},
     "output_type": "execute_result"
    }
   ],
   "source": [
    "df_nu = pd.merge(y_recode, X, left_index=True, right_index=True)\n",
    "df_nu.sample(n=5, random_state=43)"
   ]
  },
  {
   "cell_type": "markdown",
   "id": "755609fd-bf66-4104-8d98-fcc161ac1289",
   "metadata": {},
   "source": [
    "We will play around with the parameters one after the other.    "
   ]
  },
  {
   "cell_type": "code",
   "execution_count": 42,
   "id": "83052f43-5338-46fe-ad16-00d65be125f4",
   "metadata": {},
   "outputs": [
    {
     "name": "stdout",
     "output_type": "stream",
     "text": [
      "Best params: {'n_estimators': 50}\n",
      "Best score: 0.19286\n",
      "search completed!\n"
     ]
    }
   ],
   "source": [
    "grid_search(df_nu, 'LABEL', \n",
    "            params={'n_estimators':[50, 200, 400, 800]},\n",
    "            scoring='recall')"
   ]
  },
  {
   "cell_type": "code",
   "execution_count": 43,
   "id": "e872cf6d-1add-4f96-9a88-b8a6f3c2d671",
   "metadata": {},
   "outputs": [
    {
     "name": "stdout",
     "output_type": "stream",
     "text": [
      "Best params: {'learning_rate': 0.01}\n",
      "Best score: 0.30000\n",
      "search completed!\n"
     ]
    }
   ],
   "source": [
    "grid_search(df_nu, 'LABEL', \n",
    "            params={'learning_rate':[0.01, 0.05, 0.2, 0.3]}, \n",
    "            scoring='recall')"
   ]
  },
  {
   "cell_type": "code",
   "execution_count": 44,
   "id": "20fdd342-32d5-4608-ab48-e1791af05a8b",
   "metadata": {},
   "outputs": [
    {
     "name": "stdout",
     "output_type": "stream",
     "text": [
      "Best params: {'max_depth': 1}\n",
      "Best score: 0.25000\n",
      "search completed!\n"
     ]
    }
   ],
   "source": [
    "grid_search(df_nu, 'LABEL', \n",
    "            params={'max_depth':[1, 2, 4, 8]}, \n",
    "            scoring='recall')"
   ]
  },
  {
   "cell_type": "code",
   "execution_count": 45,
   "id": "203b04a2-6463-4ccf-b788-a364ecf4f634",
   "metadata": {},
   "outputs": [
    {
     "name": "stdout",
     "output_type": "stream",
     "text": [
      "Best params: {'subsample': 0.3}\n",
      "Best score: 0.30000\n",
      "search completed!\n"
     ]
    }
   ],
   "source": [
    "grid_search(df_nu, 'LABEL', \n",
    "            params={'subsample':[0.3, 0.5, 0.7, 0.9]}, \n",
    "            scoring='recall')"
   ]
  },
  {
   "cell_type": "code",
   "execution_count": 46,
   "id": "e972e1ff-135b-4fcc-afba-dc168c6eb29a",
   "metadata": {},
   "outputs": [
    {
     "name": "stdout",
     "output_type": "stream",
     "text": [
      "Best params: {'gamma': 1}\n",
      "Best score: 0.25000\n",
      "search completed!\n"
     ]
    }
   ],
   "source": [
    "grid_search(df_nu, 'LABEL', \n",
    "            params={'gamma':[0.05, 0.1, 0.5, 1]}, \n",
    "            scoring='recall')"
   ]
  },
  {
   "cell_type": "code",
   "execution_count": 47,
   "id": "47dbfb59-ffc3-4f91-ad4e-7fd923eac92b",
   "metadata": {},
   "outputs": [
    {
     "name": "stdout",
     "output_type": "stream",
     "text": [
      "Best params: {'gamma': 0.025, 'learning_rate': 0.01, 'max_depth': 2, 'subsample': 0.9}\n",
      "Best score: 0.19643\n",
      "search completed!\n"
     ]
    }
   ],
   "source": [
    "grid_search(df_nu, 'LABEL', \n",
    "            params={'learning_rate':[0.001, 0.01, 0.03], \n",
    "                    'max_depth':[1, 2], \n",
    "                    'gamma':[0.025, 0.05, 0.5],\n",
    "                   'subsample':[0.3, 0.5, 0.7, 0.9]}, \n",
    "            scoring='recall')"
   ]
  },
  {
   "cell_type": "code",
   "execution_count": 48,
   "id": "6add848b-b873-4833-9f8f-56669715e623",
   "metadata": {},
   "outputs": [
    {
     "name": "stdout",
     "output_type": "stream",
     "text": [
      "Best params: {'max_delta_step': 1}\n",
      "Best score: 0.16786\n",
      "search completed!\n"
     ]
    }
   ],
   "source": [
    "grid_search(df_nu, 'LABEL', \n",
    "            params={'max_delta_step':[1, 3, 5, 7]}, \n",
    "            scoring='recall')"
   ]
  },
  {
   "cell_type": "code",
   "execution_count": 49,
   "id": "8de039eb-6801-4b00-b990-71b59739a27f",
   "metadata": {},
   "outputs": [
    {
     "name": "stdout",
     "output_type": "stream",
     "text": [
      "Best params: {'subsample': 0.3, 'colsample_bytree': 0.9, 'colsample_bynode': 0.5, 'colsample_bylevel': 0.5}\n",
      "Best score: 0.30357\n",
      "search completed!\n"
     ]
    }
   ],
   "source": [
    "grid_search(df_nu, 'LABEL', \n",
    "            params={'subsample':[0.3, 0.5, 0.7, 0.9, 1],\n",
    "                    'colsample_bylevel':[0.3, 0.5, 0.7, 0.9, 1],\n",
    "                    'colsample_bynode':[0.3, 0.5, 0.7, 0.9, 1],\n",
    "                    'colsample_bytree':[0.3, 0.5, 0.7, 0.9, 1]}, \n",
    "            random=True, scoring='recall')"
   ]
  },
  {
   "cell_type": "markdown",
   "id": "98e6ea3a-f9a5-4330-9211-66b37a681ba6",
   "metadata": {},
   "source": [
    "We will try again with the undersampler"
   ]
  },
  {
   "cell_type": "code",
   "execution_count": 50,
   "id": "bd76e9da-59c1-4274-807f-e3bba9aa2cc3",
   "metadata": {},
   "outputs": [
    {
     "name": "stdout",
     "output_type": "stream",
     "text": [
      "(74, 3197)\n"
     ]
    },
    {
     "data": {
      "text/html": [
       "<div>\n",
       "<style scoped>\n",
       "    .dataframe tbody tr th:only-of-type {\n",
       "        vertical-align: middle;\n",
       "    }\n",
       "\n",
       "    .dataframe tbody tr th {\n",
       "        vertical-align: top;\n",
       "    }\n",
       "\n",
       "    .dataframe thead th {\n",
       "        text-align: right;\n",
       "    }\n",
       "</style>\n",
       "<table border=\"1\" class=\"dataframe\">\n",
       "  <thead>\n",
       "    <tr style=\"text-align: right;\">\n",
       "      <th></th>\n",
       "      <th>FLUX.1</th>\n",
       "      <th>FLUX.2</th>\n",
       "      <th>FLUX.3</th>\n",
       "      <th>FLUX.4</th>\n",
       "      <th>FLUX.5</th>\n",
       "      <th>FLUX.6</th>\n",
       "      <th>FLUX.7</th>\n",
       "      <th>FLUX.8</th>\n",
       "      <th>FLUX.9</th>\n",
       "      <th>FLUX.10</th>\n",
       "      <th>...</th>\n",
       "      <th>FLUX.3188</th>\n",
       "      <th>FLUX.3189</th>\n",
       "      <th>FLUX.3190</th>\n",
       "      <th>FLUX.3191</th>\n",
       "      <th>FLUX.3192</th>\n",
       "      <th>FLUX.3193</th>\n",
       "      <th>FLUX.3194</th>\n",
       "      <th>FLUX.3195</th>\n",
       "      <th>FLUX.3196</th>\n",
       "      <th>FLUX.3197</th>\n",
       "    </tr>\n",
       "  </thead>\n",
       "  <tbody>\n",
       "    <tr>\n",
       "      <th>180</th>\n",
       "      <td>45.79</td>\n",
       "      <td>31.21</td>\n",
       "      <td>30.88</td>\n",
       "      <td>2.67</td>\n",
       "      <td>24.23</td>\n",
       "      <td>28.71</td>\n",
       "      <td>26.08</td>\n",
       "      <td>14.79</td>\n",
       "      <td>15.62</td>\n",
       "      <td>-10.47</td>\n",
       "      <td>...</td>\n",
       "      <td>11.54</td>\n",
       "      <td>4.71</td>\n",
       "      <td>2.09</td>\n",
       "      <td>19.87</td>\n",
       "      <td>26.34</td>\n",
       "      <td>20.15</td>\n",
       "      <td>-13.42</td>\n",
       "      <td>-1.13</td>\n",
       "      <td>7.06</td>\n",
       "      <td>3.82</td>\n",
       "    </tr>\n",
       "    <tr>\n",
       "      <th>376</th>\n",
       "      <td>3.44</td>\n",
       "      <td>-1.95</td>\n",
       "      <td>10.86</td>\n",
       "      <td>23.80</td>\n",
       "      <td>-13.22</td>\n",
       "      <td>-7.97</td>\n",
       "      <td>-5.68</td>\n",
       "      <td>-4.77</td>\n",
       "      <td>-14.46</td>\n",
       "      <td>-12.24</td>\n",
       "      <td>...</td>\n",
       "      <td>-0.39</td>\n",
       "      <td>20.19</td>\n",
       "      <td>3.30</td>\n",
       "      <td>12.40</td>\n",
       "      <td>-0.23</td>\n",
       "      <td>-10.79</td>\n",
       "      <td>-5.63</td>\n",
       "      <td>-1.60</td>\n",
       "      <td>-12.25</td>\n",
       "      <td>-7.48</td>\n",
       "    </tr>\n",
       "    <tr>\n",
       "      <th>385</th>\n",
       "      <td>235.11</td>\n",
       "      <td>201.36</td>\n",
       "      <td>190.27</td>\n",
       "      <td>167.24</td>\n",
       "      <td>144.70</td>\n",
       "      <td>124.22</td>\n",
       "      <td>112.22</td>\n",
       "      <td>102.16</td>\n",
       "      <td>73.46</td>\n",
       "      <td>73.26</td>\n",
       "      <td>...</td>\n",
       "      <td>55.37</td>\n",
       "      <td>44.95</td>\n",
       "      <td>41.99</td>\n",
       "      <td>30.93</td>\n",
       "      <td>37.63</td>\n",
       "      <td>41.66</td>\n",
       "      <td>12.20</td>\n",
       "      <td>23.27</td>\n",
       "      <td>45.33</td>\n",
       "      <td>68.51</td>\n",
       "    </tr>\n",
       "    <tr>\n",
       "      <th>324</th>\n",
       "      <td>-16.67</td>\n",
       "      <td>-9.74</td>\n",
       "      <td>-0.20</td>\n",
       "      <td>11.57</td>\n",
       "      <td>7.91</td>\n",
       "      <td>-16.01</td>\n",
       "      <td>-15.01</td>\n",
       "      <td>-2.40</td>\n",
       "      <td>5.53</td>\n",
       "      <td>-9.91</td>\n",
       "      <td>...</td>\n",
       "      <td>-5.46</td>\n",
       "      <td>9.27</td>\n",
       "      <td>-6.73</td>\n",
       "      <td>-4.45</td>\n",
       "      <td>-10.79</td>\n",
       "      <td>5.73</td>\n",
       "      <td>-56.47</td>\n",
       "      <td>-14.44</td>\n",
       "      <td>-10.82</td>\n",
       "      <td>-16.67</td>\n",
       "    </tr>\n",
       "    <tr>\n",
       "      <th>265</th>\n",
       "      <td>-327.91</td>\n",
       "      <td>-280.43</td>\n",
       "      <td>-306.35</td>\n",
       "      <td>-297.06</td>\n",
       "      <td>-333.77</td>\n",
       "      <td>-320.66</td>\n",
       "      <td>-308.61</td>\n",
       "      <td>-341.64</td>\n",
       "      <td>-336.01</td>\n",
       "      <td>-350.67</td>\n",
       "      <td>...</td>\n",
       "      <td>5.89</td>\n",
       "      <td>13.60</td>\n",
       "      <td>37.08</td>\n",
       "      <td>-10.53</td>\n",
       "      <td>-23.38</td>\n",
       "      <td>15.02</td>\n",
       "      <td>18.08</td>\n",
       "      <td>31.13</td>\n",
       "      <td>33.56</td>\n",
       "      <td>33.29</td>\n",
       "    </tr>\n",
       "  </tbody>\n",
       "</table>\n",
       "<p>5 rows × 3197 columns</p>\n",
       "</div>"
      ],
      "text/plain": [
       "     FLUX.1  FLUX.2  FLUX.3  FLUX.4  FLUX.5  FLUX.6  FLUX.7  FLUX.8  FLUX.9  \\\n",
       "180   45.79   31.21   30.88    2.67   24.23   28.71   26.08   14.79   15.62   \n",
       "376    3.44   -1.95   10.86   23.80  -13.22   -7.97   -5.68   -4.77  -14.46   \n",
       "385  235.11  201.36  190.27  167.24  144.70  124.22  112.22  102.16   73.46   \n",
       "324  -16.67   -9.74   -0.20   11.57    7.91  -16.01  -15.01   -2.40    5.53   \n",
       "265 -327.91 -280.43 -306.35 -297.06 -333.77 -320.66 -308.61 -341.64 -336.01   \n",
       "\n",
       "     FLUX.10  ...  FLUX.3188  FLUX.3189  FLUX.3190  FLUX.3191  FLUX.3192  \\\n",
       "180   -10.47  ...      11.54       4.71       2.09      19.87      26.34   \n",
       "376   -12.24  ...      -0.39      20.19       3.30      12.40      -0.23   \n",
       "385    73.26  ...      55.37      44.95      41.99      30.93      37.63   \n",
       "324    -9.91  ...      -5.46       9.27      -6.73      -4.45     -10.79   \n",
       "265  -350.67  ...       5.89      13.60      37.08     -10.53     -23.38   \n",
       "\n",
       "     FLUX.3193  FLUX.3194  FLUX.3195  FLUX.3196  FLUX.3197  \n",
       "180      20.15     -13.42      -1.13       7.06       3.82  \n",
       "376     -10.79      -5.63      -1.60     -12.25      -7.48  \n",
       "385      41.66      12.20      23.27      45.33      68.51  \n",
       "324       5.73     -56.47     -14.44     -10.82     -16.67  \n",
       "265      15.02      18.08      31.13      33.56      33.29  \n",
       "\n",
       "[5 rows x 3197 columns]"
      ]
     },
     "execution_count": 50,
     "metadata": {},
     "output_type": "execute_result"
    }
   ],
   "source": [
    "under_sampler = RandomUnderSampler(random_state=43)\n",
    "X_under, y_under = under_sampler.fit_resample(X, y_recode)\n",
    "print(X_under.shape)\n",
    "X_under.head()"
   ]
  },
  {
   "cell_type": "code",
   "execution_count": 51,
   "id": "2a053459-b640-4086-b7cb-c8ff303aa1fd",
   "metadata": {},
   "outputs": [
    {
     "data": {
      "text/html": [
       "<div>\n",
       "<style scoped>\n",
       "    .dataframe tbody tr th:only-of-type {\n",
       "        vertical-align: middle;\n",
       "    }\n",
       "\n",
       "    .dataframe tbody tr th {\n",
       "        vertical-align: top;\n",
       "    }\n",
       "\n",
       "    .dataframe thead th {\n",
       "        text-align: right;\n",
       "    }\n",
       "</style>\n",
       "<table border=\"1\" class=\"dataframe\">\n",
       "  <thead>\n",
       "    <tr style=\"text-align: right;\">\n",
       "      <th></th>\n",
       "      <th>LABEL</th>\n",
       "      <th>FLUX.1</th>\n",
       "      <th>FLUX.2</th>\n",
       "      <th>FLUX.3</th>\n",
       "      <th>FLUX.4</th>\n",
       "      <th>FLUX.5</th>\n",
       "      <th>FLUX.6</th>\n",
       "      <th>FLUX.7</th>\n",
       "      <th>FLUX.8</th>\n",
       "      <th>FLUX.9</th>\n",
       "      <th>...</th>\n",
       "      <th>FLUX.3188</th>\n",
       "      <th>FLUX.3189</th>\n",
       "      <th>FLUX.3190</th>\n",
       "      <th>FLUX.3191</th>\n",
       "      <th>FLUX.3192</th>\n",
       "      <th>FLUX.3193</th>\n",
       "      <th>FLUX.3194</th>\n",
       "      <th>FLUX.3195</th>\n",
       "      <th>FLUX.3196</th>\n",
       "      <th>FLUX.3197</th>\n",
       "    </tr>\n",
       "  </thead>\n",
       "  <tbody>\n",
       "    <tr>\n",
       "      <th>2</th>\n",
       "      <td>1</td>\n",
       "      <td>532.64</td>\n",
       "      <td>535.92</td>\n",
       "      <td>513.73</td>\n",
       "      <td>496.92</td>\n",
       "      <td>456.45</td>\n",
       "      <td>466.00</td>\n",
       "      <td>464.50</td>\n",
       "      <td>486.39</td>\n",
       "      <td>436.56</td>\n",
       "      <td>...</td>\n",
       "      <td>-71.69</td>\n",
       "      <td>13.31</td>\n",
       "      <td>13.31</td>\n",
       "      <td>-29.89</td>\n",
       "      <td>-20.88</td>\n",
       "      <td>5.06</td>\n",
       "      <td>-11.80</td>\n",
       "      <td>-28.91</td>\n",
       "      <td>-70.02</td>\n",
       "      <td>-96.67</td>\n",
       "    </tr>\n",
       "    <tr>\n",
       "      <th>19</th>\n",
       "      <td>1</td>\n",
       "      <td>560.19</td>\n",
       "      <td>262.94</td>\n",
       "      <td>189.94</td>\n",
       "      <td>185.12</td>\n",
       "      <td>210.38</td>\n",
       "      <td>104.19</td>\n",
       "      <td>289.56</td>\n",
       "      <td>172.06</td>\n",
       "      <td>81.75</td>\n",
       "      <td>...</td>\n",
       "      <td>106.00</td>\n",
       "      <td>-7.94</td>\n",
       "      <td>-7.94</td>\n",
       "      <td>-7.94</td>\n",
       "      <td>52.31</td>\n",
       "      <td>-165.00</td>\n",
       "      <td>7.38</td>\n",
       "      <td>-61.56</td>\n",
       "      <td>-44.75</td>\n",
       "      <td>104.50</td>\n",
       "    </tr>\n",
       "    <tr>\n",
       "      <th>0</th>\n",
       "      <td>1</td>\n",
       "      <td>93.85</td>\n",
       "      <td>83.81</td>\n",
       "      <td>20.10</td>\n",
       "      <td>-26.98</td>\n",
       "      <td>-39.56</td>\n",
       "      <td>-124.71</td>\n",
       "      <td>-135.18</td>\n",
       "      <td>-96.27</td>\n",
       "      <td>-79.89</td>\n",
       "      <td>...</td>\n",
       "      <td>-78.07</td>\n",
       "      <td>-102.15</td>\n",
       "      <td>-102.15</td>\n",
       "      <td>25.13</td>\n",
       "      <td>48.57</td>\n",
       "      <td>92.54</td>\n",
       "      <td>39.32</td>\n",
       "      <td>61.42</td>\n",
       "      <td>5.08</td>\n",
       "      <td>-39.54</td>\n",
       "    </tr>\n",
       "    <tr>\n",
       "      <th>25</th>\n",
       "      <td>1</td>\n",
       "      <td>304.50</td>\n",
       "      <td>275.94</td>\n",
       "      <td>269.24</td>\n",
       "      <td>248.51</td>\n",
       "      <td>194.88</td>\n",
       "      <td>167.80</td>\n",
       "      <td>139.13</td>\n",
       "      <td>149.36</td>\n",
       "      <td>100.97</td>\n",
       "      <td>...</td>\n",
       "      <td>4.21</td>\n",
       "      <td>3.53</td>\n",
       "      <td>-5.13</td>\n",
       "      <td>14.56</td>\n",
       "      <td>-1.44</td>\n",
       "      <td>-10.73</td>\n",
       "      <td>3.49</td>\n",
       "      <td>0.18</td>\n",
       "      <td>-2.89</td>\n",
       "      <td>40.34</td>\n",
       "    </tr>\n",
       "    <tr>\n",
       "      <th>29</th>\n",
       "      <td>1</td>\n",
       "      <td>31.29</td>\n",
       "      <td>25.14</td>\n",
       "      <td>36.93</td>\n",
       "      <td>16.63</td>\n",
       "      <td>17.01</td>\n",
       "      <td>-7.50</td>\n",
       "      <td>0.09</td>\n",
       "      <td>1.24</td>\n",
       "      <td>-19.82</td>\n",
       "      <td>...</td>\n",
       "      <td>11.36</td>\n",
       "      <td>12.96</td>\n",
       "      <td>28.50</td>\n",
       "      <td>51.05</td>\n",
       "      <td>25.85</td>\n",
       "      <td>4.79</td>\n",
       "      <td>13.26</td>\n",
       "      <td>-17.58</td>\n",
       "      <td>13.79</td>\n",
       "      <td>0.72</td>\n",
       "    </tr>\n",
       "  </tbody>\n",
       "</table>\n",
       "<p>5 rows × 3198 columns</p>\n",
       "</div>"
      ],
      "text/plain": [
       "    LABEL  FLUX.1  FLUX.2  FLUX.3  FLUX.4  FLUX.5  FLUX.6  FLUX.7  FLUX.8  \\\n",
       "2       1  532.64  535.92  513.73  496.92  456.45  466.00  464.50  486.39   \n",
       "19      1  560.19  262.94  189.94  185.12  210.38  104.19  289.56  172.06   \n",
       "0       1   93.85   83.81   20.10  -26.98  -39.56 -124.71 -135.18  -96.27   \n",
       "25      1  304.50  275.94  269.24  248.51  194.88  167.80  139.13  149.36   \n",
       "29      1   31.29   25.14   36.93   16.63   17.01   -7.50    0.09    1.24   \n",
       "\n",
       "    FLUX.9  ...  FLUX.3188  FLUX.3189  FLUX.3190  FLUX.3191  FLUX.3192  \\\n",
       "2   436.56  ...     -71.69      13.31      13.31     -29.89     -20.88   \n",
       "19   81.75  ...     106.00      -7.94      -7.94      -7.94      52.31   \n",
       "0   -79.89  ...     -78.07    -102.15    -102.15      25.13      48.57   \n",
       "25  100.97  ...       4.21       3.53      -5.13      14.56      -1.44   \n",
       "29  -19.82  ...      11.36      12.96      28.50      51.05      25.85   \n",
       "\n",
       "    FLUX.3193  FLUX.3194  FLUX.3195  FLUX.3196  FLUX.3197  \n",
       "2        5.06     -11.80     -28.91     -70.02     -96.67  \n",
       "19    -165.00       7.38     -61.56     -44.75     104.50  \n",
       "0       92.54      39.32      61.42       5.08     -39.54  \n",
       "25     -10.73       3.49       0.18      -2.89      40.34  \n",
       "29       4.79      13.26     -17.58      13.79       0.72  \n",
       "\n",
       "[5 rows x 3198 columns]"
      ]
     },
     "execution_count": 51,
     "metadata": {},
     "output_type": "execute_result"
    }
   ],
   "source": [
    "df_under = pd.merge(y_under, X_under, left_index=True, right_index=True)\n",
    "df_under.sample(n=5, random_state=43)"
   ]
  },
  {
   "cell_type": "code",
   "execution_count": 52,
   "id": "6027c163-43b0-480b-b97f-ab596753da0e",
   "metadata": {},
   "outputs": [
    {
     "name": "stdout",
     "output_type": "stream",
     "text": [
      "Best params: {'colsample_bynode': 0.5, 'max_depth': 3}\n",
      "Best score: 0.76071\n",
      "search completed!\n"
     ]
    }
   ],
   "source": [
    "grid_search(df_under, 'LABEL', \n",
    "            params={'max_depth':[1, 2, 3],\n",
    "                    'colsample_bynode':[0.5, 0.75, 1]},\n",
    "            scoring='recall')"
   ]
  },
  {
   "cell_type": "markdown",
   "id": "48fcd005-83a7-4b42-9ad4-da4fa6281057",
   "metadata": {},
   "source": [
    "This is a massive jump!"
   ]
  },
  {
   "cell_type": "markdown",
   "id": "554e9592-db6b-4a40-a36c-9fb3455775fc",
   "metadata": {},
   "source": [
    "### Fine-tuning all the data\n",
    "Time to fine tune all the data that we have got."
   ]
  },
  {
   "cell_type": "code",
   "execution_count": 53,
   "id": "500e1b6d-f974-4d2f-8901-ec2da6d59fea",
   "metadata": {},
   "outputs": [
    {
     "name": "stdout",
     "output_type": "stream",
     "text": [
      "<class 'pandas.core.frame.DataFrame'>\n",
      "RangeIndex: 5087 entries, 0 to 5086\n",
      "Columns: 3198 entries, LABEL to FLUX.3197\n",
      "dtypes: float64(3197), int64(1)\n",
      "memory usage: 124.1 MB\n"
     ]
    }
   ],
   "source": [
    "with ZipFile(url, 'r') as z:\n",
    "    with z.open(z.namelist()[0]) as f:\n",
    "        df_all = pd.read_csv(f)\n",
    "\n",
    "df_all.info()"
   ]
  },
  {
   "cell_type": "markdown",
   "id": "f7b3d780-5f05-440f-bb13-1c048ef87da6",
   "metadata": {},
   "source": [
    "This next cell shows how to consider the XGBoost quirk of only preferring to work with [0,1] for binary classifications."
   ]
  },
  {
   "cell_type": "code",
   "execution_count": 54,
   "id": "ad7425ab-d405-4ae1-85de-72788911f1be",
   "metadata": {},
   "outputs": [
    {
     "data": {
      "text/plain": [
       "LABEL\n",
       "0    5050\n",
       "1      37\n",
       "Name: count, dtype: int64"
      ]
     },
     "execution_count": 54,
     "metadata": {},
     "output_type": "execute_result"
    }
   ],
   "source": [
    "df_all = (\n",
    "    df_all\n",
    "    .assign(LABEL = df_all['LABEL'].replace({1: 0, 2: 1}))\n",
    ")\n",
    "df_all['LABEL'].value_counts()"
   ]
  },
  {
   "cell_type": "markdown",
   "id": "acea250b-da71-4891-af51-6fa821ec505d",
   "metadata": {},
   "source": [
    "Scale the weights by dividing the negative class by the positive class."
   ]
  },
  {
   "cell_type": "code",
   "execution_count": 55,
   "id": "63037372-dcfa-476c-93e3-38d0ac2f7df5",
   "metadata": {},
   "outputs": [
    {
     "data": {
      "text/plain": [
       "136"
      ]
     },
     "execution_count": 55,
     "metadata": {},
     "output_type": "execute_result"
    }
   ],
   "source": [
    "weight = int(df_all['LABEL'].value_counts()[0]/df_all['LABEL'].value_counts()[1])\n",
    "weight"
   ]
  },
  {
   "cell_type": "markdown",
   "id": "42534518-6b6d-4b0c-bf69-a5a7772ffaf2",
   "metadata": {},
   "source": [
    "Split the data into X and y"
   ]
  },
  {
   "cell_type": "code",
   "execution_count": 56,
   "id": "fc212ef2-9c52-4856-8b78-5e905a9b331d",
   "metadata": {},
   "outputs": [],
   "source": [
    "X_all, y_all = splitX_y(df_all, 'LABEL')"
   ]
  },
  {
   "cell_type": "markdown",
   "id": "7967a828-ad95-42b0-b775-abcbe33fe212",
   "metadata": {},
   "source": [
    "Score a baseline model for all the data with XGBClassifier and `scale_pos_weight=weight`."
   ]
  },
  {
   "cell_type": "code",
   "execution_count": 57,
   "id": "bb1ee815-e3e0-47ec-899b-ce1133c1d508",
   "metadata": {},
   "outputs": [
    {
     "name": "stdout",
     "output_type": "stream",
     "text": [
      "Recall: [0. 0.]\n",
      "Recall mean: 0.0\n"
     ]
    }
   ],
   "source": [
    "model = XGBClassifier(scale_pos_weight=weight, random_state=43)\n",
    "\n",
    "scores = cross_val_score(model, X_all, y_all, cv=kfold, scoring='recall')\n",
    "\n",
    "print(f'Recall: {scores}')\n",
    "\n",
    "print(f'Recall mean: {scores.mean()}')"
   ]
  },
  {
   "cell_type": "markdown",
   "id": "3b382db3-a9d5-4b54-a0d1-e4561a3c9943",
   "metadata": {},
   "source": [
    "This score is really awful. Presumably, the classifier is scoring a high percentage of accuracy, despite the low recall.\n",
    "\n",
    "Let's try optimizing hyperparameters based on the most successful results thus far."
   ]
  },
  {
   "cell_type": "code",
   "execution_count": 58,
   "id": "f0d6bba6-6012-4671-ac75-e467bd8fd8c2",
   "metadata": {},
   "outputs": [
    {
     "name": "stdout",
     "output_type": "stream",
     "text": [
      "Best params: {'learning_rate': 0.001, 'max_depth': 1}\n",
      "Best score: 0.54643\n",
      "search completed!\n"
     ]
    }
   ],
   "source": [
    "grid_search(df_all, 'LABEL', \n",
    "            params={'max_depth':[1, 2],\n",
    "                    'learning_rate':[0.001]},\n",
    "            scoring='recall', weight=weight)"
   ]
  },
  {
   "cell_type": "markdown",
   "id": "071a4187-7ee1-4309-bf92-f96f46b5c0fc",
   "metadata": {},
   "source": [
    "Let us ponder the recent empirical findings with a measure of both curiosity and skepticism. Our latest venture, although surpassing the unmodified expanse of data, does not quite reach the statistical heights achieved by our earlier experiment, wherein the data was meticulously undersampled.\n",
    "\n",
    "**The Paradox of Scale and Time**\n",
    "\n",
    "As we embark on this analytical journey, we are confronted with an intriguing conundrum: the full dataset, while comprehensive, yields a lower score and demands a greater temporal investment for computational processing. This observation beckons the question — do our algorithmic creations truly excel when confined to the more diminutive realms of our Exoplanet dataset?\n",
    "\n",
    "**The Quest for Empirical Truth**\n",
    "\n",
    "To unravel this mystery, we must proceed with a methodical comparison. Let us delve into the depths of this dataset, and like Feynman, \"find out\" by testing our models on these smaller subsets. It is through this rigorous scientific exploration that we shall uncover the veracity of our models' proficiency.\n",
    "\n",
    "The following function takes X, y, and the chosen params as input. The model is fit on the data provided, then predictions are made on the entire dataset. Finally, `recall_score`, `confusion matrix`, and `classification report` are all printed."
   ]
  },
  {
   "cell_type": "code",
   "execution_count": 63,
   "id": "882085e6-c6df-495e-b02a-7eb8345529ed",
   "metadata": {},
   "outputs": [],
   "source": [
    "def final_model(df, target, params):\n",
    "\n",
    "    X, y = splitX_y(df, target)\n",
    "    model = XGBClassifier(**params)\n",
    "    model.fit(X, y)\n",
    "\n",
    "    y_pred = model.predict(X_all)\n",
    "\n",
    "    score = recall_score(y_all, y_pred,)\n",
    "\n",
    "    print(score)\n",
    "\n",
    "    print(confusion_matrix(y_all, y_pred,))\n",
    "\n",
    "    print(classification_report(y_all, y_pred))"
   ]
  },
  {
   "cell_type": "code",
   "execution_count": 66,
   "id": "beb9ee61-34bb-4ac1-9659-2e2b932e6850",
   "metadata": {},
   "outputs": [],
   "source": [
    "params = {\n",
    "    'max_depth': 2,\n",
    "    'colsample_bynode': 0.5,\n",
    "    'random_state': 43\n",
    "}"
   ]
  },
  {
   "cell_type": "code",
   "execution_count": 67,
   "id": "686c1729-10a0-4670-b792-14053665f6fc",
   "metadata": {},
   "outputs": [
    {
     "name": "stdout",
     "output_type": "stream",
     "text": [
      "1.0\n",
      "[[3837 1213]\n",
      " [   0   37]]\n",
      "              precision    recall  f1-score   support\n",
      "\n",
      "           0       1.00      0.76      0.86      5050\n",
      "           1       0.03      1.00      0.06        37\n",
      "\n",
      "    accuracy                           0.76      5087\n",
      "   macro avg       0.51      0.88      0.46      5087\n",
      "weighted avg       0.99      0.76      0.86      5087\n",
      "\n"
     ]
    }
   ],
   "source": [
    "final_model(df_under, 'LABEL', params=params)"
   ]
  },
  {
   "cell_type": "markdown",
   "id": "9b34099a-22ab-4499-8f79-a4ceedd1bdf8",
   "metadata": {},
   "source": [
    "In an endeavor and insatiable appetite for uncovering the truths of the cosmos, we've cast our computational net into the celestial ocean, only to haul in a catch brimming with false stars. Our algorithm, with an eagle-eyed focus on recall, has indeed snared all 37 elusive exoplanets. Yet, amidst our triumph, a stark revelation emerges: 1,213 stars of no remarkable exoplanetary significance have been ensnared in our celestial dragnet—a false promise of worlds that were not to be.\n",
    "\n",
    "**The Precision Predicament**\n",
    "\n",
    "Our pursuit, while noble in its aim for completeness, has wielded a tool of 100% recall yet a meager precision of 3%. The resultant F1 score—a paltry 6%—stands as a testament to the inherent peril of a solitary fixation on recall. Feynman would likely muse that in the grand tapestry of the cosmos, the beauty of a single thread lies in its interweaving with others. Precision, too, must dance in harmony with recall to compose the opus of discovery.\n",
    "\n",
    "**The Astronomer's Quandary**\n",
    "\n",
    "Imagine the plight of the astronomer, who, under the guidance of our current model, must sift through a haystack of 1,213 potential exoplanet stars to uncover the 37 needles of truth. This scenario, while rich in potential, is marred by inefficiency—an astronomer's odyssey turned Sisyphean task.\n",
    "\n",
    "**The Path Forward**\n",
    "\n",
    "In the indomitable spirit of inquiry, we must now turn to a new chapter. What secrets will be unveiled when we temper our algorithmic forge with a mere 400 rows of data? As we continue this computational voyage, each step brings us closer to the harmonious balance that eludes us still—the perfect equilibrium between recall and precision, the yin and yang of celestial discovery."
   ]
  },
  {
   "cell_type": "code",
   "execution_count": 70,
   "id": "3ba95570-801d-4f51-919a-2eeb38cab920",
   "metadata": {},
   "outputs": [
    {
     "data": {
      "text/plain": [
       "LABEL\n",
       "0    363\n",
       "1     37\n",
       "Name: count, dtype: int64"
      ]
     },
     "execution_count": 70,
     "metadata": {},
     "output_type": "execute_result"
    }
   ],
   "source": [
    "df = (\n",
    "    df\n",
    "    .assign(LABEL = df['LABEL'].replace({1: 0, 2: 1}))\n",
    ")\n",
    "df['LABEL'].value_counts()"
   ]
  },
  {
   "cell_type": "code",
   "execution_count": 71,
   "id": "27c3ec9d-3ce6-4fd0-8528-f923fcaea8fb",
   "metadata": {},
   "outputs": [
    {
     "name": "stdout",
     "output_type": "stream",
     "text": [
      "1.0\n",
      "[[4888  162]\n",
      " [   0   37]]\n",
      "              precision    recall  f1-score   support\n",
      "\n",
      "           0       1.00      0.97      0.98      5050\n",
      "           1       0.19      1.00      0.31        37\n",
      "\n",
      "    accuracy                           0.97      5087\n",
      "   macro avg       0.59      0.98      0.65      5087\n",
      "weighted avg       0.99      0.97      0.98      5087\n",
      "\n"
     ]
    }
   ],
   "source": [
    "params = {\n",
    "    'max_depth': 2,\n",
    "    'colsample_bynode': 0.5,\n",
    "    'scale_pos_weight': 10,\n",
    "    'random_state': 43\n",
    "}\n",
    "\n",
    "final_model(df, 'LABEL', params=params)"
   ]
  },
  {
   "cell_type": "markdown",
   "id": "e2e6c07e-72d8-4cee-8a2e-103971d36654",
   "metadata": {},
   "source": [
    "In our quest, our computational telescope has once again locked onto all 37 exoplanet stars with unwavering accuracy, achieving a stellar recall of 100%. Yet, our celestial celebration is tempered by the realization that 162 ordinary stars have been mislabeled as harbingers of new worlds.\n",
    "\n",
    "**A Step Towards Astronomical Precision**\n",
    "\n",
    "This recent foray, while still encumbered with the weight of error, marks a notable improvement. Precision has climbed to 19%—a significant leap from the previous 3%. An astronomer, armed with this refined model, would now traverse a field of 186 stars to find the 37 exoplanet stars. Though the journey remains arduous, it is considerably less so than before.\n",
    "\n",
    "**The Astronomical Implication**\n",
    "\n",
    "While we have yet to perfect our cosmic sieve—our ability to separate exoplanet wheat from chaff—the path to improvement is illuminated with the light of data. The ratio of chaff to wheat has diminished, and thus the task of the astronomer, while not effortless, is less Sisyphean than it once was.\n",
    "\n",
    "**The Next Frontier**\n",
    "\n",
    "As we stand on the precipice of the known, ready to dive into the vast ocean of data that encompasses all, we prepare to train our algorithmic eyes on the full expanse of the stars. What truths will we uncover when the full canvas of the cosmos is laid bare before our computational might? Let us proceed, to unearth the secrets woven into the very fabric of the universe."
   ]
  },
  {
   "cell_type": "code",
   "execution_count": 72,
   "id": "27fdc26b-2c68-444e-b5fd-5d94413714b3",
   "metadata": {},
   "outputs": [],
   "source": [
    "params = {\n",
    "    'max_depth': 2,\n",
    "    'colsample_bynode': 0.5,\n",
    "    'scale_pos_weight': weight,  \n",
    "    'random_state': 43\n",
    "}\n"
   ]
  },
  {
   "cell_type": "code",
   "execution_count": 73,
   "id": "784205fa-320e-4cef-a8ac-c6469d645e21",
   "metadata": {},
   "outputs": [
    {
     "name": "stdout",
     "output_type": "stream",
     "text": [
      "1.0\n",
      "[[5050    0]\n",
      " [   0   37]]\n",
      "              precision    recall  f1-score   support\n",
      "\n",
      "           0       1.00      1.00      1.00      5050\n",
      "           1       1.00      1.00      1.00        37\n",
      "\n",
      "    accuracy                           1.00      5087\n",
      "   macro avg       1.00      1.00      1.00      5087\n",
      "weighted avg       1.00      1.00      1.00      5087\n",
      "\n"
     ]
    }
   ],
   "source": [
    "final_model(df_all, 'LABEL', params=params)"
   ]
  },
  {
   "cell_type": "markdown",
   "id": "5e2c476e-61e6-429e-a7ca-6b5d8057aa8d",
   "metadata": {},
   "source": [
    "**The Model's Stellar Performance on Familiar Grounds**\n",
    "\n",
    "In a rather striking outcome, our model has achieved the celestial jackpot: a perfect score in both recall and precision. It's as if every star in our computational sky has aligned, granting the astronomer the luxury of a flawless map to exoplanetary treasures without the interference of cosmic clutter.\n",
    "\n",
    "**The Caveat of Overfitting**\n",
    "\n",
    "Yet, in the quest for cosmic truth, one must not be swayed by a mirage of perfection within the training grounds. True validation lies in the model's prowess when faced with the unknown—unseen test data, the ultimate arbiter of a model's strength. A perfect fit for the training set can often be an illusion, a siren's song luring us away from the reality of generalization.\n",
    "\n",
    "**Insights from the Depths of Data**\n",
    "\n",
    "The journey through the data reveals a spectrum of precision. Here's what the stars tell us:\n",
    "\n",
    "**The Harmony of Metrics**\n",
    "\n",
    "Leaning on a single metric can steer us into astronomical anomalies. Precision, recall, and the F1 score must be conjured together, much like a constellation, to guide us to optimal models.\n",
    "\n",
    "**The Perils of Small Samples**\n",
    "\n",
    "Caution is advised against overvaluing high scores from mere slivers of datasets.\n",
    "\n",
    "**The Call for Deeper Analysis**\n",
    "\n",
    "An imbalanced dataset where training outshines testing suggests a dive into the complex cosmos of hyperparameter tuning.\n",
    "\n",
    "A survey of Kaggle's shared notebooks unveils a common oversight: the allure of high accuracy in a skewed dataset can be deceptive.\n",
    "\n",
    "**Conclusions for the Cosmic Scholar**\n",
    "\n",
    "Presenting to the mentor of the skies, one must acknowledge the limitations imposed by imbalanced celestial data. A model's true performance, perhaps a modest 70% recall, is a sobering reminder of the vastness we seek to understand. And while 37 exoplanet stars are but a small step in our odyssey, the XGBClassifier is our telescope, guiding astronomers and data savants alike in the grand quest to pinpoint the next exoplanetary discovery."
   ]
  },
  {
   "cell_type": "code",
   "execution_count": null,
   "id": "b71ec378-e37e-4740-a066-0c0bc39d37cc",
   "metadata": {},
   "outputs": [],
   "source": []
  }
 ],
 "metadata": {
  "kernelspec": {
   "display_name": "Python 3 (ipykernel)",
   "language": "python",
   "name": "python3"
  },
  "language_info": {
   "codemirror_mode": {
    "name": "ipython",
    "version": 3
   },
   "file_extension": ".py",
   "mimetype": "text/x-python",
   "name": "python",
   "nbconvert_exporter": "python",
   "pygments_lexer": "ipython3",
   "version": "3.10.12"
  }
 },
 "nbformat": 4,
 "nbformat_minor": 5
}
