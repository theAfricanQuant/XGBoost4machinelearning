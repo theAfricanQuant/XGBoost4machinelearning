{
 "cells": [
  {
   "cell_type": "markdown",
   "id": "4efddb3c-c385-4d53-8a79-6327c16bab65",
   "metadata": {},
   "source": [
    "<h1 style=\"text-align:center;\">Early Stopping in XGBoost</h1>\n",
    "\n",
    "# Introduction\n",
    "\n",
    "Imagine you're trying to fill a glass of water. You want it to be full, but not overflowing. If you keep the tap on indefinitely, it'll spill, right? That's a bit like training a machine learning model. If you train it for too long, it might just \"spill\" or overfit. This is where \"early stopping\" comes into play.\n",
    "\n",
    "Think of early stopping as a friend who tells you to stop pouring water once the glass is full. In machine learning, rather than pouring water, you're improving your model's performance. You keep on training until your model stops getting better, or even starts to get worse. \n",
    "\n",
    "Instead of saying, \"I'll train for 1000 rounds no matter what,\" you say, \"I'll train until my model stops improving.\" But how long should you wait before deciding it's not improving? 10 rounds? 100 rounds? That's up to you.\n",
    "\n",
    "**Example**: Imagine you're climbing a hill. You want to get to the top (best performance). Each step you take is like a training round. Now, if you take 10 steps and don’t reach a higher point than before, maybe it's time to say, \"I'm probably at the top.\" That's early stopping.\n",
    "\n",
    "In XGBoost:\n",
    "- `early_stopping_rounds=10` means you'll stop if 10 consecutive rounds don't improve the model.\n",
    "- `early_stopping_rounds=100` means you'll be more patient and wait for 100 rounds.\n",
    "\n",
    "## **But How Do We Know If We're Improving?**\n",
    "\n",
    "Great question! We need a way to measure. That's where `eval_set` and `eval_metric` come in.\n",
    "\n",
    "### **1. `eval_set`**\n",
    "This is like having a checkpoint on your hill climb. You check your altitude (performance) here. In machine learning, it's a set of data you use to evaluate your model's performance. Typically, it's your test data (`X_test`, `y_test`).\n",
    "\n",
    "### **2. `eval_metric`**\n",
    "This is your altitude meter. It tells you how high you are (how good your model is). For instance:\n",
    "- If you're classifying things (like apples vs oranges), you might use `error` as your metric.\n",
    "- If you're predicting numbers (like house prices), `rmse` might be your pick.\n",
    "\n",
    "When you use XGBoost's `.fit()`, you provide these two so the algorithm knows how it's doing after each round.\n",
    "\n",
    "## **Wrapping Up**\n",
    "\n",
    "Always remember, machine learning is like exploring nature. You're trying to find patterns, and sometimes, you don't need to look forever to see them. Early stopping helps ensure you see enough, but not too much that you start imagining patterns that aren't there.\n",
    "\n",
    "And as with many things in life and science, it's about balance. Train enough to understand, but stop before you over-complicate things."
   ]
  },
  {
   "cell_type": "code",
   "execution_count": 1,
   "id": "042691bc-88d5-4547-b9e4-046b25048b85",
   "metadata": {},
   "outputs": [],
   "source": [
    "import os\n",
    "import warnings\n",
    "\n",
    "os.environ['PYTHONWARNINGS'] = 'ignore::FutureWarning' \n",
    "\n",
    "import numpy as np\n",
    "import pandas as pd\n",
    "from sklearn import datasets\n",
    "from sklearn.model_selection import (train_test_split, cross_val_score, \n",
    "                        StratifiedKFold, GridSearchCV, RandomizedSearchCV)\n",
    "\n",
    "from xgboost import XGBClassifier\n",
    "from sklearn.metrics import accuracy_score\n",
    "\n",
    "from helper_file import *\n",
    "\n",
    "warnings.filterwarnings(\"ignore\", category=FutureWarning) \n",
    "# export PYTHONWARNINGS=\"ignore::FutureWarning\""
   ]
  },
  {
   "cell_type": "code",
   "execution_count": 2,
   "id": "aa6cfff3-458d-4a9a-a617-acafb7647010",
   "metadata": {},
   "outputs": [
    {
     "name": "stdout",
     "output_type": "stream",
     "text": [
      "1.7.6\n"
     ]
    }
   ],
   "source": [
    "import xgboost\n",
    "print(xgboost.__version__)"
   ]
  },
  {
   "cell_type": "code",
   "execution_count": 3,
   "id": "7497383d-393a-461c-b52c-bf6585082ca3",
   "metadata": {},
   "outputs": [
    {
     "data": {
      "text/html": [
       "<div>\n",
       "<style scoped>\n",
       "    .dataframe tbody tr th:only-of-type {\n",
       "        vertical-align: middle;\n",
       "    }\n",
       "\n",
       "    .dataframe tbody tr th {\n",
       "        vertical-align: top;\n",
       "    }\n",
       "\n",
       "    .dataframe thead th {\n",
       "        text-align: right;\n",
       "    }\n",
       "</style>\n",
       "<table border=\"1\" class=\"dataframe\">\n",
       "  <thead>\n",
       "    <tr style=\"text-align: right;\">\n",
       "      <th></th>\n",
       "      <th>age</th>\n",
       "      <th>sex</th>\n",
       "      <th>cp</th>\n",
       "      <th>trestbps</th>\n",
       "      <th>chol</th>\n",
       "      <th>fbs</th>\n",
       "      <th>restecg</th>\n",
       "      <th>thalach</th>\n",
       "      <th>exang</th>\n",
       "      <th>oldpeak</th>\n",
       "      <th>slope</th>\n",
       "      <th>ca</th>\n",
       "      <th>thal</th>\n",
       "      <th>target</th>\n",
       "    </tr>\n",
       "  </thead>\n",
       "  <tbody>\n",
       "    <tr>\n",
       "      <th>242</th>\n",
       "      <td>64</td>\n",
       "      <td>1</td>\n",
       "      <td>0</td>\n",
       "      <td>145</td>\n",
       "      <td>212</td>\n",
       "      <td>0</td>\n",
       "      <td>0</td>\n",
       "      <td>132</td>\n",
       "      <td>0</td>\n",
       "      <td>2.0</td>\n",
       "      <td>1</td>\n",
       "      <td>2</td>\n",
       "      <td>1</td>\n",
       "      <td>0</td>\n",
       "    </tr>\n",
       "    <tr>\n",
       "      <th>130</th>\n",
       "      <td>54</td>\n",
       "      <td>0</td>\n",
       "      <td>2</td>\n",
       "      <td>160</td>\n",
       "      <td>201</td>\n",
       "      <td>0</td>\n",
       "      <td>1</td>\n",
       "      <td>163</td>\n",
       "      <td>0</td>\n",
       "      <td>0.0</td>\n",
       "      <td>2</td>\n",
       "      <td>1</td>\n",
       "      <td>2</td>\n",
       "      <td>1</td>\n",
       "    </tr>\n",
       "    <tr>\n",
       "      <th>208</th>\n",
       "      <td>49</td>\n",
       "      <td>1</td>\n",
       "      <td>2</td>\n",
       "      <td>120</td>\n",
       "      <td>188</td>\n",
       "      <td>0</td>\n",
       "      <td>1</td>\n",
       "      <td>139</td>\n",
       "      <td>0</td>\n",
       "      <td>2.0</td>\n",
       "      <td>1</td>\n",
       "      <td>3</td>\n",
       "      <td>3</td>\n",
       "      <td>0</td>\n",
       "    </tr>\n",
       "    <tr>\n",
       "      <th>160</th>\n",
       "      <td>56</td>\n",
       "      <td>1</td>\n",
       "      <td>1</td>\n",
       "      <td>120</td>\n",
       "      <td>240</td>\n",
       "      <td>0</td>\n",
       "      <td>1</td>\n",
       "      <td>169</td>\n",
       "      <td>0</td>\n",
       "      <td>0.0</td>\n",
       "      <td>0</td>\n",
       "      <td>0</td>\n",
       "      <td>2</td>\n",
       "      <td>1</td>\n",
       "    </tr>\n",
       "    <tr>\n",
       "      <th>124</th>\n",
       "      <td>39</td>\n",
       "      <td>0</td>\n",
       "      <td>2</td>\n",
       "      <td>94</td>\n",
       "      <td>199</td>\n",
       "      <td>0</td>\n",
       "      <td>1</td>\n",
       "      <td>179</td>\n",
       "      <td>0</td>\n",
       "      <td>0.0</td>\n",
       "      <td>2</td>\n",
       "      <td>0</td>\n",
       "      <td>2</td>\n",
       "      <td>1</td>\n",
       "    </tr>\n",
       "  </tbody>\n",
       "</table>\n",
       "</div>"
      ],
      "text/plain": [
       "     age  sex  cp  trestbps  chol  fbs  restecg  thalach  exang  oldpeak  \\\n",
       "242   64    1   0       145   212    0        0      132      0      2.0   \n",
       "130   54    0   2       160   201    0        1      163      0      0.0   \n",
       "208   49    1   2       120   188    0        1      139      0      2.0   \n",
       "160   56    1   1       120   240    0        1      169      0      0.0   \n",
       "124   39    0   2        94   199    0        1      179      0      0.0   \n",
       "\n",
       "     slope  ca  thal  target  \n",
       "242      1   2     1       0  \n",
       "130      2   1     2       1  \n",
       "208      1   3     3       0  \n",
       "160      0   0     2       1  \n",
       "124      2   0     2       1  "
      ]
     },
     "execution_count": 3,
     "metadata": {},
     "output_type": "execute_result"
    }
   ],
   "source": [
    "data_path = \"data/heart_disease.csv\"\n",
    "df = pd.read_csv(data_path)\n",
    "df.sample(n=5, random_state=43)"
   ]
  },
  {
   "cell_type": "code",
   "execution_count": 4,
   "id": "8140a3d1-eacf-438f-ab28-21df1a9abc75",
   "metadata": {},
   "outputs": [
    {
     "name": "stdout",
     "output_type": "stream",
     "text": [
      "shape of target vector: (303,)\n",
      "shape of feature matrix: (303, 13)\n"
     ]
    }
   ],
   "source": [
    "X, y = splitX_y(df, 'target')\n",
    "\n",
    "print(f\"shape of target vector: {y.shape}\")\n",
    "print(f\"shape of feature matrix: {X.shape}\")"
   ]
  },
  {
   "cell_type": "code",
   "execution_count": 5,
   "id": "caa12f37-fbb3-4d56-b785-4786b450a284",
   "metadata": {},
   "outputs": [],
   "source": [
    "# Declare eval_metric:\n",
    "eval_metric = 'error'"
   ]
  },
  {
   "cell_type": "code",
   "execution_count": 7,
   "id": "d9b20ee4-5cde-478b-9d69-7bf744837b91",
   "metadata": {},
   "outputs": [],
   "source": [
    "X_train, X_test, y_train, y_test = train_test_split(X, y, random_state=43)\n",
    "\n",
    "# set up your XGBoost model with eval_metric\n",
    "model = XGBClassifier(booster='gbtree', objective='binary:logistic', \n",
    "                      eval_metric=eval_metric,\n",
    "                      random_state=43)"
   ]
  },
  {
   "cell_type": "code",
   "execution_count": 8,
   "id": "7709e1bb-b2b3-48e0-b678-58b32fd620f2",
   "metadata": {},
   "outputs": [],
   "source": [
    "# Declare eval_set:\n",
    "eval_set = [(X_test, y_test)]"
   ]
  },
  {
   "cell_type": "code",
   "execution_count": 9,
   "id": "55908de9-fc81-44ba-8a67-1b9cc1da564b",
   "metadata": {},
   "outputs": [
    {
     "name": "stdout",
     "output_type": "stream",
     "text": [
      "[0]\tvalidation_0-error:0.22368\n",
      "[1]\tvalidation_0-error:0.18421\n",
      "[2]\tvalidation_0-error:0.21053\n",
      "[3]\tvalidation_0-error:0.19737\n",
      "[4]\tvalidation_0-error:0.18421\n",
      "[5]\tvalidation_0-error:0.15789\n",
      "[6]\tvalidation_0-error:0.15789\n",
      "[7]\tvalidation_0-error:0.15789\n",
      "[8]\tvalidation_0-error:0.17105\n",
      "[9]\tvalidation_0-error:0.17105\n",
      "[10]\tvalidation_0-error:0.17105\n",
      "[11]\tvalidation_0-error:0.17105\n",
      "[12]\tvalidation_0-error:0.17105\n",
      "[13]\tvalidation_0-error:0.17105\n",
      "[14]\tvalidation_0-error:0.15789\n",
      "[15]\tvalidation_0-error:0.14474\n",
      "[16]\tvalidation_0-error:0.13158\n",
      "[17]\tvalidation_0-error:0.14474\n",
      "[18]\tvalidation_0-error:0.13158\n",
      "[19]\tvalidation_0-error:0.13158\n",
      "[20]\tvalidation_0-error:0.14474\n",
      "[21]\tvalidation_0-error:0.14474\n",
      "[22]\tvalidation_0-error:0.14474\n",
      "[23]\tvalidation_0-error:0.13158\n",
      "[24]\tvalidation_0-error:0.11842\n",
      "[25]\tvalidation_0-error:0.14474\n",
      "[26]\tvalidation_0-error:0.14474\n",
      "[27]\tvalidation_0-error:0.13158\n",
      "[28]\tvalidation_0-error:0.13158\n",
      "[29]\tvalidation_0-error:0.13158\n",
      "[30]\tvalidation_0-error:0.13158\n",
      "[31]\tvalidation_0-error:0.13158\n",
      "[32]\tvalidation_0-error:0.13158\n",
      "[33]\tvalidation_0-error:0.11842\n",
      "[34]\tvalidation_0-error:0.13158\n",
      "[35]\tvalidation_0-error:0.13158\n",
      "[36]\tvalidation_0-error:0.13158\n",
      "[37]\tvalidation_0-error:0.13158\n",
      "[38]\tvalidation_0-error:0.13158\n",
      "[39]\tvalidation_0-error:0.13158\n",
      "[40]\tvalidation_0-error:0.13158\n",
      "[41]\tvalidation_0-error:0.13158\n",
      "[42]\tvalidation_0-error:0.13158\n",
      "[43]\tvalidation_0-error:0.13158\n",
      "[44]\tvalidation_0-error:0.13158\n",
      "[45]\tvalidation_0-error:0.11842\n",
      "[46]\tvalidation_0-error:0.13158\n",
      "[47]\tvalidation_0-error:0.13158\n",
      "[48]\tvalidation_0-error:0.13158\n",
      "[49]\tvalidation_0-error:0.13158\n",
      "[50]\tvalidation_0-error:0.13158\n",
      "[51]\tvalidation_0-error:0.13158\n",
      "[52]\tvalidation_0-error:0.13158\n",
      "[53]\tvalidation_0-error:0.13158\n",
      "[54]\tvalidation_0-error:0.13158\n",
      "[55]\tvalidation_0-error:0.13158\n",
      "[56]\tvalidation_0-error:0.13158\n",
      "[57]\tvalidation_0-error:0.13158\n",
      "[58]\tvalidation_0-error:0.13158\n",
      "[59]\tvalidation_0-error:0.13158\n",
      "[60]\tvalidation_0-error:0.13158\n",
      "[61]\tvalidation_0-error:0.13158\n",
      "[62]\tvalidation_0-error:0.13158\n",
      "[63]\tvalidation_0-error:0.13158\n",
      "[64]\tvalidation_0-error:0.13158\n",
      "[65]\tvalidation_0-error:0.13158\n",
      "[66]\tvalidation_0-error:0.11842\n",
      "[67]\tvalidation_0-error:0.13158\n",
      "[68]\tvalidation_0-error:0.13158\n",
      "[69]\tvalidation_0-error:0.13158\n",
      "[70]\tvalidation_0-error:0.13158\n",
      "[71]\tvalidation_0-error:0.13158\n",
      "[72]\tvalidation_0-error:0.11842\n",
      "[73]\tvalidation_0-error:0.11842\n",
      "[74]\tvalidation_0-error:0.11842\n",
      "[75]\tvalidation_0-error:0.11842\n",
      "[76]\tvalidation_0-error:0.11842\n",
      "[77]\tvalidation_0-error:0.11842\n",
      "[78]\tvalidation_0-error:0.11842\n",
      "[79]\tvalidation_0-error:0.11842\n",
      "[80]\tvalidation_0-error:0.11842\n",
      "[81]\tvalidation_0-error:0.11842\n",
      "[82]\tvalidation_0-error:0.11842\n",
      "[83]\tvalidation_0-error:0.13158\n",
      "[84]\tvalidation_0-error:0.13158\n",
      "[85]\tvalidation_0-error:0.13158\n",
      "[86]\tvalidation_0-error:0.13158\n",
      "[87]\tvalidation_0-error:0.13158\n",
      "[88]\tvalidation_0-error:0.13158\n",
      "[89]\tvalidation_0-error:0.13158\n",
      "[90]\tvalidation_0-error:0.13158\n",
      "[91]\tvalidation_0-error:0.13158\n",
      "[92]\tvalidation_0-error:0.13158\n",
      "[93]\tvalidation_0-error:0.13158\n",
      "[94]\tvalidation_0-error:0.13158\n",
      "[95]\tvalidation_0-error:0.13158\n",
      "[96]\tvalidation_0-error:0.13158\n",
      "[97]\tvalidation_0-error:0.14474\n",
      "[98]\tvalidation_0-error:0.15789\n",
      "[99]\tvalidation_0-error:0.15789\n"
     ]
    },
    {
     "data": {
      "text/html": [
       "<style>#sk-container-id-1 {color: black;}#sk-container-id-1 pre{padding: 0;}#sk-container-id-1 div.sk-toggleable {background-color: white;}#sk-container-id-1 label.sk-toggleable__label {cursor: pointer;display: block;width: 100%;margin-bottom: 0;padding: 0.3em;box-sizing: border-box;text-align: center;}#sk-container-id-1 label.sk-toggleable__label-arrow:before {content: \"▸\";float: left;margin-right: 0.25em;color: #696969;}#sk-container-id-1 label.sk-toggleable__label-arrow:hover:before {color: black;}#sk-container-id-1 div.sk-estimator:hover label.sk-toggleable__label-arrow:before {color: black;}#sk-container-id-1 div.sk-toggleable__content {max-height: 0;max-width: 0;overflow: hidden;text-align: left;background-color: #f0f8ff;}#sk-container-id-1 div.sk-toggleable__content pre {margin: 0.2em;color: black;border-radius: 0.25em;background-color: #f0f8ff;}#sk-container-id-1 input.sk-toggleable__control:checked~div.sk-toggleable__content {max-height: 200px;max-width: 100%;overflow: auto;}#sk-container-id-1 input.sk-toggleable__control:checked~label.sk-toggleable__label-arrow:before {content: \"▾\";}#sk-container-id-1 div.sk-estimator input.sk-toggleable__control:checked~label.sk-toggleable__label {background-color: #d4ebff;}#sk-container-id-1 div.sk-label input.sk-toggleable__control:checked~label.sk-toggleable__label {background-color: #d4ebff;}#sk-container-id-1 input.sk-hidden--visually {border: 0;clip: rect(1px 1px 1px 1px);clip: rect(1px, 1px, 1px, 1px);height: 1px;margin: -1px;overflow: hidden;padding: 0;position: absolute;width: 1px;}#sk-container-id-1 div.sk-estimator {font-family: monospace;background-color: #f0f8ff;border: 1px dotted black;border-radius: 0.25em;box-sizing: border-box;margin-bottom: 0.5em;}#sk-container-id-1 div.sk-estimator:hover {background-color: #d4ebff;}#sk-container-id-1 div.sk-parallel-item::after {content: \"\";width: 100%;border-bottom: 1px solid gray;flex-grow: 1;}#sk-container-id-1 div.sk-label:hover label.sk-toggleable__label {background-color: #d4ebff;}#sk-container-id-1 div.sk-serial::before {content: \"\";position: absolute;border-left: 1px solid gray;box-sizing: border-box;top: 0;bottom: 0;left: 50%;z-index: 0;}#sk-container-id-1 div.sk-serial {display: flex;flex-direction: column;align-items: center;background-color: white;padding-right: 0.2em;padding-left: 0.2em;position: relative;}#sk-container-id-1 div.sk-item {position: relative;z-index: 1;}#sk-container-id-1 div.sk-parallel {display: flex;align-items: stretch;justify-content: center;background-color: white;position: relative;}#sk-container-id-1 div.sk-item::before, #sk-container-id-1 div.sk-parallel-item::before {content: \"\";position: absolute;border-left: 1px solid gray;box-sizing: border-box;top: 0;bottom: 0;left: 50%;z-index: -1;}#sk-container-id-1 div.sk-parallel-item {display: flex;flex-direction: column;z-index: 1;position: relative;background-color: white;}#sk-container-id-1 div.sk-parallel-item:first-child::after {align-self: flex-end;width: 50%;}#sk-container-id-1 div.sk-parallel-item:last-child::after {align-self: flex-start;width: 50%;}#sk-container-id-1 div.sk-parallel-item:only-child::after {width: 0;}#sk-container-id-1 div.sk-dashed-wrapped {border: 1px dashed gray;margin: 0 0.4em 0.5em 0.4em;box-sizing: border-box;padding-bottom: 0.4em;background-color: white;}#sk-container-id-1 div.sk-label label {font-family: monospace;font-weight: bold;display: inline-block;line-height: 1.2em;}#sk-container-id-1 div.sk-label-container {text-align: center;}#sk-container-id-1 div.sk-container {/* jupyter's `normalize.less` sets `[hidden] { display: none; }` but bootstrap.min.css set `[hidden] { display: none !important; }` so we also need the `!important` here to be able to override the default hidden behavior on the sphinx rendered scikit-learn.org. See: https://github.com/scikit-learn/scikit-learn/issues/21755 */display: inline-block !important;position: relative;}#sk-container-id-1 div.sk-text-repr-fallback {display: none;}</style><div id=\"sk-container-id-1\" class=\"sk-top-container\"><div class=\"sk-text-repr-fallback\"><pre>XGBClassifier(base_score=None, booster=&#x27;gbtree&#x27;, callbacks=None,\n",
       "              colsample_bylevel=None, colsample_bynode=None,\n",
       "              colsample_bytree=None, early_stopping_rounds=None,\n",
       "              enable_categorical=False, eval_metric=&#x27;error&#x27;, feature_types=None,\n",
       "              gamma=None, gpu_id=None, grow_policy=None, importance_type=None,\n",
       "              interaction_constraints=None, learning_rate=None, max_bin=None,\n",
       "              max_cat_threshold=None, max_cat_to_onehot=None,\n",
       "              max_delta_step=None, max_depth=None, max_leaves=None,\n",
       "              min_child_weight=None, missing=nan, monotone_constraints=None,\n",
       "              n_estimators=100, n_jobs=None, num_parallel_tree=None,\n",
       "              predictor=None, random_state=43, ...)</pre><b>In a Jupyter environment, please rerun this cell to show the HTML representation or trust the notebook. <br />On GitHub, the HTML representation is unable to render, please try loading this page with nbviewer.org.</b></div><div class=\"sk-container\" hidden><div class=\"sk-item\"><div class=\"sk-estimator sk-toggleable\"><input class=\"sk-toggleable__control sk-hidden--visually\" id=\"sk-estimator-id-1\" type=\"checkbox\" checked><label for=\"sk-estimator-id-1\" class=\"sk-toggleable__label sk-toggleable__label-arrow\">XGBClassifier</label><div class=\"sk-toggleable__content\"><pre>XGBClassifier(base_score=None, booster=&#x27;gbtree&#x27;, callbacks=None,\n",
       "              colsample_bylevel=None, colsample_bynode=None,\n",
       "              colsample_bytree=None, early_stopping_rounds=None,\n",
       "              enable_categorical=False, eval_metric=&#x27;error&#x27;, feature_types=None,\n",
       "              gamma=None, gpu_id=None, grow_policy=None, importance_type=None,\n",
       "              interaction_constraints=None, learning_rate=None, max_bin=None,\n",
       "              max_cat_threshold=None, max_cat_to_onehot=None,\n",
       "              max_delta_step=None, max_depth=None, max_leaves=None,\n",
       "              min_child_weight=None, missing=nan, monotone_constraints=None,\n",
       "              n_estimators=100, n_jobs=None, num_parallel_tree=None,\n",
       "              predictor=None, random_state=43, ...)</pre></div></div></div></div></div>"
      ],
      "text/plain": [
       "XGBClassifier(base_score=None, booster='gbtree', callbacks=None,\n",
       "              colsample_bylevel=None, colsample_bynode=None,\n",
       "              colsample_bytree=None, early_stopping_rounds=None,\n",
       "              enable_categorical=False, eval_metric='error', feature_types=None,\n",
       "              gamma=None, gpu_id=None, grow_policy=None, importance_type=None,\n",
       "              interaction_constraints=None, learning_rate=None, max_bin=None,\n",
       "              max_cat_threshold=None, max_cat_to_onehot=None,\n",
       "              max_delta_step=None, max_depth=None, max_leaves=None,\n",
       "              min_child_weight=None, missing=nan, monotone_constraints=None,\n",
       "              n_estimators=100, n_jobs=None, num_parallel_tree=None,\n",
       "              predictor=None, random_state=43, ...)"
      ]
     },
     "execution_count": 9,
     "metadata": {},
     "output_type": "execute_result"
    }
   ],
   "source": [
    "# Fit the model with and eval_set:\n",
    "model.fit(X_train, y_train, eval_set=eval_set)"
   ]
  },
  {
   "cell_type": "code",
   "execution_count": 10,
   "id": "83c9dbe9-e4a1-4b69-9893-19452f0abc56",
   "metadata": {},
   "outputs": [
    {
     "name": "stdout",
     "output_type": "stream",
     "text": [
      "The best score was achieved using 100 trees.\n"
     ]
    }
   ],
   "source": [
    "# Get the best iteration\n",
    "best_iteration = model.get_booster().best_iteration\n",
    "\n",
    "# Since iteration starts from 0, add 1 to get the number of trees\n",
    "num_trees = best_iteration + 1\n",
    "\n",
    "print(f\"The best score was achieved using {num_trees} trees.\")\n"
   ]
  },
  {
   "cell_type": "code",
   "execution_count": 11,
   "id": "fad65c09-e9bc-4e13-8cb5-fd83bf50dfaf",
   "metadata": {},
   "outputs": [
    {
     "name": "stdout",
     "output_type": "stream",
     "text": [
      "Accuracy: 84.21%\n"
     ]
    }
   ],
   "source": [
    "# Check the final score:\n",
    "\n",
    "y_pred = model.predict(X_test)\n",
    "\n",
    "accuracy = accuracy_score(y_test, y_pred)\n",
    "\n",
    "print(f\"Accuracy: {accuracy * 100:.2f}%\")"
   ]
  },
  {
   "cell_type": "markdown",
   "id": "c78f0ea7-5a9f-4a82-8253-c380c8f55f82",
   "metadata": {},
   "source": [
    "### **`early_stopping_rounds`**\n",
    "\n",
    "`early_stopping_rounds` is an optional parameter to include with `eval_metric` and `eval_set` when fitting a model.\n",
    "\n",
    "Let's try `early_stopping_rounds=10`.\n",
    "\n",
    "The previous code is repeated with `early_stopping_rounds=10` added in:"
   ]
  },
  {
   "cell_type": "code",
   "execution_count": 12,
   "id": "7ab887a8-76bf-4595-92ff-ad505408111b",
   "metadata": {},
   "outputs": [
    {
     "name": "stdout",
     "output_type": "stream",
     "text": [
      "[0]\tvalidation_0-error:0.22368\n",
      "[1]\tvalidation_0-error:0.18421\n",
      "[2]\tvalidation_0-error:0.21053\n",
      "[3]\tvalidation_0-error:0.19737\n",
      "[4]\tvalidation_0-error:0.18421\n",
      "[5]\tvalidation_0-error:0.15789\n",
      "[6]\tvalidation_0-error:0.15789\n",
      "[7]\tvalidation_0-error:0.15789\n",
      "[8]\tvalidation_0-error:0.17105\n",
      "[9]\tvalidation_0-error:0.17105\n",
      "[10]\tvalidation_0-error:0.17105\n",
      "[11]\tvalidation_0-error:0.17105\n",
      "[12]\tvalidation_0-error:0.17105\n",
      "[13]\tvalidation_0-error:0.17105\n",
      "[14]\tvalidation_0-error:0.15789\n",
      "[15]\tvalidation_0-error:0.14474\n",
      "[16]\tvalidation_0-error:0.13158\n",
      "[17]\tvalidation_0-error:0.14474\n",
      "[18]\tvalidation_0-error:0.13158\n",
      "[19]\tvalidation_0-error:0.13158\n",
      "[20]\tvalidation_0-error:0.14474\n",
      "[21]\tvalidation_0-error:0.14474\n",
      "[22]\tvalidation_0-error:0.14474\n",
      "[23]\tvalidation_0-error:0.13158\n",
      "[24]\tvalidation_0-error:0.11842\n",
      "[25]\tvalidation_0-error:0.14474\n",
      "[26]\tvalidation_0-error:0.14474\n",
      "[27]\tvalidation_0-error:0.13158\n",
      "[28]\tvalidation_0-error:0.13158\n",
      "[29]\tvalidation_0-error:0.13158\n",
      "[30]\tvalidation_0-error:0.13158\n",
      "[31]\tvalidation_0-error:0.13158\n",
      "[32]\tvalidation_0-error:0.13158\n",
      "[33]\tvalidation_0-error:0.11842\n",
      "[34]\tvalidation_0-error:0.13158\n",
      "Accuracy: 88.16%\n"
     ]
    }
   ],
   "source": [
    "# Create the model with the necessary parameters\n",
    "model = XGBClassifier(booster='gbtree', objective='binary:logistic', \n",
    "                      eval_metric=eval_metric, early_stopping_rounds=10,\n",
    "                      random_state=43)\n",
    "\n",
    "# Fit the model without specifying the early_stopping_rounds in the fit method\n",
    "model.fit(X_train, y_train, eval_set=eval_set, verbose=True)\n",
    "\n",
    "# Predict using the trained model\n",
    "y_pred = model.predict(X_test)\n",
    "\n",
    "# Calculate the accuracy\n",
    "accuracy = accuracy_score(y_test, y_pred)\n",
    "\n",
    "# Print the accuracy\n",
    "print(f\"Accuracy: {accuracy * 100:.2f}%\")\n"
   ]
  },
  {
   "cell_type": "code",
   "execution_count": 13,
   "id": "992c929e-c8f1-49ae-a8b2-bfbdba9fe514",
   "metadata": {},
   "outputs": [
    {
     "name": "stdout",
     "output_type": "stream",
     "text": [
      "The best score was achieved using 25 trees.\n"
     ]
    }
   ],
   "source": [
    "# Get the best iteration\n",
    "best_iteration = model.get_booster().best_iteration\n",
    "\n",
    "# Since iteration starts from 0, add 1 to get the number of trees\n",
    "num_trees = best_iteration + 1\n",
    "\n",
    "print(f\"The best score was achieved using {num_trees} trees.\")\n"
   ]
  },
  {
   "cell_type": "code",
   "execution_count": 14,
   "id": "bd147cba",
   "metadata": {},
   "outputs": [
    {
     "name": "stdout",
     "output_type": "stream",
     "text": [
      "[0]\tvalidation_0-error:0.22368\n",
      "[1]\tvalidation_0-error:0.18421\n",
      "[2]\tvalidation_0-error:0.21053\n",
      "[3]\tvalidation_0-error:0.19737\n",
      "[4]\tvalidation_0-error:0.18421\n",
      "[5]\tvalidation_0-error:0.15789\n",
      "[6]\tvalidation_0-error:0.15789\n",
      "[7]\tvalidation_0-error:0.15789\n",
      "[8]\tvalidation_0-error:0.17105\n",
      "[9]\tvalidation_0-error:0.17105\n",
      "[10]\tvalidation_0-error:0.17105\n",
      "[11]\tvalidation_0-error:0.17105\n",
      "[12]\tvalidation_0-error:0.17105\n",
      "[13]\tvalidation_0-error:0.17105\n",
      "[14]\tvalidation_0-error:0.15789\n",
      "[15]\tvalidation_0-error:0.14474\n",
      "[16]\tvalidation_0-error:0.13158\n",
      "[17]\tvalidation_0-error:0.14474\n",
      "[18]\tvalidation_0-error:0.13158\n",
      "[19]\tvalidation_0-error:0.13158\n",
      "[20]\tvalidation_0-error:0.14474\n",
      "[21]\tvalidation_0-error:0.14474\n",
      "[22]\tvalidation_0-error:0.14474\n",
      "[23]\tvalidation_0-error:0.13158\n",
      "[24]\tvalidation_0-error:0.11842\n",
      "[25]\tvalidation_0-error:0.14474\n",
      "[26]\tvalidation_0-error:0.14474\n",
      "[27]\tvalidation_0-error:0.13158\n",
      "[28]\tvalidation_0-error:0.13158\n",
      "[29]\tvalidation_0-error:0.13158\n",
      "[30]\tvalidation_0-error:0.13158\n",
      "[31]\tvalidation_0-error:0.13158\n",
      "[32]\tvalidation_0-error:0.13158\n",
      "[33]\tvalidation_0-error:0.11842\n",
      "[34]\tvalidation_0-error:0.13158\n",
      "Accuracy: 88.16%\n"
     ]
    }
   ],
   "source": [
    "# Create the model with the necessary parameters\n",
    "model = XGBClassifier(booster='gbtree', objective='binary:logistic', \n",
    "                      eval_metric=eval_metric, early_stopping_rounds=10,\n",
    "                      random_state=43)\n",
    "\n",
    "# Fit the model without specifying the early_stopping_rounds in the fit method\n",
    "model.fit(X_train, y_train, eval_set=eval_set, verbose=True)\n",
    "\n",
    "# Predict using the trained model\n",
    "y_pred = model.predict(X_test)\n",
    "\n",
    "# Calculate the accuracy\n",
    "accuracy = accuracy_score(y_test, y_pred)\n",
    "\n",
    "# Print the accuracy\n",
    "print(f\"Accuracy: {accuracy * 100:.2f}%\")\n"
   ]
  },
  {
   "cell_type": "code",
   "execution_count": 15,
   "id": "2e4accf3-329c-46ee-bf4b-03e3f5f84d22",
   "metadata": {},
   "outputs": [
    {
     "name": "stdout",
     "output_type": "stream",
     "text": [
      "The best score was achieved using 25 trees.\n"
     ]
    }
   ],
   "source": [
    "# Get the best iteration\n",
    "best_iteration = model.get_booster().best_iteration\n",
    "\n",
    "# Since iteration starts from 0, add 1 to get the number of trees\n",
    "num_trees = best_iteration + 1\n",
    "\n",
    "print(f\"The best score was achieved using {num_trees} trees.\")\n"
   ]
  },
  {
   "cell_type": "code",
   "execution_count": 16,
   "id": "50af9327",
   "metadata": {},
   "outputs": [
    {
     "name": "stdout",
     "output_type": "stream",
     "text": [
      "[0]\tvalidation_0-error:0.22368\n",
      "[1]\tvalidation_0-error:0.18421\n",
      "[2]\tvalidation_0-error:0.21053\n",
      "[3]\tvalidation_0-error:0.19737\n",
      "[4]\tvalidation_0-error:0.18421\n",
      "[5]\tvalidation_0-error:0.15789\n",
      "[6]\tvalidation_0-error:0.15789\n",
      "[7]\tvalidation_0-error:0.15789\n",
      "[8]\tvalidation_0-error:0.17105\n",
      "[9]\tvalidation_0-error:0.17105\n",
      "[10]\tvalidation_0-error:0.17105\n",
      "[11]\tvalidation_0-error:0.17105\n",
      "[12]\tvalidation_0-error:0.17105\n",
      "[13]\tvalidation_0-error:0.17105\n",
      "[14]\tvalidation_0-error:0.15789\n",
      "[15]\tvalidation_0-error:0.14474\n",
      "[16]\tvalidation_0-error:0.13158\n",
      "[17]\tvalidation_0-error:0.14474\n",
      "[18]\tvalidation_0-error:0.13158\n",
      "[19]\tvalidation_0-error:0.13158\n",
      "[20]\tvalidation_0-error:0.14474\n",
      "[21]\tvalidation_0-error:0.14474\n",
      "[22]\tvalidation_0-error:0.14474\n",
      "[23]\tvalidation_0-error:0.13158\n",
      "[24]\tvalidation_0-error:0.11842\n",
      "[25]\tvalidation_0-error:0.14474\n",
      "[26]\tvalidation_0-error:0.14474\n",
      "[27]\tvalidation_0-error:0.13158\n",
      "[28]\tvalidation_0-error:0.13158\n",
      "[29]\tvalidation_0-error:0.13158\n",
      "[30]\tvalidation_0-error:0.13158\n",
      "[31]\tvalidation_0-error:0.13158\n",
      "[32]\tvalidation_0-error:0.13158\n",
      "[33]\tvalidation_0-error:0.11842\n"
     ]
    },
    {
     "data": {
      "text/html": [
       "<style>#sk-container-id-2 {color: black;}#sk-container-id-2 pre{padding: 0;}#sk-container-id-2 div.sk-toggleable {background-color: white;}#sk-container-id-2 label.sk-toggleable__label {cursor: pointer;display: block;width: 100%;margin-bottom: 0;padding: 0.3em;box-sizing: border-box;text-align: center;}#sk-container-id-2 label.sk-toggleable__label-arrow:before {content: \"▸\";float: left;margin-right: 0.25em;color: #696969;}#sk-container-id-2 label.sk-toggleable__label-arrow:hover:before {color: black;}#sk-container-id-2 div.sk-estimator:hover label.sk-toggleable__label-arrow:before {color: black;}#sk-container-id-2 div.sk-toggleable__content {max-height: 0;max-width: 0;overflow: hidden;text-align: left;background-color: #f0f8ff;}#sk-container-id-2 div.sk-toggleable__content pre {margin: 0.2em;color: black;border-radius: 0.25em;background-color: #f0f8ff;}#sk-container-id-2 input.sk-toggleable__control:checked~div.sk-toggleable__content {max-height: 200px;max-width: 100%;overflow: auto;}#sk-container-id-2 input.sk-toggleable__control:checked~label.sk-toggleable__label-arrow:before {content: \"▾\";}#sk-container-id-2 div.sk-estimator input.sk-toggleable__control:checked~label.sk-toggleable__label {background-color: #d4ebff;}#sk-container-id-2 div.sk-label input.sk-toggleable__control:checked~label.sk-toggleable__label {background-color: #d4ebff;}#sk-container-id-2 input.sk-hidden--visually {border: 0;clip: rect(1px 1px 1px 1px);clip: rect(1px, 1px, 1px, 1px);height: 1px;margin: -1px;overflow: hidden;padding: 0;position: absolute;width: 1px;}#sk-container-id-2 div.sk-estimator {font-family: monospace;background-color: #f0f8ff;border: 1px dotted black;border-radius: 0.25em;box-sizing: border-box;margin-bottom: 0.5em;}#sk-container-id-2 div.sk-estimator:hover {background-color: #d4ebff;}#sk-container-id-2 div.sk-parallel-item::after {content: \"\";width: 100%;border-bottom: 1px solid gray;flex-grow: 1;}#sk-container-id-2 div.sk-label:hover label.sk-toggleable__label {background-color: #d4ebff;}#sk-container-id-2 div.sk-serial::before {content: \"\";position: absolute;border-left: 1px solid gray;box-sizing: border-box;top: 0;bottom: 0;left: 50%;z-index: 0;}#sk-container-id-2 div.sk-serial {display: flex;flex-direction: column;align-items: center;background-color: white;padding-right: 0.2em;padding-left: 0.2em;position: relative;}#sk-container-id-2 div.sk-item {position: relative;z-index: 1;}#sk-container-id-2 div.sk-parallel {display: flex;align-items: stretch;justify-content: center;background-color: white;position: relative;}#sk-container-id-2 div.sk-item::before, #sk-container-id-2 div.sk-parallel-item::before {content: \"\";position: absolute;border-left: 1px solid gray;box-sizing: border-box;top: 0;bottom: 0;left: 50%;z-index: -1;}#sk-container-id-2 div.sk-parallel-item {display: flex;flex-direction: column;z-index: 1;position: relative;background-color: white;}#sk-container-id-2 div.sk-parallel-item:first-child::after {align-self: flex-end;width: 50%;}#sk-container-id-2 div.sk-parallel-item:last-child::after {align-self: flex-start;width: 50%;}#sk-container-id-2 div.sk-parallel-item:only-child::after {width: 0;}#sk-container-id-2 div.sk-dashed-wrapped {border: 1px dashed gray;margin: 0 0.4em 0.5em 0.4em;box-sizing: border-box;padding-bottom: 0.4em;background-color: white;}#sk-container-id-2 div.sk-label label {font-family: monospace;font-weight: bold;display: inline-block;line-height: 1.2em;}#sk-container-id-2 div.sk-label-container {text-align: center;}#sk-container-id-2 div.sk-container {/* jupyter's `normalize.less` sets `[hidden] { display: none; }` but bootstrap.min.css set `[hidden] { display: none !important; }` so we also need the `!important` here to be able to override the default hidden behavior on the sphinx rendered scikit-learn.org. See: https://github.com/scikit-learn/scikit-learn/issues/21755 */display: inline-block !important;position: relative;}#sk-container-id-2 div.sk-text-repr-fallback {display: none;}</style><div id=\"sk-container-id-2\" class=\"sk-top-container\"><div class=\"sk-text-repr-fallback\"><pre>XGBClassifier(base_score=None, booster=&#x27;gbtree&#x27;, callbacks=None,\n",
       "              colsample_bylevel=None, colsample_bynode=None,\n",
       "              colsample_bytree=None, early_stopping_rounds=10,\n",
       "              enable_categorical=False, eval_metric=&#x27;error&#x27;, feature_types=None,\n",
       "              gamma=None, gpu_id=None, grow_policy=None, importance_type=None,\n",
       "              interaction_constraints=None, learning_rate=None, max_bin=None,\n",
       "              max_cat_threshold=None, max_cat_to_onehot=None,\n",
       "              max_delta_step=None, max_depth=None, max_leaves=None,\n",
       "              min_child_weight=None, missing=nan, monotone_constraints=None,\n",
       "              n_estimators=100, n_jobs=None, num_parallel_tree=None,\n",
       "              predictor=None, random_state=43, ...)</pre><b>In a Jupyter environment, please rerun this cell to show the HTML representation or trust the notebook. <br />On GitHub, the HTML representation is unable to render, please try loading this page with nbviewer.org.</b></div><div class=\"sk-container\" hidden><div class=\"sk-item\"><div class=\"sk-estimator sk-toggleable\"><input class=\"sk-toggleable__control sk-hidden--visually\" id=\"sk-estimator-id-2\" type=\"checkbox\" checked><label for=\"sk-estimator-id-2\" class=\"sk-toggleable__label sk-toggleable__label-arrow\">XGBClassifier</label><div class=\"sk-toggleable__content\"><pre>XGBClassifier(base_score=None, booster=&#x27;gbtree&#x27;, callbacks=None,\n",
       "              colsample_bylevel=None, colsample_bynode=None,\n",
       "              colsample_bytree=None, early_stopping_rounds=10,\n",
       "              enable_categorical=False, eval_metric=&#x27;error&#x27;, feature_types=None,\n",
       "              gamma=None, gpu_id=None, grow_policy=None, importance_type=None,\n",
       "              interaction_constraints=None, learning_rate=None, max_bin=None,\n",
       "              max_cat_threshold=None, max_cat_to_onehot=None,\n",
       "              max_delta_step=None, max_depth=None, max_leaves=None,\n",
       "              min_child_weight=None, missing=nan, monotone_constraints=None,\n",
       "              n_estimators=100, n_jobs=None, num_parallel_tree=None,\n",
       "              predictor=None, random_state=43, ...)</pre></div></div></div></div></div>"
      ],
      "text/plain": [
       "XGBClassifier(base_score=None, booster='gbtree', callbacks=None,\n",
       "              colsample_bylevel=None, colsample_bynode=None,\n",
       "              colsample_bytree=None, early_stopping_rounds=10,\n",
       "              enable_categorical=False, eval_metric='error', feature_types=None,\n",
       "              gamma=None, gpu_id=None, grow_policy=None, importance_type=None,\n",
       "              interaction_constraints=None, learning_rate=None, max_bin=None,\n",
       "              max_cat_threshold=None, max_cat_to_onehot=None,\n",
       "              max_delta_step=None, max_depth=None, max_leaves=None,\n",
       "              min_child_weight=None, missing=nan, monotone_constraints=None,\n",
       "              n_estimators=100, n_jobs=None, num_parallel_tree=None,\n",
       "              predictor=None, random_state=43, ...)"
      ]
     },
     "execution_count": 16,
     "metadata": {},
     "output_type": "execute_result"
    }
   ],
   "source": [
    "# Create the model with the necessary parameters\n",
    "model = XGBClassifier(booster='gbtree', objective='binary:logistic', \n",
    "                      eval_metric=eval_metric, early_stopping_rounds=10,\n",
    "                      random_state=43)\n",
    "\n",
    "# Fit the model without specifying the early_stopping_rounds in the fit method\n",
    "model.fit(X_train, y_train, eval_set=eval_set, verbose=True)"
   ]
  },
  {
   "cell_type": "code",
   "execution_count": 17,
   "id": "25cf4bfa-dd46-4add-bd13-c8b78ef5d0b8",
   "metadata": {},
   "outputs": [
    {
     "name": "stdout",
     "output_type": "stream",
     "text": [
      "The best score was achieved using 25 trees.\n"
     ]
    }
   ],
   "source": [
    "# Get the best iteration\n",
    "best_iteration = model.get_booster().best_iteration\n",
    "\n",
    "# Since iteration starts from 0, add 1 to get the number of trees\n",
    "num_trees = best_iteration + 1\n",
    "\n",
    "print(f\"The best score was achieved using {num_trees} trees.\")\n"
   ]
  },
  {
   "cell_type": "code",
   "execution_count": 18,
   "id": "ef808b75-2db9-44f3-a5cd-95b08f70ce5e",
   "metadata": {},
   "outputs": [
    {
     "name": "stdout",
     "output_type": "stream",
     "text": [
      "Accuracy: 88.16%\n"
     ]
    }
   ],
   "source": [
    "# Predict using the trained model\n",
    "y_pred = model.predict(X_test)\n",
    "\n",
    "# Calculate the accuracy\n",
    "accuracy = accuracy_score(y_test, y_pred)\n",
    "\n",
    "# Print the accuracy\n",
    "print(f\"Accuracy: {accuracy * 100:.2f}%\")\n"
   ]
  },
  {
   "cell_type": "markdown",
   "id": "8fdcbc0f-cda4-482b-adcc-231f066c4fce",
   "metadata": {},
   "source": [
    "By setting early_stopping_rounds=100, you are guaranteed to reach the default of 100 boosted trees presented by XGBoost."
   ]
  },
  {
   "cell_type": "code",
   "execution_count": 19,
   "id": "567a2852-11ba-4a37-b0ce-065c52778218",
   "metadata": {},
   "outputs": [
    {
     "name": "stdout",
     "output_type": "stream",
     "text": [
      "[0]\tvalidation_0-error:0.22368\n",
      "[1]\tvalidation_0-error:0.18421\n",
      "[2]\tvalidation_0-error:0.21053\n",
      "[3]\tvalidation_0-error:0.19737\n",
      "[4]\tvalidation_0-error:0.18421\n",
      "[5]\tvalidation_0-error:0.15789\n",
      "[6]\tvalidation_0-error:0.15789\n",
      "[7]\tvalidation_0-error:0.15789\n",
      "[8]\tvalidation_0-error:0.17105\n",
      "[9]\tvalidation_0-error:0.17105\n",
      "[10]\tvalidation_0-error:0.17105\n",
      "[11]\tvalidation_0-error:0.17105\n",
      "[12]\tvalidation_0-error:0.17105\n",
      "[13]\tvalidation_0-error:0.17105\n",
      "[14]\tvalidation_0-error:0.15789\n",
      "[15]\tvalidation_0-error:0.14474\n",
      "[16]\tvalidation_0-error:0.13158\n",
      "[17]\tvalidation_0-error:0.14474\n",
      "[18]\tvalidation_0-error:0.13158\n",
      "[19]\tvalidation_0-error:0.13158\n",
      "[20]\tvalidation_0-error:0.14474\n",
      "[21]\tvalidation_0-error:0.14474\n",
      "[22]\tvalidation_0-error:0.14474\n",
      "[23]\tvalidation_0-error:0.13158\n",
      "[24]\tvalidation_0-error:0.11842\n",
      "[25]\tvalidation_0-error:0.14474\n",
      "[26]\tvalidation_0-error:0.14474\n",
      "[27]\tvalidation_0-error:0.13158\n",
      "[28]\tvalidation_0-error:0.13158\n",
      "[29]\tvalidation_0-error:0.13158\n",
      "[30]\tvalidation_0-error:0.13158\n",
      "[31]\tvalidation_0-error:0.13158\n",
      "[32]\tvalidation_0-error:0.13158\n",
      "[33]\tvalidation_0-error:0.11842\n",
      "[34]\tvalidation_0-error:0.13158\n",
      "[35]\tvalidation_0-error:0.13158\n",
      "[36]\tvalidation_0-error:0.13158\n",
      "[37]\tvalidation_0-error:0.13158\n",
      "[38]\tvalidation_0-error:0.13158\n",
      "[39]\tvalidation_0-error:0.13158\n",
      "[40]\tvalidation_0-error:0.13158\n",
      "[41]\tvalidation_0-error:0.13158\n",
      "[42]\tvalidation_0-error:0.13158\n",
      "[43]\tvalidation_0-error:0.13158\n",
      "[44]\tvalidation_0-error:0.13158\n",
      "[45]\tvalidation_0-error:0.11842\n",
      "[46]\tvalidation_0-error:0.13158\n",
      "[47]\tvalidation_0-error:0.13158\n",
      "[48]\tvalidation_0-error:0.13158\n",
      "[49]\tvalidation_0-error:0.13158\n",
      "[50]\tvalidation_0-error:0.13158\n",
      "[51]\tvalidation_0-error:0.13158\n",
      "[52]\tvalidation_0-error:0.13158\n",
      "[53]\tvalidation_0-error:0.13158\n",
      "[54]\tvalidation_0-error:0.13158\n",
      "[55]\tvalidation_0-error:0.13158\n",
      "[56]\tvalidation_0-error:0.13158\n",
      "[57]\tvalidation_0-error:0.13158\n",
      "[58]\tvalidation_0-error:0.13158\n",
      "[59]\tvalidation_0-error:0.13158\n",
      "[60]\tvalidation_0-error:0.13158\n",
      "[61]\tvalidation_0-error:0.13158\n",
      "[62]\tvalidation_0-error:0.13158\n",
      "[63]\tvalidation_0-error:0.13158\n",
      "[64]\tvalidation_0-error:0.13158\n",
      "[65]\tvalidation_0-error:0.13158\n",
      "[66]\tvalidation_0-error:0.11842\n",
      "[67]\tvalidation_0-error:0.13158\n",
      "[68]\tvalidation_0-error:0.13158\n",
      "[69]\tvalidation_0-error:0.13158\n",
      "[70]\tvalidation_0-error:0.13158\n",
      "[71]\tvalidation_0-error:0.13158\n",
      "[72]\tvalidation_0-error:0.11842\n",
      "[73]\tvalidation_0-error:0.11842\n",
      "[74]\tvalidation_0-error:0.11842\n",
      "[75]\tvalidation_0-error:0.11842\n",
      "[76]\tvalidation_0-error:0.11842\n",
      "[77]\tvalidation_0-error:0.11842\n",
      "[78]\tvalidation_0-error:0.11842\n",
      "[79]\tvalidation_0-error:0.11842\n",
      "[80]\tvalidation_0-error:0.11842\n",
      "[81]\tvalidation_0-error:0.11842\n",
      "[82]\tvalidation_0-error:0.11842\n",
      "[83]\tvalidation_0-error:0.13158\n",
      "[84]\tvalidation_0-error:0.13158\n",
      "[85]\tvalidation_0-error:0.13158\n",
      "[86]\tvalidation_0-error:0.13158\n",
      "[87]\tvalidation_0-error:0.13158\n",
      "[88]\tvalidation_0-error:0.13158\n",
      "[89]\tvalidation_0-error:0.13158\n",
      "[90]\tvalidation_0-error:0.13158\n",
      "[91]\tvalidation_0-error:0.13158\n",
      "[92]\tvalidation_0-error:0.13158\n",
      "[93]\tvalidation_0-error:0.13158\n",
      "[94]\tvalidation_0-error:0.13158\n",
      "[95]\tvalidation_0-error:0.13158\n",
      "[96]\tvalidation_0-error:0.13158\n",
      "[97]\tvalidation_0-error:0.14474\n",
      "[98]\tvalidation_0-error:0.15789\n",
      "[99]\tvalidation_0-error:0.15789\n",
      "[100]\tvalidation_0-error:0.17105\n",
      "[101]\tvalidation_0-error:0.17105\n",
      "[102]\tvalidation_0-error:0.15789\n",
      "[103]\tvalidation_0-error:0.15789\n",
      "[104]\tvalidation_0-error:0.14474\n",
      "[105]\tvalidation_0-error:0.15789\n",
      "[106]\tvalidation_0-error:0.15789\n",
      "[107]\tvalidation_0-error:0.15789\n",
      "[108]\tvalidation_0-error:0.15789\n",
      "[109]\tvalidation_0-error:0.15789\n",
      "[110]\tvalidation_0-error:0.15789\n",
      "[111]\tvalidation_0-error:0.15789\n",
      "[112]\tvalidation_0-error:0.15789\n",
      "[113]\tvalidation_0-error:0.15789\n",
      "[114]\tvalidation_0-error:0.15789\n",
      "[115]\tvalidation_0-error:0.15789\n",
      "[116]\tvalidation_0-error:0.15789\n",
      "[117]\tvalidation_0-error:0.14474\n",
      "[118]\tvalidation_0-error:0.15789\n",
      "[119]\tvalidation_0-error:0.14474\n",
      "[120]\tvalidation_0-error:0.14474\n",
      "[121]\tvalidation_0-error:0.14474\n",
      "[122]\tvalidation_0-error:0.14474\n",
      "[123]\tvalidation_0-error:0.14474\n",
      "[124]\tvalidation_0-error:0.14474\n"
     ]
    },
    {
     "data": {
      "text/html": [
       "<style>#sk-container-id-3 {color: black;}#sk-container-id-3 pre{padding: 0;}#sk-container-id-3 div.sk-toggleable {background-color: white;}#sk-container-id-3 label.sk-toggleable__label {cursor: pointer;display: block;width: 100%;margin-bottom: 0;padding: 0.3em;box-sizing: border-box;text-align: center;}#sk-container-id-3 label.sk-toggleable__label-arrow:before {content: \"▸\";float: left;margin-right: 0.25em;color: #696969;}#sk-container-id-3 label.sk-toggleable__label-arrow:hover:before {color: black;}#sk-container-id-3 div.sk-estimator:hover label.sk-toggleable__label-arrow:before {color: black;}#sk-container-id-3 div.sk-toggleable__content {max-height: 0;max-width: 0;overflow: hidden;text-align: left;background-color: #f0f8ff;}#sk-container-id-3 div.sk-toggleable__content pre {margin: 0.2em;color: black;border-radius: 0.25em;background-color: #f0f8ff;}#sk-container-id-3 input.sk-toggleable__control:checked~div.sk-toggleable__content {max-height: 200px;max-width: 100%;overflow: auto;}#sk-container-id-3 input.sk-toggleable__control:checked~label.sk-toggleable__label-arrow:before {content: \"▾\";}#sk-container-id-3 div.sk-estimator input.sk-toggleable__control:checked~label.sk-toggleable__label {background-color: #d4ebff;}#sk-container-id-3 div.sk-label input.sk-toggleable__control:checked~label.sk-toggleable__label {background-color: #d4ebff;}#sk-container-id-3 input.sk-hidden--visually {border: 0;clip: rect(1px 1px 1px 1px);clip: rect(1px, 1px, 1px, 1px);height: 1px;margin: -1px;overflow: hidden;padding: 0;position: absolute;width: 1px;}#sk-container-id-3 div.sk-estimator {font-family: monospace;background-color: #f0f8ff;border: 1px dotted black;border-radius: 0.25em;box-sizing: border-box;margin-bottom: 0.5em;}#sk-container-id-3 div.sk-estimator:hover {background-color: #d4ebff;}#sk-container-id-3 div.sk-parallel-item::after {content: \"\";width: 100%;border-bottom: 1px solid gray;flex-grow: 1;}#sk-container-id-3 div.sk-label:hover label.sk-toggleable__label {background-color: #d4ebff;}#sk-container-id-3 div.sk-serial::before {content: \"\";position: absolute;border-left: 1px solid gray;box-sizing: border-box;top: 0;bottom: 0;left: 50%;z-index: 0;}#sk-container-id-3 div.sk-serial {display: flex;flex-direction: column;align-items: center;background-color: white;padding-right: 0.2em;padding-left: 0.2em;position: relative;}#sk-container-id-3 div.sk-item {position: relative;z-index: 1;}#sk-container-id-3 div.sk-parallel {display: flex;align-items: stretch;justify-content: center;background-color: white;position: relative;}#sk-container-id-3 div.sk-item::before, #sk-container-id-3 div.sk-parallel-item::before {content: \"\";position: absolute;border-left: 1px solid gray;box-sizing: border-box;top: 0;bottom: 0;left: 50%;z-index: -1;}#sk-container-id-3 div.sk-parallel-item {display: flex;flex-direction: column;z-index: 1;position: relative;background-color: white;}#sk-container-id-3 div.sk-parallel-item:first-child::after {align-self: flex-end;width: 50%;}#sk-container-id-3 div.sk-parallel-item:last-child::after {align-self: flex-start;width: 50%;}#sk-container-id-3 div.sk-parallel-item:only-child::after {width: 0;}#sk-container-id-3 div.sk-dashed-wrapped {border: 1px dashed gray;margin: 0 0.4em 0.5em 0.4em;box-sizing: border-box;padding-bottom: 0.4em;background-color: white;}#sk-container-id-3 div.sk-label label {font-family: monospace;font-weight: bold;display: inline-block;line-height: 1.2em;}#sk-container-id-3 div.sk-label-container {text-align: center;}#sk-container-id-3 div.sk-container {/* jupyter's `normalize.less` sets `[hidden] { display: none; }` but bootstrap.min.css set `[hidden] { display: none !important; }` so we also need the `!important` here to be able to override the default hidden behavior on the sphinx rendered scikit-learn.org. See: https://github.com/scikit-learn/scikit-learn/issues/21755 */display: inline-block !important;position: relative;}#sk-container-id-3 div.sk-text-repr-fallback {display: none;}</style><div id=\"sk-container-id-3\" class=\"sk-top-container\"><div class=\"sk-text-repr-fallback\"><pre>XGBClassifier(base_score=None, booster=&#x27;gbtree&#x27;, callbacks=None,\n",
       "              colsample_bylevel=None, colsample_bynode=None,\n",
       "              colsample_bytree=None, early_stopping_rounds=100,\n",
       "              enable_categorical=False, eval_metric=&#x27;error&#x27;, feature_types=None,\n",
       "              gamma=None, gpu_id=None, grow_policy=None, importance_type=None,\n",
       "              interaction_constraints=None, learning_rate=None, max_bin=None,\n",
       "              max_cat_threshold=None, max_cat_to_onehot=None,\n",
       "              max_delta_step=None, max_depth=None, max_leaves=None,\n",
       "              min_child_weight=None, missing=nan, monotone_constraints=None,\n",
       "              n_estimators=5000, n_jobs=None, num_parallel_tree=None,\n",
       "              predictor=None, random_state=43, ...)</pre><b>In a Jupyter environment, please rerun this cell to show the HTML representation or trust the notebook. <br />On GitHub, the HTML representation is unable to render, please try loading this page with nbviewer.org.</b></div><div class=\"sk-container\" hidden><div class=\"sk-item\"><div class=\"sk-estimator sk-toggleable\"><input class=\"sk-toggleable__control sk-hidden--visually\" id=\"sk-estimator-id-3\" type=\"checkbox\" checked><label for=\"sk-estimator-id-3\" class=\"sk-toggleable__label sk-toggleable__label-arrow\">XGBClassifier</label><div class=\"sk-toggleable__content\"><pre>XGBClassifier(base_score=None, booster=&#x27;gbtree&#x27;, callbacks=None,\n",
       "              colsample_bylevel=None, colsample_bynode=None,\n",
       "              colsample_bytree=None, early_stopping_rounds=100,\n",
       "              enable_categorical=False, eval_metric=&#x27;error&#x27;, feature_types=None,\n",
       "              gamma=None, gpu_id=None, grow_policy=None, importance_type=None,\n",
       "              interaction_constraints=None, learning_rate=None, max_bin=None,\n",
       "              max_cat_threshold=None, max_cat_to_onehot=None,\n",
       "              max_delta_step=None, max_depth=None, max_leaves=None,\n",
       "              min_child_weight=None, missing=nan, monotone_constraints=None,\n",
       "              n_estimators=5000, n_jobs=None, num_parallel_tree=None,\n",
       "              predictor=None, random_state=43, ...)</pre></div></div></div></div></div>"
      ],
      "text/plain": [
       "XGBClassifier(base_score=None, booster='gbtree', callbacks=None,\n",
       "              colsample_bylevel=None, colsample_bynode=None,\n",
       "              colsample_bytree=None, early_stopping_rounds=100,\n",
       "              enable_categorical=False, eval_metric='error', feature_types=None,\n",
       "              gamma=None, gpu_id=None, grow_policy=None, importance_type=None,\n",
       "              interaction_constraints=None, learning_rate=None, max_bin=None,\n",
       "              max_cat_threshold=None, max_cat_to_onehot=None,\n",
       "              max_delta_step=None, max_depth=None, max_leaves=None,\n",
       "              min_child_weight=None, missing=nan, monotone_constraints=None,\n",
       "              n_estimators=5000, n_jobs=None, num_parallel_tree=None,\n",
       "              predictor=None, random_state=43, ...)"
      ]
     },
     "execution_count": 19,
     "metadata": {},
     "output_type": "execute_result"
    }
   ],
   "source": [
    "# Create the model with the necessary parameters\n",
    "model = XGBClassifier(booster='gbtree', objective='binary:logistic', \n",
    "                      eval_metric=eval_metric, early_stopping_rounds=100,\n",
    "                      random_state=43, n_estimators=5000                      \n",
    "                     )\n",
    "\n",
    "# Fit the model without specifying the early_stopping_rounds in the fit method\n",
    "model.fit(X_train, y_train, eval_set=eval_set, verbose=True)"
   ]
  },
  {
   "cell_type": "code",
   "execution_count": 22,
   "id": "d0559c1e-91ab-4400-94d4-857db9254087",
   "metadata": {},
   "outputs": [
    {
     "name": "stdout",
     "output_type": "stream",
     "text": [
      "Accuracy: 88.16%\n"
     ]
    }
   ],
   "source": [
    "# Predict using the trained model\n",
    "y_pred = model.predict(X_test)\n",
    "\n",
    "# Calculate the accuracy\n",
    "accuracy = accuracy_score(y_test, y_pred)\n",
    "\n",
    "# Print the accuracy\n",
    "print(f\"Accuracy: {accuracy * 100:.2f}%\")\n"
   ]
  },
  {
   "cell_type": "markdown",
   "id": "6ee8645e-b333-4994-8895-93ad85e6e8e6",
   "metadata": {},
   "source": [
    "The best score was achieved using 25 trees."
   ]
  },
  {
   "cell_type": "code",
   "execution_count": 23,
   "id": "b5fdbc5f-d95f-48f7-a550-8a7688f1d8eb",
   "metadata": {},
   "outputs": [
    {
     "name": "stdout",
     "output_type": "stream",
     "text": [
      "The best score was achieved using 25 trees.\n"
     ]
    }
   ],
   "source": [
    "# Get the best iteration\n",
    "best_iteration = model.get_booster().best_iteration\n",
    "\n",
    "# Since iteration starts from 0, add 1 to get the number of trees\n",
    "num_trees = best_iteration + 1\n",
    "\n",
    "print(f\"The best score was achieved using {num_trees} trees.\")\n"
   ]
  },
  {
   "cell_type": "code",
   "execution_count": null,
   "id": "e7e743d4-1f8b-4c97-8482-95670cc55a57",
   "metadata": {},
   "outputs": [],
   "source": []
  }
 ],
 "metadata": {
  "kernelspec": {
   "display_name": "Python 3 (ipykernel)",
   "language": "python",
   "name": "python3"
  },
  "language_info": {
   "codemirror_mode": {
    "name": "ipython",
    "version": 3
   },
   "file_extension": ".py",
   "mimetype": "text/x-python",
   "name": "python",
   "nbconvert_exporter": "python",
   "pygments_lexer": "ipython3",
   "version": "3.10.12"
  }
 },
 "nbformat": 4,
 "nbformat_minor": 5
}
