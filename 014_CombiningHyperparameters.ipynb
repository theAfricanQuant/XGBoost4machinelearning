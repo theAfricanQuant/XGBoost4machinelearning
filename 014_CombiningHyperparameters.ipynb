{
 "cells": [
  {
   "cell_type": "markdown",
   "id": "4fc64b60-d8e5-4905-b4a5-56e97ce1607a",
   "metadata": {},
   "source": [
    "<h1 style=\"text-align:center;\">Combining hyperparameters</h1>\r\n",
    "\r\n",
    "Let's imagine tuning a radio. You're trying to get the clearest sound from your favorite station. Each button or knob you adjust is like a hyperparameter in machine learning. \r\n",
    "\r\n",
    "**RandomizedSearchCV**: Imagine spinning all the knobs at once, randomly, and hoping to land on the perfect setting. It's quick but might not be precise.\r\n",
    "\r\n",
    "**One Hyperparameter at a Time**: Instead, you could carefully adjust one knob (say, volume) to its best, then move onto the next (say, bass), and so on. It's systematic and you'll know the impact of each knob. \r\n",
    "\r\n",
    "For instance, even if a low volume (like `n_estimators = 2`) sounds best initially, you'd still want to try the entire volume range to ensure clarity in all conditions. \r\n",
    "\r\n",
    "In essence, test all variations and keep refining based on feedback, just like slowly refining your radio's sound.\n"
   ]
  },
  {
   "cell_type": "code",
   "execution_count": 1,
   "id": "5590fa4e-8561-4b73-8dca-ec3faae496ae",
   "metadata": {},
   "outputs": [],
   "source": [
    "import os\n",
    "import warnings\n",
    "\n",
    "os.environ['PYTHONWARNINGS'] = 'ignore::FutureWarning' \n",
    "\n",
    "import numpy as np\n",
    "import pandas as pd\n",
    "from sklearn import datasets\n",
    "from sklearn.model_selection import (train_test_split, cross_val_score, \n",
    "                        StratifiedKFold, GridSearchCV, RandomizedSearchCV)\n",
    "\n",
    "from xgboost import XGBClassifier\n",
    "from sklearn.metrics import accuracy_score\n",
    "\n",
    "from helper_file import *\n",
    "\n",
    "warnings.filterwarnings(\"ignore\", category=FutureWarning) \n",
    "# export PYTHONWARNINGS=\"ignore::FutureWarning\""
   ]
  },
  {
   "cell_type": "code",
   "execution_count": 2,
   "id": "923ac77a-e59f-4b47-ac81-353ea582884a",
   "metadata": {},
   "outputs": [
    {
     "name": "stdout",
     "output_type": "stream",
     "text": [
      "1.7.6\n"
     ]
    }
   ],
   "source": [
    "import xgboost\n",
    "print(xgboost.__version__)"
   ]
  },
  {
   "cell_type": "code",
   "execution_count": 3,
   "id": "68ef1bc1-9a63-4f99-a4b0-f431dbbefb30",
   "metadata": {},
   "outputs": [
    {
     "data": {
      "text/html": [
       "<div>\n",
       "<style scoped>\n",
       "    .dataframe tbody tr th:only-of-type {\n",
       "        vertical-align: middle;\n",
       "    }\n",
       "\n",
       "    .dataframe tbody tr th {\n",
       "        vertical-align: top;\n",
       "    }\n",
       "\n",
       "    .dataframe thead th {\n",
       "        text-align: right;\n",
       "    }\n",
       "</style>\n",
       "<table border=\"1\" class=\"dataframe\">\n",
       "  <thead>\n",
       "    <tr style=\"text-align: right;\">\n",
       "      <th></th>\n",
       "      <th>age</th>\n",
       "      <th>sex</th>\n",
       "      <th>cp</th>\n",
       "      <th>trestbps</th>\n",
       "      <th>chol</th>\n",
       "      <th>fbs</th>\n",
       "      <th>restecg</th>\n",
       "      <th>thalach</th>\n",
       "      <th>exang</th>\n",
       "      <th>oldpeak</th>\n",
       "      <th>slope</th>\n",
       "      <th>ca</th>\n",
       "      <th>thal</th>\n",
       "      <th>target</th>\n",
       "    </tr>\n",
       "  </thead>\n",
       "  <tbody>\n",
       "    <tr>\n",
       "      <th>242</th>\n",
       "      <td>64</td>\n",
       "      <td>1</td>\n",
       "      <td>0</td>\n",
       "      <td>145</td>\n",
       "      <td>212</td>\n",
       "      <td>0</td>\n",
       "      <td>0</td>\n",
       "      <td>132</td>\n",
       "      <td>0</td>\n",
       "      <td>2.0</td>\n",
       "      <td>1</td>\n",
       "      <td>2</td>\n",
       "      <td>1</td>\n",
       "      <td>0</td>\n",
       "    </tr>\n",
       "    <tr>\n",
       "      <th>130</th>\n",
       "      <td>54</td>\n",
       "      <td>0</td>\n",
       "      <td>2</td>\n",
       "      <td>160</td>\n",
       "      <td>201</td>\n",
       "      <td>0</td>\n",
       "      <td>1</td>\n",
       "      <td>163</td>\n",
       "      <td>0</td>\n",
       "      <td>0.0</td>\n",
       "      <td>2</td>\n",
       "      <td>1</td>\n",
       "      <td>2</td>\n",
       "      <td>1</td>\n",
       "    </tr>\n",
       "    <tr>\n",
       "      <th>208</th>\n",
       "      <td>49</td>\n",
       "      <td>1</td>\n",
       "      <td>2</td>\n",
       "      <td>120</td>\n",
       "      <td>188</td>\n",
       "      <td>0</td>\n",
       "      <td>1</td>\n",
       "      <td>139</td>\n",
       "      <td>0</td>\n",
       "      <td>2.0</td>\n",
       "      <td>1</td>\n",
       "      <td>3</td>\n",
       "      <td>3</td>\n",
       "      <td>0</td>\n",
       "    </tr>\n",
       "    <tr>\n",
       "      <th>160</th>\n",
       "      <td>56</td>\n",
       "      <td>1</td>\n",
       "      <td>1</td>\n",
       "      <td>120</td>\n",
       "      <td>240</td>\n",
       "      <td>0</td>\n",
       "      <td>1</td>\n",
       "      <td>169</td>\n",
       "      <td>0</td>\n",
       "      <td>0.0</td>\n",
       "      <td>0</td>\n",
       "      <td>0</td>\n",
       "      <td>2</td>\n",
       "      <td>1</td>\n",
       "    </tr>\n",
       "    <tr>\n",
       "      <th>124</th>\n",
       "      <td>39</td>\n",
       "      <td>0</td>\n",
       "      <td>2</td>\n",
       "      <td>94</td>\n",
       "      <td>199</td>\n",
       "      <td>0</td>\n",
       "      <td>1</td>\n",
       "      <td>179</td>\n",
       "      <td>0</td>\n",
       "      <td>0.0</td>\n",
       "      <td>2</td>\n",
       "      <td>0</td>\n",
       "      <td>2</td>\n",
       "      <td>1</td>\n",
       "    </tr>\n",
       "  </tbody>\n",
       "</table>\n",
       "</div>"
      ],
      "text/plain": [
       "     age  sex  cp  trestbps  chol  fbs  restecg  thalach  exang  oldpeak  \\\n",
       "242   64    1   0       145   212    0        0      132      0      2.0   \n",
       "130   54    0   2       160   201    0        1      163      0      0.0   \n",
       "208   49    1   2       120   188    0        1      139      0      2.0   \n",
       "160   56    1   1       120   240    0        1      169      0      0.0   \n",
       "124   39    0   2        94   199    0        1      179      0      0.0   \n",
       "\n",
       "     slope  ca  thal  target  \n",
       "242      1   2     1       0  \n",
       "130      2   1     2       1  \n",
       "208      1   3     3       0  \n",
       "160      0   0     2       1  \n",
       "124      2   0     2       1  "
      ]
     },
     "execution_count": 3,
     "metadata": {},
     "output_type": "execute_result"
    }
   ],
   "source": [
    "data_path = \"data/heart_disease.csv\"\n",
    "df = pd.read_csv(data_path)\n",
    "df.sample(n=5, random_state=43)"
   ]
  },
  {
   "cell_type": "markdown",
   "id": "f17035c1-c745-44e0-bf76-b38904a04937",
   "metadata": {},
   "source": [
    "### 1. `n_estimators`"
   ]
  },
  {
   "cell_type": "code",
   "execution_count": 4,
   "id": "9b431727-8212-4c83-8245-c84e0550cfb5",
   "metadata": {},
   "outputs": [
    {
     "name": "stdout",
     "output_type": "stream",
     "text": [
      "Best params: {'n_estimators': 100}\n",
      "Best score: 0.80224\n",
      "search completed!\n"
     ]
    }
   ],
   "source": [
    "grid_search(df, 'target', params={'n_estimators':[2, 25, 50, 75, 100]})"
   ]
  },
  {
   "cell_type": "markdown",
   "id": "5b3afbd1-5422-4a1f-be58-925a38b7f652",
   "metadata": {},
   "source": [
    "### 2. `max_depth`"
   ]
  },
  {
   "cell_type": "code",
   "execution_count": 8,
   "id": "6dccb5a8-3f97-4719-9c6e-51cc07a7ef55",
   "metadata": {},
   "outputs": [
    {
     "name": "stdout",
     "output_type": "stream",
     "text": [
      "Best params: {'max_depth': 1, 'n_estimators': 50}\n",
      "Best score: 0.83825\n",
      "search completed!\n"
     ]
    }
   ],
   "source": [
    "grid_search(df, 'target', \n",
    "            params={'max_depth':[1, 2, 3, 4, 5, 6, 7, 8], \n",
    "                    'n_estimators':[50]})"
   ]
  },
  {
   "cell_type": "markdown",
   "id": "d6506eea-7b48-4950-b89d-d5497133f4ac",
   "metadata": {},
   "source": [
    "Imagine we're planting a garden. We start with just one type of seed (a \"decision tree stump\") and get a decent crop. But then we try adding just a bit more variety—two kinds of seeds—and our yield improves by a solid margin.\n",
    "\n",
    "But what if we're missing out on even better harvests? Maybe planting only two or a hundred could work wonders, especially when paired with the right fertilizer (our `max_depth`). Time to experiment and see what combination gives us the most bountiful garden.\n"
   ]
  },
  {
   "cell_type": "code",
   "execution_count": 9,
   "id": "f5cff6bf-a502-4a3e-819d-45980d99af05",
   "metadata": {},
   "outputs": [
    {
     "name": "stdout",
     "output_type": "stream",
     "text": [
      "Best params: {'max_depth': 1, 'n_estimators': 50}\n",
      "Best score: 0.83825\n",
      "search completed!\n"
     ]
    }
   ],
   "source": [
    "grid_search(df, 'target', \n",
    "            params={'max_depth':[1, 2, 3, 4, 6, 7, 8],\n",
    "                    'n_estimators':[2, 50, 100]})"
   ]
  },
  {
   "cell_type": "markdown",
   "id": "d6b128e7-1ec5-442f-8dfd-c738b21a94ca",
   "metadata": {},
   "source": [
    "`n_estimators=50` and `max_depth=1` still give the best results, so we will use them going forward, returning to our early stopping analysis later.\n",
    "\n",
    "### 3. `learning_rate`\n",
    "\n",
    "Since `n_estimators` is reasonably low, adjusting `learning_rate` may improve results. A standard range is provided below:"
   ]
  },
  {
   "cell_type": "code",
   "execution_count": 10,
   "id": "eb916fe8-5d70-480f-90a5-17375e801a5a",
   "metadata": {},
   "outputs": [
    {
     "name": "stdout",
     "output_type": "stream",
     "text": [
      "Best params: {'learning_rate': 0.2, 'max_depth': 1, 'n_estimators': 50}\n",
      "Best score: 0.84164\n",
      "search completed!\n"
     ]
    }
   ],
   "source": [
    "grid_search(df, 'target', \n",
    "            params={'learning_rate':[0.01, 0.05, 0.1, 0.2, 0.3, 0.4, 0.5], \n",
    "                    'max_depth':[1], 'n_estimators':[50]})"
   ]
  },
  {
   "cell_type": "markdown",
   "id": "85769e16-62f1-4564-ac57-b0b33563ad97",
   "metadata": {},
   "source": [
    "Our scores are going up. Let us continue on to the next hypeparameter.\n",
    "\n",
    "### 4. `min_child_weight`\n"
   ]
  },
  {
   "cell_type": "code",
   "execution_count": 13,
   "id": "eddedcf6-f394-4630-b814-c5dfc9945f6c",
   "metadata": {},
   "outputs": [
    {
     "name": "stdout",
     "output_type": "stream",
     "text": [
      "Best params: {'learning_rate': 0.2, 'max_depth': 1, 'min_child_weight': 2, 'n_estimators': 50}\n",
      "Best score: 0.84486\n",
      "search completed!\n"
     ]
    }
   ],
   "source": [
    "grid_search(df, 'target', \n",
    "            params={'min_child_weight':[1, 2, 3, 4, 5], \n",
    "                    'max_depth':[1], 'learning_rate': [0.2],\n",
    "                    'n_estimators':[50]})"
   ]
  },
  {
   "cell_type": "markdown",
   "id": "63779722-0729-4ca3-b43c-5f87060e24f5",
   "metadata": {},
   "source": [
    "We are doing better.\n",
    "\n",
    "### 5. `subsample`"
   ]
  },
  {
   "cell_type": "code",
   "execution_count": 14,
   "id": "95f63a4c-1122-43e7-899b-eb3f9fd19c56",
   "metadata": {},
   "outputs": [
    {
     "name": "stdout",
     "output_type": "stream",
     "text": [
      "Best params: {'learning_rate': 0.2, 'max_depth': 1, 'min_child_weight': 2, 'n_estimators': 50, 'subsample': 0.5}\n",
      "Best score: 0.85153\n",
      "search completed!\n"
     ]
    }
   ],
   "source": [
    "grid_search(df, 'target', \n",
    "            params={'subsample':[0.5, 0.6, 0.7, 0.8, 0.9, 1],\n",
    "                    'min_child_weight':[2], \n",
    "                    'max_depth':[1], 'learning_rate': [0.2],\n",
    "                    'n_estimators':[50]})"
   ]
  },
  {
   "cell_type": "markdown",
   "id": "d6094df9-b876-4df5-a3ab-10eb6b98b918",
   "metadata": {},
   "source": [
    "This is great so far. Let us go back and try and see if a comprehensive grid search would provide different values and better score"
   ]
  },
  {
   "cell_type": "code",
   "execution_count": 15,
   "id": "b6f770c0-ae04-4fdd-9e50-05a39b9e2f7c",
   "metadata": {},
   "outputs": [
    {
     "name": "stdout",
     "output_type": "stream",
     "text": [
      "Best params: {'learning_rate': 0.5, 'max_depth': 4, 'min_child_weight': 5, 'n_estimators': 2, 'subsample': 1}\n",
      "Best score: 0.83519\n",
      "search completed!\n"
     ]
    }
   ],
   "source": [
    "grid_search(df, 'target', \n",
    "            \n",
    "            params={'subsample':[0.5, 0.6, 0.7, 0.8, 0.9, 1],\n",
    "\n",
    "                    'min_child_weight':[1, 2, 3, 4, 5],\n",
    "\n",
    "                    'learning_rate':[0.1, 0.2, 0.3, 0.4, 0.5],\n",
    "\n",
    "                    'max_depth':[1, 2, 3, 4, 5],\n",
    "\n",
    "                    'n_estimators':[2]})"
   ]
  },
  {
   "cell_type": "markdown",
   "id": "07f89f3a-037b-4157-984c-0f22ad264b04",
   "metadata": {},
   "source": [
    "Our classifier with only two trees performs worse. The initial scores gotten above were better; seems like it does not go through enough iterations for the hyperparameters to make significant adjustments.\n",
    "\n",
    "Think of choosing a winning lottery ticket from a massive drum filled with options. If we narrow down the numbers based on past wins (our previous knowledge) and only then randomly pick a ticket (using RandomizedSearchCV), we're more likely to hit the jackpot.\n",
    "\n",
    "Now, if there were 4,500 possible tickets (combinations of hyperparameters from those given below), it'd take ages to try each one (like a grid search). Instead, we smartly select a subset, improving our chances without waiting a lifetime. We will set `random=True` in our function to choose `RandomizedSearchCV`."
   ]
  },
  {
   "cell_type": "code",
   "execution_count": 16,
   "id": "7f2c8937-2429-4a56-8bd4-64abd9d9203a",
   "metadata": {},
   "outputs": [
    {
     "name": "stdout",
     "output_type": "stream",
     "text": [
      "Best params: {'subsample': 0.5, 'n_estimators': 50, 'min_child_weight': 5, 'max_depth': 1, 'learning_rate': 0.1}\n",
      "Best score: 0.85481\n",
      "search completed!\n"
     ]
    }
   ],
   "source": [
    "grid_search(df, 'target', \n",
    "            params={'subsample':[0.5, 0.6, 0.7, 0.8, 0.9, 1],\n",
    "\n",
    "                    'min_child_weight':[1, 2, 3, 4, 5],\n",
    "\n",
    "                    'learning_rate':[0.1, 0.2, 0.3, 0.4, 0.5],\n",
    "\n",
    "                    'max_depth':[1, 2, 3, 4, 5, None],\n",
    "\n",
    "                    'n_estimators':[2, 25, 50, 75, 100]},\n",
    "\n",
    "                    random=True)"
   ]
  },
  {
   "cell_type": "markdown",
   "id": "f7989815-3330-4bf9-ba51-917c70dba99e",
   "metadata": {},
   "source": [
    "This is interesting. Our scores are up again!\r\n",
    "Different values are obtaining good results.\n",
    "\n",
    "\r\n",
    "1. `learning_rate`: In the first set, the learning rate is `0.2`, while in the second, it is reduced to `0.1`.\r\n",
    "2. `min_child_weight`: The first set has a `min_child_weight` of `2`, whereas the second set has increased it to `5`.\r\n",
    "\r\n",
    "The other parameters (`max_depth`, `n_estimators`, and `subsample`) remain the same across both \n",
    "\n",
    "We should use the hyperparameters from the best score we have received thus far going forward. \n",
    "\n",
    "Lets pick more hyperparameters.\n",
    "\n",
    "### 6. `colsample`\n",
    "We will try `colsample_bytree`, `colsample_bylevel`, and `colsample_bynode`, in that order.sets."
   ]
  },
  {
   "cell_type": "code",
   "execution_count": 18,
   "id": "dca1b088-cab3-45aa-9ad7-bd5579c5725a",
   "metadata": {},
   "outputs": [
    {
     "name": "stdout",
     "output_type": "stream",
     "text": [
      "Best params: {'colsample_bytree': 0.9, 'learning_rate': 0.1, 'max_depth': 1, 'min_child_weight': 5, 'n_estimators': 50, 'subsample': 0.5}\n",
      "Best score: 0.85486\n",
      "search completed!\n"
     ]
    }
   ],
   "source": [
    "grid_search(df, 'target', \n",
    "           params={'subsample': [0.5], 'n_estimators': [50], \n",
    "                   'min_child_weight': [5], 'max_depth': [1], \n",
    "                   'learning_rate': [0.1], 'colsample_bytree':[0.5, 0.6, 0.7, 0.8, 0.9,1]}\n",
    ")"
   ]
  },
  {
   "cell_type": "code",
   "execution_count": 19,
   "id": "68de3567-c570-4ec1-b4d2-becb06a4ad38",
   "metadata": {},
   "outputs": [
    {
     "name": "stdout",
     "output_type": "stream",
     "text": [
      "Best params: {'colsample_bylevel': 1, 'colsample_bytree': 0.9, 'learning_rate': 0.1, 'max_depth': 1, 'min_child_weight': 5, 'n_estimators': 50, 'subsample': 0.5}\n",
      "Best score: 0.85486\n",
      "search completed!\n"
     ]
    }
   ],
   "source": [
    "grid_search(df, 'target', \n",
    "           params={'subsample': [0.5], 'n_estimators': [50], \n",
    "                   'min_child_weight': [5], 'max_depth': [1], \n",
    "                   'learning_rate': [0.1], 'colsample_bytree':[0.9],\n",
    "                  'colsample_bylevel':[0.5, 0.6, 0.7, 0.8, 0.9, 1]}\n",
    ")"
   ]
  },
  {
   "cell_type": "markdown",
   "id": "8a14c656-4586-4c26-8897-f64c325a03fe",
   "metadata": {},
   "source": [
    "Our scores seem to have peaked out here. We will repeat the entire code above as it without selecting the best parameter for `colsample_bylevel` so we see if anything changes when we test out the other with `colsample_bynode`."
   ]
  },
  {
   "cell_type": "code",
   "execution_count": 21,
   "id": "5e2f274b-6366-4b92-a1f5-3c30ee8f7300",
   "metadata": {},
   "outputs": [
    {
     "name": "stdout",
     "output_type": "stream",
     "text": [
      "Best params: {'colsample_bylevel': 0.8, 'colsample_bynode': 0.5, 'colsample_bytree': 0.9, 'learning_rate': 0.1, 'max_depth': 1, 'min_child_weight': 5, 'n_estimators': 50, 'subsample': 0.5}\n",
      "Best score: 0.85809\n",
      "search completed!\n"
     ]
    }
   ],
   "source": [
    "grid_search(df, 'target', \n",
    "           params={'subsample': [0.5], 'n_estimators': [50], \n",
    "                   'min_child_weight': [5], 'max_depth': [1], \n",
    "                   'learning_rate': [0.1], \n",
    "                  'colsample_bylevel':[0.5, 0.6, 0.7, 0.8, 0.9, 1],\n",
    "                   'colsample_bynode':[0.5, 0.6, 0.7, 0.8, 0.9, 1],\n",
    "                   'colsample_bytree':[0.5, 0.6, 0.7, 0.8, 0.9,1]\n",
    "                  }\n",
    ")"
   ]
  },
  {
   "cell_type": "markdown",
   "id": "d70b4b45-a9f6-4965-b8de-a247233a7299",
   "metadata": {},
   "source": [
    "This is outstanding! Working together, the `colsamples` have provided the best score yet.\n",
    "\n",
    "### 7. `gamma`\n",
    "\n",
    "This is going to be the last hyperparameter that we fine-tune."
   ]
  },
  {
   "cell_type": "code",
   "execution_count": 23,
   "id": "f8c204c5-da20-41fb-baf6-bd6d33894db6",
   "metadata": {},
   "outputs": [
    {
     "name": "stdout",
     "output_type": "stream",
     "text": [
      "Best params: {'colsample_bylevel': 0.8, 'colsample_bynode': 0.5, 'colsample_bytree': 0.9, 'gamma': 1, 'learning_rate': 0.1, 'max_depth': 1, 'min_child_weight': 5, 'n_estimators': 50, 'subsample': 0.5}\n",
      "Best score: 0.86137\n",
      "search completed!\n"
     ]
    }
   ],
   "source": [
    "grid_search(df, 'target',\n",
    "           params={'subsample': [0.5], 'n_estimators': [50], \n",
    "                   'min_child_weight': [5], 'max_depth': [1], \n",
    "                   'learning_rate': [0.1], \n",
    "                  'colsample_bylevel':[0.8],\n",
    "                   'colsample_bynode':[0.5],\n",
    "                   'colsample_bytree':[0.9],\n",
    "                   'gamma':[0, 0.01, 0.05, 0.1, 0.5, 1, 2, 3],\n",
    "                  }\n",
    ")"
   ]
  },
  {
   "cell_type": "markdown",
   "id": "6595fd84-1406-441a-afdf-00e1dbc3f77c",
   "metadata": {},
   "source": [
    "Our best score is much higher than the original, which is a no small feat with XGBoost. I guess we will stop here.\n",
    "\n",
    "#### **XGBoost is all you need**"
   ]
  }
 ],
 "metadata": {
  "kernelspec": {
   "display_name": "Python 3 (ipykernel)",
   "language": "python",
   "name": "python3"
  },
  "language_info": {
   "codemirror_mode": {
    "name": "ipython",
    "version": 3
   },
   "file_extension": ".py",
   "mimetype": "text/x-python",
   "name": "python",
   "nbconvert_exporter": "python",
   "pygments_lexer": "ipython3",
   "version": "3.10.12"
  }
 },
 "nbformat": 4,
 "nbformat_minor": 5
}
