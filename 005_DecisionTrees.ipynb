{
 "cells": [
  {
   "cell_type": "markdown",
   "id": "4bc7249a-17ab-44ca-8a1d-59318a4f56f9",
   "metadata": {},
   "source": [
    "<h1 style=\"text-align:center;\">Decision Trees</h1>"
   ]
  },
  {
   "cell_type": "markdown",
   "id": "a03a7914-01e4-47eb-84a4-cd913e293660",
   "metadata": {},
   "source": [
    "Decision trees are like flowcharts that help a computer make decisions based on data. Imagine you're deciding what to wear: if it's raining, you wear a raincoat over your clothes; if it's sunny, you wear sunglasses over your light clothing.\n",
    "\n",
    "Ensemble methods are techniques in machine learning that combine multiple models to produce a single, more powerful and accurate model. The primary rationale behind ensembles is that when individual models are combined, their strengths can be enhanced greatly while their weaknesses mitigated, leading to better overall performance. These models are often called \"base learners\" or \"weak learners\".\n",
    "\n",
    "Decision trees are the most commonly used base learners in ensemble methods. They work by splitting the data by seemingly asking questions about the columns or features. Let us assume that a decision tree columns that give a value for students time spent on reading a certain subject for a test and the preivious grade the student got. It might create a split  based on say the student read for 5 hours and above and compare the grades received. Next it might check based off of previous grades received and see if there would be distinct grade groupings.\n",
    "\n",
    "## Decision Tree Classifier\n",
    "\n",
    "We will now go back to our census data and build a decision tree to predict whether someone earns an income of over 50k US dollars. All the data variables you will see were all stored in the `helper_file.py` module which we will call with the `from helper_file import *`. This practice is heavily discouraged in Pyhton because it could cause conflicts especially when some variables are similar to others. We built this module and to an extent we are sure there are no conflicts..._yet_."
   ]
  },
  {
   "cell_type": "code",
   "execution_count": 1,
   "id": "909ab8f4-ee09-4aad-aa9f-43eb4d364109",
   "metadata": {},
   "outputs": [],
   "source": [
    "import pandas as pd\n",
    "import numpy as np\n",
    "import warnings\n",
    "\n",
    "import matplotlib.pyplot as plt\n",
    "\n",
    "# Import train_test_split\n",
    "from sklearn.model_selection import train_test_split, GridSearchCV\n",
    "\n",
    "# Import Decision Tree classifier\n",
    "from sklearn.tree import DecisionTreeClassifier,DecisionTreeRegressor\n",
    "\n",
    "# Import accuracy_score\n",
    "from sklearn.impute import SimpleImputer\n",
    "from sklearn.pipeline import Pipeline\n",
    "from sklearn.preprocessing import StandardScaler, LabelEncoder\n",
    "from sklearn.base import BaseEstimator, TransformerMixin\n",
    "from sklearn import model_selection\n",
    "from sklearn import tree\n",
    "from sklearn.metrics import mean_squared_error, accuracy_score\n",
    "\n",
    "from category_encoders import OneHotEncoder\n",
    "\n",
    "from helper_file import *\n",
    "\n",
    "warnings.filterwarnings('ignore')"
   ]
  },
  {
   "cell_type": "code",
   "execution_count": 2,
   "id": "cb95477b-dfa0-4408-9422-8cfa264cd120",
   "metadata": {},
   "outputs": [
    {
     "name": "stdout",
     "output_type": "stream",
     "text": [
      "<class 'pandas.core.frame.DataFrame'>\n",
      "RangeIndex: 32561 entries, 0 to 32560\n",
      "Data columns (total 14 columns):\n",
      " #   Column          Non-Null Count  Dtype \n",
      "---  ------          --------------  ----- \n",
      " 0   age             32561 non-null  int64 \n",
      " 1   workclass       32561 non-null  object\n",
      " 2   fnlwgt          32561 non-null  int64 \n",
      " 3   education-num   32561 non-null  int64 \n",
      " 4   marital-status  32561 non-null  object\n",
      " 5   occupation      32561 non-null  object\n",
      " 6   relationship    32561 non-null  object\n",
      " 7   race            32561 non-null  object\n",
      " 8   sex             32561 non-null  object\n",
      " 9   capital-gain    32561 non-null  int64 \n",
      " 10  capital-loss    32561 non-null  int64 \n",
      " 11  hours-per-week  32561 non-null  int64 \n",
      " 12  native-country  32561 non-null  object\n",
      " 13  income          32561 non-null  object\n",
      "dtypes: int64(6), object(8)\n",
      "memory usage: 3.5+ MB\n"
     ]
    }
   ],
   "source": [
    "df_census.info()"
   ]
  },
  {
   "cell_type": "code",
   "execution_count": 3,
   "id": "77e66814-7ee1-40c7-8d7f-de714bab5954",
   "metadata": {},
   "outputs": [
    {
     "name": "stdout",
     "output_type": "stream",
     "text": [
      "shape of target vector: (32561,)\n",
      "shape of feature matrix: (32561, 13)\n"
     ]
    }
   ],
   "source": [
    "census_pipe = Pipeline(\n",
    "    [('ohe', OHETransformer())]\n",
    ")\n",
    "\n",
    "cen_X, cen_y = splitX_y(df_census, 'income')\n",
    "\n",
    "print(f\"shape of target vector: {cen_y.shape}\")\n",
    "print(f\"shape of feature matrix: {cen_X.shape}\")"
   ]
  },
  {
   "cell_type": "code",
   "execution_count": 4,
   "id": "4304b197-62b3-4c49-bcfe-a374f03b1cf8",
   "metadata": {},
   "outputs": [
    {
     "data": {
      "text/html": [
       "<div>\n",
       "<style scoped>\n",
       "    .dataframe tbody tr th:only-of-type {\n",
       "        vertical-align: middle;\n",
       "    }\n",
       "\n",
       "    .dataframe tbody tr th {\n",
       "        vertical-align: top;\n",
       "    }\n",
       "\n",
       "    .dataframe thead th {\n",
       "        text-align: right;\n",
       "    }\n",
       "</style>\n",
       "<table border=\"1\" class=\"dataframe\">\n",
       "  <thead>\n",
       "    <tr style=\"text-align: right;\">\n",
       "      <th></th>\n",
       "      <th>age</th>\n",
       "      <th>fnlwgt</th>\n",
       "      <th>education-num</th>\n",
       "      <th>capital-gain</th>\n",
       "      <th>capital-loss</th>\n",
       "      <th>hours-per-week</th>\n",
       "      <th>workclass_1</th>\n",
       "      <th>workclass_2</th>\n",
       "      <th>workclass_3</th>\n",
       "      <th>workclass_4</th>\n",
       "      <th>...</th>\n",
       "      <th>native-country_33</th>\n",
       "      <th>native-country_34</th>\n",
       "      <th>native-country_35</th>\n",
       "      <th>native-country_36</th>\n",
       "      <th>native-country_37</th>\n",
       "      <th>native-country_38</th>\n",
       "      <th>native-country_39</th>\n",
       "      <th>native-country_40</th>\n",
       "      <th>native-country_41</th>\n",
       "      <th>native-country_42</th>\n",
       "    </tr>\n",
       "  </thead>\n",
       "  <tbody>\n",
       "    <tr>\n",
       "      <th>20717</th>\n",
       "      <td>24</td>\n",
       "      <td>32950</td>\n",
       "      <td>13</td>\n",
       "      <td>0</td>\n",
       "      <td>0</td>\n",
       "      <td>35</td>\n",
       "      <td>1</td>\n",
       "      <td>0</td>\n",
       "      <td>0</td>\n",
       "      <td>0</td>\n",
       "      <td>...</td>\n",
       "      <td>0</td>\n",
       "      <td>0</td>\n",
       "      <td>0</td>\n",
       "      <td>0</td>\n",
       "      <td>0</td>\n",
       "      <td>0</td>\n",
       "      <td>0</td>\n",
       "      <td>0</td>\n",
       "      <td>0</td>\n",
       "      <td>0</td>\n",
       "    </tr>\n",
       "    <tr>\n",
       "      <th>11366</th>\n",
       "      <td>37</td>\n",
       "      <td>34996</td>\n",
       "      <td>9</td>\n",
       "      <td>0</td>\n",
       "      <td>0</td>\n",
       "      <td>40</td>\n",
       "      <td>0</td>\n",
       "      <td>1</td>\n",
       "      <td>0</td>\n",
       "      <td>0</td>\n",
       "      <td>...</td>\n",
       "      <td>0</td>\n",
       "      <td>0</td>\n",
       "      <td>0</td>\n",
       "      <td>0</td>\n",
       "      <td>0</td>\n",
       "      <td>0</td>\n",
       "      <td>0</td>\n",
       "      <td>0</td>\n",
       "      <td>0</td>\n",
       "      <td>0</td>\n",
       "    </tr>\n",
       "    <tr>\n",
       "      <th>28940</th>\n",
       "      <td>46</td>\n",
       "      <td>189498</td>\n",
       "      <td>13</td>\n",
       "      <td>0</td>\n",
       "      <td>1848</td>\n",
       "      <td>45</td>\n",
       "      <td>0</td>\n",
       "      <td>0</td>\n",
       "      <td>1</td>\n",
       "      <td>0</td>\n",
       "      <td>...</td>\n",
       "      <td>0</td>\n",
       "      <td>0</td>\n",
       "      <td>0</td>\n",
       "      <td>0</td>\n",
       "      <td>0</td>\n",
       "      <td>0</td>\n",
       "      <td>0</td>\n",
       "      <td>0</td>\n",
       "      <td>0</td>\n",
       "      <td>0</td>\n",
       "    </tr>\n",
       "    <tr>\n",
       "      <th>28302</th>\n",
       "      <td>50</td>\n",
       "      <td>301583</td>\n",
       "      <td>9</td>\n",
       "      <td>0</td>\n",
       "      <td>0</td>\n",
       "      <td>40</td>\n",
       "      <td>0</td>\n",
       "      <td>0</td>\n",
       "      <td>1</td>\n",
       "      <td>0</td>\n",
       "      <td>...</td>\n",
       "      <td>0</td>\n",
       "      <td>0</td>\n",
       "      <td>0</td>\n",
       "      <td>0</td>\n",
       "      <td>0</td>\n",
       "      <td>0</td>\n",
       "      <td>0</td>\n",
       "      <td>0</td>\n",
       "      <td>0</td>\n",
       "      <td>0</td>\n",
       "    </tr>\n",
       "    <tr>\n",
       "      <th>10929</th>\n",
       "      <td>46</td>\n",
       "      <td>224559</td>\n",
       "      <td>9</td>\n",
       "      <td>0</td>\n",
       "      <td>0</td>\n",
       "      <td>40</td>\n",
       "      <td>0</td>\n",
       "      <td>0</td>\n",
       "      <td>1</td>\n",
       "      <td>0</td>\n",
       "      <td>...</td>\n",
       "      <td>0</td>\n",
       "      <td>0</td>\n",
       "      <td>0</td>\n",
       "      <td>0</td>\n",
       "      <td>0</td>\n",
       "      <td>0</td>\n",
       "      <td>0</td>\n",
       "      <td>0</td>\n",
       "      <td>0</td>\n",
       "      <td>0</td>\n",
       "    </tr>\n",
       "  </tbody>\n",
       "</table>\n",
       "<p>5 rows × 92 columns</p>\n",
       "</div>"
      ],
      "text/plain": [
       "       age  fnlwgt  education-num  capital-gain  capital-loss  hours-per-week  \\\n",
       "20717   24   32950             13             0             0              35   \n",
       "11366   37   34996              9             0             0              40   \n",
       "28940   46  189498             13             0          1848              45   \n",
       "28302   50  301583              9             0             0              40   \n",
       "10929   46  224559              9             0             0              40   \n",
       "\n",
       "       workclass_1  workclass_2  workclass_3  workclass_4  ...  \\\n",
       "20717            1            0            0            0  ...   \n",
       "11366            0            1            0            0  ...   \n",
       "28940            0            0            1            0  ...   \n",
       "28302            0            0            1            0  ...   \n",
       "10929            0            0            1            0  ...   \n",
       "\n",
       "       native-country_33  native-country_34  native-country_35  \\\n",
       "20717                  0                  0                  0   \n",
       "11366                  0                  0                  0   \n",
       "28940                  0                  0                  0   \n",
       "28302                  0                  0                  0   \n",
       "10929                  0                  0                  0   \n",
       "\n",
       "       native-country_36  native-country_37  native-country_38  \\\n",
       "20717                  0                  0                  0   \n",
       "11366                  0                  0                  0   \n",
       "28940                  0                  0                  0   \n",
       "28302                  0                  0                  0   \n",
       "10929                  0                  0                  0   \n",
       "\n",
       "       native-country_39  native-country_40  native-country_41  \\\n",
       "20717                  0                  0                  0   \n",
       "11366                  0                  0                  0   \n",
       "28940                  0                  0                  0   \n",
       "28302                  0                  0                  0   \n",
       "10929                  0                  0                  0   \n",
       "\n",
       "       native-country_42  \n",
       "20717                  0  \n",
       "11366                  0  \n",
       "28940                  0  \n",
       "28302                  0  \n",
       "10929                  0  \n",
       "\n",
       "[5 rows x 92 columns]"
      ]
     },
     "execution_count": 4,
     "metadata": {},
     "output_type": "execute_result"
    }
   ],
   "source": [
    "cen_X_train, cen_X_test, cen_y_train, cen_y_test = (model_selection\n",
    "                                    .train_test_split(cen_X, cen_y, \n",
    "                                                      test_size=.3, \n",
    "                                                      random_state=43,)\n",
    "                                                        )\n",
    "\n",
    "X_train = census_pipe.fit_transform(cen_X_train)\n",
    "X_test = census_pipe.transform(cen_X_test)\n",
    "X_train.head()"
   ]
  },
  {
   "cell_type": "code",
   "execution_count": 5,
   "id": "745a8fa8-2d70-4c0a-8769-dedef6482fa0",
   "metadata": {},
   "outputs": [
    {
     "data": {
      "text/plain": [
       "array([' Never-married', ' Married-civ-spouse', ' Divorced',\n",
       "       ' Married-spouse-absent', ' Separated', ' Married-AF-spouse',\n",
       "       ' Widowed'], dtype=object)"
      ]
     },
     "execution_count": 5,
     "metadata": {},
     "output_type": "execute_result"
    }
   ],
   "source": [
    "df_census['marital-status'].unique()"
   ]
  },
  {
   "cell_type": "markdown",
   "id": "84451320-16e0-48a0-ad2e-5b7cd271238d",
   "metadata": {},
   "source": [
    "We are going to pass `max_depth=1` so we could easily visualize the tree."
   ]
  },
  {
   "cell_type": "code",
   "execution_count": 6,
   "id": "2ceacc36-79e6-4572-b09e-ff2d457375d5",
   "metadata": {},
   "outputs": [
    {
     "data": {
      "text/plain": [
       "0.8298699969290613"
      ]
     },
     "execution_count": 6,
     "metadata": {},
     "output_type": "execute_result"
    }
   ],
   "source": [
    "# Initialize classification model\n",
    "\n",
    "dtc = DecisionTreeClassifier(max_depth=2, random_state=43)\n",
    "\n",
    "# Fit model on training data\n",
    "dtc.fit(X_train, cen_y_train)\n",
    "\n",
    "dtc.score(X_test, cen_y_test)"
   ]
  },
  {
   "cell_type": "markdown",
   "id": "399c0ebd-720c-4aa6-9cd8-e7072c1988d1",
   "metadata": {},
   "source": [
    "The `accuracy_score` determines the number of correct predictions divided by the total number of predictions made by the model.\n",
    "\n",
    "A valuable feature of the decision tree is that we can visualize what happens as decsions are being made. We will do so using maplotlib."
   ]
  },
  {
   "cell_type": "code",
   "execution_count": 7,
   "id": "a094f51d-bbe6-45c2-adc7-d423382044d1",
   "metadata": {},
   "outputs": [],
   "source": [
    "# Get the feature names\n",
    "feature_names = [cols for cols in X_train.columns]"
   ]
  },
  {
   "cell_type": "code",
   "execution_count": 8,
   "id": "96006c2c-afbf-4802-8b85-6dc68572adb2",
   "metadata": {},
   "outputs": [
    {
     "data": {
      "image/png": "[encoded data removed]",
      "text/plain": [
       "<Figure size 1000x600 with 1 Axes>"
      ]
     },
     "metadata": {},
     "output_type": "display_data"
    }
   ],
   "source": [
    "fig, ax = plt.subplots(figsize=(10, 6))\n",
    "_=tree.plot_tree(dtc, \n",
    "               feature_names=feature_names,\n",
    "              filled=True,\n",
    "              class_names=dtc.classes_,\n",
    "              ax=ax)"
   ]
  },
  {
   "cell_type": "markdown",
   "id": "3a22cf50-3b9e-4e1d-896c-c4158d594fae",
   "metadata": {},
   "source": [
    "### Root\n",
    "The root of the tree is at the top. The reading of the first line of the root is from one of the features that was presented to the model and it reads `marital-status_3 <= 0.5` which represents a binary column. All values are either 0 (negative) or 1 (positive). The condition `<= 0.5` suggests a threshold. Since this is a binary feature, the threshold essentially checks if the value is 0 (less than or equal to 0.5) or 1 (greater than 0.5).\n",
    "\n",
    "The first split is whether one is divorced or not. The left branch is the true branch, which interpretes in this case to the fact that this person is divorced, while the right hand side is the false branch that says the person is not divorced.\n",
    "\n",
    "**Gini Impurity** The Gini Coefficient was first proposed by an Italian statistician and sociologist Corrado Gini to measure the inequality of wealth in a country; a coefficient of 0 represented equal income by all while 1 represented the situation one person had all the wealth. The formula for determining this coefficient is:\n",
    "$$\\text{Gini}(t) = 1 - \\sum_{i=1}^{c} p_i^2$$ where $Gini$ is the Gini coefficient, $c$ is the number of classes, and $p$ is the proportion of the observations that belong to the class $i$.\n",
    "\n",
    "In Machine Learning, this is called the Gini Impurity the Gini Index. It is used as a measure of how often a randomly chosen element would be incorrectly classified. Given two classes \"divorced\" and \"not divorced\",\n",
    "A Gini index of 0 means that the node has perfect purity and all elements in the set belong to a single class; while a reading of 1 mean complete impurity, which is not achievable in a binary classification scenario. A Gini index of 0.5 means that there's an even split between the the number of correct and incorrect classifications, which is really the maximum we get from a binary classification. We want our readings to be closer to 0 as much as possible. \n",
    "\n",
    "Our reading is 0.366. This indicates that the node is impure, but not maximally so. The value signifies that there's a mix of the two classes (\"divorced\" and \"not divorced\"), but it's not an even split. This number conveys that the probability of misclassifying a randomly chosen instance from this node, if labeled according to the distribution in the set, is 36.6%. THis value is definitely better than random guessing.\n",
    "\n",
    "**Samples, values, class**\n",
    "The total number of _samples_ in the training set reads  22792. The next line shows  [17286 , 5506] which is telling us that 17,286  have a value of 0 meaning they make less than 50K; and 5,506 have a value of 1 meaning they make more than 50K.\n",
    "\n",
    "### True/Fales nodes\n",
    "\n",
    "In the left or True node in the second row (which signifies divorcees), the split `capital_gain <= 7073.5` is applied to subsequent nodes. The remaining information comes from the split above the previous branch. Of the 12,383 divorced people, 11,562 have an income of less than 50K, while 821 have an income of more than 50K. The gini index, 0.124, is a very good score. \n",
    "\n",
    "### Stumps\n",
    "A stump in the context of decision trees refers to a decision tree with only one decision node (the root) and two leaf nodes. In other words, it's a tree that makes a single binary decision based on one feature. Because of its simplicity, a stump cannot capture complex patterns in data, and its predictive power is limited. However, its simplicity can be advantageous in ensemble methods, particularly boosting.\n",
    "\n",
    "### Leaves \n",
    "Leaves, also known as terminal nodes or leaf nodes, represent the outcomes of a decision tree. They don't contain any conditions but rather the final predictions. In a classification tree, this would be the class label, and in a regression tree, it would be a continuous value.\n",
    "\n",
    "The Gini impurity in a leaf provides insight into the uncertainty or impurity of the predictions in that leaf. A Gini impurity of 0 would mean the predictions in that leaf are perfectly pure (all instances belong to a single class), while a value closer to 0.5 (for binary classification) would indicate a higher level of uncertainty. Our left hand leaf gives a Gini index of 0.094 which is quite low, indicating that the predictions in this leaf are very pure.\n",
    "\n",
    "The next group of values show `samples=12158` and `[11554, 604]`. These two tell us that this leaf correctly giave an accuracy of 95% (11554/12158 * 100). All this just gives us an empirical measure of how well the tree performed on this subset of the training data. \n",
    "\n",
    "\n",
    "We can go back to the top, starting from the root and work our way down through the right hand side and perform a similar analysis."
   ]
  },
  {
   "cell_type": "markdown",
   "id": "23a71523-1a84-4e8f-b4bf-ff6b5f494296",
   "metadata": {},
   "source": [
    "## Bias vs Variance:\n",
    "\n",
    "- **Bias** refers to the error due to overly simplistic assumptions in the learning algorithm.\n",
    "- A model with high bias oversimplifies the problem, not capturing the underlying patterns in the data. This can lead to errors in predictions.\n",
    "- **Underfitting**: When a model has high bias, it's often said to \"underfit\" the data. This means it doesn't capture the complexity of the training data and therefore performs poorly.\n",
    "\n",
    "\n",
    "- **Variance** refers to the error due to too much complexity in the learning algorithm.\n",
    "- A model with high variance pays a lot of attention to the training data, potentially capturing noise and fluctuations.\n",
    "- **Overfitting**: When a model has high variance, it's often said to \"overfit\" the data. It fits the training data very closely, even capturing its noise, making it perform poorly on new unseen data.\n",
    "\n",
    "### Trade-off\n",
    "\n",
    "- There's a trade-off between bias and variance. Simplifying a model can decrease its variance but increase its bias. Conversely, making a model more complex can decrease its bias but increase its variance.\n",
    "- The ideal scenario is to have both low bias and low variance. However, achieving this balance can be challenging.\n",
    "\n",
    "### Big Data and Overfitting\n",
    "\n",
    "- With the advent of big data, the risk of overfitting becomes significant, especially with models like decision trees that can grow deep and fit training data too closely.\n",
    "- Regularization techniques, pruning, and ensemble methods can be used to combat overfitting in decision trees and other machine learning models."
   ]
  },
  {
   "cell_type": "markdown",
   "id": "c2587f8a-8858-4439-89ba-fc0a358bd707",
   "metadata": {},
   "source": [
    "## Tuning decision tree hyperparameters\n",
    "\n",
    "We will start by finding a baseline score using a `DecisionTreeRegressor` on the bike rental data we used in the previous sections"
   ]
  },
  {
   "cell_type": "code",
   "execution_count": 9,
   "id": "493d8cbd-bffb-4749-9704-8922548adb74",
   "metadata": {},
   "outputs": [
    {
     "name": "stdout",
     "output_type": "stream",
     "text": [
      "<class 'pandas.core.frame.DataFrame'>\n",
      "RangeIndex: 731 entries, 0 to 730\n",
      "Data columns (total 16 columns):\n",
      " #   Column      Non-Null Count  Dtype  \n",
      "---  ------      --------------  -----  \n",
      " 0   instant     731 non-null    int64  \n",
      " 1   dteday      731 non-null    object \n",
      " 2   season      731 non-null    float64\n",
      " 3   yr          730 non-null    float64\n",
      " 4   mnth        730 non-null    float64\n",
      " 5   holiday     731 non-null    float64\n",
      " 6   weekday     731 non-null    float64\n",
      " 7   workingday  731 non-null    float64\n",
      " 8   weathersit  731 non-null    int64  \n",
      " 9   temp        730 non-null    float64\n",
      " 10  atemp       730 non-null    float64\n",
      " 11  hum         728 non-null    float64\n",
      " 12  windspeed   726 non-null    float64\n",
      " 13  casual      731 non-null    int64  \n",
      " 14  registered  731 non-null    int64  \n",
      " 15  cnt         731 non-null    int64  \n",
      "dtypes: float64(10), int64(5), object(1)\n",
      "memory usage: 91.5+ KB\n"
     ]
    }
   ],
   "source": [
    "df_bikes.info()"
   ]
  },
  {
   "cell_type": "code",
   "execution_count": 10,
   "id": "e7586695-9d3f-4516-904d-3cf645871acc",
   "metadata": {},
   "outputs": [
    {
     "name": "stdout",
     "output_type": "stream",
     "text": [
      "shape of target vector: (731,)\n",
      "shape of feature matrix: (731, 15)\n"
     ]
    }
   ],
   "source": [
    "bikes_X, bikes_y = splitX_y(df_bikes, 'cnt')\n",
    "\n",
    "print(f\"shape of target vector: {bikes_y.shape}\")\n",
    "print(f\"shape of feature matrix: {bikes_X.shape}\")"
   ]
  },
  {
   "cell_type": "code",
   "execution_count": 11,
   "id": "d77ed8c6-af1d-439d-8abd-62025ae7767f",
   "metadata": {},
   "outputs": [
    {
     "name": "stdout",
     "output_type": "stream",
     "text": [
      "Reg rmse: [1218.13  727.24 1504.93 1000.62 1431.72]\n",
      "RMSE mean: 1176.5301170918963\n"
     ]
    }
   ],
   "source": [
    "dtr_pipe = Pipeline(\n",
    "    [('tweak', PrepDataTransformer()),\n",
    "     ('imputer', SimpleImputer(strategy='median')),  # Imputing null values using mean\n",
    "     ('scaler', StandardScaler()),\n",
    "     ('dt_reg', DecisionTreeRegressor(random_state=43))\n",
    "    ]\n",
    ")\n",
    "scores = cross_val_score(dtr_pipe, bikes_X, bikes_y, scoring='neg_mean_squared_error', cv=5)\n",
    "\n",
    "rmse = np.sqrt(-scores)\n",
    "\n",
    "print(f'Reg rmse: {np.round(rmse, 2)}')\n",
    "\n",
    "print(f'RMSE mean: {rmse.mean()}')"
   ]
  },
  {
   "cell_type": "markdown",
   "id": "50d3334b-f073-4427-8dcd-29150f9ec517",
   "metadata": {},
   "source": [
    "The RMSE we got above is worst than any other we had gotten in the past notebooks for this problem. We are not sure why this is so but it could be becuase it is overfitting due to a high variance.\n",
    "\n",
    "We will check how well the decision tree makes predictions on the training set before it is ready to make on the test set. We will pass the `X_train` into the predict method when the time comes."
   ]
  },
  {
   "cell_type": "code",
   "execution_count": 12,
   "id": "5f2cbc17-5322-4855-a202-082597c50c0c",
   "metadata": {},
   "outputs": [],
   "source": [
    "pipe = Pipeline(\n",
    "    [('tweak', PrepDataTransformer()),\n",
    "     ('imputer', SimpleImputer(strategy='median')),  # Imputing null values using mean\n",
    "     ('scaler', StandardScaler())\n",
    "    ]\n",
    ")"
   ]
  },
  {
   "cell_type": "code",
   "execution_count": 13,
   "id": "ef7ae033-7a45-4add-9d94-a8734f76a969",
   "metadata": {},
   "outputs": [],
   "source": [
    "bikes_X_train, bikes_X_test, bikes_y_train, bikes_y_test = (model_selection\n",
    "                                    .train_test_split(bikes_X, bikes_y, \n",
    "                                                      test_size=.3, \n",
    "                                                      random_state=43,)\n",
    "                                                        )"
   ]
  },
  {
   "cell_type": "code",
   "execution_count": 14,
   "id": "f32eeda5-5aca-4d1d-860a-e32a2513cc36",
   "metadata": {},
   "outputs": [],
   "source": [
    "X_train = pipe.fit_transform(bikes_X_train, bikes_y_train)\n",
    "X_test = pipe.transform(bikes_X_test)"
   ]
  },
  {
   "cell_type": "code",
   "execution_count": 15,
   "id": "3c5f42b6-a98d-4e09-8d4e-d4dcda37af56",
   "metadata": {},
   "outputs": [
    {
     "name": "stdout",
     "output_type": "stream",
     "text": [
      "RMSE: 0.00\n"
     ]
    }
   ],
   "source": [
    "dt_reg = DecisionTreeRegressor()\n",
    "dt_reg.fit(X_train, bikes_y_train)\n",
    "y_pred = dt_reg.predict(X_train)\n",
    "\n",
    "mse = mean_squared_error(bikes_y_train, y_pred)\n",
    "\n",
    "rmse = np.sqrt(mse)\n",
    "\n",
    "print(f\"RMSE: {rmse:.2f}\")"
   ]
  },
  {
   "cell_type": "markdown",
   "id": "8e2b0f08-99e3-4f4e-a620-69fec0c796d4",
   "metadata": {},
   "source": [
    "A RMSE of 0.0 means that the model has perfectly fit every data point! Coupled the cross-validation error score, we can deduce that the decision tree is overfitting the data with high variance. The training set fit perfectly, but the test set missed miserably.\n",
    "\n",
    "Hyperparameter tuning should rectify this.\n",
    "\n",
    "### GridSearchCV\r\n",
    "GridSearchCV searches a grid of hyperparameters using cross-validation to deliver the best results.\r\n",
    "\r\n",
    "GridSearct's fit on a training set, and scored on a test seIthCV checks all hyperparameters before finalizing a mod We can import it from `sklearn.model_selection`.\n",
    "\n",
    "**max_depth**\n",
    "\n",
    "We will create a dictionary of a hyperparameter called `max_depth`, which defines the depth of a tree. Remember the last time when we chose a `max_dept=1` so we could easily visualize our tree? The default setting for this is `None`, that means there could hundreds or thousands which could lead to overfitting.\n",
    "\n",
    "For this example, we will play around with the smaller values for the `max_depth`.el."
   ]
  },
  {
   "cell_type": "code",
   "execution_count": 62,
   "id": "6c92963c-dff8-4676-842f-2bf381fb1ce1",
   "metadata": {},
   "outputs": [],
   "source": [
    "params = {'max_depth':[None,2,3,4,6,8,10,20]}"
   ]
  },
  {
   "cell_type": "code",
   "execution_count": 17,
   "id": "98651ee3-0014-459a-ac62-9cba18960db9",
   "metadata": {},
   "outputs": [
    {
     "data": {
      "text/html": [
       "<style>#sk-container-id-1 {color: black;background-color: white;}#sk-container-id-1 pre{padding: 0;}#sk-container-id-1 div.sk-toggleable {background-color: white;}#sk-container-id-1 label.sk-toggleable__label {cursor: pointer;display: block;width: 100%;margin-bottom: 0;padding: 0.3em;box-sizing: border-box;text-align: center;}#sk-container-id-1 label.sk-toggleable__label-arrow:before {content: \"▸\";float: left;margin-right: 0.25em;color: #696969;}#sk-container-id-1 label.sk-toggleable__label-arrow:hover:before {color: black;}#sk-container-id-1 div.sk-estimator:hover label.sk-toggleable__label-arrow:before {color: black;}#sk-container-id-1 div.sk-toggleable__content {max-height: 0;max-width: 0;overflow: hidden;text-align: left;background-color: #f0f8ff;}#sk-container-id-1 div.sk-toggleable__content pre {margin: 0.2em;color: black;border-radius: 0.25em;background-color: #f0f8ff;}#sk-container-id-1 input.sk-toggleable__control:checked~div.sk-toggleable__content {max-height: 200px;max-width: 100%;overflow: auto;}#sk-container-id-1 input.sk-toggleable__control:checked~label.sk-toggleable__label-arrow:before {content: \"▾\";}#sk-container-id-1 div.sk-estimator input.sk-toggleable__control:checked~label.sk-toggleable__label {background-color: #d4ebff;}#sk-container-id-1 div.sk-label input.sk-toggleable__control:checked~label.sk-toggleable__label {background-color: #d4ebff;}#sk-container-id-1 input.sk-hidden--visually {border: 0;clip: rect(1px 1px 1px 1px);clip: rect(1px, 1px, 1px, 1px);height: 1px;margin: -1px;overflow: hidden;padding: 0;position: absolute;width: 1px;}#sk-container-id-1 div.sk-estimator {font-family: monospace;background-color: #f0f8ff;border: 1px dotted black;border-radius: 0.25em;box-sizing: border-box;margin-bottom: 0.5em;}#sk-container-id-1 div.sk-estimator:hover {background-color: #d4ebff;}#sk-container-id-1 div.sk-parallel-item::after {content: \"\";width: 100%;border-bottom: 1px solid gray;flex-grow: 1;}#sk-container-id-1 div.sk-label:hover label.sk-toggleable__label {background-color: #d4ebff;}#sk-container-id-1 div.sk-serial::before {content: \"\";position: absolute;border-left: 1px solid gray;box-sizing: border-box;top: 0;bottom: 0;left: 50%;z-index: 0;}#sk-container-id-1 div.sk-serial {display: flex;flex-direction: column;align-items: center;background-color: white;padding-right: 0.2em;padding-left: 0.2em;position: relative;}#sk-container-id-1 div.sk-item {position: relative;z-index: 1;}#sk-container-id-1 div.sk-parallel {display: flex;align-items: stretch;justify-content: center;background-color: white;position: relative;}#sk-container-id-1 div.sk-item::before, #sk-container-id-1 div.sk-parallel-item::before {content: \"\";position: absolute;border-left: 1px solid gray;box-sizing: border-box;top: 0;bottom: 0;left: 50%;z-index: -1;}#sk-container-id-1 div.sk-parallel-item {display: flex;flex-direction: column;z-index: 1;position: relative;background-color: white;}#sk-container-id-1 div.sk-parallel-item:first-child::after {align-self: flex-end;width: 50%;}#sk-container-id-1 div.sk-parallel-item:last-child::after {align-self: flex-start;width: 50%;}#sk-container-id-1 div.sk-parallel-item:only-child::after {width: 0;}#sk-container-id-1 div.sk-dashed-wrapped {border: 1px dashed gray;margin: 0 0.4em 0.5em 0.4em;box-sizing: border-box;padding-bottom: 0.4em;background-color: white;}#sk-container-id-1 div.sk-label label {font-family: monospace;font-weight: bold;display: inline-block;line-height: 1.2em;}#sk-container-id-1 div.sk-label-container {text-align: center;}#sk-container-id-1 div.sk-container {/* jupyter's `normalize.less` sets `[hidden] { display: none; }` but bootstrap.min.css set `[hidden] { display: none !important; }` so we also need the `!important` here to be able to override the default hidden behavior on the sphinx rendered scikit-learn.org. See: https://github.com/scikit-learn/scikit-learn/issues/21755 */display: inline-block !important;position: relative;}#sk-container-id-1 div.sk-text-repr-fallback {display: none;}</style><div id=\"sk-container-id-1\" class=\"sk-top-container\"><div class=\"sk-text-repr-fallback\"><pre>GridSearchCV(cv=5, estimator=DecisionTreeRegressor(), n_jobs=-1,\n",
       "             param_grid={&#x27;max_depth&#x27;: [None, 2, 3, 4, 6, 8, 10, 20]},\n",
       "             scoring=&#x27;neg_mean_squared_error&#x27;)</pre><b>In a Jupyter environment, please rerun this cell to show the HTML representation or trust the notebook. <br />On GitHub, the HTML representation is unable to render, please try loading this page with nbviewer.org.</b></div><div class=\"sk-container\" hidden><div class=\"sk-item sk-dashed-wrapped\"><div class=\"sk-label-container\"><div class=\"sk-label sk-toggleable\"><input class=\"sk-toggleable__control sk-hidden--visually\" id=\"sk-estimator-id-1\" type=\"checkbox\" ><label for=\"sk-estimator-id-1\" class=\"sk-toggleable__label sk-toggleable__label-arrow\">GridSearchCV</label><div class=\"sk-toggleable__content\"><pre>GridSearchCV(cv=5, estimator=DecisionTreeRegressor(), n_jobs=-1,\n",
       "             param_grid={&#x27;max_depth&#x27;: [None, 2, 3, 4, 6, 8, 10, 20]},\n",
       "             scoring=&#x27;neg_mean_squared_error&#x27;)</pre></div></div></div><div class=\"sk-parallel\"><div class=\"sk-parallel-item\"><div class=\"sk-item\"><div class=\"sk-label-container\"><div class=\"sk-label sk-toggleable\"><input class=\"sk-toggleable__control sk-hidden--visually\" id=\"sk-estimator-id-2\" type=\"checkbox\" ><label for=\"sk-estimator-id-2\" class=\"sk-toggleable__label sk-toggleable__label-arrow\">estimator: DecisionTreeRegressor</label><div class=\"sk-toggleable__content\"><pre>DecisionTreeRegressor()</pre></div></div></div><div class=\"sk-serial\"><div class=\"sk-item\"><div class=\"sk-estimator sk-toggleable\"><input class=\"sk-toggleable__control sk-hidden--visually\" id=\"sk-estimator-id-3\" type=\"checkbox\" ><label for=\"sk-estimator-id-3\" class=\"sk-toggleable__label sk-toggleable__label-arrow\">DecisionTreeRegressor</label><div class=\"sk-toggleable__content\"><pre>DecisionTreeRegressor()</pre></div></div></div></div></div></div></div></div></div></div>"
      ],
      "text/plain": [
       "GridSearchCV(cv=5, estimator=DecisionTreeRegressor(), n_jobs=-1,\n",
       "             param_grid={'max_depth': [None, 2, 3, 4, 6, 8, 10, 20]},\n",
       "             scoring='neg_mean_squared_error')"
      ]
     },
     "execution_count": 17,
     "metadata": {},
     "output_type": "execute_result"
    }
   ],
   "source": [
    "grid_reg = GridSearchCV(dt_reg, params, scoring='neg_mean_squared_error', cv=5, n_jobs=-1)\n",
    "grid_reg.fit(X_train, bikes_y_train)"
   ]
  },
  {
   "cell_type": "markdown",
   "id": "a9479f50-adfe-447b-93ad-912782fd1fb6",
   "metadata": {},
   "source": [
    "After fitting we next view the best `max_depth` value thus:"
   ]
  },
  {
   "cell_type": "code",
   "execution_count": 18,
   "id": "626713f5-5475-42a4-aadb-903fb5599f20",
   "metadata": {},
   "outputs": [
    {
     "name": "stdout",
     "output_type": "stream",
     "text": [
      "Best params:{'max_depth': 6}\n"
     ]
    }
   ],
   "source": [
    "best_params = grid_reg.best_params_\n",
    "print(f\"Best params:{best_params}\")"
   ]
  },
  {
   "cell_type": "markdown",
   "id": "9e190648-defa-4bfe-b3c6-006cb7459710",
   "metadata": {},
   "source": [
    "What this tells us is that a `max_depth` value of 6 resulted in the best cross-validation score in the training set.\n",
    "\n",
    "Let us next display the training score  using the `best_score` attribute."
   ]
  },
  {
   "cell_type": "code",
   "execution_count": 19,
   "id": "f92bc23b-0a12-4754-b024-a734c8c39e6a",
   "metadata": {},
   "outputs": [
    {
     "name": "stdout",
     "output_type": "stream",
     "text": [
      "Training score: 880.513\n"
     ]
    }
   ],
   "source": [
    "best_score = np.sqrt(-grid_reg.best_score_)\n",
    "print(f\"Training score: {best_score:.3f}\")"
   ]
  },
  {
   "cell_type": "markdown",
   "id": "5334b671-39c7-4a98-8eec-5a6885332864",
   "metadata": {},
   "source": [
    "Even though our goal is to get a very low value, in reality anything too low might not be that good. This value, which is still from the 0.0 we got prior, is very good. We can now work our way up.\n",
    "\n",
    "Next, the test score is displayed next thus:"
   ]
  },
  {
   "cell_type": "code",
   "execution_count": 20,
   "id": "81d1b41f-e7e4-4f85-bbda-3d86125e28fe",
   "metadata": {},
   "outputs": [
    {
     "name": "stdout",
     "output_type": "stream",
     "text": [
      "Test score: 911.778\n"
     ]
    }
   ],
   "source": [
    "best_model = grid_reg.best_estimator_\n",
    "\n",
    "y_pred = best_model.predict(X_test)\n",
    "\n",
    "rmse_test = mean_squared_error(bikes_y_test, y_pred)**0.5\n",
    "\n",
    "print(f'Test score: {rmse_test:.3f}')"
   ]
  },
  {
   "cell_type": "markdown",
   "id": "df107ecb-d7f5-4787-a7fe-faa627eef72c",
   "metadata": {},
   "source": [
    "We have substantially reduced variance.\n",
    "\n",
    "**min_samples_leaf** \n",
    "\n",
    "This specifies the minimum number of samples required to be at a leaf node. This is a regularization hyperparameter that constrains the size of the tree, making it more general and less susceptible to fluctuations in the data.\n",
    "\n",
    "A smaller value (like the default of 1) allows leaves with very few samples, leading to a more complex tree that can fit the training data closely leading to overfitting; and a larger value ensures that each leaf has a decent number of samples, leading to a more robust tree. For instance, if `min_samples_leaf=8`, all leaves must contain eight or more samples. We attempt to reduce overfitting by increasing the value, and to reduce underfitting we reduce this value. A trade-off is normally what is best.\n",
    "\n",
    "For us to test this hyperameter, we would need to go thru the process like we did before. It would be wise then to create a function that does this for us then we store that function in our `helper_file.py` so we import with the others and continue as usual."
   ]
  },
  {
   "cell_type": "code",
   "execution_count": 54,
   "id": "3529c6bc-a7f5-47f8-8e37-79f49decd29b",
   "metadata": {},
   "outputs": [],
   "source": [
    "def grid_search_optim(df, trgt_vect, params, model):\n",
    "    \"\"\"\n",
    "    This function performs hyperparameter optimization for a given model using GridSearchCV.\n",
    "    \n",
    "    Parameters:\n",
    "    df (pd.DataFrame): The input data frame containing the features and target variable.\n",
    "    trgt_vect (str): The name of the target variable column in the data frame.\n",
    "    params (dict): The dictionary containing parameter grid for GridSearchCV.\n",
    "    model (estimator object): The machine learning model instance to be optimized.\n",
    "    \n",
    "    Returns:\n",
    "    None: This function prints the best parameters and the training and test scores but does not return any values.\n",
    "    \n",
    "    Usage:\n",
    "    >>> optimize_model_parameters(dataframe, 'target_column_name', parameter_grid, DecisionTreeRegressor())\n",
    "    \n",
    "    Note:\n",
    "    - The 'dataframe' should be a data frame containing at least a column with the name specified in 'trgt_vect', which is used as the target variable.\n",
    "    - 'parameter_grid' should be a dictionary where keys are parameter names (as strings) and values are lists of parameter settings to try as values.\n",
    "    - 'PrepDataTransformer' should be a predefined class or function to preprocess the data.\n",
    "    \"\"\"\n",
    "    \n",
    "    # Split the data into features and target variable\n",
    "    df_X, df_y = splitX_y(df, trgt_vect)\n",
    "\n",
    "    # Split the data into training and testing sets\n",
    "    df_X_train, df_X_test, df_y_train, df_y_test = model_selection.train_test_split(\n",
    "        df_X, df_y, test_size=0.2, random_state=43)\n",
    "    \n",
    "    # Define the pipeline with preprocessing steps and the model\n",
    "    pipe = Pipeline([\n",
    "        ('tweak', PrepDataTransformer()),\n",
    "        ('imputer', SimpleImputer(strategy='median')),\n",
    "        ('scaler', StandardScaler())\n",
    "    ])\n",
    "\n",
    "    # Fit and transform the training data and transform the test data using the pipeline\n",
    "    X_train = pipe.fit_transform(df_X_train)\n",
    "    X_test = pipe.transform(df_X_test)\n",
    "    \n",
    "    # Instantiate GridSearchCV to optimize the model parameters\n",
    "    grid_model = GridSearchCV(model, params, scoring='neg_mean_squared_error', cv=5, n_jobs=-1)\n",
    "    \n",
    "    # Fit the model with the optimized parameters\n",
    "    grid_model.fit(X_train, df_y_train)\n",
    "\n",
    "    # Extract the best parameters found by GridSearchCV\n",
    "    best_params = grid_model.best_params_\n",
    "\n",
    "    # Print the best parameters\n",
    "    print(f\"Best params: {best_params}\")\n",
    "    \n",
    "    # Compute and print the training score (RMSE)\n",
    "    best_score = np.sqrt(-grid_model.best_score_)\n",
    "    print(f\"Training score: {best_score:.3f}\")\n",
    "\n",
    "    # Predict the target variable on the test set\n",
    "    y_pred = grid_model.predict(X_test)\n",
    "\n",
    "    # Compute and print the test score (RMSE)\n",
    "    rmse_test = mean_squared_error(df_y_test, y_pred)**0.5\n",
    "    print(f'Test score: {rmse_test:.3f}')\n"
   ]
  },
  {
   "cell_type": "code",
   "execution_count": 55,
   "id": "5e4ef7fd-350e-4349-9216-4c05739d8c3c",
   "metadata": {},
   "outputs": [
    {
     "name": "stdout",
     "output_type": "stream",
     "text": [
      "Best params: {'max_depth': 8}\n",
      "Training score: 888.860\n",
      "Test score: 872.764\n"
     ]
    }
   ],
   "source": [
    "grid_search_optim(df=df_bikes, trgt_vect='cnt', params=params, model= DecisionTreeRegressor())"
   ]
  },
  {
   "cell_type": "markdown",
   "id": "603fc692-0206-4456-89de-df2c84d995eb",
   "metadata": {},
   "source": [
    "We will now add a few more values for `min_samples_leaf` and see what we get."
   ]
  },
  {
   "cell_type": "code",
   "execution_count": 56,
   "id": "f471b515-600d-4c74-9b3e-a412db9ac75f",
   "metadata": {},
   "outputs": [],
   "source": [
    "gscv_params = {'max_depth':[None,2,3,4,6,8,10,20],\n",
    "               'min_samples_leaf':[1,2,4,6,8,10,20,30]}"
   ]
  },
  {
   "cell_type": "code",
   "execution_count": 57,
   "id": "92cfa966-3044-46dd-b819-ff5b40746e52",
   "metadata": {},
   "outputs": [
    {
     "name": "stdout",
     "output_type": "stream",
     "text": [
      "Best params: {'max_depth': 8, 'min_samples_leaf': 2}\n",
      "Training score: 865.093\n",
      "Test score: 867.422\n"
     ]
    }
   ],
   "source": [
    "grid_search_optim(df=df_bikes, trgt_vect='cnt', params=gscv_params, model= DecisionTreeRegressor())"
   ]
  },
  {
   "cell_type": "markdown",
   "id": "b86cd7b3-1072-4fef-a587-dc5c336e9d0a",
   "metadata": {},
   "source": [
    "As for reducing variance in the preceding example, limiting `min_samples_leaf` to values greater than three may help."
   ]
  },
  {
   "cell_type": "code",
   "execution_count": 61,
   "id": "14543f56-5b4a-4ded-b752-cb039f45ef1a",
   "metadata": {},
   "outputs": [
    {
     "name": "stdout",
     "output_type": "stream",
     "text": [
      "Best params: {'max_depth': 10, 'min_samples_leaf': 5}\n",
      "Training score: 875.113\n",
      "Test score: 893.616\n"
     ]
    }
   ],
   "source": [
    "gscv_params = {'max_depth':[6,7,8,9,10],\n",
    "               'min_samples_leaf':[3,5,7,9]}\n",
    "\n",
    "grid_search_optim(df=df_bikes, trgt_vect='cnt', \n",
    "                  params=gscv_params, \n",
    "                  model= DecisionTreeRegressor())"
   ]
  },
  {
   "cell_type": "markdown",
   "id": "4bcd74c9-198e-45f3-875b-69796b1b54b4",
   "metadata": {},
   "source": [
    "**max_leaf_nodes**\n",
    "\n",
    "This restricts the total number of leaves in a tree, helping to manage the complexity of the model. For instance, a setting of 10 would limit the tree to a maximum of 10 leaves, but possibly fewer.\n",
    "\n",
    "**max_features**\n",
    "\n",
    "This determines the subset of features to consider at each split, aiding in variance reduction. The configurations are:\n",
    "- 'auto': Utilizes the entire set of features (default).\n",
    "- 'sqrt': Selects a subset equal to the square root of the total number of features (e.g., 4 features for a 16-feature dataset).\n",
    "- '$log_2$': Employs a subset calculated as the base-2 logarithm of the total features (e.g., 5 features when the total is 32, since $2^5 = 32$).\n",
    "\n",
    "**min_samples_split**\n",
    "\n",
    "This hyperparameter specifies the minimum number of samples required at a node to permit a split, thus preventing the creation of excessively complex trees. For example, a value of 5 prohibits further splits for nodes with 5 or fewer samples.\n",
    "\n",
    "**splitter**\n",
    "\n",
    "The `splitter` defines the approach for selecting the split at each node:\n",
    "- 'best': Opt for the split yielding the highest information gain (default).\n",
    "- 'random': Chooses a random split, fostering a diversified tree structure and aiding in avoiding overfitting.\n",
    "\n",
    "\n",
    "**criterion**\n",
    "\n",
    "The `criterion` parameter signifies the method utilized by the model to assess the quality of potential splits in the decision tree. It serves as a scoring strategy to pinpoint the most beneficial split. \n",
    "\n",
    "- For _regressors_, the available options are:\n",
    "  - `mse` (Mean Squared Error): The default option, which aims to minimize the average of the squares of the differences between actual and predicted values. \n",
    "    *Example*: Given predicted values [3, 4] and actual values [3, 5], the mse is calculated as $\\frac{((3-3)^2 + (4-5)^2)}{2} = 0.5$.\n",
    "  - `friedman_mse`: A refined version of mse that incorporates Friedman's adjustment for a more precise approximation.\n",
    "  - `mae` (Mean Absolute Error): Focuses on minimizing the average absolute differences between the observed and forecasted values.\n",
    "\n",
    "- For _classifiers_, the choices are:\n",
    "  - `gini`: Evaluates dataset impurity, striving to minimize the chance of incorrect classification. \n",
    "  - `entropy`: Computes dataset impurity using logarithmic functions, often delivering results comparable to the gini criterion.\n",
    "\n",
    "The algorithm selects the optimal split by computing a score for each possible split using the chosen criterion and opting for the one with the highest score.\n",
    "\n",
    "--**### min_impurity_decr**ease\r\n",
    "\r\n",
    "The `min_impurity_decrease` parameter determines the threshold for a node split based on the decrease in impurity, which represents the purity of predictions at each node. Essentially, a node will split if the decrease in impurity is equal to or greater than this parameter's value.\r\n",
    "\r\n",
    "- **Impurity**: A metric quantifying the purity of predictions at a node. For instance, a tree with 100% accuracy has an impurity of 0.0, while an 80% accurate tree has an impurity of 0.20. The goal is to continually reduce impurity during the tree-building process, prioritizing splits that cause the most significant impurity decrease.\r\n",
    "- **Default Value**: 0.0. Adjusting this value higher can halt tree growth once a specific purity threshold is met, helping to prevent overf**ng.\r\n",
    "\r\n",
    "### min_weight_fr**action_leaf\r\n",
    "\r\n",
    "`min_weight_fraction_leaf` specifies the minimum fraction of the total sample weights needed for a node to be a leaf. It serves as a tool to limit tree complexity and avoid ove_itting.\r\n",
    "\r\n",
    "- _Functionality**: Controls the minimum weighted fraction of the sum total of weights that is required at a leaf node. In simple terms, it determines the minimum number of samples (weighted) that a leaf nod_can have. \r\n",
    "-_*Default Value**: 0.0. For instance, a setting of 0.01 (or 1%) with a dataset of 500 samples necessitates at least 5 samples in a leaf node, assuming **l weights**.\r\n",
    "\r\n",
    "### ccp_alpha\r\n",
    "\r\n",
    "The `ccp_alpha` parameter is primarily used for post-tree building pruning, focusing on minimizing the cost complexity. This discussion is beyond the scope of this section, but you can explore it further in resources on minimal cost\n",
    "\n",
    "-\r\n",
    "\r\n",
    "### Considerations for Hyperparameter Fine-Tuning\r\n",
    "\r\n",
    "When adjusting hyperparameters, keep in mind the following key aspects:\r\n",
    "\r\n",
    "- **Time Allocation**: The duration dedicated to the tuning process. For instance, allocating more time might allow for a more thorough exploration of parameter space, but could also increase computational costs.\r\n",
    "  \r\n",
    "- **Hyperparameter Quantity**: The number of hyperparameters you intend to tweak. Remember, it isn't necessary to adjust all available hyperparameters; focusing on a select few might sometimes yield better outcomes. \r\n",
    "\r\n",
    "- **Desired Accuracy Precision**: The level of accuracy precision you are targeting. This can vary based on the specific demands of your project; for instance, a critical medical research project might necessitate a higher degree of precision compared to a general data analysis project.\r\n",
    "\r\n",
    "The strategies you adopt for tuning, including the time spent and the precision level, largely depend on individual preferences, the dataset in question, and the specific projec\n",
    "\n",
    "**### Selecting Essential Hyperparame**ters\r\n",
    "\r\n",
    "Utilizing all available decision tree hyperparameters can be overwhelming and often unnecessary. Based on practical experience, fine-tuning a select group of hyperparameters — namely `max_depth`, `max_features`, `min_samples_leaf`, `max_leaf_nodes`, `min_impurity_decrease`, and `min_samples_split` — usually proves to be adequate in achieving desirable resultse to make!t obj we arectives. \r\n",
    "\r\n",
    "Now, equipped with a foundational understanding of decision trees and their. Let us try to you're ready to apply this knowleke to add or modify.justments or additions.\n"
   ]
  },
  {
   "cell_type": "code",
   "execution_count": null,
   "id": "9ce882ee-a3f6-437a-a862-222e4ef72731",
   "metadata": {},
   "outputs": [],
   "source": []
  }
 ],
 "metadata": {
  "kernelspec": {
   "display_name": "Python 3 (ipykernel)",
   "language": "python",
   "name": "python3"
  },
  "language_info": {
   "codemirror_mode": {
    "name": "ipython",
    "version": 3
   },
   "file_extension": ".py",
   "mimetype": "text/x-python",
   "name": "python",
   "nbconvert_exporter": "python",
   "pygments_lexer": "ipython3",
   "version": "3.10.10"
  }
 },
 "nbformat": 4,
 "nbformat_minor": 5
}
