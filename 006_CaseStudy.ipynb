{
 "cells": [
  {
   "cell_type": "markdown",
   "id": "973830d8-bb26-47aa-8200-d869d0b48d7b",
   "metadata": {},
   "source": [
    "<h1 style=\"text-align:center;\">Predicting heart disease</h1>"
   ]
  },
  {
   "cell_type": "code",
   "execution_count": 12,
   "id": "2859d5aa-f185-4398-aced-c32fe8738bcb",
   "metadata": {},
   "outputs": [],
   "source": [
    "import pandas as pd\n",
    "import numpy as np\n",
    "import warnings\n",
    "\n",
    "import matplotlib.pyplot as plt\n",
    "\n",
    "# Import train_test_split\n",
    "from sklearn.model_selection import train_test_split, GridSearchCV, RandomizedSearchCV\n",
    "\n",
    "# Import Decision Tree classifier\n",
    "from sklearn.tree import DecisionTreeClassifier, DecisionTreeRegressor\n",
    "\n",
    "# Import accuracy_score\n",
    "from sklearn.impute import SimpleImputer\n",
    "from sklearn.pipeline import Pipeline\n",
    "from sklearn.preprocessing import StandardScaler, LabelEncoder\n",
    "from sklearn.base import BaseEstimator, TransformerMixin\n",
    "\n",
    "from sklearn import tree\n",
    "from sklearn.metrics import mean_squared_error, accuracy_score\n",
    "\n",
    "from category_encoders import OneHotEncoder\n",
    "\n",
    "from helper_file import *\n",
    "\n",
    "warnings.filterwarnings('ignore')"
   ]
  },
  {
   "cell_type": "code",
   "execution_count": 4,
   "id": "7d273531-981d-4bf8-bc18-45c19c0bfeaf",
   "metadata": {},
   "outputs": [],
   "source": [
    "heart_url = \"data/heart_disease.csv\""
   ]
  },
  {
   "cell_type": "code",
   "execution_count": 6,
   "id": "c4e0ec82-73f4-4463-8b42-360b0fa2546a",
   "metadata": {},
   "outputs": [
    {
     "data": {
      "text/html": [
       "<div>\n",
       "<style scoped>\n",
       "    .dataframe tbody tr th:only-of-type {\n",
       "        vertical-align: middle;\n",
       "    }\n",
       "\n",
       "    .dataframe tbody tr th {\n",
       "        vertical-align: top;\n",
       "    }\n",
       "\n",
       "    .dataframe thead th {\n",
       "        text-align: right;\n",
       "    }\n",
       "</style>\n",
       "<table border=\"1\" class=\"dataframe\">\n",
       "  <thead>\n",
       "    <tr style=\"text-align: right;\">\n",
       "      <th></th>\n",
       "      <th>age</th>\n",
       "      <th>sex</th>\n",
       "      <th>cp</th>\n",
       "      <th>trestbps</th>\n",
       "      <th>chol</th>\n",
       "      <th>fbs</th>\n",
       "      <th>restecg</th>\n",
       "      <th>thalach</th>\n",
       "      <th>exang</th>\n",
       "      <th>oldpeak</th>\n",
       "      <th>slope</th>\n",
       "      <th>ca</th>\n",
       "      <th>thal</th>\n",
       "      <th>target</th>\n",
       "    </tr>\n",
       "  </thead>\n",
       "  <tbody>\n",
       "    <tr>\n",
       "      <th>0</th>\n",
       "      <td>63</td>\n",
       "      <td>1</td>\n",
       "      <td>3</td>\n",
       "      <td>145</td>\n",
       "      <td>233</td>\n",
       "      <td>1</td>\n",
       "      <td>0</td>\n",
       "      <td>150</td>\n",
       "      <td>0</td>\n",
       "      <td>2.3</td>\n",
       "      <td>0</td>\n",
       "      <td>0</td>\n",
       "      <td>1</td>\n",
       "      <td>1</td>\n",
       "    </tr>\n",
       "    <tr>\n",
       "      <th>1</th>\n",
       "      <td>37</td>\n",
       "      <td>1</td>\n",
       "      <td>2</td>\n",
       "      <td>130</td>\n",
       "      <td>250</td>\n",
       "      <td>0</td>\n",
       "      <td>1</td>\n",
       "      <td>187</td>\n",
       "      <td>0</td>\n",
       "      <td>3.5</td>\n",
       "      <td>0</td>\n",
       "      <td>0</td>\n",
       "      <td>2</td>\n",
       "      <td>1</td>\n",
       "    </tr>\n",
       "    <tr>\n",
       "      <th>2</th>\n",
       "      <td>41</td>\n",
       "      <td>0</td>\n",
       "      <td>1</td>\n",
       "      <td>130</td>\n",
       "      <td>204</td>\n",
       "      <td>0</td>\n",
       "      <td>0</td>\n",
       "      <td>172</td>\n",
       "      <td>0</td>\n",
       "      <td>1.4</td>\n",
       "      <td>2</td>\n",
       "      <td>0</td>\n",
       "      <td>2</td>\n",
       "      <td>1</td>\n",
       "    </tr>\n",
       "    <tr>\n",
       "      <th>3</th>\n",
       "      <td>56</td>\n",
       "      <td>1</td>\n",
       "      <td>1</td>\n",
       "      <td>120</td>\n",
       "      <td>236</td>\n",
       "      <td>0</td>\n",
       "      <td>1</td>\n",
       "      <td>178</td>\n",
       "      <td>0</td>\n",
       "      <td>0.8</td>\n",
       "      <td>2</td>\n",
       "      <td>0</td>\n",
       "      <td>2</td>\n",
       "      <td>1</td>\n",
       "    </tr>\n",
       "    <tr>\n",
       "      <th>4</th>\n",
       "      <td>57</td>\n",
       "      <td>0</td>\n",
       "      <td>0</td>\n",
       "      <td>120</td>\n",
       "      <td>354</td>\n",
       "      <td>0</td>\n",
       "      <td>1</td>\n",
       "      <td>163</td>\n",
       "      <td>1</td>\n",
       "      <td>0.6</td>\n",
       "      <td>2</td>\n",
       "      <td>0</td>\n",
       "      <td>2</td>\n",
       "      <td>1</td>\n",
       "    </tr>\n",
       "  </tbody>\n",
       "</table>\n",
       "</div>"
      ],
      "text/plain": [
       "   age  sex  cp  trestbps  chol  fbs  restecg  thalach  exang  oldpeak  slope  \\\n",
       "0   63    1   3       145   233    1        0      150      0      2.3      0   \n",
       "1   37    1   2       130   250    0        1      187      0      3.5      0   \n",
       "2   41    0   1       130   204    0        0      172      0      1.4      2   \n",
       "3   56    1   1       120   236    0        1      178      0      0.8      2   \n",
       "4   57    0   0       120   354    0        1      163      1      0.6      2   \n",
       "\n",
       "   ca  thal  target  \n",
       "0   0     1       1  \n",
       "1   0     2       1  \n",
       "2   0     2       1  \n",
       "3   0     2       1  \n",
       "4   0     2       1  "
      ]
     },
     "execution_count": 6,
     "metadata": {},
     "output_type": "execute_result"
    }
   ],
   "source": [
    "df_heart = (pd\n",
    " .read_csv(heart_url)\n",
    ")\n",
    "\n",
    "df_heart.head()"
   ]
  },
  {
   "cell_type": "markdown",
   "id": "056e6009-557a-4fff-9020-e319c579ca1c",
   "metadata": {},
   "source": [
    "Alright, let's have a little chat about what each of these terms you've got here means. It's really not all that complicated, I promise!\n",
    "\n",
    "1. **`age`**: This is just the number of years someone has been around - simple enough, right?\n",
    "\n",
    "2. **`sex`**: Here we're identifying whether someone is male (1) or female (0). A binary kind of thing!\n",
    "\n",
    "3. **`cp`** or **Chest Pain Type**: Now, here we're categorizing the kind of chest pain someone might be experiencing. It could be \"typical angina\" which is kind of the classic type of chest pain, \"atypical angina\" which is a bit different, \"non-anginal pain\" which isn't related to the heart, or \"asymptomatic\" which means the person doesn't feel any pain at all.\n",
    "\n",
    "4. **`trestbps`** or **Resting Blood Pressure**: This is the pressure in someone's arteries when they're not doing anything strenuous - just chilling out, you might say. It's measured in mm Hg.\n",
    "\n",
    "5. **`chol`** or **Cholesterol**: This one is the amount of cholesterol floating around in someone's blood, measured in mg/dl.\n",
    "\n",
    "6. **`fbs`** or **Fasting Blood Sugar**: Here we're checking if the sugar level in the blood is higher than 120 mg/dl after not eating for a while (fasting). It's a yes (1) or no (0) kind of deal.\n",
    "\n",
    "7. **`restecg`** or **Resting Electrocardiographic Results**: This is a fancy way of talking about the results of a heart test. It might show everything is normal (0), some small irregularities (1), or signs that the left part of the heart is working too hard (2).\n",
    "\n",
    "8. **`thalach`** or **Maximum Heart Rate Achieved**: This is the fastest the heart was beating during the test - a peak performance, if you will!\n",
    "\n",
    "9. **`exang`** or **Exercise Induced Angina**: Here we're noting whether exercise causes chest pain. Again, it's a yes (1) or no (0) kind of situation.\n",
    "\n",
    "10. **`oldpeak`**: This is a measure of a specific change in the heart test when someone is exercising compared to when they are resting.\n",
    "\n",
    "11. **`slope`**: This is looking at another part of the heart test - specifically, the shape of a certain curve when someone is working out. It might go up (1), stay flat (2), or go down (3).\n",
    "\n",
    "12. **`ca`** or **Number of Major Vessels**: Here, we're counting the number of big blood vessels that are visible in a certain type of test - it can be anywhere from 0 to 3.\n",
    "\n",
    "13. **`thal`**: This is a test that looks at the heart's blood supply. It might be normal (3), have a permanent defect (6), or have a defect that can change (7).\n",
    "\n",
    "Now, to make use of this data for learning, we'll need to split it into two groups: one to help our machine learn, and another to test how well it has learned. It's just like giving a student a set of practice problems and then a separate set of exam problems to see how well they've understood the material!"
   ]
  },
  {
   "cell_type": "code",
   "execution_count": 7,
   "id": "e4c4ca0e-f026-4bb3-bb05-6a7f05990a87",
   "metadata": {},
   "outputs": [
    {
     "name": "stdout",
     "output_type": "stream",
     "text": [
      "shape of target vector: (303,)\n",
      "shape of feature matrix: (303, 13)\n"
     ]
    }
   ],
   "source": [
    "X, y = splitX_y(df_heart, 'target')\n",
    "\n",
    "print(f\"shape of target vector: {y.shape}\")\n",
    "print(f\"shape of feature matrix: {X.shape}\")"
   ]
  },
  {
   "cell_type": "code",
   "execution_count": 8,
   "id": "0c6a3ec4-d885-4af7-b34b-236f9a7bdad6",
   "metadata": {},
   "outputs": [],
   "source": [
    "X_train, X_test, y_train, y_test = train_test_split(X, y, random_state=43)"
   ]
  },
  {
   "cell_type": "code",
   "execution_count": 9,
   "id": "eb3a961a-ca8f-443b-b779-e8b049554bde",
   "metadata": {},
   "outputs": [
    {
     "name": "stdout",
     "output_type": "stream",
     "text": [
      "Accuracy: [0.74 0.84 0.74 0.75 0.72]\n",
      "Accuracy mean: 0.76\n"
     ]
    }
   ],
   "source": [
    "model = DecisionTreeClassifier(random_state=43)\n",
    "\n",
    "scores = cross_val_score(model, X, y, cv=5)\n",
    "\n",
    "print(f'Accuracy: {np.round(scores, 2)}')\n",
    "\n",
    "print(f'Accuracy mean: {scores.mean():.2f}' )"
   ]
  },
  {
   "cell_type": "markdown",
   "id": "468cf254-579e-498d-96c7-bc4156880a53",
   "metadata": {},
   "source": [
    "You see, sometimes, when we are fine-tuning our machine learning models, we got a heck of a lot of settings to adjust, which we call \"hyperparameters\". Now, tweaking these one by one using `GridSearchCV` can feel like waiting for grass to grow - it's a slow process, my friend.\n",
    "\n",
    "But fear not, because the folks who crafted the `scikit-learn` library threw us a lifeline here with something they call `RandomizedSearchCV`. Think of it as a fun game of lottery where, instead of meticulously trying every single combination of numbers, you try your luck with a few random combinations hoping to hit the jackpot. It's a clever trick to save time!\n",
    "\n",
    "So, instead of sifting through every possible combination, which might take ages, this method plays around with a random selection of these combinations, giving you a fair shot at finding the golden settings without spending an eternity on it. It's like a clever shortcut to finding some of the best combinations without having to turn over every stone in the field. It's not about being thorough, it's about being smart and efficient with the time and resources we've got."
   ]
  },
  {
   "cell_type": "code",
   "execution_count": 11,
   "id": "d2b391b3-7d08-4d1b-b1dd-c62a3866a4b3",
   "metadata": {},
   "outputs": [],
   "source": [
    "def randomized_search_clf(df, trgt_vect, params, model, runs=20):\n",
    "    \"\"\"\n",
    "    Ah, hello there! Welcome to the exciting journey of optimizing a classifier!\n",
    "    \n",
    "    This function takes in a data frame and a bunch of other parameters and does a little dance with \n",
    "    RandomizedSearchCV to find the best model settings. You see, instead of testing every single \n",
    "    combination of hyperparameters (which can be a bit like watching paint dry), we're going to \n",
    "    smartly sample a few combinations randomly. It's a quicker way to get us a good-enough model without \n",
    "    spending an eternity on it.\n",
    "    \n",
    "    Parameters:\n",
    "    df (DataFrame): The data frame containing your data.\n",
    "    trgt_vect (Series): The target variable you're trying to predict.\n",
    "    params (dict): The range of hyperparameters you want to test out.\n",
    "    runs (int, optional): The number of random combinations to try. Defaults to 20.\n",
    "    model (estimator object): The base model you want to optimize.\n",
    "    \n",
    "    Returns:\n",
    "    best_model (estimator object): The optimized model that performed the best in our little experiment.\n",
    "    \n",
    "    Now, let's roll up our sleeves and let the computer do the heavy lifting!\n",
    "    \"\"\"\n",
    "    \n",
    "    X, y = splitX_y(df_heart, trgt_vect)\n",
    "\n",
    "    X_train, X_test, y_train, y_test = train_test_split(X, y, random_state=43)\n",
    "    \n",
    "    rand_clf = RandomizedSearchCV(model, params, n_iter=runs, cv=5, n_jobs=-1, random_state=2)\n",
    "    rand_clf.fit(X_train, y_train)\n",
    "\n",
    "    best_model = rand_clf.best_estimator_\n",
    "    best_score = rand_clf.best_score_\n",
    "\n",
    "    print(f\"Training score: {best_score:.3f}\")\n",
    "\n",
    "    y_pred = best_model.predict(X_test)\n",
    "\n",
    "    accuracy = accuracy_score(y_test, y_pred)\n",
    "\n",
    "    print(f'Test score: {accuracy:.3f}')\n",
    "\n",
    "    return best_model"
   ]
  },
  {
   "cell_type": "markdown",
   "id": "3c067458-fc8c-48d8-a46b-f0ea19b0fca8",
   "metadata": {},
   "source": [
    "When it comes to selecting these things called \"hyperparameters\", there's no straight arrow, no one-size-fits-all solution. You see, it's a bit like jazz improvisation; there's a certain freedom, a certain joy in trying out different tunes to see what works best. In our script, nestled within the `randomized_search_clf` function, we've laid out an initial selection of numbers, a starting point if you will. These numbers aren't just plucked out of thin air; they're chosen carefully to cast a wide net and to keep our journey steady, avoiding too many bumps and jolts."
   ]
  },
  {
   "cell_type": "code",
   "execution_count": 13,
   "id": "31a71fd5-a197-4060-bfb6-cb02ad648c4a",
   "metadata": {},
   "outputs": [],
   "source": [
    "params={'criterion':['entropy', 'gini'],'splitter':['random', 'best'], \n",
    "        'min_weight_fraction_leaf':[0.0, 0.0025, 0.005, 0.0075, 0.01],\n",
    "        'min_samples_split':[2, 3, 4, 5, 6, 8, 10],\n",
    "        'min_samples_leaf':[1, 0.01, 0.02, 0.03, 0.04],\n",
    "        'min_impurity_decrease':[0.0, 0.0005, 0.005, 0.05, 0.10, 0.15, 0.2],\n",
    "        'max_leaf_nodes':[10, 15, 20, 25, 30, 35, 40, 45, 50, None],\n",
    "        'max_features':['auto', 0.95, 0.90, 0.85, 0.80, 0.75, 0.70],\n",
    "        'max_depth':[None, 2,4,6,8],\n",
    "        'min_weight_fraction_leaf':[0.0, 0.0025, 0.005, 0.0075, 0.01, 0.05]}"
   ]
  },
  {
   "cell_type": "code",
   "execution_count": 14,
   "id": "3df856cf-80b4-4d55-ac59-9c8dcc3659fb",
   "metadata": {},
   "outputs": [
    {
     "name": "stdout",
     "output_type": "stream",
     "text": [
      "Training score: 0.753\n",
      "Test score: 0.816\n"
     ]
    },
    {
     "data": {
      "text/html": [
       "<style>#sk-container-id-1 {color: black;background-color: white;}#sk-container-id-1 pre{padding: 0;}#sk-container-id-1 div.sk-toggleable {background-color: white;}#sk-container-id-1 label.sk-toggleable__label {cursor: pointer;display: block;width: 100%;margin-bottom: 0;padding: 0.3em;box-sizing: border-box;text-align: center;}#sk-container-id-1 label.sk-toggleable__label-arrow:before {content: \"▸\";float: left;margin-right: 0.25em;color: #696969;}#sk-container-id-1 label.sk-toggleable__label-arrow:hover:before {color: black;}#sk-container-id-1 div.sk-estimator:hover label.sk-toggleable__label-arrow:before {color: black;}#sk-container-id-1 div.sk-toggleable__content {max-height: 0;max-width: 0;overflow: hidden;text-align: left;background-color: #f0f8ff;}#sk-container-id-1 div.sk-toggleable__content pre {margin: 0.2em;color: black;border-radius: 0.25em;background-color: #f0f8ff;}#sk-container-id-1 input.sk-toggleable__control:checked~div.sk-toggleable__content {max-height: 200px;max-width: 100%;overflow: auto;}#sk-container-id-1 input.sk-toggleable__control:checked~label.sk-toggleable__label-arrow:before {content: \"▾\";}#sk-container-id-1 div.sk-estimator input.sk-toggleable__control:checked~label.sk-toggleable__label {background-color: #d4ebff;}#sk-container-id-1 div.sk-label input.sk-toggleable__control:checked~label.sk-toggleable__label {background-color: #d4ebff;}#sk-container-id-1 input.sk-hidden--visually {border: 0;clip: rect(1px 1px 1px 1px);clip: rect(1px, 1px, 1px, 1px);height: 1px;margin: -1px;overflow: hidden;padding: 0;position: absolute;width: 1px;}#sk-container-id-1 div.sk-estimator {font-family: monospace;background-color: #f0f8ff;border: 1px dotted black;border-radius: 0.25em;box-sizing: border-box;margin-bottom: 0.5em;}#sk-container-id-1 div.sk-estimator:hover {background-color: #d4ebff;}#sk-container-id-1 div.sk-parallel-item::after {content: \"\";width: 100%;border-bottom: 1px solid gray;flex-grow: 1;}#sk-container-id-1 div.sk-label:hover label.sk-toggleable__label {background-color: #d4ebff;}#sk-container-id-1 div.sk-serial::before {content: \"\";position: absolute;border-left: 1px solid gray;box-sizing: border-box;top: 0;bottom: 0;left: 50%;z-index: 0;}#sk-container-id-1 div.sk-serial {display: flex;flex-direction: column;align-items: center;background-color: white;padding-right: 0.2em;padding-left: 0.2em;position: relative;}#sk-container-id-1 div.sk-item {position: relative;z-index: 1;}#sk-container-id-1 div.sk-parallel {display: flex;align-items: stretch;justify-content: center;background-color: white;position: relative;}#sk-container-id-1 div.sk-item::before, #sk-container-id-1 div.sk-parallel-item::before {content: \"\";position: absolute;border-left: 1px solid gray;box-sizing: border-box;top: 0;bottom: 0;left: 50%;z-index: -1;}#sk-container-id-1 div.sk-parallel-item {display: flex;flex-direction: column;z-index: 1;position: relative;background-color: white;}#sk-container-id-1 div.sk-parallel-item:first-child::after {align-self: flex-end;width: 50%;}#sk-container-id-1 div.sk-parallel-item:last-child::after {align-self: flex-start;width: 50%;}#sk-container-id-1 div.sk-parallel-item:only-child::after {width: 0;}#sk-container-id-1 div.sk-dashed-wrapped {border: 1px dashed gray;margin: 0 0.4em 0.5em 0.4em;box-sizing: border-box;padding-bottom: 0.4em;background-color: white;}#sk-container-id-1 div.sk-label label {font-family: monospace;font-weight: bold;display: inline-block;line-height: 1.2em;}#sk-container-id-1 div.sk-label-container {text-align: center;}#sk-container-id-1 div.sk-container {/* jupyter's `normalize.less` sets `[hidden] { display: none; }` but bootstrap.min.css set `[hidden] { display: none !important; }` so we also need the `!important` here to be able to override the default hidden behavior on the sphinx rendered scikit-learn.org. See: https://github.com/scikit-learn/scikit-learn/issues/21755 */display: inline-block !important;position: relative;}#sk-container-id-1 div.sk-text-repr-fallback {display: none;}</style><div id=\"sk-container-id-1\" class=\"sk-top-container\"><div class=\"sk-text-repr-fallback\"><pre>DecisionTreeClassifier(criterion=&#x27;entropy&#x27;, max_depth=4, max_features=0.75,\n",
       "                       max_leaf_nodes=25, min_impurity_decrease=0.0005,\n",
       "                       min_samples_split=5, min_weight_fraction_leaf=0.0075,\n",
       "                       random_state=43)</pre><b>In a Jupyter environment, please rerun this cell to show the HTML representation or trust the notebook. <br />On GitHub, the HTML representation is unable to render, please try loading this page with nbviewer.org.</b></div><div class=\"sk-container\" hidden><div class=\"sk-item\"><div class=\"sk-estimator sk-toggleable\"><input class=\"sk-toggleable__control sk-hidden--visually\" id=\"sk-estimator-id-1\" type=\"checkbox\" checked><label for=\"sk-estimator-id-1\" class=\"sk-toggleable__label sk-toggleable__label-arrow\">DecisionTreeClassifier</label><div class=\"sk-toggleable__content\"><pre>DecisionTreeClassifier(criterion=&#x27;entropy&#x27;, max_depth=4, max_features=0.75,\n",
       "                       max_leaf_nodes=25, min_impurity_decrease=0.0005,\n",
       "                       min_samples_split=5, min_weight_fraction_leaf=0.0075,\n",
       "                       random_state=43)</pre></div></div></div></div></div>"
      ],
      "text/plain": [
       "DecisionTreeClassifier(criterion='entropy', max_depth=4, max_features=0.75,\n",
       "                       max_leaf_nodes=25, min_impurity_decrease=0.0005,\n",
       "                       min_samples_split=5, min_weight_fraction_leaf=0.0075,\n",
       "                       random_state=43)"
      ]
     },
     "execution_count": 14,
     "metadata": {},
     "output_type": "execute_result"
    }
   ],
   "source": [
    "randomized_search_clf(df=df_heart, trgt_vect='target', \n",
    "                      params=params, model=model, \n",
    "                      runs=20)"
   ]
  },
  {
   "cell_type": "markdown",
   "id": "68be8247-f507-40e2-909b-fc6fc6ead55b",
   "metadata": {},
   "source": [
    "Alright, let's have a little heart-to-heart about fine-tuning our machine learning model here. You see, one trick up our sleeve is to tighten the reins on the range of hyperparameters we're exploring.\n",
    "\n",
    "For instance, if we've noticed that a `max_depth` of 8 is doing wonders in our best model, we might just decide to play around in the neighborhood, maybe peek at what happens at 7 or 9.\n",
    "\n",
    "Now, here's another nugget of wisdom - if a default setting is holding its ground pretty well, why bother messing with it, right? Like, in our case, `entropy` doesn't really bring a lot to the table compared to `gini`, it's a marginal difference really. So, we might as well stick with `gini` and let `entropy` sit this one out. The same goes for `min_impurity_split` and `min_impurity_decrease`; if they're doing fine as they are, let's not lose sleep over them.\n",
    "\n",
    "Moving on, I've brewed a fresh batch of hyperparameter ranges for us to try, and I've pumped up the runs to a solid 100 to give us a better shot at finding that sweet spot. Here, take a look at this configuration for our randomized_search_clf:"
   ]
  },
  {
   "cell_type": "code",
   "execution_count": 15,
   "id": "87d10a7e-dd69-471a-843e-e7b8bc8e8797",
   "metadata": {},
   "outputs": [],
   "source": [
    "params={'max_depth':[None, 6, 7],'max_features':['auto', 0.78], \n",
    "        'max_leaf_nodes':[45, None], 'min_samples_leaf':[1, 0.035, 0.04, 0.045, 0.05],\n",
    "        'min_samples_split':[2, 9, 10],'min_weight_fraction_leaf': [0.0, 0.05, 0.06, 0.07],}"
   ]
  },
  {
   "cell_type": "code",
   "execution_count": 16,
   "id": "355ef335-26aa-4444-a97e-cd48d114d762",
   "metadata": {},
   "outputs": [
    {
     "name": "stdout",
     "output_type": "stream",
     "text": [
      "Training score: 0.793\n",
      "Test score: 0.763\n"
     ]
    },
    {
     "data": {
      "text/html": [
       "<style>#sk-container-id-2 {color: black;background-color: white;}#sk-container-id-2 pre{padding: 0;}#sk-container-id-2 div.sk-toggleable {background-color: white;}#sk-container-id-2 label.sk-toggleable__label {cursor: pointer;display: block;width: 100%;margin-bottom: 0;padding: 0.3em;box-sizing: border-box;text-align: center;}#sk-container-id-2 label.sk-toggleable__label-arrow:before {content: \"▸\";float: left;margin-right: 0.25em;color: #696969;}#sk-container-id-2 label.sk-toggleable__label-arrow:hover:before {color: black;}#sk-container-id-2 div.sk-estimator:hover label.sk-toggleable__label-arrow:before {color: black;}#sk-container-id-2 div.sk-toggleable__content {max-height: 0;max-width: 0;overflow: hidden;text-align: left;background-color: #f0f8ff;}#sk-container-id-2 div.sk-toggleable__content pre {margin: 0.2em;color: black;border-radius: 0.25em;background-color: #f0f8ff;}#sk-container-id-2 input.sk-toggleable__control:checked~div.sk-toggleable__content {max-height: 200px;max-width: 100%;overflow: auto;}#sk-container-id-2 input.sk-toggleable__control:checked~label.sk-toggleable__label-arrow:before {content: \"▾\";}#sk-container-id-2 div.sk-estimator input.sk-toggleable__control:checked~label.sk-toggleable__label {background-color: #d4ebff;}#sk-container-id-2 div.sk-label input.sk-toggleable__control:checked~label.sk-toggleable__label {background-color: #d4ebff;}#sk-container-id-2 input.sk-hidden--visually {border: 0;clip: rect(1px 1px 1px 1px);clip: rect(1px, 1px, 1px, 1px);height: 1px;margin: -1px;overflow: hidden;padding: 0;position: absolute;width: 1px;}#sk-container-id-2 div.sk-estimator {font-family: monospace;background-color: #f0f8ff;border: 1px dotted black;border-radius: 0.25em;box-sizing: border-box;margin-bottom: 0.5em;}#sk-container-id-2 div.sk-estimator:hover {background-color: #d4ebff;}#sk-container-id-2 div.sk-parallel-item::after {content: \"\";width: 100%;border-bottom: 1px solid gray;flex-grow: 1;}#sk-container-id-2 div.sk-label:hover label.sk-toggleable__label {background-color: #d4ebff;}#sk-container-id-2 div.sk-serial::before {content: \"\";position: absolute;border-left: 1px solid gray;box-sizing: border-box;top: 0;bottom: 0;left: 50%;z-index: 0;}#sk-container-id-2 div.sk-serial {display: flex;flex-direction: column;align-items: center;background-color: white;padding-right: 0.2em;padding-left: 0.2em;position: relative;}#sk-container-id-2 div.sk-item {position: relative;z-index: 1;}#sk-container-id-2 div.sk-parallel {display: flex;align-items: stretch;justify-content: center;background-color: white;position: relative;}#sk-container-id-2 div.sk-item::before, #sk-container-id-2 div.sk-parallel-item::before {content: \"\";position: absolute;border-left: 1px solid gray;box-sizing: border-box;top: 0;bottom: 0;left: 50%;z-index: -1;}#sk-container-id-2 div.sk-parallel-item {display: flex;flex-direction: column;z-index: 1;position: relative;background-color: white;}#sk-container-id-2 div.sk-parallel-item:first-child::after {align-self: flex-end;width: 50%;}#sk-container-id-2 div.sk-parallel-item:last-child::after {align-self: flex-start;width: 50%;}#sk-container-id-2 div.sk-parallel-item:only-child::after {width: 0;}#sk-container-id-2 div.sk-dashed-wrapped {border: 1px dashed gray;margin: 0 0.4em 0.5em 0.4em;box-sizing: border-box;padding-bottom: 0.4em;background-color: white;}#sk-container-id-2 div.sk-label label {font-family: monospace;font-weight: bold;display: inline-block;line-height: 1.2em;}#sk-container-id-2 div.sk-label-container {text-align: center;}#sk-container-id-2 div.sk-container {/* jupyter's `normalize.less` sets `[hidden] { display: none; }` but bootstrap.min.css set `[hidden] { display: none !important; }` so we also need the `!important` here to be able to override the default hidden behavior on the sphinx rendered scikit-learn.org. See: https://github.com/scikit-learn/scikit-learn/issues/21755 */display: inline-block !important;position: relative;}#sk-container-id-2 div.sk-text-repr-fallback {display: none;}</style><div id=\"sk-container-id-2\" class=\"sk-top-container\"><div class=\"sk-text-repr-fallback\"><pre>DecisionTreeClassifier(max_depth=6, max_features=&#x27;auto&#x27;, min_samples_leaf=0.035,\n",
       "                       random_state=43)</pre><b>In a Jupyter environment, please rerun this cell to show the HTML representation or trust the notebook. <br />On GitHub, the HTML representation is unable to render, please try loading this page with nbviewer.org.</b></div><div class=\"sk-container\" hidden><div class=\"sk-item\"><div class=\"sk-estimator sk-toggleable\"><input class=\"sk-toggleable__control sk-hidden--visually\" id=\"sk-estimator-id-2\" type=\"checkbox\" checked><label for=\"sk-estimator-id-2\" class=\"sk-toggleable__label sk-toggleable__label-arrow\">DecisionTreeClassifier</label><div class=\"sk-toggleable__content\"><pre>DecisionTreeClassifier(max_depth=6, max_features=&#x27;auto&#x27;, min_samples_leaf=0.035,\n",
       "                       random_state=43)</pre></div></div></div></div></div>"
      ],
      "text/plain": [
       "DecisionTreeClassifier(max_depth=6, max_features='auto', min_samples_leaf=0.035,\n",
       "                       random_state=43)"
      ]
     },
     "execution_count": 16,
     "metadata": {},
     "output_type": "execute_result"
    }
   ],
   "source": [
    "randomized_search_clf(df=df_heart, trgt_vect='target', \n",
    "                      params=params, model=model, \n",
    "                      runs=100)"
   ]
  },
  {
   "cell_type": "code",
   "execution_count": 19,
   "id": "14a21b5f-f45d-46ea-9a6a-fb9016caf45e",
   "metadata": {},
   "outputs": [
    {
     "name": "stdout",
     "output_type": "stream",
     "text": [
      "Accuracy:[0.75 0.8  0.74 0.75 0.77]\n",
      "Accuracy mean:0.76\n"
     ]
    }
   ],
   "source": [
    "model = DecisionTreeClassifier(class_weight=None, \n",
    "                               criterion='gini', max_depth=7,\n",
    "                               max_features='auto', max_leaf_nodes=45, \n",
    "                               min_impurity_decrease=0.0, \n",
    "                               min_samples_leaf=0.035, \n",
    "                               min_samples_split=9, min_weight_fraction_leaf=0.06, \n",
    "                               random_state=43, splitter='best')\n",
    "scores = cross_val_score(model, X, y, cv=5)\n",
    "\n",
    "print(f'Accuracy:{np.round(scores, 2)}')\n",
    "\n",
    "print(f'Accuracy mean:{(scores.mean()):.2f}')"
   ]
  },
  {
   "cell_type": "markdown",
   "id": "2e36b115-5bd5-47d4-b3fc-16e8440dd0d8",
   "metadata": {},
   "source": [
    "### `feature_importances_`: Unveiling the Key Players\n",
    "\n",
    "Alright, let's cut to the chase. We're at a stage where we want to spotlight the shining stars, the key features that our machine learning model deems most important. Thankfully, decision trees hand us a neat tool for this, termed `feature_importances_`.\n",
    "\n",
    "Now, before we dive in, we've got to settle on our champion model. You see, our function has pinpointed the best contender, but we haven't officially crowned it yet; it's not saved.\n",
    "\n",
    "Here's a little nugget of wisdom for the testing phase: keep your training and test sets separate to avoid any mix-ups. But once we've zeroed in on our final model, it's a good strategy to let it loose on the entire dataset. This move might just give our model a little extra edge, a boost in accuracy, as it gets to learn from a richer set of data, prepping it to face new, unseen data with confidence.\n",
    "\n",
    "So, let's roll up our sleeves and get our best model set up with the finest hyperparameters, ready to be trained on the full dataset:"
   ]
  },
  {
   "cell_type": "code",
   "execution_count": 21,
   "id": "108a7870-42b0-420f-bbfe-3ebbfe787702",
   "metadata": {},
   "outputs": [
    {
     "data": {
      "text/html": [
       "<style>#sk-container-id-3 {color: black;background-color: white;}#sk-container-id-3 pre{padding: 0;}#sk-container-id-3 div.sk-toggleable {background-color: white;}#sk-container-id-3 label.sk-toggleable__label {cursor: pointer;display: block;width: 100%;margin-bottom: 0;padding: 0.3em;box-sizing: border-box;text-align: center;}#sk-container-id-3 label.sk-toggleable__label-arrow:before {content: \"▸\";float: left;margin-right: 0.25em;color: #696969;}#sk-container-id-3 label.sk-toggleable__label-arrow:hover:before {color: black;}#sk-container-id-3 div.sk-estimator:hover label.sk-toggleable__label-arrow:before {color: black;}#sk-container-id-3 div.sk-toggleable__content {max-height: 0;max-width: 0;overflow: hidden;text-align: left;background-color: #f0f8ff;}#sk-container-id-3 div.sk-toggleable__content pre {margin: 0.2em;color: black;border-radius: 0.25em;background-color: #f0f8ff;}#sk-container-id-3 input.sk-toggleable__control:checked~div.sk-toggleable__content {max-height: 200px;max-width: 100%;overflow: auto;}#sk-container-id-3 input.sk-toggleable__control:checked~label.sk-toggleable__label-arrow:before {content: \"▾\";}#sk-container-id-3 div.sk-estimator input.sk-toggleable__control:checked~label.sk-toggleable__label {background-color: #d4ebff;}#sk-container-id-3 div.sk-label input.sk-toggleable__control:checked~label.sk-toggleable__label {background-color: #d4ebff;}#sk-container-id-3 input.sk-hidden--visually {border: 0;clip: rect(1px 1px 1px 1px);clip: rect(1px, 1px, 1px, 1px);height: 1px;margin: -1px;overflow: hidden;padding: 0;position: absolute;width: 1px;}#sk-container-id-3 div.sk-estimator {font-family: monospace;background-color: #f0f8ff;border: 1px dotted black;border-radius: 0.25em;box-sizing: border-box;margin-bottom: 0.5em;}#sk-container-id-3 div.sk-estimator:hover {background-color: #d4ebff;}#sk-container-id-3 div.sk-parallel-item::after {content: \"\";width: 100%;border-bottom: 1px solid gray;flex-grow: 1;}#sk-container-id-3 div.sk-label:hover label.sk-toggleable__label {background-color: #d4ebff;}#sk-container-id-3 div.sk-serial::before {content: \"\";position: absolute;border-left: 1px solid gray;box-sizing: border-box;top: 0;bottom: 0;left: 50%;z-index: 0;}#sk-container-id-3 div.sk-serial {display: flex;flex-direction: column;align-items: center;background-color: white;padding-right: 0.2em;padding-left: 0.2em;position: relative;}#sk-container-id-3 div.sk-item {position: relative;z-index: 1;}#sk-container-id-3 div.sk-parallel {display: flex;align-items: stretch;justify-content: center;background-color: white;position: relative;}#sk-container-id-3 div.sk-item::before, #sk-container-id-3 div.sk-parallel-item::before {content: \"\";position: absolute;border-left: 1px solid gray;box-sizing: border-box;top: 0;bottom: 0;left: 50%;z-index: -1;}#sk-container-id-3 div.sk-parallel-item {display: flex;flex-direction: column;z-index: 1;position: relative;background-color: white;}#sk-container-id-3 div.sk-parallel-item:first-child::after {align-self: flex-end;width: 50%;}#sk-container-id-3 div.sk-parallel-item:last-child::after {align-self: flex-start;width: 50%;}#sk-container-id-3 div.sk-parallel-item:only-child::after {width: 0;}#sk-container-id-3 div.sk-dashed-wrapped {border: 1px dashed gray;margin: 0 0.4em 0.5em 0.4em;box-sizing: border-box;padding-bottom: 0.4em;background-color: white;}#sk-container-id-3 div.sk-label label {font-family: monospace;font-weight: bold;display: inline-block;line-height: 1.2em;}#sk-container-id-3 div.sk-label-container {text-align: center;}#sk-container-id-3 div.sk-container {/* jupyter's `normalize.less` sets `[hidden] { display: none; }` but bootstrap.min.css set `[hidden] { display: none !important; }` so we also need the `!important` here to be able to override the default hidden behavior on the sphinx rendered scikit-learn.org. See: https://github.com/scikit-learn/scikit-learn/issues/21755 */display: inline-block !important;position: relative;}#sk-container-id-3 div.sk-text-repr-fallback {display: none;}</style><div id=\"sk-container-id-3\" class=\"sk-top-container\"><div class=\"sk-text-repr-fallback\"><pre>DecisionTreeClassifier(max_depth=9, max_features=0.8, max_leaf_nodes=47,\n",
       "                       min_samples_split=8, min_weight_fraction_leaf=0.05,\n",
       "                       random_state=43)</pre><b>In a Jupyter environment, please rerun this cell to show the HTML representation or trust the notebook. <br />On GitHub, the HTML representation is unable to render, please try loading this page with nbviewer.org.</b></div><div class=\"sk-container\" hidden><div class=\"sk-item\"><div class=\"sk-estimator sk-toggleable\"><input class=\"sk-toggleable__control sk-hidden--visually\" id=\"sk-estimator-id-3\" type=\"checkbox\" checked><label for=\"sk-estimator-id-3\" class=\"sk-toggleable__label sk-toggleable__label-arrow\">DecisionTreeClassifier</label><div class=\"sk-toggleable__content\"><pre>DecisionTreeClassifier(max_depth=9, max_features=0.8, max_leaf_nodes=47,\n",
       "                       min_samples_split=8, min_weight_fraction_leaf=0.05,\n",
       "                       random_state=43)</pre></div></div></div></div></div>"
      ],
      "text/plain": [
       "DecisionTreeClassifier(max_depth=9, max_features=0.8, max_leaf_nodes=47,\n",
       "                       min_samples_split=8, min_weight_fraction_leaf=0.05,\n",
       "                       random_state=43)"
      ]
     },
     "execution_count": 21,
     "metadata": {},
     "output_type": "execute_result"
    }
   ],
   "source": [
    "best_clf = DecisionTreeClassifier(class_weight=None, \n",
    "                                  criterion='gini', \n",
    "                                  max_depth=9,max_features=0.8, \n",
    "                                  max_leaf_nodes=47,min_impurity_decrease=0.0, \n",
    "                                  min_samples_leaf=1, \n",
    "                                  min_samples_split=8, min_weight_fraction_leaf=0.05, \n",
    "                                  random_state=43, splitter='best')\n",
    "\n",
    "best_clf.fit(X, y)"
   ]
  },
  {
   "cell_type": "code",
   "execution_count": 22,
   "id": "61b72f02-c09e-4baa-aae7-d0f406d86d3b",
   "metadata": {},
   "outputs": [
    {
     "data": {
      "text/plain": [
       "array([0.03458176, 0.        , 0.24669228, 0.        , 0.02326202,\n",
       "       0.        , 0.01439797, 0.06288718, 0.        , 0.0390193 ,\n",
       "       0.        , 0.17279501, 0.40636449])"
      ]
     },
     "execution_count": 22,
     "metadata": {},
     "output_type": "execute_result"
    }
   ],
   "source": [
    "best_clf.feature_importances_"
   ]
  },
  {
   "cell_type": "code",
   "execution_count": 23,
   "id": "e0ec4bee-50c0-40e6-a787-ad3142ad2be0",
   "metadata": {},
   "outputs": [
    {
     "data": {
      "text/plain": [
       "[('thal', 0.4063644861324159),\n",
       " ('cp', 0.24669227792723478),\n",
       " ('ca', 0.17279500568541162)]"
      ]
     },
     "execution_count": 23,
     "metadata": {},
     "output_type": "execute_result"
    }
   ],
   "source": [
    "# Zip columns and feature_importances_ into dict\n",
    "feature_dict = dict(zip(X.columns, best_clf.feature_importances_))\n",
    "\n",
    "# Import operator\n",
    "import operator\n",
    "\n",
    "# Sort dict by values (as list of tuples)\n",
    "sorted(feature_dict.items(), key=operator.itemgetter(1), reverse=True)[0:3]"
   ]
  },
  {
   "cell_type": "markdown",
   "id": "e707f80e-b289-4cbc-bb69-06142b42b425",
   "metadata": {},
   "source": [
    "Alright, my fellow explorers, let's gather 'round as we unveil the three superstar features that are taking the lead in our model:\n",
    "\n",
    "1. **'cp'**: This denotes the type of chest pain experienced. It's categorized as follows:\n",
    "   - **1**: Typical Angina\n",
    "   - **2**: Atypical Angina\n",
    "   - **3**: Non-Anginal Pain\n",
    "   - **4**: Asymptomatic\n",
    "\n",
    "2. **'thalach'**: This represents the pinnacle of the heart rate that has been achieved.\n",
    "   \n",
    "3. **'ca'**: This indicates the count of major vessels that are highlighted under fluoroscopy, ranging from 0 to 3.\n",
    "\n",
    "Now, let's delve a bit deeper. You see, these numbers aren't just arbitrary; they have a story to tell. The 'cp' or chest pain type, for instance, is a heavyweight, accounting for a whopping 48% of the variance, outshining 'thal' and 'ca' combined.\n",
    "\n",
    "Now, here's a message we can share with our medical team: Our model stands as a reliable ally, predicting the presence of heart disease with an impressive accuracy of 82%. And it does so by focusing its lens on three vital signs: the nature of the chest pain, the peak heart rate achieved, and the fluoroscopy results of the major vessels. It's a collaborative effort where chest pain, heart rate, and fluoroscopy results come together to paint a comprehensive picture."
   ]
  },
  {
   "cell_type": "code",
   "execution_count": null,
   "id": "25350c90-cc30-46b3-b051-93512bc57567",
   "metadata": {},
   "outputs": [],
   "source": []
  }
 ],
 "metadata": {
  "kernelspec": {
   "display_name": "Python 3 (ipykernel)",
   "language": "python",
   "name": "python3"
  },
  "language_info": {
   "codemirror_mode": {
    "name": "ipython",
    "version": 3
   },
   "file_extension": ".py",
   "mimetype": "text/x-python",
   "name": "python",
   "nbconvert_exporter": "python",
   "pygments_lexer": "ipython3",
   "version": "3.10.12"
  }
 },
 "nbformat": 4,
 "nbformat_minor": 5
}
