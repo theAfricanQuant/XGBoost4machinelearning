{
 "cells": [
  {
   "cell_type": "markdown",
   "id": "7ec7fc04-c29d-42da-a324-a3bb79045cb0",
   "metadata": {},
   "source": [
    "\n",
    "<h1 style=\"text-align:center;\">Ensembles with Bagging</h1>\n",
    "\n",
    " Bagging, or Bootstrap Aggregating, is an ensemble method in machine learning where several instances of the same algorithm are run, each on a slightly different subset of the training data generated through sampling with replacement (bootstrap samples). These bootstrap samples typically have the same size as the original dataset. In bagging, the different models are trained independently from each other and their predictions are aggregated to make a final prediction. For classification problems, this is typically done by taking a majority vote, while for regression problems the mean prediction is used. The aim of bagging is to reduce the variance of a prediction by combining multiple estimates.\n",
    "\n",
    "The statement \"..._sampling with replacement_...\" refers to the method of creating ne datasets (bootstrap samples) from the original dataset, where each new dataset is constructed by randomly selecting instances from the original dataset, and after each selection, the chosen instance is placed back into the original dataset, making it available to be potentially selected again in the same new dataset.\n",
    "\n",
    "**Billiards/Snooker**\n",
    "\n",
    "Imagine you are playing a game of billiards or snooker. In a \"bagging scenario\", instead of relying on a single shot to pot a difficult ball, you would have the opportunity to take multiple shots from slightly different angles or positions (these represent different bootstrap samples). After taking all these shots, the \"final shot\" would be determined by the majority outcome of all those shots. For instance, if most of the shots pot the ball successfully, the final outcome is considered successful.\n",
    "\n",
    "In this case:\n",
    "- Each shot at the ball represents a model in the ensemble.\n",
    "- The slight variations in angles or positions represent the different subsets of data (bootstrap samples).\n",
    "- The final outcome, determined by the majority of individual outcomes, represents the aggregated prediction of the ensemble.\n",
    "\n",
    "## Random forest classifiers\n",
    "We will take our time to use a random forest classifier to predict whether a user makes more or less than US$ 50,000 using the census dataset."
   ]
  },
  {
   "cell_type": "code",
   "execution_count": 27,
   "id": "646c1bdf-58b8-4344-89db-08e010c6bb2a",
   "metadata": {},
   "outputs": [],
   "source": [
    "import pandas as pd\n",
    "import numpy as np\n",
    "import warnings\n",
    "\n",
    "import matplotlib.pyplot as plt\n",
    "# Import train_test_split\n",
    "from sklearn.model_selection import (train_test_split, GridSearchCV, \n",
    "                            RandomizedSearchCV, cross_val_score\n",
    "                                    )\n",
    "\n",
    "# Import Random Forest classifier\n",
    "from sklearn.ensemble import RandomForestClassifier, RandomForestRegressor\n",
    "\n",
    "\n",
    "# Import accuracy_score\n",
    "from sklearn.impute import SimpleImputer\n",
    "from sklearn.pipeline import Pipeline\n",
    "from sklearn.preprocessing import StandardScaler, LabelEncoder\n",
    "from sklearn.base import BaseEstimator, TransformerMixin\n",
    "\n",
    "from sklearn import tree\n",
    "from sklearn.metrics import mean_squared_error, accuracy_score\n",
    "\n",
    "from sklearn.utils import shuffle\n",
    "\n",
    "from category_encoders import OneHotEncoder\n",
    "\n",
    "from helper_file import *\n",
    "\n",
    "import seaborn as sns\n",
    "\n",
    "sns.set()\n",
    "\n",
    "warnings.filterwarnings('ignore')"
   ]
  },
  {
   "cell_type": "code",
   "execution_count": 2,
   "id": "bcbce412-3236-4595-bba1-ab5f6117a2cd",
   "metadata": {},
   "outputs": [
    {
     "data": {
      "text/html": [
       "<div>\n",
       "<style scoped>\n",
       "    .dataframe tbody tr th:only-of-type {\n",
       "        vertical-align: middle;\n",
       "    }\n",
       "\n",
       "    .dataframe tbody tr th {\n",
       "        vertical-align: top;\n",
       "    }\n",
       "\n",
       "    .dataframe thead th {\n",
       "        text-align: right;\n",
       "    }\n",
       "</style>\n",
       "<table border=\"1\" class=\"dataframe\">\n",
       "  <thead>\n",
       "    <tr style=\"text-align: right;\">\n",
       "      <th></th>\n",
       "      <th>age</th>\n",
       "      <th>workclass</th>\n",
       "      <th>fnlwgt</th>\n",
       "      <th>education-num</th>\n",
       "      <th>marital-status</th>\n",
       "      <th>occupation</th>\n",
       "      <th>relationship</th>\n",
       "      <th>race</th>\n",
       "      <th>sex</th>\n",
       "      <th>capital-gain</th>\n",
       "      <th>capital-loss</th>\n",
       "      <th>hours-per-week</th>\n",
       "      <th>native-country</th>\n",
       "      <th>income</th>\n",
       "    </tr>\n",
       "  </thead>\n",
       "  <tbody>\n",
       "    <tr>\n",
       "      <th>23468</th>\n",
       "      <td>21</td>\n",
       "      <td>Private</td>\n",
       "      <td>202871</td>\n",
       "      <td>9</td>\n",
       "      <td>Never-married</td>\n",
       "      <td>Sales</td>\n",
       "      <td>Own-child</td>\n",
       "      <td>White</td>\n",
       "      <td>Male</td>\n",
       "      <td>0</td>\n",
       "      <td>0</td>\n",
       "      <td>44</td>\n",
       "      <td>United-States</td>\n",
       "      <td>&lt;=50K</td>\n",
       "    </tr>\n",
       "    <tr>\n",
       "      <th>17285</th>\n",
       "      <td>29</td>\n",
       "      <td>Self-emp-not-inc</td>\n",
       "      <td>212895</td>\n",
       "      <td>10</td>\n",
       "      <td>Divorced</td>\n",
       "      <td>Machine-op-inspct</td>\n",
       "      <td>Not-in-family</td>\n",
       "      <td>White</td>\n",
       "      <td>Male</td>\n",
       "      <td>0</td>\n",
       "      <td>0</td>\n",
       "      <td>48</td>\n",
       "      <td>United-States</td>\n",
       "      <td>&lt;=50K</td>\n",
       "    </tr>\n",
       "    <tr>\n",
       "      <th>21182</th>\n",
       "      <td>24</td>\n",
       "      <td>Local-gov</td>\n",
       "      <td>187397</td>\n",
       "      <td>10</td>\n",
       "      <td>Never-married</td>\n",
       "      <td>Protective-serv</td>\n",
       "      <td>Unmarried</td>\n",
       "      <td>Other</td>\n",
       "      <td>Male</td>\n",
       "      <td>1151</td>\n",
       "      <td>0</td>\n",
       "      <td>40</td>\n",
       "      <td>United-States</td>\n",
       "      <td>&lt;=50K</td>\n",
       "    </tr>\n",
       "  </tbody>\n",
       "</table>\n",
       "</div>"
      ],
      "text/plain": [
       "       age          workclass  fnlwgt  education-num  marital-status  \\\n",
       "23468   21            Private  202871              9   Never-married   \n",
       "17285   29   Self-emp-not-inc  212895             10        Divorced   \n",
       "21182   24          Local-gov  187397             10   Never-married   \n",
       "\n",
       "               occupation    relationship    race    sex  capital-gain  \\\n",
       "23468               Sales       Own-child   White   Male             0   \n",
       "17285   Machine-op-inspct   Not-in-family   White   Male             0   \n",
       "21182     Protective-serv       Unmarried   Other   Male          1151   \n",
       "\n",
       "       capital-loss  hours-per-week  native-country  income  \n",
       "23468             0              44   United-States   <=50K  \n",
       "17285             0              48   United-States   <=50K  \n",
       "21182             0              40   United-States   <=50K  "
      ]
     },
     "execution_count": 2,
     "metadata": {},
     "output_type": "execute_result"
    }
   ],
   "source": [
    "df_census.sample(n=3, random_state=43)"
   ]
  },
  {
   "cell_type": "code",
   "execution_count": 3,
   "id": "4cd733c8-033a-4c53-b525-9ef892fcd2aa",
   "metadata": {},
   "outputs": [
    {
     "name": "stdout",
     "output_type": "stream",
     "text": [
      "shape of target vector: (32561,)\n",
      "shape of feature matrix: (32561, 13)\n"
     ]
    }
   ],
   "source": [
    "cen_X, cen_y = splitX_y(df_census, 'income')\n",
    "\n",
    "print(f\"shape of target vector: {cen_y.shape}\")\n",
    "print(f\"shape of feature matrix: {cen_X.shape}\")"
   ]
  },
  {
   "cell_type": "code",
   "execution_count": 4,
   "id": "72b61d75-07ae-41a9-a711-b973489524c5",
   "metadata": {},
   "outputs": [
    {
     "name": "stdout",
     "output_type": "stream",
     "text": [
      "Accuracy: [0.84 0.86 0.85 0.85 0.86 0.85 0.85 0.85 0.86 0.86]\n",
      "Accuracy mean: 0.8515404545416827\n"
     ]
    }
   ],
   "source": [
    "rfc = RandomForestClassifier(n_estimators=10, \n",
    "                            random_state=2, \n",
    "                            n_jobs=-1)\n",
    "\n",
    "rfc_pipe = Pipeline(\n",
    "    [('ohe', OHETransformer()),\n",
    "     ('rfc', rfc)\n",
    "    ]\n",
    ")\n",
    "scores = cross_val_score(rfc_pipe, cen_X, cen_y, scoring='accuracy', cv=10)\n",
    "\n",
    "\n",
    "print(f'Accuracy: {np.round(scores, 2)}')\n",
    "\n",
    "print(f'Accuracy mean: {scores.mean()}')"
   ]
  },
  {
   "cell_type": "markdown",
   "id": "3d341d65-1635-46db-8e6f-9c56c6520498",
   "metadata": {},
   "source": [
    "### Random Forest Hyperparameters\n",
    "\n",
    "We will take a leisurely stroll through the world of random forest hyperparameters. Picture a forest, a vast entity where each tree contributes to the overall wisdom. Now, let's break this down step by step:\n",
    "\n",
    "#### Out-of-Bag Score (oob_score)\n",
    "\n",
    "- **Concept:** You see, in our forest, we select trees through a process akin to drawing marbles from a bag, sometimes picking the same one multiple times. Interestingly, this means we leave some marbles untouched, giving us an excellent opportunity to test our forest's wisdom using these untouched samples.\n",
    "- **Practical Usage:** By setting `oob_score=True`, you essentially tell the forest, \"Hey, use those untouched samples as a test set and let me know how well you did!\" "
   ]
  },
  {
   "cell_type": "code",
   "execution_count": 5,
   "id": "093b3aef-ada5-4361-a5cd-f6575fa2c5b2",
   "metadata": {},
   "outputs": [
    {
     "name": "stdout",
     "output_type": "stream",
     "text": [
      "shape of target vector: (32561,)\n",
      "shape of feature matrix: (32561, 13)\n"
     ]
    }
   ],
   "source": [
    "census_pipe = Pipeline(\n",
    "    [('ohe', OHETransformer())]\n",
    ")\n",
    "\n",
    "cen_X, cen_y = splitX_y(df_census, 'income')\n",
    "\n",
    "print(f\"shape of target vector: {cen_y.shape}\")\n",
    "print(f\"shape of feature matrix: {cen_X.shape}\")"
   ]
  },
  {
   "cell_type": "code",
   "execution_count": 6,
   "id": "f9cb36fb-76f7-42dd-ba87-8d7e255877d5",
   "metadata": {},
   "outputs": [],
   "source": [
    "cen_X_train, cen_X_test, cen_y_train, cen_y_test = (model_selection\n",
    "                                    .train_test_split(cen_X, cen_y, \n",
    "                                                      test_size=.3, \n",
    "                                                      random_state=43,)\n",
    "                                                        )\n",
    "\n",
    "X_train = census_pipe.fit_transform(cen_X_train)\n",
    "X_test = census_pipe.transform(cen_X_test)"
   ]
  },
  {
   "cell_type": "code",
   "execution_count": 7,
   "id": "2cb5dc3a-7df2-41d9-8a4a-00ce213118df",
   "metadata": {},
   "outputs": [
    {
     "data": {
      "text/html": [
       "<style>#sk-container-id-1 {color: black;background-color: white;}#sk-container-id-1 pre{padding: 0;}#sk-container-id-1 div.sk-toggleable {background-color: white;}#sk-container-id-1 label.sk-toggleable__label {cursor: pointer;display: block;width: 100%;margin-bottom: 0;padding: 0.3em;box-sizing: border-box;text-align: center;}#sk-container-id-1 label.sk-toggleable__label-arrow:before {content: \"▸\";float: left;margin-right: 0.25em;color: #696969;}#sk-container-id-1 label.sk-toggleable__label-arrow:hover:before {color: black;}#sk-container-id-1 div.sk-estimator:hover label.sk-toggleable__label-arrow:before {color: black;}#sk-container-id-1 div.sk-toggleable__content {max-height: 0;max-width: 0;overflow: hidden;text-align: left;background-color: #f0f8ff;}#sk-container-id-1 div.sk-toggleable__content pre {margin: 0.2em;color: black;border-radius: 0.25em;background-color: #f0f8ff;}#sk-container-id-1 input.sk-toggleable__control:checked~div.sk-toggleable__content {max-height: 200px;max-width: 100%;overflow: auto;}#sk-container-id-1 input.sk-toggleable__control:checked~label.sk-toggleable__label-arrow:before {content: \"▾\";}#sk-container-id-1 div.sk-estimator input.sk-toggleable__control:checked~label.sk-toggleable__label {background-color: #d4ebff;}#sk-container-id-1 div.sk-label input.sk-toggleable__control:checked~label.sk-toggleable__label {background-color: #d4ebff;}#sk-container-id-1 input.sk-hidden--visually {border: 0;clip: rect(1px 1px 1px 1px);clip: rect(1px, 1px, 1px, 1px);height: 1px;margin: -1px;overflow: hidden;padding: 0;position: absolute;width: 1px;}#sk-container-id-1 div.sk-estimator {font-family: monospace;background-color: #f0f8ff;border: 1px dotted black;border-radius: 0.25em;box-sizing: border-box;margin-bottom: 0.5em;}#sk-container-id-1 div.sk-estimator:hover {background-color: #d4ebff;}#sk-container-id-1 div.sk-parallel-item::after {content: \"\";width: 100%;border-bottom: 1px solid gray;flex-grow: 1;}#sk-container-id-1 div.sk-label:hover label.sk-toggleable__label {background-color: #d4ebff;}#sk-container-id-1 div.sk-serial::before {content: \"\";position: absolute;border-left: 1px solid gray;box-sizing: border-box;top: 0;bottom: 0;left: 50%;z-index: 0;}#sk-container-id-1 div.sk-serial {display: flex;flex-direction: column;align-items: center;background-color: white;padding-right: 0.2em;padding-left: 0.2em;position: relative;}#sk-container-id-1 div.sk-item {position: relative;z-index: 1;}#sk-container-id-1 div.sk-parallel {display: flex;align-items: stretch;justify-content: center;background-color: white;position: relative;}#sk-container-id-1 div.sk-item::before, #sk-container-id-1 div.sk-parallel-item::before {content: \"\";position: absolute;border-left: 1px solid gray;box-sizing: border-box;top: 0;bottom: 0;left: 50%;z-index: -1;}#sk-container-id-1 div.sk-parallel-item {display: flex;flex-direction: column;z-index: 1;position: relative;background-color: white;}#sk-container-id-1 div.sk-parallel-item:first-child::after {align-self: flex-end;width: 50%;}#sk-container-id-1 div.sk-parallel-item:last-child::after {align-self: flex-start;width: 50%;}#sk-container-id-1 div.sk-parallel-item:only-child::after {width: 0;}#sk-container-id-1 div.sk-dashed-wrapped {border: 1px dashed gray;margin: 0 0.4em 0.5em 0.4em;box-sizing: border-box;padding-bottom: 0.4em;background-color: white;}#sk-container-id-1 div.sk-label label {font-family: monospace;font-weight: bold;display: inline-block;line-height: 1.2em;}#sk-container-id-1 div.sk-label-container {text-align: center;}#sk-container-id-1 div.sk-container {/* jupyter's `normalize.less` sets `[hidden] { display: none; }` but bootstrap.min.css set `[hidden] { display: none !important; }` so we also need the `!important` here to be able to override the default hidden behavior on the sphinx rendered scikit-learn.org. See: https://github.com/scikit-learn/scikit-learn/issues/21755 */display: inline-block !important;position: relative;}#sk-container-id-1 div.sk-text-repr-fallback {display: none;}</style><div id=\"sk-container-id-1\" class=\"sk-top-container\"><div class=\"sk-text-repr-fallback\"><pre>RandomForestClassifier(n_estimators=10, n_jobs=-1, oob_score=True,\n",
       "                       random_state=2)</pre><b>In a Jupyter environment, please rerun this cell to show the HTML representation or trust the notebook. <br />On GitHub, the HTML representation is unable to render, please try loading this page with nbviewer.org.</b></div><div class=\"sk-container\" hidden><div class=\"sk-item\"><div class=\"sk-estimator sk-toggleable\"><input class=\"sk-toggleable__control sk-hidden--visually\" id=\"sk-estimator-id-1\" type=\"checkbox\" checked><label for=\"sk-estimator-id-1\" class=\"sk-toggleable__label sk-toggleable__label-arrow\">RandomForestClassifier</label><div class=\"sk-toggleable__content\"><pre>RandomForestClassifier(n_estimators=10, n_jobs=-1, oob_score=True,\n",
       "                       random_state=2)</pre></div></div></div></div></div>"
      ],
      "text/plain": [
       "RandomForestClassifier(n_estimators=10, n_jobs=-1, oob_score=True,\n",
       "                       random_state=2)"
      ]
     },
     "execution_count": 7,
     "metadata": {},
     "output_type": "execute_result"
    }
   ],
   "source": [
    "# Intialize Random Forest Classifier with oob_score=True\n",
    "rfc = RandomForestClassifier(oob_score=True, n_estimators=10, random_state=2, n_jobs=-1)\n",
    "\n",
    "# Fit Random Forest on Census Dataset\n",
    "rfc.fit(X_train, cen_y_train)"
   ]
  },
  {
   "cell_type": "code",
   "execution_count": 8,
   "id": "3b36c2a4-9180-4c68-b200-1f8ef62877a1",
   "metadata": {},
   "outputs": [
    {
     "data": {
      "text/plain": [
       "0.8306423306423306"
      ]
     },
     "execution_count": 8,
     "metadata": {},
     "output_type": "execute_result"
    }
   ],
   "source": [
    "# Display oob score\n",
    "rfc.oob_score_"
   ]
  },
  {
   "cell_type": "markdown",
   "id": "4791d342-cd8e-4508-af3b-292fd3b3f07f",
   "metadata": {},
   "source": [
    "#### Number of Trees (n_estimators)\n",
    "\n",
    "- **Concept:** The beauty of a forest is in its diversity and vastness. Similarly, our model's strength lies in having a multitude of trees, each learning and contributing its share to the collective intelligence.\n",
    "- **Practical Usage:** Initially, having more trees indeed adds wisdom to our forest. But as we keep increasing the number, the gains start to diminish. It's like adding more scholars to a council; beyond a point, the additional insights are minimal.\n",
    "\n",
    "Let's change `n_estimators` to 50 and then 100 to see how the output of the `oob_score` also changes."
   ]
  },
  {
   "cell_type": "code",
   "execution_count": 9,
   "id": "f7d6b3d8-6148-4df7-bae2-b88ac9305dec",
   "metadata": {},
   "outputs": [
    {
     "data": {
      "text/plain": [
       "0.8491575991575991"
      ]
     },
     "execution_count": 9,
     "metadata": {},
     "output_type": "execute_result"
    }
   ],
   "source": [
    "rfc = RandomForestClassifier(oob_score=True, n_estimators=50, random_state=43, n_jobs=-1)\n",
    "rfc.fit(X_train, cen_y_train)\n",
    "rfc.oob_score_"
   ]
  },
  {
   "cell_type": "code",
   "execution_count": 10,
   "id": "c8085c0a-569b-40c3-b316-6d6ba18af513",
   "metadata": {},
   "outputs": [
    {
     "data": {
      "text/plain": [
       "0.851965601965602"
      ]
     },
     "execution_count": 10,
     "metadata": {},
     "output_type": "execute_result"
    }
   ],
   "source": [
    "rfc = RandomForestClassifier(oob_score=True, n_estimators=100, random_state=43, n_jobs=-1)\n",
    "rfc.fit(X_train, cen_y_train)\n",
    "rfc.oob_score_"
   ]
  },
  {
   "cell_type": "markdown",
   "id": "f1d9c81b-919e-4d37-9e8e-2e12195db006",
   "metadata": {},
   "source": [
    "We can definitely see some changes. Let us go on tweaking the dials further.\n",
    "\n",
    "#### Warm Start\n",
    "\n",
    "- **Concept:** Imagine if, instead of starting from scratch each time we wanted to add more trees to our forest, we could just pick up where we left off. That's precisely what `warm_start=True` allows us to do.\n",
    "- **Practical Usage:** This setting is like a wise forest conservation strategy, saving time and effort by allowing for a seamless expansion of our tree council, without redoing the hard work already done.\n",
    "\n",
    "We are going to create a plot to see how things are looking up here."
   ]
  },
  {
   "cell_type": "code",
   "execution_count": 11,
   "id": "2b2253f6-e36c-44ca-8c21-359c54df110e",
   "metadata": {},
   "outputs": [],
   "source": [
    "oob_scores = []\n",
    "\n",
    "rfc = RandomForestClassifier(n_estimators=50, \n",
    "                            warm_start=True, \n",
    "                            oob_score=True, \n",
    "                            n_jobs=-1, random_state=43)\n",
    "\n",
    "rfc.fit(X_train, cen_y_train)\n",
    "\n",
    "oob_scores.append(rfc.oob_score_)\n",
    "\n",
    "est = 50\n",
    "\n",
    "estimators=[est]\n",
    "\n",
    "for i in range(9):\n",
    "\n",
    "    est += 50\n",
    "\n",
    "    estimators.append(est)\n",
    "\n",
    "    rfc.set_params(n_estimators=est)\n",
    "\n",
    "    rfc.fit(X_train, cen_y_train)\n",
    "\n",
    "    oob_scores.append(rfc.oob_score_)"
   ]
  },
  {
   "cell_type": "code",
   "execution_count": 12,
   "id": "359c665f-0a11-4ea3-ab23-ba3b66868325",
   "metadata": {},
   "outputs": [
    {
     "data": {
      "image/png": "[encoded data removed]",
      "text/plain": [
       "<Figure size 1500x700 with 1 Axes>"
      ]
     },
     "metadata": {},
     "output_type": "display_data"
    }
   ],
   "source": [
    "plt.figure(figsize=(15,7))\n",
    "\n",
    "plt.plot(estimators, oob_scores)\n",
    "\n",
    "plt.xlabel('Number of Trees')\n",
    "\n",
    "plt.ylabel('oob_score_')\n",
    "\n",
    "plt.title('Random Forest Warm Start', fontsize=15)\n",
    "\n",
    "plt.savefig('Random_Forest_Warm_Start', dpi=325)\n",
    "\n",
    "_=plt.show()"
   ]
  },
  {
   "cell_type": "markdown",
   "id": "b185d145-8667-40be-95b9-0dde167f50f6",
   "metadata": {},
   "source": [
    "As you can see, the number of trees tends to peak at around 400. It's more costly and time-consuming to use more trees than 400, and the gains are minimal at best.\n",
    "\n",
    "### Bootstrap\n",
    "\n",
    "- **Concept:** Bootstrapping is akin to the natural regeneration of a forest, allowing new trees to sprout from the seeds of the existing ones. However, if desired, this process can be stopped, akin to planting a garden with selected plants only.\n",
    "- **Practical Usage:** Generally, we let nature take its course (bootstrap=True), but if underfitting occurs, we might choose to plant specific trees (bootstrap=False), knowing that the `oob_score` won't be available in this managed setting.\n",
    "\n",
    "### Verbose\n",
    "\n",
    "- **Concept:** Sometimes, while nurturing our forest, we might want to keep a keen eye on its growth stages, noting down the intricate details. This is where the `verbose` parameter steps in, providing us with a detailed narrative of the forest's growth.\n",
    "- **Practical Usage:** Especially for large forests, setting `verbose=1` can be like having a detailed diary that chronicles the journey, offering insights that might be valuable.\n",
    "\n",
    "### Decision Tree Hyperparameters\n",
    "\n",
    "Now, let's zoom into a single tree and understand the nuances that govern its structure and growth:\n",
    "\n",
    "#### Depth\n",
    "\n",
    "- **max_depth:** Think of this as controlling how tall our trees can grow. A taller tree (more depth) can have more branches, but we don't want it to touch the sky, do we? Tuning this parameter helps maintain a balance, allowing for a tree tall enough to provide wisdom without overshadowing others.\n",
    "\n",
    "#### Splits\n",
    "\n",
    "- **max_features:** This parameter is like instructing our tree on the number of different nutrients (features) it can use to decide where to branch out.\n",
    "- **min_samples_split:** Here, we set a threshold for the minimum congregation needed at a point to form a new branch.\n",
    "- **min_impurity_decrease:** This one's a bit of quality control, ensuring that a new branch only forms if it brings a substantial improvement in purity.\n",
    "\n",
    "#### Leaves\n",
    "\n",
    "- **min_samples_leaf:** Like a council at the end of a branch (leaf), we dictate the minimum number of members needed to form this council.\n",
    "- **min_weight_fraction_leaf:** Here, we're defining the minimum proportion of the total 'weight' or importance that should be present at a leaf, ensuring a balanced representation.\n",
    "\n",
    "Remember, it's all about nurturing a balanced, wise, and insightful forest.\n",
    "\n",
    "\n",
    "## Random forest regressors\n",
    "\n",
    "In a random forest regressor, the samples are bootstrapped, as with the random forest Classifier, but the max number of features is the total number of features instead of the square root. This change is due to experimental results. Furthermore, the final prediction is made by taking the average of the predictions of all the trees, instead of a majority rules vote.\n",
    "\n",
    "Let us work that out with the bike rental dataset."
   ]
  },
  {
   "cell_type": "code",
   "execution_count": 13,
   "id": "6c58773d-7a8e-4de1-8deb-db21d7233896",
   "metadata": {},
   "outputs": [
    {
     "data": {
      "text/html": [
       "<div>\n",
       "<style scoped>\n",
       "    .dataframe tbody tr th:only-of-type {\n",
       "        vertical-align: middle;\n",
       "    }\n",
       "\n",
       "    .dataframe tbody tr th {\n",
       "        vertical-align: top;\n",
       "    }\n",
       "\n",
       "    .dataframe thead th {\n",
       "        text-align: right;\n",
       "    }\n",
       "</style>\n",
       "<table border=\"1\" class=\"dataframe\">\n",
       "  <thead>\n",
       "    <tr style=\"text-align: right;\">\n",
       "      <th></th>\n",
       "      <th>instant</th>\n",
       "      <th>dteday</th>\n",
       "      <th>season</th>\n",
       "      <th>yr</th>\n",
       "      <th>mnth</th>\n",
       "      <th>holiday</th>\n",
       "      <th>weekday</th>\n",
       "      <th>workingday</th>\n",
       "      <th>weathersit</th>\n",
       "      <th>temp</th>\n",
       "      <th>atemp</th>\n",
       "      <th>hum</th>\n",
       "      <th>windspeed</th>\n",
       "      <th>casual</th>\n",
       "      <th>registered</th>\n",
       "      <th>cnt</th>\n",
       "    </tr>\n",
       "  </thead>\n",
       "  <tbody>\n",
       "    <tr>\n",
       "      <th>335</th>\n",
       "      <td>336</td>\n",
       "      <td>2011-12-02</td>\n",
       "      <td>4.0</td>\n",
       "      <td>0.0</td>\n",
       "      <td>12.0</td>\n",
       "      <td>0.0</td>\n",
       "      <td>5.0</td>\n",
       "      <td>1.0</td>\n",
       "      <td>1</td>\n",
       "      <td>0.314167</td>\n",
       "      <td>0.331433</td>\n",
       "      <td>0.625833</td>\n",
       "      <td>0.100754</td>\n",
       "      <td>268</td>\n",
       "      <td>3672</td>\n",
       "      <td>3940</td>\n",
       "    </tr>\n",
       "    <tr>\n",
       "      <th>631</th>\n",
       "      <td>632</td>\n",
       "      <td>2012-09-23</td>\n",
       "      <td>4.0</td>\n",
       "      <td>1.0</td>\n",
       "      <td>9.0</td>\n",
       "      <td>0.0</td>\n",
       "      <td>0.0</td>\n",
       "      <td>0.0</td>\n",
       "      <td>1</td>\n",
       "      <td>0.529167</td>\n",
       "      <td>0.518933</td>\n",
       "      <td>0.467083</td>\n",
       "      <td>0.223258</td>\n",
       "      <td>2454</td>\n",
       "      <td>5453</td>\n",
       "      <td>7907</td>\n",
       "    </tr>\n",
       "    <tr>\n",
       "      <th>620</th>\n",
       "      <td>621</td>\n",
       "      <td>2012-09-12</td>\n",
       "      <td>3.0</td>\n",
       "      <td>1.0</td>\n",
       "      <td>9.0</td>\n",
       "      <td>0.0</td>\n",
       "      <td>3.0</td>\n",
       "      <td>1.0</td>\n",
       "      <td>1</td>\n",
       "      <td>0.599167</td>\n",
       "      <td>0.570075</td>\n",
       "      <td>0.577083</td>\n",
       "      <td>0.131846</td>\n",
       "      <td>1050</td>\n",
       "      <td>6820</td>\n",
       "      <td>7870</td>\n",
       "    </tr>\n",
       "  </tbody>\n",
       "</table>\n",
       "</div>"
      ],
      "text/plain": [
       "     instant      dteday  season   yr  mnth  holiday  weekday  workingday  \\\n",
       "335      336  2011-12-02     4.0  0.0  12.0      0.0      5.0         1.0   \n",
       "631      632  2012-09-23     4.0  1.0   9.0      0.0      0.0         0.0   \n",
       "620      621  2012-09-12     3.0  1.0   9.0      0.0      3.0         1.0   \n",
       "\n",
       "     weathersit      temp     atemp       hum  windspeed  casual  registered  \\\n",
       "335           1  0.314167  0.331433  0.625833   0.100754     268        3672   \n",
       "631           1  0.529167  0.518933  0.467083   0.223258    2454        5453   \n",
       "620           1  0.599167  0.570075  0.577083   0.131846    1050        6820   \n",
       "\n",
       "      cnt  \n",
       "335  3940  \n",
       "631  7907  \n",
       "620  7870  "
      ]
     },
     "execution_count": 13,
     "metadata": {},
     "output_type": "execute_result"
    }
   ],
   "source": [
    "df_bikes.sample(n=3, random_state=43)"
   ]
  },
  {
   "cell_type": "code",
   "execution_count": 14,
   "id": "3333577d-4de2-4a17-a1c6-578abefe7b9e",
   "metadata": {},
   "outputs": [
    {
     "name": "stdout",
     "output_type": "stream",
     "text": [
      "shape of target vector: (731,)\n",
      "shape of feature matrix: (731, 15)\n"
     ]
    }
   ],
   "source": [
    "bikes_X, bikes_y = splitX_y(df_bikes, 'cnt')\n",
    "\n",
    "print(f\"shape of target vector: {bikes_y.shape}\")\n",
    "print(f\"shape of feature matrix: {bikes_X.shape}\")"
   ]
  },
  {
   "cell_type": "code",
   "execution_count": 15,
   "id": "3ca15aa6-3679-4a4f-913b-597cf43afd63",
   "metadata": {},
   "outputs": [
    {
     "name": "stdout",
     "output_type": "stream",
     "text": [
      "RMSE: [ 867.18  595.17  517.24  807.87  895.54  880.33  915.73  823.14  777.07\n",
      " 2471.45]\n",
      "RMSE mean: 955.073\n"
     ]
    }
   ],
   "source": [
    "rfr = RandomForestRegressor(n_estimators=10, \n",
    "                            random_state=43, \n",
    "                            n_jobs=-1)\n",
    "\n",
    "rfr_pipe = Pipeline(\n",
    "    [('tweak', PrepDataTransformer()),\n",
    "     ('imputer', SimpleImputer(strategy='median')),  # Imputing null values using mean\n",
    "     ('scaler', StandardScaler()),\n",
    "     ('rfr', rfr)\n",
    "    ]\n",
    ")\n",
    "scores = cross_val_score(rfr_pipe, bikes_X, bikes_y, scoring='neg_mean_squared_error', cv=10)\n",
    "\n",
    "rmse = np.sqrt(-scores)\n",
    "\n",
    "print(f'RMSE: {np.round(rmse, 2)}')\n",
    "\n",
    "print(f'RMSE mean: {rmse.mean():.3f}')"
   ]
  },
  {
   "cell_type": "code",
   "execution_count": 16,
   "id": "e29768ea-7a8c-465e-9048-f702622cdac4",
   "metadata": {},
   "outputs": [
    {
     "name": "stdout",
     "output_type": "stream",
     "text": [
      "RMSE: [ 796.84  563.66  528.32  805.29  848.43  695.21  877.71  778.12  785.59\n",
      " 2277.  ]\n",
      "RMSE mean: 895.617\n"
     ]
    }
   ],
   "source": [
    "rfr = RandomForestRegressor(n_estimators=50, \n",
    "                            random_state=43, \n",
    "                            n_jobs=-1)\n",
    "\n",
    "rfr_pipe = Pipeline(\n",
    "    [('tweak', PrepDataTransformer()),\n",
    "     ('imputer', SimpleImputer(strategy='median')),  # Imputing null values using mean\n",
    "     ('scaler', StandardScaler()),\n",
    "     ('rfr', rfr)\n",
    "    ]\n",
    ")\n",
    "scores = cross_val_score(rfr_pipe, bikes_X, bikes_y, scoring='neg_mean_squared_error', cv=10)\n",
    "\n",
    "rmse = np.sqrt(-scores)\n",
    "\n",
    "print(f'RMSE: {np.round(rmse, 2)}')\n",
    "\n",
    "print(f'RMSE mean: {rmse.mean():.3f}')"
   ]
  },
  {
   "cell_type": "code",
   "execution_count": 17,
   "id": "c1cfbc5e-d79c-4142-907c-24ea5bddc585",
   "metadata": {},
   "outputs": [
    {
     "name": "stdout",
     "output_type": "stream",
     "text": [
      "RMSE: [ 789.9   543.26  523.07  809.69  871.38  695.84  846.45  794.76  775.62\n",
      " 2295.03]\n",
      "RMSE mean: 894.501\n"
     ]
    }
   ],
   "source": [
    "rfr = RandomForestRegressor(n_estimators=100, \n",
    "                            random_state=43, \n",
    "                            n_jobs=-1)\n",
    "\n",
    "rfr_pipe = Pipeline(\n",
    "    [('tweak', PrepDataTransformer()),\n",
    "     ('imputer', SimpleImputer(strategy='median')),  # Imputing null values using mean\n",
    "     ('scaler', StandardScaler()),\n",
    "     ('rfr', rfr)\n",
    "    ]\n",
    ")\n",
    "scores = cross_val_score(rfr_pipe, bikes_X, bikes_y, scoring='neg_mean_squared_error', cv=10)\n",
    "\n",
    "rmse = np.sqrt(-scores)\n",
    "\n",
    "print(f'RMSE: {np.round(rmse, 2)}')\n",
    "\n",
    "print(f'RMSE mean: {rmse.mean():.3f}')"
   ]
  },
  {
   "cell_type": "code",
   "execution_count": 18,
   "id": "07cc90e7-b617-4d68-bb73-edc548bc4ee8",
   "metadata": {},
   "outputs": [],
   "source": [
    "from sklearn.metrics import mean_squared_error as MSE\n",
    "from sklearn.model_selection import RandomizedSearchCV, train_test_split\n",
    "from sklearn.ensemble import RandomForestRegressor\n",
    "from sklearn.pipeline import Pipeline\n",
    "from sklearn.preprocessing import StandardScaler\n",
    "from sklearn.impute import SimpleImputer\n",
    "import logging\n",
    "\n",
    "def randomized_search_rfr(df, target_column, params, transformer, runs=16, \n",
    "                          rfr=None, verbose=1, random_state=43):\n",
    "    \"\"\"\n",
    "    This function performs a randomized search for hyperparameter tuning on a RandomForestRegressor.\n",
    "    \n",
    "    Parameters:\n",
    "    - df (pd.DataFrame): The input data frame.\n",
    "    - target_column (str): The column name of the target variable.\n",
    "    - params (dict): The parameter grid to explore.\n",
    "    - transformer (Transformer): A transformer instance to process the data before fitting the model.\n",
    "    - runs (int): The number of parameter settings that are sampled. Defaults to 16.\n",
    "    - rfr (RandomForestRegressor): The RandomForestRegressor instance. If None, a new instance will be created.\n",
    "        Defaults to None.\n",
    "    - verbose (int): The verbosity level. Defaults to 1.\n",
    "    - random_state (int): The seed used by the random number generator. Defaults to 43.\n",
    "    \n",
    "    Returns:\n",
    "    - dict: A dictionary containing the best model, best parameters, training score, and test score.\n",
    "    \"\"\"\n",
    "    if rfr is None:\n",
    "        rfr = RandomForestRegressor(random_state=random_state, n_jobs=-1)\n",
    "    \n",
    "    # Split the data into features and target variable\n",
    "    df_X = df.drop(columns=[target_column])\n",
    "    df_y = df[target_column]\n",
    "    \n",
    "    # Split the data into training and testing sets\n",
    "    df_X_train, df_X_test, df_y_train, df_y_test = train_test_split(\n",
    "        df_X, df_y, test_size=0.2, random_state=random_state)\n",
    "    \n",
    "    # Create a pipeline\n",
    "    rfr_pipe = Pipeline([\n",
    "        ('tweak', transformer),\n",
    "        ('imputer', SimpleImputer(strategy='median')),\n",
    "        ('scaler', StandardScaler()),\n",
    "        ('rfr', rfr)\n",
    "    ])\n",
    "\n",
    "    # Instantiate RandomizedSearchCV\n",
    "    rand_reg = RandomizedSearchCV(rfr_pipe, params, n_iter=runs, \n",
    "                                  scoring='neg_mean_squared_error', \n",
    "                                  cv=10, n_jobs=-1, verbose=verbose, \n",
    "                                  random_state=random_state)\n",
    "    \n",
    "    # Fit RandomizedSearchCV\n",
    "    rand_reg.fit(df_X_train, df_y_train)\n",
    "    \n",
    "    # Extract best estimator and parameters\n",
    "    best_model = rand_reg.best_estimator_\n",
    "    best_params = rand_reg.best_params_\n",
    "    \n",
    "    # Compute training and test scores\n",
    "    training_score = np.sqrt(-rand_reg.best_score_)\n",
    "    y_pred = best_model.predict(df_X_test)\n",
    "    test_score = MSE(df_y_test, y_pred)**0.5\n",
    "    \n",
    "    # Log the results\n",
    "    logging.info(f\"Best params: {best_params}\")\n",
    "    logging.info(f\"Training score: {training_score:.3f}\")\n",
    "    logging.info(f\"Test set score: {test_score:.3f}\")\n",
    "    \n",
    "    # Prepare the results dictionary\n",
    "    results = {\n",
    "        \"best_model\": best_model,\n",
    "        \"best_params\": best_params,\n",
    "        \"training_score\": training_score,\n",
    "        \"test_score\": test_score\n",
    "    }\n",
    "    \n",
    "    return results\n"
   ]
  },
  {
   "cell_type": "markdown",
   "id": "0a8c278b-16e5-4dd5-ba79-95e071d0a138",
   "metadata": {},
   "source": [
    "We will now follow in the steps we took above"
   ]
  },
  {
   "cell_type": "code",
   "execution_count": 19,
   "id": "0f306f3a-3b11-4b3b-a760-8907f28bf66c",
   "metadata": {},
   "outputs": [
    {
     "name": "stdout",
     "output_type": "stream",
     "text": [
      "Fitting 10 folds for each of 16 candidates, totalling 160 fits\n"
     ]
    },
    {
     "data": {
      "text/plain": [
       "{'best_model': Pipeline(steps=[('tweak', PrepDataTransformer()),\n",
       "                 ('imputer', SimpleImputer(strategy='median')),\n",
       "                 ('scaler', StandardScaler()),\n",
       "                 ('rfr',\n",
       "                  RandomForestRegressor(max_features=0.7, max_leaf_nodes=35,\n",
       "                                        min_samples_leaf=2,\n",
       "                                        min_weight_fraction_leaf=0.0075,\n",
       "                                        n_jobs=-1, random_state=43))]),\n",
       " 'best_params': {'rfr__min_weight_fraction_leaf': 0.0075,\n",
       "  'rfr__min_samples_split': 2,\n",
       "  'rfr__min_samples_leaf': 2,\n",
       "  'rfr__min_impurity_decrease': 0.0,\n",
       "  'rfr__max_leaf_nodes': 35,\n",
       "  'rfr__max_features': 0.7,\n",
       "  'rfr__max_depth': None},\n",
       " 'training_score': 720.5516583321054,\n",
       " 'test_score': 649.134504455296}"
      ]
     },
     "execution_count": 19,
     "metadata": {},
     "output_type": "execute_result"
    }
   ],
   "source": [
    "params = {\n",
    "    'rfr__min_weight_fraction_leaf': [0.0, 0.0025, 0.005, 0.0075, 0.01, 0.05],\n",
    "    'rfr__min_samples_split': [2, 0.01, 0.02, 0.03, 0.04, 0.06, 0.08, 0.1],\n",
    "    'rfr__min_samples_leaf': [1, 2, 4, 6, 8, 10, 20, 30],\n",
    "    'rfr__min_impurity_decrease': [0.0, 0.01, 0.05, 0.10, 0.15, 0.2],\n",
    "    'rfr__max_leaf_nodes': [10, 15, 20, 25, 30, 35, 40, 45, 50, None],\n",
    "    'rfr__max_features': ['auto', 0.8, 0.7, 0.6, 0.5, 0.4],\n",
    "    'rfr__max_depth': [None, 2, 4, 6, 8, 10, 20]\n",
    "}\n",
    "\n",
    "randomized_search_rfr(df=df_bikes, target_column='cnt', \n",
    "                      params=params, transformer=PrepDataTransformer(),\n",
    "                      runs=16, rfr=None, verbose=1, random_state=43)"
   ]
  },
  {
   "cell_type": "code",
   "execution_count": 20,
   "id": "a508a61c-d8f3-4882-8760-a81b0bd97667",
   "metadata": {},
   "outputs": [
    {
     "name": "stdout",
     "output_type": "stream",
     "text": [
      "Fitting 10 folds for each of 16 candidates, totalling 160 fits\n"
     ]
    },
    {
     "data": {
      "text/plain": [
       "{'best_model': Pipeline(steps=[('tweak', PrepDataTransformer()),\n",
       "                 ('imputer', SimpleImputer(strategy='median')),\n",
       "                 ('scaler', StandardScaler()),\n",
       "                 ('rfr',\n",
       "                  RandomForestRegressor(max_features='auto',\n",
       "                                        min_impurity_decrease=0.05, n_jobs=-1,\n",
       "                                        random_state=43))]),\n",
       " 'best_params': {'rfr__min_samples_leaf': 1,\n",
       "  'rfr__min_impurity_decrease': 0.05,\n",
       "  'rfr__max_features': 'auto',\n",
       "  'rfr__max_depth': None},\n",
       " 'training_score': 676.6043005878679,\n",
       " 'test_score': 626.1766672167734}"
      ]
     },
     "execution_count": 20,
     "metadata": {},
     "output_type": "execute_result"
    }
   ],
   "source": [
    "params = {\n",
    "    'rfr__min_samples_leaf': [1, 2, 4, 6, 8, 10, 20, 30],\n",
    "    'rfr__min_impurity_decrease': [0.0, 0.01, 0.05, 0.10, 0.15, 0.2],\n",
    "    'rfr__max_features': ['auto', 0.8, 0.7, 0.6, 0.5, 0.4],\n",
    "    'rfr__max_depth': [None, 2, 4, 6, 8, 10, 20],\n",
    "}\n",
    "\n",
    "\n",
    "randomized_search_rfr(df=df_bikes, target_column='cnt', \n",
    "                      params=params, transformer=PrepDataTransformer(),\n",
    "                      runs=16,)"
   ]
  },
  {
   "cell_type": "code",
   "execution_count": 21,
   "id": "29202f12-c60b-4540-8252-606201bf4fa3",
   "metadata": {},
   "outputs": [
    {
     "name": "stdout",
     "output_type": "stream",
     "text": [
      "Fitting 10 folds for each of 20 candidates, totalling 200 fits\n"
     ]
    },
    {
     "data": {
      "text/plain": [
       "{'best_model': Pipeline(steps=[('tweak', PrepDataTransformer()),\n",
       "                 ('imputer', SimpleImputer(strategy='median')),\n",
       "                 ('scaler', StandardScaler()),\n",
       "                 ('rfr',\n",
       "                  RandomForestRegressor(max_depth=20, max_features=0.8,\n",
       "                                        n_jobs=-1, random_state=43))]),\n",
       " 'best_params': {'rfr__min_samples_leaf': 1,\n",
       "  'rfr__min_impurity_decrease': 0.0,\n",
       "  'rfr__max_features': 0.8,\n",
       "  'rfr__max_depth': 20},\n",
       " 'training_score': 669.3605254801126,\n",
       " 'test_score': 603.2930017273771}"
      ]
     },
     "execution_count": 21,
     "metadata": {},
     "output_type": "execute_result"
    }
   ],
   "source": [
    "params = {\n",
    "    'rfr__min_samples_leaf': [1, 2, 4, 6, 8, 10, 20, 30],\n",
    "    'rfr__min_impurity_decrease': [0.0, 0.01, 0.05, 0.10, 0.15, 0.2],\n",
    "    'rfr__max_features': ['auto', 0.8, 0.7, 0.6, 0.5, 0.4],\n",
    "    'rfr__max_depth': [None, 4, 6, 8, 10, 12, 15, 20],\n",
    "}\n",
    "\n",
    "randomized_search_rfr(df=df_bikes, target_column='cnt', \n",
    "                      params=params, transformer=PrepDataTransformer(),\n",
    "                      runs=20,)"
   ]
  },
  {
   "cell_type": "code",
   "execution_count": 22,
   "id": "8d5d4438-62c1-43e3-b42c-dcfbea590bc6",
   "metadata": {},
   "outputs": [
    {
     "name": "stdout",
     "output_type": "stream",
     "text": [
      "Fitting 10 folds for each of 16 candidates, totalling 160 fits\n"
     ]
    },
    {
     "data": {
      "text/plain": [
       "{'best_model': Pipeline(steps=[('tweak', PrepDataTransformer()),\n",
       "                 ('imputer', SimpleImputer(strategy='median')),\n",
       "                 ('scaler', StandardScaler()),\n",
       "                 ('rfr',\n",
       "                  RandomForestRegressor(max_depth=16, max_features=0.7,\n",
       "                                        n_jobs=-1, random_state=43))]),\n",
       " 'best_params': {'rfr__min_samples_leaf': 1,\n",
       "  'rfr__min_impurity_decrease': 0.0,\n",
       "  'rfr__max_features': 0.7,\n",
       "  'rfr__max_depth': 16},\n",
       " 'training_score': 664.4378370064077,\n",
       " 'test_score': 623.3551409727288}"
      ]
     },
     "execution_count": 22,
     "metadata": {},
     "output_type": "execute_result"
    }
   ],
   "source": [
    "params = {\n",
    "    'rfr__min_samples_leaf': [1, 2, 3, 4, 5, 6],\n",
    "    'rfr__min_impurity_decrease': [0.0, 0.01, 0.05, 0.08, 0.10, 0.12, 0.15],\n",
    "    'rfr__max_features': ['auto', 0.8, 0.7, 0.6, 0.5, 0.4],\n",
    "    'rfr__max_depth': [None, 8, 10, 12, 14, 16, 18, 20],\n",
    "}\n",
    "\n",
    "\n",
    "randomized_search_rfr(df=df_bikes, target_column='cnt', \n",
    "                      params=params, transformer=PrepDataTransformer(),\n",
    "                      runs=16,)"
   ]
  },
  {
   "cell_type": "code",
   "execution_count": 23,
   "id": "0accbbfb-0266-4003-901a-8b0899ed65cc",
   "metadata": {},
   "outputs": [
    {
     "name": "stdout",
     "output_type": "stream",
     "text": [
      "Fitting 10 folds for each of 20 candidates, totalling 200 fits\n"
     ]
    },
    {
     "data": {
      "text/plain": [
       "{'best_model': Pipeline(steps=[('tweak', PrepDataTransformer()),\n",
       "                 ('imputer', SimpleImputer(strategy='median')),\n",
       "                 ('scaler', StandardScaler()),\n",
       "                 ('rfr',\n",
       "                  RandomForestRegressor(max_depth=20, max_features=0.8,\n",
       "                                        n_jobs=-1, random_state=43))]),\n",
       " 'best_params': {'rfr__n_estimators': 100,\n",
       "  'rfr__min_samples_leaf': 1,\n",
       "  'rfr__min_impurity_decrease': 0.0,\n",
       "  'rfr__max_features': 0.8,\n",
       "  'rfr__max_depth': 20},\n",
       " 'training_score': 669.3605254801126,\n",
       " 'test_score': 603.2930017273771}"
      ]
     },
     "execution_count": 23,
     "metadata": {},
     "output_type": "execute_result"
    }
   ],
   "source": [
    "params = {\n",
    "    'rfr__min_samples_leaf': [1, 2, 4, 6, 8, 10, 20, 30],\n",
    "    'rfr__min_impurity_decrease': [0.0, 0.01, 0.05, 0.10, 0.15, 0.2],\n",
    "    'rfr__max_features': ['auto', 0.8, 0.7, 0.6, 0.5, 0.4],\n",
    "    'rfr__max_depth': [None, 4, 6, 8, 10, 12, 15, 20],\n",
    "    'rfr__n_estimators': [100]\n",
    "}\n",
    "\n",
    "\n",
    "randomized_search_rfr(df=df_bikes, target_column='cnt', \n",
    "                      params=params, transformer=PrepDataTransformer(),\n",
    "                      runs=20,)"
   ]
  },
  {
   "cell_type": "code",
   "execution_count": 25,
   "id": "0efd84e1-b18d-43b1-92f6-825e6509a45a",
   "metadata": {},
   "outputs": [
    {
     "name": "stdout",
     "output_type": "stream",
     "text": [
      "Fitting 10 folds for each of 20 candidates, totalling 200 fits\n"
     ]
    },
    {
     "data": {
      "text/plain": [
       "{'best_model': Pipeline(steps=[('tweak', PrepDataTransformer()),\n",
       "                 ('imputer', SimpleImputer(strategy='median')),\n",
       "                 ('scaler', StandardScaler()),\n",
       "                 ('rfr',\n",
       "                  RandomForestRegressor(max_depth=12, max_features=0.6,\n",
       "                                        min_impurity_decrease=0.05, n_jobs=-1,\n",
       "                                        random_state=43))]),\n",
       " 'best_params': {'rfr__n_estimators': 100,\n",
       "  'rfr__min_samples_leaf': 1,\n",
       "  'rfr__min_impurity_decrease': 0.05,\n",
       "  'rfr__max_features': 0.6,\n",
       "  'rfr__max_depth': 12},\n",
       " 'training_score': 664.9435052330558,\n",
       " 'test_score': 612.4541783061277}"
      ]
     },
     "execution_count": 25,
     "metadata": {},
     "output_type": "execute_result"
    }
   ],
   "source": [
    "params = {\n",
    "    'rfr__min_samples_leaf': [1, 2, 3],\n",
    "    'rfr__min_impurity_decrease': [0.0, 0.01, 0.05, 0.10],\n",
    "    'rfr__max_features': [0.6],\n",
    "    'rfr__max_depth': [10, 12, 14, 16, 18, 20],\n",
    "    'rfr__n_estimators': [100]\n",
    "}\n",
    "\n",
    "randomized_search_rfr(df=df_bikes, target_column='cnt', \n",
    "                      params=params, transformer=PrepDataTransformer(),\n",
    "                      runs=20,)"
   ]
  },
  {
   "cell_type": "markdown",
   "id": "1d9b5e27-a982-4969-8135-65dd0671b2c5",
   "metadata": {},
   "source": [
    "We could keep tinkering. It's possible with enough experimentation that the test score may drop to under 600 bikes. But we also seem to be peaking around the low 600 mark.\n",
    "\n",
    "We will next place our best model in `cross_val_score` to see how the result compares with the original"
   ]
  },
  {
   "cell_type": "code",
   "execution_count": 26,
   "id": "192796a6-e9ef-41d6-b17e-d1dc68875c55",
   "metadata": {},
   "outputs": [
    {
     "name": "stdout",
     "output_type": "stream",
     "text": [
      "RMSE: [ 835.53  512.25  535.45  813.73  760.6   728.17  860.48  783.03  765.66\n",
      " 1644.78]\n",
      "RMSE mean: 823.968\n"
     ]
    }
   ],
   "source": [
    "rfr = RandomForestRegressor(n_estimators = 100, \n",
    "                            min_samples_leaf = 1,\n",
    "                            min_impurity_decrease = 0.05,\n",
    "                            max_features = 0.6,\n",
    "                            max_depth = 12, \n",
    "                            random_state=43, \n",
    "                            n_jobs=-1)\n",
    "\n",
    "rfr_pipe = Pipeline(\n",
    "    [('tweak', PrepDataTransformer()),\n",
    "     ('imputer', SimpleImputer(strategy='median')),  # Imputing null values using mean\n",
    "     ('scaler', StandardScaler()),\n",
    "     ('rfr', rfr)\n",
    "    ]\n",
    ")\n",
    "scores = cross_val_score(rfr_pipe, bikes_X, bikes_y, scoring='neg_mean_squared_error', cv=10)\n",
    "\n",
    "rmse = np.sqrt(-scores)\n",
    "\n",
    "print(f'RMSE: {np.round(rmse, 2)}')\n",
    "\n",
    "print(f'RMSE mean: {rmse.mean():.3f}')"
   ]
  },
  {
   "cell_type": "markdown",
   "id": "137d1a5d-f6e2-4c75-94b2-e2f28c41e074",
   "metadata": {},
   "source": [
    "The RMSE goes back up into the 800 mark; and it's considerably worse than 619. What's going on here?\n",
    "\n",
    "There may be an issue with the last split in `cross_val_score` since its score is twice as bad as the others. Let's see if shuffling the data does the trick. `Scikit-learn` has a shuffle module that may be imported from `sklearn.utils`. We will get the data from the very beginning, pass it through the shuffle method before repeating the steps of spliting the data then passing everything through a pipe etc."
   ]
  },
  {
   "cell_type": "code",
   "execution_count": 29,
   "id": "6fed2c11-ae30-4ff0-828e-e3debd21bbe4",
   "metadata": {},
   "outputs": [
    {
     "name": "stdout",
     "output_type": "stream",
     "text": [
      "RMSE: [581.74 550.85 725.89 823.36 472.07 568.48 753.54 606.71 653.08 528.58]\n",
      "RMSE mean: 626.430\n"
     ]
    }
   ],
   "source": [
    "df_shuffle_bikes = shuffle(df_bikes, random_state=43)\n",
    "\n",
    "shuffle_bikes_X, shuffle_bikes_y = splitX_y(df_shuffle_bikes, 'cnt')\n",
    "\n",
    "rfr = RandomForestRegressor(n_estimators = 100, \n",
    "                            min_samples_leaf = 1,\n",
    "                            min_impurity_decrease = 0.05,\n",
    "                            max_features = 0.6,\n",
    "                            max_depth = 12, \n",
    "                            random_state=43, \n",
    "                            n_jobs=-1)\n",
    "\n",
    "rfr_pipe = Pipeline(\n",
    "    [('tweak', PrepDataTransformer()),\n",
    "     ('imputer', SimpleImputer(strategy='median')),  # Imputing null values using mean\n",
    "     ('scaler', StandardScaler()),\n",
    "     ('rfr', rfr)\n",
    "    ]\n",
    ")\n",
    "scores = cross_val_score(rfr_pipe, shuffle_bikes_X, shuffle_bikes_y, \n",
    "                         scoring='neg_mean_squared_error', cv=10)\n",
    "\n",
    "rmse = np.sqrt(-scores)\n",
    "\n",
    "print(f'RMSE: {np.round(rmse, 2)}')\n",
    "\n",
    "print(f'RMSE mean: {rmse.mean():.3f}')"
   ]
  },
  {
   "cell_type": "markdown",
   "id": "2feb22e1-7265-4685-b931-57fe10cebff2",
   "metadata": {},
   "source": [
    "It seems like with the shuffled data, last split gave us no issues; and the score turned out much better like we first expected.\n",
    "\n",
    "### Reflections\r\n",
    "\r\n",
    "In essence, a random forest is only as good as its constituent trees. When the trees falter uniformly, the forest follows suit. We observed in this case study - before shuffling the data - the forest couldn't overcome errors stemming from inherent data issues that individual trees couldn't tackle.\r\n",
    "\r\n",
    "There lies potential in an ensemble method that evolves, learning from early errors and improving in subsequent rounds - a characteristic embodied by boosting, especially gradient boosting, which we will delve into in the next notebook.\r\n",
    "\r\n",
    "### Synopsis\r\n",
    "\r\n",
    "In this notebook, we ventured into the realm of ensemble methods, focusing on bagging - a strategy marrying bootstrapping and aggregation, thereby melding numerous models into a unified whole. We constructed random forest classifiers and regressors, tweaking `n_estimators` using the `warm_start` parameter and employing `oob_score_` to pinpoint errors. Moreover, we fine-tuned models by altering various random forest parameters.\r\n",
    "\r\n",
    "However, we noticed an anomaly: while shuffling data yielded promising outcomes, augmenting the tree count in the random forest didn't enhance performance with the original, unshuffled data, a contrast starkly highlighted when compared to XGBoost.\r\n",
    "\r\n",
    "As we proceed to the next notebook, we will unravel the nuances of boosting, a method that progressively refines accuracy by learning from past missteps, setting the groundwork for exploring the potent XGBoost approach.\r\n"
   ]
  },
  {
   "cell_type": "code",
   "execution_count": null,
   "id": "d434db04-9436-46b1-9800-a9e312f1f91f",
   "metadata": {},
   "outputs": [],
   "source": []
  }
 ],
 "metadata": {
  "kernelspec": {
   "display_name": "Python 3 (ipykernel)",
   "language": "python",
   "name": "python3"
  },
  "language_info": {
   "codemirror_mode": {
    "name": "ipython",
    "version": 3
   },
   "file_extension": ".py",
   "mimetype": "text/x-python",
   "name": "python",
   "nbconvert_exporter": "python",
   "pygments_lexer": "ipython3",
   "version": "3.10.10"
  }
 },
 "nbformat": 4,
 "nbformat_minor": 5
}
