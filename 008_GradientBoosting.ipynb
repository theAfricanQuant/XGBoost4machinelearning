{
 "cells": [
  {
   "cell_type": "markdown",
   "id": "5852a301-8ea1-4c3c-925e-ce2e6a1fdffe",
   "metadata": {},
   "source": [
    "<h1 style=\"text-align:center;\">Gradient Boosting</h1>\n",
    "\n",
    "## Introduction\n",
    "\n",
    "1. **Definition**: Boosting is an ensemble learning technique that amalgamates multiple weak learners to craft a robust learner. A weak learner is slightly more accurate than random guessing. In XGBoost, these learners are shallow decision trees, offering speed and better performance due to their resistance to overfitting compared to deep trees.\n",
    "   \n",
    "2. **Iterative Training and Error Correction**: The essence of boosting lies in its iterative approach. Each cycle concentrates on the examples misclassified by the preceding learner, adjusting new trees based on the errors of their forebears. This sequential correction of errors stands as a unique feature of boosting, allowing it to learn and adapt from the mistakes of individual trees.\n",
    "   \n",
    "3. **Final Prediction**: After iterative training, the predictions from all weak learners are consolidated through a weighted majority vote, yielding the final prediction.\n",
    "\n",
    "4. **Contrast with Bagging**: Diverging from bagging, where new trees are constructed from scratch without considering previous trees, boosting builds each new tree from the knowledge gained from the previous one. This results in a series of trees that do not function in isolation but work collaboratively, enhancing each other's predictions.\n",
    "\n",
    "\n",
    "\n",
    "Boosting orchestrates a symphony of weak learners, typically shallow trees slightly better than random guessers, to forge a potent learner. In the intricate dance of XGBoost, these learners iteratively focus on the previously misclassified examples, building upon the errors of their predecessors rather than starting afresh, a marked departure from bagging. This iterative correction prevents overfitting and facilitates more accurate and faster results.\n",
    "\n",
    "Imagine a game of billiards where each shot (or tree) in boosting is a strategic play, meticulously calculated based on the previous shot's outcome, aiming to correct the preceding errors and inch closer to the winning pocket. In contrast, each shot in bagging is independent, like playing several games simultaneously, each with a fresh start, no reference to the previous shots, and the final outcome is an aggregation of all these independent games. Boosting, therefore, is a sequential, learning game, perfecting its strategy with each shot, while bagging is a parallel, non-learning approach, relying on the collective outcome of individual, unrelated shots.\n",
    "\n",
    "We can perceive boosting as a masterful billiards player, who meticulously learns and adapts from each shot, honing his strategy to pocket the ball with increased precision with each successive attempt.\n",
    "\n",
    "1. **AdaBoost**\n",
    "\n",
    "   AdaBoost, which stands for Adaptive Boosting, is a popular boosting model that originated early in the field of machine learning. This algorithm operates by adjusting the weights of each new tree based on the errors of the previous trees, giving higher attention to predictions that were incorrect by adjusting the weights that influence those samples at a higher rate. This method of learning from its mistakes allows AdaBoost to transform weak learners into strong learners. A weak learner is a machine learning algorithm that performs just slightly better than random chance, while a strong learner is one that has learned significantly from the data and performs well.\n",
    "\n",
    "   AdaBoost emphasizes an iterative process of error correction rather than establishing a strong baseline model from the beginning. The goal is to evolve weak learners into strong learners over hundreds of iterations, with the process being very effective in producing optimal results, making it one of the best general machine learning strategies for several years.\n",
    "\n",
    "   In practice, AdaBoost is quite straightforward to implement, especially using the scikit-learn library where the AdaBoostRegressor and AdaBoostClassifier algorithms can be found. These algorithms can be downloaded from the `sklearn.ensemble` library and fit to any training set. The most crucial hyperparameter to adjust in AdaBoost is `n_estimators`, which determines the number of trees (or iterations) required to create a strong learner.\n",
    "\n",
    "2. **Gradient Boosting**\n",
    "\n",
    "   Gradient boosting, though similar to AdaBoost in focusing on incorrect predictions, takes a slightly different approach. It builds each new tree entirely based on the errors of the previous tree's predictions, focusing solely on correcting the mistakes without considering the predictions that were already correct. This approach necessitates a method that aggregates the errors to make accurate final predictions, leveraging the residuals, which represent the difference between the model's predictions and the actual values. The central process in gradient boosting is the computation of these residuals and their summation to evaluate the model's performance. \n",
    "\n",
    "   This method of focusing strictly on errors and utilizing residuals is also fundamental to XGBoost, an advanced form of gradient boosting. Understanding the computation and summation of residuals is vital when building a gradient boosting model, as it forms the core concept around which the model is developed.\n",
    "\n",
    "   In a more hands-on section to follow, the text suggests that readers will be guided to build their own version of a gradient boosting model, where the process of computing and summing residuals will become clearer. This segment aims to provide a deeper understanding of how gradient boosting operates, with an emphasis on the mathematical concept of residuals and their role in the algorithm's functionality.\n",
    "\n",
    "\n",
    "## Build Gradient Boosting models from scratch\n",
    "\n",
    "We continue with the bike rentals dataset to compare new models with the previous models."
   ]
  },
  {
   "cell_type": "code",
   "execution_count": 38,
   "id": "01193735-f342-4b71-8e1e-8acdb802ce0a",
   "metadata": {},
   "outputs": [],
   "source": [
    "import pandas as pd\n",
    "import numpy as np\n",
    "\n",
    "from sklearn.model_selection import train_test_split, RandomizedSearchCV\n",
    "from sklearn.tree import DecisionTreeRegressor\n",
    "from sklearn.metrics import mean_squared_error as MSE\n",
    "from sklearn.ensemble import GradientBoostingRegressor\n",
    "\n",
    "import matplotlib.pyplot as plt\n",
    "from helper_file import *\n",
    "import warnings\n",
    "\n",
    "warnings.filterwarnings('ignore')"
   ]
  },
  {
   "cell_type": "code",
   "execution_count": 3,
   "id": "432898c0-0bc1-4afb-bcc3-ec08ff986bdc",
   "metadata": {},
   "outputs": [
    {
     "data": {
      "text/html": [
       "<div>\n",
       "<style scoped>\n",
       "    .dataframe tbody tr th:only-of-type {\n",
       "        vertical-align: middle;\n",
       "    }\n",
       "\n",
       "    .dataframe tbody tr th {\n",
       "        vertical-align: top;\n",
       "    }\n",
       "\n",
       "    .dataframe thead th {\n",
       "        text-align: right;\n",
       "    }\n",
       "</style>\n",
       "<table border=\"1\" class=\"dataframe\">\n",
       "  <thead>\n",
       "    <tr style=\"text-align: right;\">\n",
       "      <th></th>\n",
       "      <th>instant</th>\n",
       "      <th>dteday</th>\n",
       "      <th>season</th>\n",
       "      <th>yr</th>\n",
       "      <th>mnth</th>\n",
       "      <th>holiday</th>\n",
       "      <th>weekday</th>\n",
       "      <th>workingday</th>\n",
       "      <th>weathersit</th>\n",
       "      <th>temp</th>\n",
       "      <th>atemp</th>\n",
       "      <th>hum</th>\n",
       "      <th>windspeed</th>\n",
       "      <th>casual</th>\n",
       "      <th>registered</th>\n",
       "      <th>cnt</th>\n",
       "    </tr>\n",
       "  </thead>\n",
       "  <tbody>\n",
       "    <tr>\n",
       "      <th>335</th>\n",
       "      <td>336</td>\n",
       "      <td>2011-12-02</td>\n",
       "      <td>4.0</td>\n",
       "      <td>0.0</td>\n",
       "      <td>12.0</td>\n",
       "      <td>0.0</td>\n",
       "      <td>5.0</td>\n",
       "      <td>1.0</td>\n",
       "      <td>1</td>\n",
       "      <td>0.314167</td>\n",
       "      <td>0.331433</td>\n",
       "      <td>0.625833</td>\n",
       "      <td>0.100754</td>\n",
       "      <td>268</td>\n",
       "      <td>3672</td>\n",
       "      <td>3940</td>\n",
       "    </tr>\n",
       "    <tr>\n",
       "      <th>631</th>\n",
       "      <td>632</td>\n",
       "      <td>2012-09-23</td>\n",
       "      <td>4.0</td>\n",
       "      <td>1.0</td>\n",
       "      <td>9.0</td>\n",
       "      <td>0.0</td>\n",
       "      <td>0.0</td>\n",
       "      <td>0.0</td>\n",
       "      <td>1</td>\n",
       "      <td>0.529167</td>\n",
       "      <td>0.518933</td>\n",
       "      <td>0.467083</td>\n",
       "      <td>0.223258</td>\n",
       "      <td>2454</td>\n",
       "      <td>5453</td>\n",
       "      <td>7907</td>\n",
       "    </tr>\n",
       "    <tr>\n",
       "      <th>620</th>\n",
       "      <td>621</td>\n",
       "      <td>2012-09-12</td>\n",
       "      <td>3.0</td>\n",
       "      <td>1.0</td>\n",
       "      <td>9.0</td>\n",
       "      <td>0.0</td>\n",
       "      <td>3.0</td>\n",
       "      <td>1.0</td>\n",
       "      <td>1</td>\n",
       "      <td>0.599167</td>\n",
       "      <td>0.570075</td>\n",
       "      <td>0.577083</td>\n",
       "      <td>0.131846</td>\n",
       "      <td>1050</td>\n",
       "      <td>6820</td>\n",
       "      <td>7870</td>\n",
       "    </tr>\n",
       "  </tbody>\n",
       "</table>\n",
       "</div>"
      ],
      "text/plain": [
       "     instant      dteday  season   yr  mnth  holiday  weekday  workingday  \\\n",
       "335      336  2011-12-02     4.0  0.0  12.0      0.0      5.0         1.0   \n",
       "631      632  2012-09-23     4.0  1.0   9.0      0.0      0.0         0.0   \n",
       "620      621  2012-09-12     3.0  1.0   9.0      0.0      3.0         1.0   \n",
       "\n",
       "     weathersit      temp     atemp       hum  windspeed  casual  registered  \\\n",
       "335           1  0.314167  0.331433  0.625833   0.100754     268        3672   \n",
       "631           1  0.529167  0.518933  0.467083   0.223258    2454        5453   \n",
       "620           1  0.599167  0.570075  0.577083   0.131846    1050        6820   \n",
       "\n",
       "      cnt  \n",
       "335  3940  \n",
       "631  7907  \n",
       "620  7870  "
      ]
     },
     "execution_count": 3,
     "metadata": {},
     "output_type": "execute_result"
    }
   ],
   "source": [
    "df_bikes.sample(n=3, random_state=43)"
   ]
  },
  {
   "cell_type": "code",
   "execution_count": 4,
   "id": "a4cfb507-e76a-4ee5-bb08-911120107228",
   "metadata": {},
   "outputs": [
    {
     "name": "stdout",
     "output_type": "stream",
     "text": [
      "shape of target vector: (731,)\n",
      "shape of feature matrix: (731, 15)\n"
     ]
    }
   ],
   "source": [
    "bikes_X, bikes_y = splitX_y(df_bikes, 'cnt')\n",
    "\n",
    "print(f\"shape of target vector: {bikes_y.shape}\")\n",
    "print(f\"shape of feature matrix: {bikes_X.shape}\")"
   ]
  },
  {
   "cell_type": "code",
   "execution_count": 9,
   "id": "aa83ca9a-ab06-4bff-8b8d-050c081bba8e",
   "metadata": {},
   "outputs": [],
   "source": [
    "bikes_X_train, bikes_X_test, bikes_y_train, bikes_y_test = train_test_split(\n",
    "        bikes_X, bikes_y, random_state=43)"
   ]
  },
  {
   "cell_type": "code",
   "execution_count": 13,
   "id": "afc7437e-2dd6-4af5-ae43-59f690f7ece0",
   "metadata": {},
   "outputs": [],
   "source": [
    "pipe = Pipeline(\n",
    "    [('tweak', PrepDataTransformer()),\n",
    "     ('imputer', SimpleImputer(strategy='median')),  # Imputing null values using mean\n",
    "     ('scaler', StandardScaler())\n",
    "    ]\n",
    ")\n",
    "\n",
    "X_train = pipe.fit_transform(bikes_X_train)\n",
    "X_test = pipe.transform(bikes_X_test)\n",
    "\n",
    "\n",
    "tree_1 = DecisionTreeRegressor(max_depth=2, random_state=43)\n",
    "\n",
    "tree_1.fit(X_train, y_train)\n",
    "\n",
    "y_train_pred = tree_1.predict(X_train)"
   ]
  },
  {
   "cell_type": "markdown",
   "id": "ad81734f-4711-484e-9fd9-7976b2cf2d39",
   "metadata": {},
   "source": [
    "The residuals are defined as `y2_train` because they are the new target column for the next tree."
   ]
  },
  {
   "cell_type": "code",
   "execution_count": 14,
   "id": "88baa664-a789-404a-a883-bb1072119ef4",
   "metadata": {},
   "outputs": [],
   "source": [
    "y2_train = y_train - y_train_pred"
   ]
  },
  {
   "cell_type": "markdown",
   "id": "99f64ea9-f003-4d55-8077-591ae9896573",
   "metadata": {},
   "source": [
    "Well, you see, when we're venturing to fit a new tree based on the residuals, it's a wholly different endeavor compared to just fitting a model on the initial training set. It's almost like fine-tuning a musical instrument, honing in more and more until the sound is just right.\n",
    "\n",
    "Now, the crux of the matter lies in the predictions, in the nuances of the data we're dealing with. Let's take the bike rentals dataset as an illustration. When we embark on the journey of fitting a new tree on these residuals, it's akin to zooming in closer and closer, observing the finer details, and as a result, we find that the numbers tend to taper off, becoming progressively smaller, refining their accuracy.\n",
    "\n",
    "So, to kick things off, what we'd do is we'd spark up a new tree, alright? We take this fledgling tree and nurture it with the X_train data and the y2_train residuals. It's like embarking on a new experiment with refined parameters, drawing closer to the truth with each step."
   ]
  },
  {
   "cell_type": "code",
   "execution_count": 15,
   "id": "75ce162f-ceab-42e8-83b1-d0b3934c85bc",
   "metadata": {},
   "outputs": [
    {
     "data": {
      "text/html": [
       "<style>#sk-container-id-1 {color: black;background-color: white;}#sk-container-id-1 pre{padding: 0;}#sk-container-id-1 div.sk-toggleable {background-color: white;}#sk-container-id-1 label.sk-toggleable__label {cursor: pointer;display: block;width: 100%;margin-bottom: 0;padding: 0.3em;box-sizing: border-box;text-align: center;}#sk-container-id-1 label.sk-toggleable__label-arrow:before {content: \"▸\";float: left;margin-right: 0.25em;color: #696969;}#sk-container-id-1 label.sk-toggleable__label-arrow:hover:before {color: black;}#sk-container-id-1 div.sk-estimator:hover label.sk-toggleable__label-arrow:before {color: black;}#sk-container-id-1 div.sk-toggleable__content {max-height: 0;max-width: 0;overflow: hidden;text-align: left;background-color: #f0f8ff;}#sk-container-id-1 div.sk-toggleable__content pre {margin: 0.2em;color: black;border-radius: 0.25em;background-color: #f0f8ff;}#sk-container-id-1 input.sk-toggleable__control:checked~div.sk-toggleable__content {max-height: 200px;max-width: 100%;overflow: auto;}#sk-container-id-1 input.sk-toggleable__control:checked~label.sk-toggleable__label-arrow:before {content: \"▾\";}#sk-container-id-1 div.sk-estimator input.sk-toggleable__control:checked~label.sk-toggleable__label {background-color: #d4ebff;}#sk-container-id-1 div.sk-label input.sk-toggleable__control:checked~label.sk-toggleable__label {background-color: #d4ebff;}#sk-container-id-1 input.sk-hidden--visually {border: 0;clip: rect(1px 1px 1px 1px);clip: rect(1px, 1px, 1px, 1px);height: 1px;margin: -1px;overflow: hidden;padding: 0;position: absolute;width: 1px;}#sk-container-id-1 div.sk-estimator {font-family: monospace;background-color: #f0f8ff;border: 1px dotted black;border-radius: 0.25em;box-sizing: border-box;margin-bottom: 0.5em;}#sk-container-id-1 div.sk-estimator:hover {background-color: #d4ebff;}#sk-container-id-1 div.sk-parallel-item::after {content: \"\";width: 100%;border-bottom: 1px solid gray;flex-grow: 1;}#sk-container-id-1 div.sk-label:hover label.sk-toggleable__label {background-color: #d4ebff;}#sk-container-id-1 div.sk-serial::before {content: \"\";position: absolute;border-left: 1px solid gray;box-sizing: border-box;top: 0;bottom: 0;left: 50%;z-index: 0;}#sk-container-id-1 div.sk-serial {display: flex;flex-direction: column;align-items: center;background-color: white;padding-right: 0.2em;padding-left: 0.2em;position: relative;}#sk-container-id-1 div.sk-item {position: relative;z-index: 1;}#sk-container-id-1 div.sk-parallel {display: flex;align-items: stretch;justify-content: center;background-color: white;position: relative;}#sk-container-id-1 div.sk-item::before, #sk-container-id-1 div.sk-parallel-item::before {content: \"\";position: absolute;border-left: 1px solid gray;box-sizing: border-box;top: 0;bottom: 0;left: 50%;z-index: -1;}#sk-container-id-1 div.sk-parallel-item {display: flex;flex-direction: column;z-index: 1;position: relative;background-color: white;}#sk-container-id-1 div.sk-parallel-item:first-child::after {align-self: flex-end;width: 50%;}#sk-container-id-1 div.sk-parallel-item:last-child::after {align-self: flex-start;width: 50%;}#sk-container-id-1 div.sk-parallel-item:only-child::after {width: 0;}#sk-container-id-1 div.sk-dashed-wrapped {border: 1px dashed gray;margin: 0 0.4em 0.5em 0.4em;box-sizing: border-box;padding-bottom: 0.4em;background-color: white;}#sk-container-id-1 div.sk-label label {font-family: monospace;font-weight: bold;display: inline-block;line-height: 1.2em;}#sk-container-id-1 div.sk-label-container {text-align: center;}#sk-container-id-1 div.sk-container {/* jupyter's `normalize.less` sets `[hidden] { display: none; }` but bootstrap.min.css set `[hidden] { display: none !important; }` so we also need the `!important` here to be able to override the default hidden behavior on the sphinx rendered scikit-learn.org. See: https://github.com/scikit-learn/scikit-learn/issues/21755 */display: inline-block !important;position: relative;}#sk-container-id-1 div.sk-text-repr-fallback {display: none;}</style><div id=\"sk-container-id-1\" class=\"sk-top-container\"><div class=\"sk-text-repr-fallback\"><pre>DecisionTreeRegressor(max_depth=2, random_state=43)</pre><b>In a Jupyter environment, please rerun this cell to show the HTML representation or trust the notebook. <br />On GitHub, the HTML representation is unable to render, please try loading this page with nbviewer.org.</b></div><div class=\"sk-container\" hidden><div class=\"sk-item\"><div class=\"sk-estimator sk-toggleable\"><input class=\"sk-toggleable__control sk-hidden--visually\" id=\"sk-estimator-id-1\" type=\"checkbox\" checked><label for=\"sk-estimator-id-1\" class=\"sk-toggleable__label sk-toggleable__label-arrow\">DecisionTreeRegressor</label><div class=\"sk-toggleable__content\"><pre>DecisionTreeRegressor(max_depth=2, random_state=43)</pre></div></div></div></div></div>"
      ],
      "text/plain": [
       "DecisionTreeRegressor(max_depth=2, random_state=43)"
      ]
     },
     "execution_count": 15,
     "metadata": {},
     "output_type": "execute_result"
    }
   ],
   "source": [
    "tree_2 = DecisionTreeRegressor(max_depth=2, random_state=43)\n",
    "\n",
    "tree_2.fit(X_train, y2_train)"
   ]
  },
  {
   "cell_type": "markdown",
   "id": "aa9cb2c8-f23c-4d4d-a00b-3876706237c8",
   "metadata": {},
   "source": [
    "Alright, let's delve a bit deeper here. You see, the magic of this procedure is in its repetitiveness, in its dedication to honing the model bit by bit. It's akin to a persistent scientist, tirelessly revisiting his experiment, tweaking variables here and there, inching ever closer to a more refined truth.\n",
    "\n",
    "Now, as we immerse ourselves further into this process, you'll notice a beautiful phenomenon unfold. The residuals, those indicators of our errors, they start flirting with the zero mark, gracefully dancing closer from both the positive and negative sides. It's like watching an artist meticulously perfecting his craft, removing excess here, adding a touch there, until a masterpiece emerges.\n",
    "\n",
    "And mind you, this isn't a hasty process. Oh no, we carry on with this dance for a specified number of rounds, dictated by this entity we call `n_estimators`. It's our guide, determining the span of our journey in the quest for the perfect model.\n",
    "\n",
    "Now, shall we venture a bit further? Let's embark on crafting a third tree in our growing forest of knowledge, navigating the intricacies with the wisdom we've garnered thus far. Let's proceed as follows:"
   ]
  },
  {
   "cell_type": "code",
   "execution_count": 16,
   "id": "8047a472-90d1-4181-b952-0d9b8582ff89",
   "metadata": {},
   "outputs": [
    {
     "data": {
      "text/html": [
       "<style>#sk-container-id-2 {color: black;background-color: white;}#sk-container-id-2 pre{padding: 0;}#sk-container-id-2 div.sk-toggleable {background-color: white;}#sk-container-id-2 label.sk-toggleable__label {cursor: pointer;display: block;width: 100%;margin-bottom: 0;padding: 0.3em;box-sizing: border-box;text-align: center;}#sk-container-id-2 label.sk-toggleable__label-arrow:before {content: \"▸\";float: left;margin-right: 0.25em;color: #696969;}#sk-container-id-2 label.sk-toggleable__label-arrow:hover:before {color: black;}#sk-container-id-2 div.sk-estimator:hover label.sk-toggleable__label-arrow:before {color: black;}#sk-container-id-2 div.sk-toggleable__content {max-height: 0;max-width: 0;overflow: hidden;text-align: left;background-color: #f0f8ff;}#sk-container-id-2 div.sk-toggleable__content pre {margin: 0.2em;color: black;border-radius: 0.25em;background-color: #f0f8ff;}#sk-container-id-2 input.sk-toggleable__control:checked~div.sk-toggleable__content {max-height: 200px;max-width: 100%;overflow: auto;}#sk-container-id-2 input.sk-toggleable__control:checked~label.sk-toggleable__label-arrow:before {content: \"▾\";}#sk-container-id-2 div.sk-estimator input.sk-toggleable__control:checked~label.sk-toggleable__label {background-color: #d4ebff;}#sk-container-id-2 div.sk-label input.sk-toggleable__control:checked~label.sk-toggleable__label {background-color: #d4ebff;}#sk-container-id-2 input.sk-hidden--visually {border: 0;clip: rect(1px 1px 1px 1px);clip: rect(1px, 1px, 1px, 1px);height: 1px;margin: -1px;overflow: hidden;padding: 0;position: absolute;width: 1px;}#sk-container-id-2 div.sk-estimator {font-family: monospace;background-color: #f0f8ff;border: 1px dotted black;border-radius: 0.25em;box-sizing: border-box;margin-bottom: 0.5em;}#sk-container-id-2 div.sk-estimator:hover {background-color: #d4ebff;}#sk-container-id-2 div.sk-parallel-item::after {content: \"\";width: 100%;border-bottom: 1px solid gray;flex-grow: 1;}#sk-container-id-2 div.sk-label:hover label.sk-toggleable__label {background-color: #d4ebff;}#sk-container-id-2 div.sk-serial::before {content: \"\";position: absolute;border-left: 1px solid gray;box-sizing: border-box;top: 0;bottom: 0;left: 50%;z-index: 0;}#sk-container-id-2 div.sk-serial {display: flex;flex-direction: column;align-items: center;background-color: white;padding-right: 0.2em;padding-left: 0.2em;position: relative;}#sk-container-id-2 div.sk-item {position: relative;z-index: 1;}#sk-container-id-2 div.sk-parallel {display: flex;align-items: stretch;justify-content: center;background-color: white;position: relative;}#sk-container-id-2 div.sk-item::before, #sk-container-id-2 div.sk-parallel-item::before {content: \"\";position: absolute;border-left: 1px solid gray;box-sizing: border-box;top: 0;bottom: 0;left: 50%;z-index: -1;}#sk-container-id-2 div.sk-parallel-item {display: flex;flex-direction: column;z-index: 1;position: relative;background-color: white;}#sk-container-id-2 div.sk-parallel-item:first-child::after {align-self: flex-end;width: 50%;}#sk-container-id-2 div.sk-parallel-item:last-child::after {align-self: flex-start;width: 50%;}#sk-container-id-2 div.sk-parallel-item:only-child::after {width: 0;}#sk-container-id-2 div.sk-dashed-wrapped {border: 1px dashed gray;margin: 0 0.4em 0.5em 0.4em;box-sizing: border-box;padding-bottom: 0.4em;background-color: white;}#sk-container-id-2 div.sk-label label {font-family: monospace;font-weight: bold;display: inline-block;line-height: 1.2em;}#sk-container-id-2 div.sk-label-container {text-align: center;}#sk-container-id-2 div.sk-container {/* jupyter's `normalize.less` sets `[hidden] { display: none; }` but bootstrap.min.css set `[hidden] { display: none !important; }` so we also need the `!important` here to be able to override the default hidden behavior on the sphinx rendered scikit-learn.org. See: https://github.com/scikit-learn/scikit-learn/issues/21755 */display: inline-block !important;position: relative;}#sk-container-id-2 div.sk-text-repr-fallback {display: none;}</style><div id=\"sk-container-id-2\" class=\"sk-top-container\"><div class=\"sk-text-repr-fallback\"><pre>DecisionTreeRegressor(max_depth=2, random_state=2)</pre><b>In a Jupyter environment, please rerun this cell to show the HTML representation or trust the notebook. <br />On GitHub, the HTML representation is unable to render, please try loading this page with nbviewer.org.</b></div><div class=\"sk-container\" hidden><div class=\"sk-item\"><div class=\"sk-estimator sk-toggleable\"><input class=\"sk-toggleable__control sk-hidden--visually\" id=\"sk-estimator-id-2\" type=\"checkbox\" checked><label for=\"sk-estimator-id-2\" class=\"sk-toggleable__label sk-toggleable__label-arrow\">DecisionTreeRegressor</label><div class=\"sk-toggleable__content\"><pre>DecisionTreeRegressor(max_depth=2, random_state=2)</pre></div></div></div></div></div>"
      ],
      "text/plain": [
       "DecisionTreeRegressor(max_depth=2, random_state=2)"
      ]
     },
     "execution_count": 16,
     "metadata": {},
     "output_type": "execute_result"
    }
   ],
   "source": [
    "y2_train_pred = tree_2.predict(X_train)\n",
    "\n",
    "y3_train = y2_train - y2_train_pred\n",
    "\n",
    "tree_3 = DecisionTreeRegressor(max_depth=2, random_state=2)\n",
    "\n",
    "tree_3.fit(X_train, y3_train)"
   ]
  },
  {
   "cell_type": "markdown",
   "id": "08511794-81aa-469a-99f0-5151579d497c",
   "metadata": {},
   "source": [
    "Alright, let's delve a bit deeper here. You see, the magic of this procedure is in its repetitiveness, in its dedication to honing the model bit by bit. It's akin to a persistent scientist, tirelessly revisiting his experiment, tweaking variables here and there, inching ever closer to a more refined truth.\n",
    "\n",
    "Now, as we immerse ourselves further into this process, you'll notice a beautiful phenomenon unfold. The residuals, those indicators of our errors, they start flirting with the zero mark, gracefully dancing closer from both the positive and negative sides. It's like watching an artist meticulously perfecting his craft, removing excess here, adding a touch there, until a masterpiece emerges.\n",
    "\n",
    "And mind you, this isn't a hasty process. Oh no, we carry on with this dance for a specified number of rounds, dictated by this entity we call `n_estimators`. It's our guide, determining the span of our journey in the quest for the perfect model.\n",
    "\n",
    "Now, shall we venture a bit further? Let's embark on crafting a third tree in our growing forest of knowledge, navigating the intricacies with the wisdom we've garnered thus far. Let's proceed as follows:"
   ]
  },
  {
   "cell_type": "code",
   "execution_count": 18,
   "id": "1457da4b-7a24-477f-be63-d1def6da187f",
   "metadata": {},
   "outputs": [],
   "source": [
    "y1_pred = tree_1.predict(X_test)\n",
    "\n",
    "y2_pred = tree_2.predict(X_test)\n",
    "\n",
    "y3_pred = tree_3.predict(X_test)\n",
    "\n",
    "y_pred = y1_pred + y2_pred + y3_pred"
   ]
  },
  {
   "cell_type": "markdown",
   "id": "ae65b1d1-bb77-46b5-8245-1f3bb145647c",
   "metadata": {},
   "source": [
    "We are summing the predictions, since they are positive and negative differences, which will result in predictions that are closer to the target column.\n",
    "\n",
    "We then compute the mean squared error (MSE) to obtain the results."
   ]
  },
  {
   "cell_type": "code",
   "execution_count": 20,
   "id": "2c6c0310-022b-4343-9939-6ffaa22f3363",
   "metadata": {},
   "outputs": [
    {
     "data": {
      "text/plain": [
       "956.8070438794563"
      ]
     },
     "execution_count": 20,
     "metadata": {},
     "output_type": "execute_result"
    }
   ],
   "source": [
    "MSE(y_test, y_pred)**0.5"
   ]
  },
  {
   "cell_type": "markdown",
   "id": "3866fc0a-032d-4e5d-9c9b-95f28b89bf66",
   "metadata": {},
   "source": [
    "This is from a weak learner. We should be in the right direction.\n",
    "\n",
    "Alright, now let's embark on a little experiment, shall we? Let's see if we can conjure the same magic, the same outcomes that we witnessed in the previous section, but this time with the aid of scikit-learn's `GradientBoostingRegressor`. It's a bit like having a master tool in our toolkit, a clever shortcut in our path of exploration.\n",
    "\n",
    "Now, the beauty of harnessing the power of the `GradientBoostingRegressor` lies in its simplicity and speed. With just a few tweaks here and there, a bit of finetuning of the hyperparameters, we find ourselves with a mechanism that's not only swift in building these complex structures but also remarkably straightforward to implement. It's a testament to human ingenuity, creating tools that make the journey of discovery both exhilarating and efficient. Let's forge ahead and see where this path leads us, shall we?\n",
    "\n",
    "Alright, let's get down to brass tacks here. When we're setting up the GradientBoostingRegressor, we've got a few key settings to nail down to sync up with our previous results.\n",
    "\n",
    "First, we've got to set `max_depth` to 2, keeping things not too complex, but just deep enough. Next, we adjust the `random_state` to 43 (for me the age I was when I moved into Data Science and used just for consistency), ensuring a stable ground to start from.\n",
    "\n",
    "Now, since we're working with just three trees here, it's clear as day that our `n_estimators` should be set to 3. And don't forget the `learning_rate`; we're going full steam ahead with a value of 1.0.\n",
    "\n",
    "So, there you have it, a straightforward setup to get us up and running. Let's dive in!"
   ]
  },
  {
   "cell_type": "code",
   "execution_count": 22,
   "id": "b306c7a4-0d5e-4345-a3d3-74e4cbedd68e",
   "metadata": {},
   "outputs": [
    {
     "data": {
      "text/plain": [
       "956.8070438794563"
      ]
     },
     "execution_count": 22,
     "metadata": {},
     "output_type": "execute_result"
    }
   ],
   "source": [
    "gbr = GradientBoostingRegressor(max_depth=2, \n",
    "                                n_estimators=3, \n",
    "                                random_state=43, \n",
    "                                learning_rate=1.0)\n",
    "\n",
    "gbr.fit(X_train, y_train)\n",
    "\n",
    "y_pred = gbr.predict(X_test)\n",
    "\n",
    "MSE(y_test, y_pred)**0.5"
   ]
  },
  {
   "cell_type": "markdown",
   "id": "2f8fbe17-cfa2-4013-989b-fb3f31eb0a9a",
   "metadata": {},
   "source": [
    "Seems like we got virtally the same answer to an extent!\n",
    "\n",
    "Remember, the whole gist of gradient boosting is to gradually elevate a model from a mere novice, a weak learner, to a seasoned pro, a strong learner. And this isn't a Herculean task. Quite the contrary, it's a matter of tweaking a single parameter: the `n_estimators`, which dictates the number of rounds in this educational bout.\r\n",
    "\r\n",
    "Now, let's roll up our sleeves and construct a gradient boosting regressor that's got a bit more muscle, sporting a solid team of 30 estimators. It's time to see what kind of performance we can squeeze out of this setup, shall we?"
   ]
  },
  {
   "cell_type": "code",
   "execution_count": 23,
   "id": "91200a2d-9f68-4e9a-8152-bd0fd05e7e4b",
   "metadata": {},
   "outputs": [
    {
     "data": {
      "text/plain": [
       "769.997212788511"
      ]
     },
     "execution_count": 23,
     "metadata": {},
     "output_type": "execute_result"
    }
   ],
   "source": [
    "gbr = GradientBoostingRegressor(max_depth=2, n_estimators=30, random_state=43, learning_rate=1.0)\n",
    "\n",
    "gbr.fit(X_train, y_train)\n",
    "\n",
    "y_pred = gbr.predict(X_test)\n",
    "\n",
    "MSE(y_test, y_pred)**0.5"
   ]
  },
  {
   "cell_type": "markdown",
   "id": "1afcc4ff-7db6-4375-89a8-6567037b3e6e",
   "metadata": {},
   "source": [
    "What a remarkable improvement! Lets keep making some changes."
   ]
  },
  {
   "cell_type": "code",
   "execution_count": 25,
   "id": "dfa2a2f7-88d1-45d4-a3ac-189a71a895bc",
   "metadata": {},
   "outputs": [
    {
     "data": {
      "text/plain": [
       "783.395824108858"
      ]
     },
     "execution_count": 25,
     "metadata": {},
     "output_type": "execute_result"
    }
   ],
   "source": [
    "gbr = GradientBoostingRegressor(max_depth=2, n_estimators=300, random_state=43, learning_rate=1.0)\n",
    "\n",
    "gbr.fit(X_train, y_train)\n",
    "\n",
    "y_pred = gbr.predict(X_test)\n",
    "\n",
    "MSE(y_test, y_pred)**0.5"
   ]
  },
  {
   "cell_type": "markdown",
   "id": "dddb134e-ef2b-462c-823e-4839cc676e96",
   "metadata": {},
   "source": [
    "It is not getting any better. Maybe we change the `learning_rate` to the defualt value (by removing the argument all together) and see."
   ]
  },
  {
   "cell_type": "code",
   "execution_count": 26,
   "id": "55208fc6-44f8-43d5-b1e3-a57e90976beb",
   "metadata": {},
   "outputs": [
    {
     "data": {
      "text/plain": [
       "645.5402576317445"
      ]
     },
     "execution_count": 26,
     "metadata": {},
     "output_type": "execute_result"
    }
   ],
   "source": [
    "gbr = GradientBoostingRegressor(max_depth=2, n_estimators=300, random_state=43)\n",
    "\n",
    "gbr.fit(X_train, y_train)\n",
    "\n",
    "y_pred = gbr.predict(X_test)\n",
    "\n",
    "MSE(y_test, y_pred)**0.5"
   ]
  },
  {
   "cell_type": "markdown",
   "id": "1cb6960b-5e2b-4b99-b148-d27699583054",
   "metadata": {},
   "source": [
    "The score has improved dramatically by using the default `learning_rate`.\n",
    "\n",
    "Now, let's chat about this character in our story, the `learning_rate`, also known in some circles as the _shrinkage_. You see, it acts like a vigilant guardian, ensuring that each tree in our ensemble doesn't get too big for its boots, dominating the scene and overshadowing the contributions of its fellow trees. It's a delicate balance, you know, making sure that the ensemble is not just a one-man show, but a harmonious collaboration, a symphony of insights from various learners, each learning from the errors of the one before.\r\n",
    "\r\n",
    "Now, if we're not mindful, if we don't calibrate our instruments finely, the early players in this ensemble might steal the spotlight, influencing the performance too heavily, swaying the subsequent development in an undesirable direction. That's where our `learning_rate` steps in, reigning in the individual trees, making sure no one steps out of line.\r\n",
    "\r\n",
    "Now, a general rule of thumb here is a bit of a balancing act. As we increase our troop of trees, denoted by `n_estimators`, we ought to dial back the `learning_rate` a notch, maintaining a harmonious equilibrium in the ensemble.\r\n",
    "\r\n",
    "But pinpointing the golden number for the `learning_rate` isn't a straightforward affair. It's more of an art, involving a dance with `n_estimators`, tweaking and tuning until we find that sweet spot. To get a clear picture, let's first freeze our `n_estimators` and play around with the `learning_rate`, observing its solo performance, which dances between 0 and 1. At the extreme of 1, it's a free reign, no holds barred, while a modest 0.1 means it's taking a step back, letting the tree sway with a 10% influence.\r\n",
    "\r\n",
    "So, let's delve in and explore this intricate dance, shall we?"
   ]
  },
  {
   "cell_type": "code",
   "execution_count": 30,
   "id": "5582c475-f516-491d-b2a7-765ce74c52bf",
   "metadata": {},
   "outputs": [
    {
     "name": "stdout",
     "output_type": "stream",
     "text": [
      "Learning Rate:0.001, Score:1599.2804790000298\n",
      "Learning Rate:0.01, Score:825.2711928605702\n",
      "Learning Rate:0.05, Score:680.3039967983532\n",
      "Learning Rate:0.1, Score:645.5402576317445\n",
      "Learning Rate:0.15, Score:644.7173417657776\n",
      "Learning Rate:0.2, Score:666.9592911247934\n",
      "Learning Rate:0.3, Score:671.6556810763345\n",
      "Learning Rate:0.5, Score:730.3993358807038\n",
      "Learning Rate:1.0, Score:783.395824108858\n"
     ]
    }
   ],
   "source": [
    "learning_rate_values = [0.001, 0.01, 0.05, 0.1, 0.15, 0.2, 0.3, 0.5, 1.0]\n",
    "\n",
    "for val in learning_rate_values:\n",
    "\n",
    "    gbr = GradientBoostingRegressor(max_depth=2, \n",
    "                                    n_estimators=300, \n",
    "                                    random_state=43, learning_rate=val)\n",
    "\n",
    "    gbr.fit(X_train, y_train)\n",
    "\n",
    "    y_pred = gbr.predict(X_test)\n",
    "\n",
    "    rmse = MSE(y_test, y_pred)**0.5\n",
    "\n",
    "    print(f'Learning Rate:{val}, Score:{rmse}')"
   ]
  },
  {
   "cell_type": "code",
   "execution_count": 33,
   "id": "9782834f-f0c5-47d3-932c-22f5aa8528b9",
   "metadata": {},
   "outputs": [
    {
     "data": {
      "image/png": "[encoded data removed]",
      "text/plain": [
       "<Figure size 640x480 with 1 Axes>"
      ]
     },
     "metadata": {},
     "output_type": "display_data"
    }
   ],
   "source": [
    "\n",
    "# Define the learning rate values\n",
    "learning_rate_values = [0.001, 0.01, 0.05, 0.1, 0.15, 0.2, 0.3, 0.5, 1.0]\n",
    "\n",
    "# Define the different numbers of trees\n",
    "n_estimators_values = [30, 300, 3000]\n",
    "\n",
    "# Initialize an empty dictionary to store the RMSE values\n",
    "rmse_values = {n: [] for n in n_estimators_values}\n",
    "\n",
    "# Loop through the different numbers of trees\n",
    "for n in n_estimators_values:\n",
    "    # Loop through the learning rate values\n",
    "    for val in learning_rate_values:\n",
    "        # Initialize and train the model\n",
    "        gbr = GradientBoostingRegressor(max_depth=2, n_estimators=n, random_state=43, learning_rate=val)\n",
    "        gbr.fit(X_train, y_train)\n",
    "        \n",
    "        # Make predictions\n",
    "        y_pred = gbr.predict(X_test)\n",
    "        \n",
    "        # Calculate the RMSE\n",
    "        rmse = MSE(y_test, y_pred)**0.5\n",
    "        \n",
    "        # Store the RMSE value\n",
    "        rmse_values[n].append(rmse)\n",
    "    \n",
    "    # Plot the RMSE values against the learning rate values\n",
    "    plt.plot(learning_rate_values, rmse_values[n], label=f'n_estimators: {n}')\n",
    "\n",
    "# Customize the plot\n",
    "plt.xscale('log')\n",
    "plt.xlabel('Learning Rate')\n",
    "plt.ylabel('RMSE')\n",
    "plt.title('Learning Rate vs RMSE for Different Numbers of Trees')\n",
    "plt.legend()\n",
    "\n",
    "# Display the plot\n",
    "plt.show()\n"
   ]
  },
  {
   "cell_type": "markdown",
   "id": "a20f50e6-f238-4efa-980c-834e6aa61553",
   "metadata": {},
   "source": [
    "The graph above just shows how varying the `learning_rate` and `n_estimators` both work together to give the best results. They are best tuned together.\n",
    "\n",
    "### Base learner\r\n",
    "The initial decision tree in the gradient boosting regressor is called the base learner because it's at the base of the ensemble. It's the first learner in the process. The term learner here is indicative of a weak learner transforming into a strong learner.\n",
    " Picture it as the rookie stepping onto the field for the first time, standing at the foundation of what will become a magnificent ensemble of learners. It's the one kicking things off, setting the stage for a series of transformations, where humble beginners morph into seasoned experts, or in our terms, where weak learners evolve into strong learners.\r\n",
    "\r\n",
    "Now, while it might seem like these base learners don't need to be precision-engineered for utmost accuraer, there's indeed room for fine-tuning, for eking out that extra bit of performance. \r\n",
    "\r\n",
    "To paint a clearer picture, imagine we're in the lab, tweaking and tuning our setup, perhaps experimenting with different `max_depth` values - say 1, 2, 3, or 4. It's like setting different stages, observing and comparing the outcomes, a scientific exploration to seek potential enhancements in accuracy. So, let's roll up our sleeves and delve into this fascinating experiment, shall we?"
   ]
  },
  {
   "cell_type": "code",
   "execution_count": 34,
   "id": "70078af4-fd0b-4c8b-9b32-5d3b43542bb2",
   "metadata": {},
   "outputs": [
    {
     "name": "stdout",
     "output_type": "stream",
     "text": [
      "Max Depth: None, Score: 890.5031697182627\n",
      "Max Depth: 1, Score: 677.8264526320439\n",
      "Max Depth: 2, Score: 645.5402576317445\n",
      "Max Depth: 3, Score: 656.7701000465271\n",
      "Max Depth: 4, Score: 661.9327808875072\n"
     ]
    }
   ],
   "source": [
    "depths = [None, 1, 2, 3, 4]\n",
    "\n",
    "for depth in depths:\n",
    "\n",
    "    gbr = GradientBoostingRegressor(max_depth=depth, \n",
    "                                    n_estimators=300, random_state=43)\n",
    "\n",
    "    gbr.fit(X_train, y_train)\n",
    "\n",
    "    y_pred = gbr.predict(X_test)\n",
    "\n",
    "    rmse = MSE(y_test, y_pred)**0.5\n",
    "\n",
    "    print(f'Max Depth: {depth}, Score: {rmse}')\n"
   ]
  },
  {
   "cell_type": "markdown",
   "id": "1148a698-b6d5-47c3-8974-2eb67fcb8499",
   "metadata": {},
   "source": [
    "`max_depth=2` seems to give the best results. We can use all the other similar hyper parameters we have dealt with on the notebook of Decision Trees.\n",
    "\n",
    "### subsample\n",
    "\n",
    "Alright, let's delve a little into this concept called `subsample`, a term that essentially refers to a selective group of samples. Now, picture your data as a grand tableau, with each row representing a unique snapshot, a distinct sample. What `subsample` does is quite fascinating - it cherry-picks a fraction of these rows, not necessarily embracing them all, when orchestrating each tree in our ensemble.\r\n",
    "\r\n",
    "Now, here's where the artistry comes into play. By tweaking the `subsample` value, shifting it from a full 1.0 to a lesser decimal, we instruct our trees to be a bit more selective, to choose only a certain percentage of the samples during their construction phase. To give you a tangible feel, setting `subsample` to 0.8 is akin to inviting 80% of the samples to participate in the crafting of each tree, giving them a seat at the table.\r\n",
    "\r\n",
    "So, keeping our sails steady with a `max_d=2eof 3, let's venture forth and experiment with varying shades of `subsample` percentages, a quest to fine-tune our ensemble and achieve even more stellar results. Shall we begin?"
   ]
  },
  {
   "cell_type": "code",
   "execution_count": 37,
   "id": "2c87c8f5-616e-4415-b416-9b3aafc8fdde",
   "metadata": {},
   "outputs": [
    {
     "name": "stdout",
     "output_type": "stream",
     "text": [
      "Subsample: 1, Score: 645.7845632904097\n",
      "Subsample: 0.9, Score: 668.3580237385604\n",
      "Subsample: 0.8, Score: 658.4632516406297\n",
      "Subsample: 0.7, Score: 637.8921988751559\n",
      "Subsample: 0.6, Score: 645.1635414898305\n",
      "Subsample: 0.5, Score: 614.3169590974911\n"
     ]
    }
   ],
   "source": [
    "samples = [1, 0.9, 0.8, 0.7, 0.6, 0.5]\n",
    "\n",
    "for sample in samples:\n",
    "\n",
    "    gbr = GradientBoostingRegressor(max_depth=2, \n",
    "                                    n_estimators=300, \n",
    "                                    subsample=sample, random_state=2)\n",
    "\n",
    "    gbr.fit(X_train, y_train)\n",
    "\n",
    "    y_pred = gbr.predict(X_test)\n",
    "\n",
    "    rmse = MSE(y_test, y_pred)**0.5\n",
    "\n",
    "    print(f'Subsample: {sample}, Score: {rmse}')"
   ]
  },
  {
   "cell_type": "markdown",
   "id": "71247283-70b1-4abe-9a74-f079ad63edee",
   "metadata": {},
   "source": [
    "A subsample value of 0.5 with 300 trees and max_depth of 2 produces the best score here.\n",
    "\n",
    "### RandomizedSearchCV\n",
    "\n",
    "Alright, we've managed to sculpt a fairly competent model here, but hold your horses, we haven't embarked on the grand expedition of a grid search just yet, a topic we delved deeply into in Chapter 2, where we explored the intricacies of decision trees.\n",
    "\n",
    "Based on our initial reconnaissance in the vast landscape of data, it seems we've got a promising starting point for our grid search adventure, anchored around a `max_depth=2`, with a `subsample=0.5`, accompanied by `n_estimators=300` and a `learning_rate=0.1`. It's like setting coordinates for a voyage, a calculated guess to steer us into potentially prosperous territories.\n",
    "\n",
    "And remember, we've observed a delicate dance between `n_estimators` and `learning_rate`, a ballet of parameters where, as the former ascends, the latter graciously descends, maintaining a harmonious balance in their intertwined performance. Now, let's venture forth, with these insights as our guiding stars, to explore the vast seas of possibilities, tweaking and tuning, in pursuit of the optimal harmony in our model's performance."
   ]
  },
  {
   "cell_type": "code",
   "execution_count": 40,
   "id": "d4145932-a5cc-40a9-bf10-358e331f427c",
   "metadata": {},
   "outputs": [],
   "source": [
    "params={'subsample':[0.5, 0.55, 0.6, 0.65],\n",
    "        'n_estimators':[300, 500, 1000],\n",
    "        'learning_rate':[0.05, 0.075, 0.1]}"
   ]
  },
  {
   "cell_type": "code",
   "execution_count": 41,
   "id": "532b878e-8a30-4984-bf36-9b61624f524b",
   "metadata": {},
   "outputs": [
    {
     "name": "stdout",
     "output_type": "stream",
     "text": [
      "Best params:{'subsample': 0.5, 'n_estimators': 1000, 'learning_rate': 0.05}\n",
      "Training score: 621.873\n",
      "Test set score: 592.103\n"
     ]
    }
   ],
   "source": [
    "gbr = GradientBoostingRegressor(max_depth=2, random_state=43)\n",
    "rand_reg = RandomizedSearchCV(gbr, \n",
    "                              params, n_iter=10, \n",
    "                              scoring='neg_mean_squared_error', \n",
    "                              cv=5, n_jobs=-1, random_state=43)\n",
    "\n",
    "rand_reg.fit(X_train, y_train)\n",
    "\n",
    "best_model = rand_reg.best_estimator_\n",
    "\n",
    "best_params = rand_reg.best_params_\n",
    "\n",
    "print(f\"Best params:{best_params}\")\n",
    "\n",
    "best_score = np.sqrt(-rand_reg.best_score_)\n",
    "\n",
    "print(f\"Training score: {best_score:.3f}\")\n",
    "\n",
    "y_pred = best_model.predict(X_test)\n",
    "\n",
    "rmse_test = MSE(y_test, y_pred)**0.5\n",
    "\n",
    "print(f'Test set score: {rmse_test:.3f}')"
   ]
  },
  {
   "cell_type": "markdown",
   "id": "a7772ef1-b580-42d0-9f5f-c9d1fc9c653c",
   "metadata": {},
   "source": [
    "To further experiment and potentially enhance our model's performance, we can create a nested for-loop to systematically test various combinations of hyperparameters. "
   ]
  },
  {
   "cell_type": "code",
   "execution_count": 43,
   "id": "47a3fe8d-4d8b-4028-9811-4501ac3c82ac",
   "metadata": {},
   "outputs": [
    {
     "name": "stdout",
     "output_type": "stream",
     "text": [
      "Best parameters: {'max_depth': 2, 'subsample': 0.5, 'n_estimators': 500, 'learning_rate': 0.05}\n",
      "Best training score: 619.136\n",
      "Test set score: 598.540\n"
     ]
    }
   ],
   "source": [
    "# Defining a range of values for different hyperparameters\n",
    "max_depth_values = [2, 3, 4, 5]\n",
    "subsample_values = [0.5, 0.6, 0.7, 0.8,]\n",
    "n_estimators_values = [500, 1000, 1600, 2000]\n",
    "learning_rate_values = [0.05, 0.1, 0.15]\n",
    "\n",
    "# Initializing the best score to a high value\n",
    "best_score = float('inf')\n",
    "\n",
    "# Initializing an empty dictionary to store the best parameters\n",
    "best_params = {}\n",
    "\n",
    "# Looping through all possible combinations of hyperparameters\n",
    "for max_depth in max_depth_values:\n",
    "    for subsample in subsample_values:\n",
    "        for n_estimators in n_estimators_values:\n",
    "            for learning_rate in learning_rate_values:\n",
    "                \n",
    "                # Initializing and fitting the model with the current combination of hyperparameters\n",
    "                gbr = GradientBoostingRegressor(max_depth=max_depth, subsample=subsample, \n",
    "                                                n_estimators=n_estimators, learning_rate=learning_rate, \n",
    "                                                random_state=43)\n",
    "                gbr.fit(X_train, y_train)\n",
    "                \n",
    "                # Predicting on the test set and calculating the RMSE\n",
    "                y_pred = gbr.predict(X_test)\n",
    "                rmse = MSE(y_test, y_pred)**0.5\n",
    "                \n",
    "                # Using cross-validation to get a more reliable estimate of the model's performance\n",
    "                cv_score = -cross_val_score(gbr, X_train, y_train, cv=5, scoring='neg_mean_squared_error').mean()\n",
    "                cv_score = np.sqrt(cv_score)\n",
    "                \n",
    "                # If the current score is less than the best score seen so far, update the best score and best parameters\n",
    "                if cv_score < best_score:\n",
    "                    best_score = cv_score\n",
    "                    best_params = {'max_depth': max_depth, 'subsample': subsample, \n",
    "                                   'n_estimators': n_estimators, 'learning_rate': learning_rate}\n",
    "\n",
    "# Printing the best parameters and best score\n",
    "print(f\"Best parameters: {best_params}\")\n",
    "print(f\"Best training score: {best_score:.3f}\")\n",
    "\n",
    "# Using the best parameters to predict on the test set and calculate the test RMSE\n",
    "best_model = GradientBoostingRegressor(**best_params, random_state=43)\n",
    "best_model.fit(X_train, y_train)\n",
    "y_pred = best_model.predict(X_test)\n",
    "rmse_test = MSE(y_test, y_pred)**0.5\n",
    "print(f\"Test set score: {rmse_test:.3f}\")\n"
   ]
  },
  {
   "cell_type": "code",
   "execution_count": null,
   "id": "f5751980-8f16-49a4-b858-1a3fd67b77dc",
   "metadata": {},
   "outputs": [],
   "source": []
  }
 ],
 "metadata": {
  "kernelspec": {
   "display_name": "Python 3 (ipykernel)",
   "language": "python",
   "name": "python3"
  },
  "language_info": {
   "codemirror_mode": {
    "name": "ipython",
    "version": 3
   },
   "file_extension": ".py",
   "mimetype": "text/x-python",
   "name": "python",
   "nbconvert_exporter": "python",
   "pygments_lexer": "ipython3",
   "version": "3.10.10"
  }
 },
 "nbformat": 4,
 "nbformat_minor": 5
}
